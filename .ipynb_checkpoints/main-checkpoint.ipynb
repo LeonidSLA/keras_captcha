{
 "cells": [
  {
   "cell_type": "code",
   "execution_count": 1,
   "metadata": {
    "scrolled": false
   },
   "outputs": [
    {
     "name": "stderr",
     "output_type": "stream",
     "text": [
      "C:\\anaconda3\\lib\\site-packages\\h5py\\__init__.py:36: FutureWarning: Conversion of the second argument of issubdtype from `float` to `np.floating` is deprecated. In future, it will be treated as `np.float64 == np.dtype(float).type`.\n",
      "  from ._conv import register_converters as _register_converters\n",
      "Using TensorFlow backend.\n"
     ]
    }
   ],
   "source": [
    "from __future__ import print_function\n",
    "import numpy as np\n",
    "np.random.seed(1337)  # for reproducibility\n",
    "\n",
    "import captcha_params\n",
    "\n",
    "from keras.models import Sequential\n",
    "from keras.layers import Dense, Dropout, Activation, Flatten\n",
    "from keras.layers import Conv2D, MaxPooling2D\n",
    "from keras.layers.advanced_activations import LeakyReLU\n",
    "from keras.utils import np_utils\n",
    "from keras.optimizers import adamax\n",
    "from keras.callbacks import Callback\n",
    "from keras import backend as K\n",
    "from load_data import *\n",
    "import get_train_set\n",
    "import h5py\n",
    "from keras.models import model_from_json"
   ]
  },
  {
   "cell_type": "code",
   "execution_count": 2,
   "metadata": {},
   "outputs": [],
   "source": [
    "#Generate additional training set\n",
    "for i in range(500):     \n",
    "    text, image = get_train_set.gen_captcha_text_and_image(i)\n"
   ]
  },
  {
   "cell_type": "code",
   "execution_count": 3,
   "metadata": {},
   "outputs": [],
   "source": [
    "batch_size = 10\n",
    "nb_epoch = 100\n",
    "MAX_CAPTCHA = captcha_params.get_captcha_size()\n",
    "CHAR_SET_LEN = captcha_params.get_char_set_len()\n",
    "\n",
    "# input image dimensions\n",
    "img_rows, img_cols = captcha_params.get_height(), captcha_params.get_width()"
   ]
  },
  {
   "cell_type": "code",
   "execution_count": 2,
   "metadata": {},
   "outputs": [],
   "source": [
    "#original data\n",
    "from load_data import load_data\n",
    "(X_train, y_train,y_train_text), (X_test, y_test,y_test_text) = load_data(tol_num = 1000,train_num = 500,folder='labeled_captchas')\n",
    "\n",
    "# Generated data\n",
    "(X_train_gen, y_train_gen,y_train_text_gen), (X_test_gen, y_test_gen,y_test_text_gen) = load_data(tol_num = 500,train_num = 500,folder='generated')"
   ]
  },
  {
   "cell_type": "code",
   "execution_count": 3,
   "metadata": {},
   "outputs": [
    {
     "data": {
      "text/plain": [
       "(500, 150, 330)"
      ]
     },
     "execution_count": 3,
     "metadata": {},
     "output_type": "execute_result"
    }
   ],
   "source": [
    "X_train.shape"
   ]
  },
  {
   "cell_type": "code",
   "execution_count": 185,
   "metadata": {},
   "outputs": [],
   "source": [
    "# Add generated data to train set\n",
    "X_train=np.append(X_train, X_train_gen,axis=0)\n",
    "y_train=np.append(y_train, y_train_gen,axis=0)\n",
    "#y_train_text=np.append(y_train_text, y_train_text_gen)"
   ]
  },
  {
   "cell_type": "code",
   "execution_count": 52,
   "metadata": {},
   "outputs": [],
   "source": [
    "X_train=X_train.reshape(X_train.shape[0],X_train.shape[1],X_train.shape[2],1)\n",
    "X_test=X_test.reshape(X_test.shape[0],X_test.shape[1],X_test.shape[2],1)"
   ]
  },
  {
   "cell_type": "code",
   "execution_count": null,
   "metadata": {},
   "outputs": [],
   "source": [
    "y_train=y_train.reshape(y_train.shape[0],5,36)\n",
    "y_test=y_test.reshape(y_test.shape[0],5,36)"
   ]
  },
  {
   "cell_type": "code",
   "execution_count": 5,
   "metadata": {},
   "outputs": [],
   "source": [
    "train_lst=[y_train[:,0,] ,\n",
    "           y_train[:,1,] , \n",
    "           y_train[:,2,] ,\n",
    "           y_train[:,3,] ,\n",
    "           y_train[:,4,]  \n",
    "          ]\n",
    "\n",
    "test_lst=[y_test[:,0,] ,\n",
    "           y_test[:,1,] , \n",
    "           y_test[:,2,] ,\n",
    "           y_test[:,3,] ,\n",
    "           y_test[:,4,]  \n",
    "          ]"
   ]
  },
  {
   "cell_type": "code",
   "execution_count": 6,
   "metadata": {},
   "outputs": [
    {
     "data": {
      "text/plain": [
       "array(['4D63O'], dtype='<U10')"
      ]
     },
     "execution_count": 6,
     "metadata": {},
     "output_type": "execute_result"
    }
   ],
   "source": [
    "y_test_text[3]"
   ]
  },
  {
   "cell_type": "code",
   "execution_count": 7,
   "metadata": {},
   "outputs": [
    {
     "data": {
      "text/plain": [
       "array([0, 0, 0, 0, 0, 0, 0, 0, 0, 0, 0, 0, 0, 0, 0, 0, 0, 0, 0, 0, 0, 0,\n",
       "       0, 0, 1, 0, 0, 0, 0, 0, 0, 0, 0, 0, 0, 0], dtype=uint8)"
      ]
     },
     "execution_count": 7,
     "metadata": {},
     "output_type": "execute_result"
    }
   ],
   "source": [
    "test_lst[4][3]"
   ]
  },
  {
   "cell_type": "code",
   "execution_count": 53,
   "metadata": {},
   "outputs": [
    {
     "name": "stdout",
     "output_type": "stream",
     "text": [
      "X_train shape: (500, 150, 330, 1)\n",
      "500 train samples\n",
      "500 test samples\n"
     ]
    }
   ],
   "source": [
    "X_train = X_train.astype('float32')\n",
    "X_test = X_test.astype('float32')\n",
    "X_train =(X_train/255)-0.5\n",
    "X_test =(X_test/255)-0.5\n",
    "print('X_train shape:', X_train.shape)\n",
    "print(X_train.shape[0], 'train samples')\n",
    "print(X_test.shape[0], 'test samples')\n"
   ]
  },
  {
   "cell_type": "code",
   "execution_count": 28,
   "metadata": {},
   "outputs": [],
   "source": [
    "#model = Sequential()"
   ]
  },
  {
   "cell_type": "code",
   "execution_count": 54,
   "metadata": {},
   "outputs": [],
   "source": [
    "input_shape = [X_train.shape[1], X_train.shape[2],1]\n",
    "# size of pooling area for max pooling\n",
    "pool_size = (2, 2)\n",
    "# convolution kernel size\n",
    "kernel_size = (3, 3)\n",
    "batch_size =70\n",
    "nb_filters1=48\n",
    "nb_filters=24\n",
    "nb_filters1=16"
   ]
  },
  {
   "cell_type": "code",
   "execution_count": 55,
   "metadata": {},
   "outputs": [
    {
     "data": {
      "text/plain": [
       "[150, 330, 1]"
      ]
     },
     "execution_count": 55,
     "metadata": {},
     "output_type": "execute_result"
    }
   ],
   "source": [
    "input_shape"
   ]
  },
  {
   "cell_type": "code",
   "execution_count": 56,
   "metadata": {},
   "outputs": [],
   "source": [
    "from keras.layers import Input\n",
    "from keras.models import Model\n",
    "\n",
    "batch_size = 100\n",
    "nb_classes = 36\n",
    "nb_epoch = 100\n",
    "\n",
    "\n",
    "\n",
    "model_input=Input(shape=input_shape)\n",
    "\n",
    "x = MaxPooling2D(pool_size=(2, 2))(model_input)\n",
    "\n",
    "x = Conv2D(36, kernel_size  )(x)\n",
    "x = Activation('relu')(x)\n",
    "\n",
    "x = Conv2D(24, kernel_size  )(x)\n",
    "x = Activation('relu')(x)\n",
    "\n",
    "x = MaxPooling2D(pool_size=(2, 2))(x)\n",
    "x = Dropout(0.25)(x)\n",
    "conv_out = Flatten()(x)\n",
    "\n",
    "x1 = Dense(nb_classes, activation='softmax')(conv_out)\n",
    "x2 = Dense(nb_classes, activation='softmax')(conv_out)\n",
    "x3 = Dense(nb_classes, activation='softmax')(conv_out)\n",
    "x4 = Dense(nb_classes, activation='softmax')(conv_out)\n",
    "x5 = Dense(nb_classes, activation='softmax')(conv_out)\n",
    "\n",
    "lst = [x1, x2, x3, x4, x5]\n",
    "\n",
    "\n",
    "model = Model(inputs=model_input, outputs=lst)"
   ]
  },
  {
   "cell_type": "code",
   "execution_count": 57,
   "metadata": {},
   "outputs": [
    {
     "name": "stdout",
     "output_type": "stream",
     "text": [
      "__________________________________________________________________________________________________\n",
      "Layer (type)                    Output Shape         Param #     Connected to                     \n",
      "==================================================================================================\n",
      "input_15 (InputLayer)           (None, 150, 330, 1)  0                                            \n",
      "__________________________________________________________________________________________________\n",
      "max_pooling2d_8 (MaxPooling2D)  (None, 75, 165, 1)   0           input_15[0][0]                   \n",
      "__________________________________________________________________________________________________\n",
      "conv2d_20 (Conv2D)              (None, 73, 163, 36)  360         max_pooling2d_8[0][0]            \n",
      "__________________________________________________________________________________________________\n",
      "activation_13 (Activation)      (None, 73, 163, 36)  0           conv2d_20[0][0]                  \n",
      "__________________________________________________________________________________________________\n",
      "conv2d_21 (Conv2D)              (None, 71, 161, 24)  7800        activation_13[0][0]              \n",
      "__________________________________________________________________________________________________\n",
      "activation_14 (Activation)      (None, 71, 161, 24)  0           conv2d_21[0][0]                  \n",
      "__________________________________________________________________________________________________\n",
      "max_pooling2d_9 (MaxPooling2D)  (None, 35, 80, 24)   0           activation_14[0][0]              \n",
      "__________________________________________________________________________________________________\n",
      "dropout_7 (Dropout)             (None, 35, 80, 24)   0           max_pooling2d_9[0][0]            \n",
      "__________________________________________________________________________________________________\n",
      "flatten_7 (Flatten)             (None, 67200)        0           dropout_7[0][0]                  \n",
      "__________________________________________________________________________________________________\n",
      "dense_31 (Dense)                (None, 36)           2419236     flatten_7[0][0]                  \n",
      "__________________________________________________________________________________________________\n",
      "dense_32 (Dense)                (None, 36)           2419236     flatten_7[0][0]                  \n",
      "__________________________________________________________________________________________________\n",
      "dense_33 (Dense)                (None, 36)           2419236     flatten_7[0][0]                  \n",
      "__________________________________________________________________________________________________\n",
      "dense_34 (Dense)                (None, 36)           2419236     flatten_7[0][0]                  \n",
      "__________________________________________________________________________________________________\n",
      "dense_35 (Dense)                (None, 36)           2419236     flatten_7[0][0]                  \n",
      "==================================================================================================\n",
      "Total params: 12,104,340\n",
      "Trainable params: 12,104,340\n",
      "Non-trainable params: 0\n",
      "__________________________________________________________________________________________________\n"
     ]
    }
   ],
   "source": [
    "model.summary()"
   ]
  },
  {
   "cell_type": "code",
   "execution_count": 58,
   "metadata": {},
   "outputs": [],
   "source": [
    "from keras.losses import categorical_crossentropy\n",
    "def m_losses(y_true,y_pred):\n",
    "    loss =categorical_crossentropy(y_true[0], y_pred[0])+categorical_crossentropy(y_true[1], y_pred[1])+categorical_crossentropy(y_true[2], y_pred[2])+categorical_crossentropy(y_true[3], y_pred[3])+categorical_crossentropy(y_true[4], y_pred[4])\n",
    "    \n",
    "    return loss\n"
   ]
  },
  {
   "cell_type": "code",
   "execution_count": null,
   "metadata": {},
   "outputs": [],
   "source": []
  },
  {
   "cell_type": "code",
   "execution_count": null,
   "metadata": {},
   "outputs": [],
   "source": []
  },
  {
   "cell_type": "code",
   "execution_count": 30,
   "metadata": {},
   "outputs": [],
   "source": [
    "#model.add(Conv2D(kernel_size=kernel_size, filters=nb_filters1, padding='same' ,input_shape=input_shape ))\n",
    "#model.add(LeakyReLU(0.1))\n",
    "#model.add(MaxPooling2D(pool_size=pool_size))\n",
    "#model.add(Dropout(0.25))\n",
    "\n",
    "#model.add(Conv2D(16, kernel_size=kernel_size))\n",
    "#model.add(LeakyReLU(0.1))\n",
    "#model.add(MaxPooling2D(pool_size=pool_size))\n",
    "#model.add(Dropout(0.25))\n",
    "\n",
    "#model.add(Conv2D(8, kernel_size=kernel_size))\n",
    "#model.add(LeakyReLU(0.1))\n",
    "#model.add(MaxPooling2D(pool_size=pool_size))\n",
    "#model.add(Dropout(0.25))\n",
    "\n",
    "#model.add(Conv2D(4, kernel_size=kernel_size))\n",
    "#model.add(LeakyReLU(0.1))\n",
    "#model.add(MaxPooling2D(pool_size=pool_size))\n",
    "#model.add(Dropout(0.25))\n",
    "\n",
    "# Fully connected layer\n",
    "#model.add(Flatten())\n",
    "#model.add(Dense(512))\n",
    "#model.add(LeakyReLU(0.1))\n",
    "#model.add(Dropout(0.25))\n",
    "#model.add(Dense(MAX_CAPTCHA*CHAR_SET_LEN))\n",
    "#model.add(Activation('softmax'))"
   ]
  },
  {
   "cell_type": "code",
   "execution_count": 59,
   "metadata": {},
   "outputs": [],
   "source": [
    "INIT_LR = 5e-3\n",
    "model.compile(loss=m_losses,\n",
    "              optimizer=adamax(lr=INIT_LR),\n",
    "              metrics=['accuracy'])\n",
    "\n",
    "# scheduler of learning rate (decay with epochs)\n",
    "def lr_scheduler(epoch):\n",
    "    return INIT_LR * 0.9 ** epoch\n",
    "\n",
    "# callback for printing of actual learning rate used by optimizer\n",
    "class LrHistory(Callback):\n",
    "    def on_epoch_begin(self, epoch, logs={}):\n",
    "        print(\"Learning rate:\", K.get_value(model.optimizer.lr))"
   ]
  },
  {
   "cell_type": "code",
   "execution_count": 61,
   "metadata": {},
   "outputs": [
    {
     "name": "stdout",
     "output_type": "stream",
     "text": [
      "Train on 500 samples, validate on 500 samples\n",
      "Epoch 1/100\n",
      "500/500 [==============================] - 27s 55ms/step - loss: 74.1909 - dense_31_loss: 14.4648 - dense_32_loss: 14.4956 - dense_33_loss: 14.6490 - dense_34_loss: 15.0896 - dense_35_loss: 15.4919 - dense_31_acc: 0.0760 - dense_32_acc: 0.0600 - dense_33_acc: 0.0700 - dense_34_acc: 0.0900 - dense_35_acc: 0.0660 - val_loss: 78.0415 - val_dense_31_loss: 14.4514 - val_dense_32_loss: 16.1043 - val_dense_33_loss: 14.0546 - val_dense_34_loss: 15.8285 - val_dense_35_loss: 17.6028 - val_dense_31_acc: 0.0540 - val_dense_32_acc: 0.0580 - val_dense_33_acc: 0.0660 - val_dense_34_acc: 0.0540 - val_dense_35_acc: 0.0580\n",
      "Epoch 2/100\n",
      "500/500 [==============================] - 29s 58ms/step - loss: 73.2930 - dense_31_loss: 13.7220 - dense_32_loss: 14.4773 - dense_33_loss: 14.3227 - dense_34_loss: 15.3055 - dense_35_loss: 15.4655 - dense_31_acc: 0.0720 - dense_32_acc: 0.0720 - dense_33_acc: 0.0620 - dense_34_acc: 0.0480 - dense_35_acc: 0.0800 - val_loss: 75.7629 - val_dense_31_loss: 14.7613 - val_dense_32_loss: 15.2583 - val_dense_33_loss: 14.9470 - val_dense_34_loss: 15.1450 - val_dense_35_loss: 15.6513 - val_dense_31_acc: 0.0780 - val_dense_32_acc: 0.0500 - val_dense_33_acc: 0.0660 - val_dense_34_acc: 0.0700 - val_dense_35_acc: 0.0580\n",
      "Epoch 3/100\n",
      "500/500 [==============================] - 31s 61ms/step - loss: 69.3503 - dense_31_loss: 13.3978 - dense_32_loss: 13.8690 - dense_33_loss: 14.0656 - dense_34_loss: 14.0892 - dense_35_loss: 13.9286 - dense_31_acc: 0.0700 - dense_32_acc: 0.0680 - dense_33_acc: 0.0740 - dense_34_acc: 0.0660 - dense_35_acc: 0.0800 - val_loss: 74.8848 - val_dense_31_loss: 14.2115 - val_dense_32_loss: 15.0979 - val_dense_33_loss: 14.4778 - val_dense_34_loss: 14.9297 - val_dense_35_loss: 16.1679 - val_dense_31_acc: 0.0740 - val_dense_32_acc: 0.0500 - val_dense_33_acc: 0.0760 - val_dense_34_acc: 0.0700 - val_dense_35_acc: 0.0580\n",
      "Epoch 4/100\n",
      "500/500 [==============================] - 28s 57ms/step - loss: 72.1520 - dense_31_loss: 14.3044 - dense_32_loss: 14.2717 - dense_33_loss: 14.2049 - dense_34_loss: 15.1874 - dense_35_loss: 14.1836 - dense_31_acc: 0.0560 - dense_32_acc: 0.0700 - dense_33_acc: 0.0680 - dense_34_acc: 0.0640 - dense_35_acc: 0.0800 - val_loss: 74.9786 - val_dense_31_loss: 14.4314 - val_dense_32_loss: 14.8161 - val_dense_33_loss: 14.5605 - val_dense_34_loss: 14.9134 - val_dense_35_loss: 16.2571 - val_dense_31_acc: 0.0740 - val_dense_32_acc: 0.0780 - val_dense_33_acc: 0.0760 - val_dense_34_acc: 0.0700 - val_dense_35_acc: 0.0580\n",
      "Epoch 5/100\n",
      "500/500 [==============================] - 30s 59ms/step - loss: 70.8261 - dense_31_loss: 13.9911 - dense_32_loss: 14.0848 - dense_33_loss: 14.0709 - dense_34_loss: 14.8017 - dense_35_loss: 13.8776 - dense_31_acc: 0.0560 - dense_32_acc: 0.0800 - dense_33_acc: 0.0640 - dense_34_acc: 0.0660 - dense_35_acc: 0.0800 - val_loss: 72.0683 - val_dense_31_loss: 14.0802 - val_dense_32_loss: 14.2410 - val_dense_33_loss: 14.1780 - val_dense_34_loss: 14.3038 - val_dense_35_loss: 15.2653 - val_dense_31_acc: 0.0760 - val_dense_32_acc: 0.0780 - val_dense_33_acc: 0.0760 - val_dense_34_acc: 0.0700 - val_dense_35_acc: 0.0580\n",
      "Epoch 6/100\n",
      "500/500 [==============================] - 28s 56ms/step - loss: 70.4871 - dense_31_loss: 14.0973 - dense_32_loss: 14.2596 - dense_33_loss: 14.0122 - dense_34_loss: 13.9913 - dense_35_loss: 14.1268 - dense_31_acc: 0.0860 - dense_32_acc: 0.0800 - dense_33_acc: 0.0700 - dense_34_acc: 0.0660 - dense_35_acc: 0.0800 - val_loss: 71.9733 - val_dense_31_loss: 14.0980 - val_dense_32_loss: 14.2000 - val_dense_33_loss: 14.1482 - val_dense_34_loss: 14.2581 - val_dense_35_loss: 15.2691 - val_dense_31_acc: 0.0760 - val_dense_32_acc: 0.0780 - val_dense_33_acc: 0.0560 - val_dense_34_acc: 0.0700 - val_dense_35_acc: 0.0580\n",
      "Epoch 7/100\n",
      "500/500 [==============================] - 30s 59ms/step - loss: 71.1449 - dense_31_loss: 13.6497 - dense_32_loss: 13.8880 - dense_33_loss: 14.4333 - dense_34_loss: 13.9899 - dense_35_loss: 15.1839 - dense_31_acc: 0.0880 - dense_32_acc: 0.0800 - dense_33_acc: 0.0780 - dense_34_acc: 0.0640 - dense_35_acc: 0.0800 - val_loss: 72.3267 - val_dense_31_loss: 14.2063 - val_dense_32_loss: 14.2763 - val_dense_33_loss: 14.2158 - val_dense_34_loss: 14.2746 - val_dense_35_loss: 15.3537 - val_dense_31_acc: 0.0760 - val_dense_32_acc: 0.0780 - val_dense_33_acc: 0.0560 - val_dense_34_acc: 0.0540 - val_dense_35_acc: 0.0580\n",
      "Epoch 8/100\n",
      "500/500 [==============================] - 29s 57ms/step - loss: 67.3536 - dense_31_loss: 12.9246 - dense_32_loss: 14.0852 - dense_33_loss: 13.9635 - dense_34_loss: 13.1279 - dense_35_loss: 13.2523 - dense_31_acc: 0.0880 - dense_32_acc: 0.0620 - dense_33_acc: 0.0780 - dense_34_acc: 0.0760 - dense_35_acc: 0.0800 - val_loss: 71.9509 - val_dense_31_loss: 14.0537 - val_dense_32_loss: 14.3341 - val_dense_33_loss: 14.1349 - val_dense_34_loss: 14.2996 - val_dense_35_loss: 15.1286 - val_dense_31_acc: 0.0760 - val_dense_32_acc: 0.0540 - val_dense_33_acc: 0.0560 - val_dense_34_acc: 0.0540 - val_dense_35_acc: 0.0580\n",
      "Epoch 9/100\n",
      "500/500 [==============================] - 29s 57ms/step - loss: 71.0670 - dense_31_loss: 14.0640 - dense_32_loss: 14.4877 - dense_33_loss: 14.3053 - dense_34_loss: 14.1317 - dense_35_loss: 14.0784 - dense_31_acc: 0.0640 - dense_32_acc: 0.0760 - dense_33_acc: 0.0780 - dense_34_acc: 0.0780 - dense_35_acc: 0.0680 - val_loss: 71.7140 - val_dense_31_loss: 13.9193 - val_dense_32_loss: 14.3672 - val_dense_33_loss: 14.1104 - val_dense_34_loss: 14.2778 - val_dense_35_loss: 15.0391 - val_dense_31_acc: 0.0720 - val_dense_32_acc: 0.0660 - val_dense_33_acc: 0.0560 - val_dense_34_acc: 0.0540 - val_dense_35_acc: 0.0640\n",
      "Epoch 10/100\n",
      "500/500 [==============================] - 30s 59ms/step - loss: 70.2871 - dense_31_loss: 13.6707 - dense_32_loss: 13.6223 - dense_33_loss: 14.3281 - dense_34_loss: 14.0686 - dense_35_loss: 14.5974 - dense_31_acc: 0.0700 - dense_32_acc: 0.0640 - dense_33_acc: 0.0660 - dense_34_acc: 0.0740 - dense_35_acc: 0.0660 - val_loss: 71.9419 - val_dense_31_loss: 13.8123 - val_dense_32_loss: 14.5388 - val_dense_33_loss: 14.1426 - val_dense_34_loss: 14.2807 - val_dense_35_loss: 15.1675 - val_dense_31_acc: 0.0720 - val_dense_32_acc: 0.0660 - val_dense_33_acc: 0.0800 - val_dense_34_acc: 0.0780 - val_dense_35_acc: 0.0640\n",
      "Epoch 11/100\n",
      "500/500 [==============================] - 30s 59ms/step - loss: 68.7541 - dense_31_loss: 13.0425 - dense_32_loss: 14.5357 - dense_33_loss: 13.6603 - dense_34_loss: 13.6022 - dense_35_loss: 13.9133 - dense_31_acc: 0.0560 - dense_32_acc: 0.0640 - dense_33_acc: 0.0700 - dense_34_acc: 0.0660 - dense_35_acc: 0.0700 - val_loss: 72.7834 - val_dense_31_loss: 13.8929 - val_dense_32_loss: 14.6909 - val_dense_33_loss: 14.3886 - val_dense_34_loss: 14.3971 - val_dense_35_loss: 15.4139 - val_dense_31_acc: 0.0680 - val_dense_32_acc: 0.0660 - val_dense_33_acc: 0.0800 - val_dense_34_acc: 0.0540 - val_dense_35_acc: 0.0580\n",
      "Epoch 12/100\n",
      "500/500 [==============================] - 30s 60ms/step - loss: 69.8056 - dense_31_loss: 13.6578 - dense_32_loss: 13.9503 - dense_33_loss: 14.5393 - dense_34_loss: 13.7412 - dense_35_loss: 13.9170 - dense_31_acc: 0.0660 - dense_32_acc: 0.0760 - dense_33_acc: 0.0560 - dense_34_acc: 0.0740 - dense_35_acc: 0.0800 - val_loss: 73.0594 - val_dense_31_loss: 13.9199 - val_dense_32_loss: 14.6149 - val_dense_33_loss: 14.4782 - val_dense_34_loss: 14.5613 - val_dense_35_loss: 15.4852 - val_dense_31_acc: 0.0680 - val_dense_32_acc: 0.0780 - val_dense_33_acc: 0.0560 - val_dense_34_acc: 0.0560 - val_dense_35_acc: 0.0580\n",
      "Epoch 13/100\n",
      "500/500 [==============================] - 29s 58ms/step - loss: 68.9846 - dense_31_loss: 13.2928 - dense_32_loss: 14.2567 - dense_33_loss: 13.8829 - dense_34_loss: 13.3984 - dense_35_loss: 14.1538 - dense_31_acc: 0.0660 - dense_32_acc: 0.0800 - dense_33_acc: 0.0700 - dense_34_acc: 0.0720 - dense_35_acc: 0.0720 - val_loss: 72.4309 - val_dense_31_loss: 13.9222 - val_dense_32_loss: 14.3624 - val_dense_33_loss: 14.3432 - val_dense_34_loss: 14.5819 - val_dense_35_loss: 15.2212 - val_dense_31_acc: 0.0680 - val_dense_32_acc: 0.0780 - val_dense_33_acc: 0.0660 - val_dense_34_acc: 0.0540 - val_dense_35_acc: 0.0600\n",
      "Epoch 14/100\n"
     ]
    },
    {
     "name": "stdout",
     "output_type": "stream",
     "text": [
      "500/500 [==============================] - 28s 56ms/step - loss: 67.4939 - dense_31_loss: 12.8763 - dense_32_loss: 13.6542 - dense_33_loss: 13.1102 - dense_34_loss: 14.8389 - dense_35_loss: 13.0142 - dense_31_acc: 0.0660 - dense_32_acc: 0.0800 - dense_33_acc: 0.0760 - dense_34_acc: 0.0740 - dense_35_acc: 0.0740 - val_loss: 72.3284 - val_dense_31_loss: 13.9760 - val_dense_32_loss: 14.3636 - val_dense_33_loss: 14.2105 - val_dense_34_loss: 14.5829 - val_dense_35_loss: 15.1954 - val_dense_31_acc: 0.0680 - val_dense_32_acc: 0.0780 - val_dense_33_acc: 0.0660 - val_dense_34_acc: 0.0840 - val_dense_35_acc: 0.0600\n",
      "Epoch 15/100\n",
      "500/500 [==============================] - 29s 58ms/step - loss: 69.6369 - dense_31_loss: 13.4637 - dense_32_loss: 14.2266 - dense_33_loss: 13.9599 - dense_34_loss: 13.9723 - dense_35_loss: 14.0144 - dense_31_acc: 0.0660 - dense_32_acc: 0.0800 - dense_33_acc: 0.0780 - dense_34_acc: 0.0680 - dense_35_acc: 0.0740 - val_loss: 72.5530 - val_dense_31_loss: 14.0446 - val_dense_32_loss: 14.3825 - val_dense_33_loss: 14.1280 - val_dense_34_loss: 14.6992 - val_dense_35_loss: 15.2985 - val_dense_31_acc: 0.0680 - val_dense_32_acc: 0.0780 - val_dense_33_acc: 0.0560 - val_dense_34_acc: 0.0660 - val_dense_35_acc: 0.0600\n",
      "Epoch 16/100\n",
      "500/500 [==============================] - 31s 63ms/step - loss: 67.4850 - dense_31_loss: 13.1831 - dense_32_loss: 13.5891 - dense_33_loss: 14.1354 - dense_34_loss: 13.5190 - dense_35_loss: 13.0584 - dense_31_acc: 0.0660 - dense_32_acc: 0.0800 - dense_33_acc: 0.0780 - dense_34_acc: 0.0720 - dense_35_acc: 0.0740 - val_loss: 72.1655 - val_dense_31_loss: 14.0341 - val_dense_32_loss: 14.2693 - val_dense_33_loss: 13.9995 - val_dense_34_loss: 14.6142 - val_dense_35_loss: 15.2484 - val_dense_31_acc: 0.0680 - val_dense_32_acc: 0.0780 - val_dense_33_acc: 0.0560 - val_dense_34_acc: 0.0660 - val_dense_35_acc: 0.0600\n",
      "Epoch 17/100\n",
      "500/500 [==============================] - 36s 73ms/step - loss: 71.6088 - dense_31_loss: 14.1341 - dense_32_loss: 14.0214 - dense_33_loss: 14.5583 - dense_34_loss: 15.1066 - dense_35_loss: 13.7884 - dense_31_acc: 0.0660 - dense_32_acc: 0.0800 - dense_33_acc: 0.0780 - dense_34_acc: 0.0700 - dense_35_acc: 0.0740 - val_loss: 72.0511 - val_dense_31_loss: 14.0216 - val_dense_32_loss: 14.2673 - val_dense_33_loss: 13.9708 - val_dense_34_loss: 14.5713 - val_dense_35_loss: 15.2202 - val_dense_31_acc: 0.0680 - val_dense_32_acc: 0.0780 - val_dense_33_acc: 0.0560 - val_dense_34_acc: 0.0660 - val_dense_35_acc: 0.0600\n",
      "Epoch 18/100\n",
      "500/500 [==============================] - 28s 56ms/step - loss: 70.2776 - dense_31_loss: 13.9139 - dense_32_loss: 14.0998 - dense_33_loss: 14.5935 - dense_34_loss: 13.6959 - dense_35_loss: 13.9746 - dense_31_acc: 0.0660 - dense_32_acc: 0.0880 - dense_33_acc: 0.0780 - dense_34_acc: 0.0700 - dense_35_acc: 0.0740 - val_loss: 72.4981 - val_dense_31_loss: 14.1026 - val_dense_32_loss: 14.2658 - val_dense_33_loss: 13.8285 - val_dense_34_loss: 14.7007 - val_dense_35_loss: 15.6005 - val_dense_31_acc: 0.0680 - val_dense_32_acc: 0.0720 - val_dense_33_acc: 0.0560 - val_dense_34_acc: 0.0660 - val_dense_35_acc: 0.0600\n",
      "Epoch 19/100\n",
      "500/500 [==============================] - 31s 62ms/step - loss: 72.2476 - dense_31_loss: 14.2830 - dense_32_loss: 14.4113 - dense_33_loss: 15.0701 - dense_34_loss: 13.6288 - dense_35_loss: 14.8543 - dense_31_acc: 0.0740 - dense_32_acc: 0.0660 - dense_33_acc: 0.0780 - dense_34_acc: 0.0700 - dense_35_acc: 0.0740 - val_loss: 72.2416 - val_dense_31_loss: 14.0883 - val_dense_32_loss: 14.2428 - val_dense_33_loss: 13.7408 - val_dense_34_loss: 14.6826 - val_dense_35_loss: 15.4872 - val_dense_31_acc: 0.0720 - val_dense_32_acc: 0.0540 - val_dense_33_acc: 0.0560 - val_dense_34_acc: 0.0660 - val_dense_35_acc: 0.0580\n",
      "Epoch 20/100\n",
      "500/500 [==============================] - 27s 53ms/step - loss: 67.8948 - dense_31_loss: 12.9489 - dense_32_loss: 13.5019 - dense_33_loss: 13.4593 - dense_34_loss: 13.9547 - dense_35_loss: 14.0301 - dense_31_acc: 0.0720 - dense_32_acc: 0.0620 - dense_33_acc: 0.0720 - dense_34_acc: 0.0700 - dense_35_acc: 0.0800 - val_loss: 71.7639 - val_dense_31_loss: 14.0748 - val_dense_32_loss: 14.2158 - val_dense_33_loss: 13.8678 - val_dense_34_loss: 14.5189 - val_dense_35_loss: 15.0866 - val_dense_31_acc: 0.0720 - val_dense_32_acc: 0.0500 - val_dense_33_acc: 0.0440 - val_dense_34_acc: 0.0660 - val_dense_35_acc: 0.0580\n",
      "Epoch 21/100\n",
      "400/500 [=======================>......] - ETA: 4s - loss: 66.8040 - dense_31_loss: 13.0957 - dense_32_loss: 13.3122 - dense_33_loss: 12.8033 - dense_34_loss: 14.6782 - dense_35_loss: 12.9146 - dense_31_acc: 0.0725 - dense_32_acc: 0.0700 - dense_33_acc: 0.0750 - dense_34_acc: 0.0600 - dense_35_acc: 0.0800"
     ]
    },
    {
     "ename": "KeyboardInterrupt",
     "evalue": "",
     "output_type": "error",
     "traceback": [
      "\u001b[1;31m---------------------------------------------------------------------------\u001b[0m",
      "\u001b[1;31mKeyboardInterrupt\u001b[0m                         Traceback (most recent call last)",
      "\u001b[1;32m<ipython-input-61-747f49cb4e94>\u001b[0m in \u001b[0;36m<module>\u001b[1;34m()\u001b[0m\n\u001b[0;32m      1\u001b[0m model.fit(X_train, train_lst, batch_size=batch_size, epochs=nb_epoch,\n\u001b[1;32m----> 2\u001b[1;33m             verbose=1, validation_data=(X_test,test_lst))\n\u001b[0m",
      "\u001b[1;32mC:\\anaconda3\\lib\\site-packages\\keras\\engine\\training.py\u001b[0m in \u001b[0;36mfit\u001b[1;34m(self, x, y, batch_size, epochs, verbose, callbacks, validation_split, validation_data, shuffle, class_weight, sample_weight, initial_epoch, steps_per_epoch, validation_steps, **kwargs)\u001b[0m\n\u001b[0;32m   1040\u001b[0m                                         \u001b[0minitial_epoch\u001b[0m\u001b[1;33m=\u001b[0m\u001b[0minitial_epoch\u001b[0m\u001b[1;33m,\u001b[0m\u001b[1;33m\u001b[0m\u001b[0m\n\u001b[0;32m   1041\u001b[0m                                         \u001b[0msteps_per_epoch\u001b[0m\u001b[1;33m=\u001b[0m\u001b[0msteps_per_epoch\u001b[0m\u001b[1;33m,\u001b[0m\u001b[1;33m\u001b[0m\u001b[0m\n\u001b[1;32m-> 1042\u001b[1;33m                                         validation_steps=validation_steps)\n\u001b[0m\u001b[0;32m   1043\u001b[0m \u001b[1;33m\u001b[0m\u001b[0m\n\u001b[0;32m   1044\u001b[0m     def evaluate(self, x=None, y=None,\n",
      "\u001b[1;32mC:\\anaconda3\\lib\\site-packages\\keras\\engine\\training_arrays.py\u001b[0m in \u001b[0;36mfit_loop\u001b[1;34m(model, f, ins, out_labels, batch_size, epochs, verbose, callbacks, val_f, val_ins, shuffle, callback_metrics, initial_epoch, steps_per_epoch, validation_steps)\u001b[0m\n\u001b[0;32m    211\u001b[0m                         val_outs = test_loop(model, val_f, val_ins,\n\u001b[0;32m    212\u001b[0m                                              \u001b[0mbatch_size\u001b[0m\u001b[1;33m=\u001b[0m\u001b[0mbatch_size\u001b[0m\u001b[1;33m,\u001b[0m\u001b[1;33m\u001b[0m\u001b[0m\n\u001b[1;32m--> 213\u001b[1;33m                                              verbose=0)\n\u001b[0m\u001b[0;32m    214\u001b[0m                         \u001b[1;32mif\u001b[0m \u001b[1;32mnot\u001b[0m \u001b[0misinstance\u001b[0m\u001b[1;33m(\u001b[0m\u001b[0mval_outs\u001b[0m\u001b[1;33m,\u001b[0m \u001b[0mlist\u001b[0m\u001b[1;33m)\u001b[0m\u001b[1;33m:\u001b[0m\u001b[1;33m\u001b[0m\u001b[0m\n\u001b[0;32m    215\u001b[0m                             \u001b[0mval_outs\u001b[0m \u001b[1;33m=\u001b[0m \u001b[1;33m[\u001b[0m\u001b[0mval_outs\u001b[0m\u001b[1;33m]\u001b[0m\u001b[1;33m\u001b[0m\u001b[0m\n",
      "\u001b[1;32mC:\\anaconda3\\lib\\site-packages\\keras\\engine\\training_arrays.py\u001b[0m in \u001b[0;36mtest_loop\u001b[1;34m(model, f, ins, batch_size, verbose, steps)\u001b[0m\n\u001b[0;32m    396\u001b[0m                 \u001b[0mins_batch\u001b[0m\u001b[1;33m[\u001b[0m\u001b[0mi\u001b[0m\u001b[1;33m]\u001b[0m \u001b[1;33m=\u001b[0m \u001b[0mins_batch\u001b[0m\u001b[1;33m[\u001b[0m\u001b[0mi\u001b[0m\u001b[1;33m]\u001b[0m\u001b[1;33m.\u001b[0m\u001b[0mtoarray\u001b[0m\u001b[1;33m(\u001b[0m\u001b[1;33m)\u001b[0m\u001b[1;33m\u001b[0m\u001b[0m\n\u001b[0;32m    397\u001b[0m \u001b[1;33m\u001b[0m\u001b[0m\n\u001b[1;32m--> 398\u001b[1;33m             \u001b[0mbatch_outs\u001b[0m \u001b[1;33m=\u001b[0m \u001b[0mf\u001b[0m\u001b[1;33m(\u001b[0m\u001b[0mins_batch\u001b[0m\u001b[1;33m)\u001b[0m\u001b[1;33m\u001b[0m\u001b[0m\n\u001b[0m\u001b[0;32m    399\u001b[0m             \u001b[1;32mif\u001b[0m \u001b[0misinstance\u001b[0m\u001b[1;33m(\u001b[0m\u001b[0mbatch_outs\u001b[0m\u001b[1;33m,\u001b[0m \u001b[0mlist\u001b[0m\u001b[1;33m)\u001b[0m\u001b[1;33m:\u001b[0m\u001b[1;33m\u001b[0m\u001b[0m\n\u001b[0;32m    400\u001b[0m                 \u001b[1;32mif\u001b[0m \u001b[0mbatch_index\u001b[0m \u001b[1;33m==\u001b[0m \u001b[1;36m0\u001b[0m\u001b[1;33m:\u001b[0m\u001b[1;33m\u001b[0m\u001b[0m\n",
      "\u001b[1;32mC:\\anaconda3\\lib\\site-packages\\keras\\backend\\tensorflow_backend.py\u001b[0m in \u001b[0;36m__call__\u001b[1;34m(self, inputs)\u001b[0m\n\u001b[0;32m   2659\u001b[0m                 \u001b[1;32mreturn\u001b[0m \u001b[0mself\u001b[0m\u001b[1;33m.\u001b[0m\u001b[0m_legacy_call\u001b[0m\u001b[1;33m(\u001b[0m\u001b[0minputs\u001b[0m\u001b[1;33m)\u001b[0m\u001b[1;33m\u001b[0m\u001b[0m\n\u001b[0;32m   2660\u001b[0m \u001b[1;33m\u001b[0m\u001b[0m\n\u001b[1;32m-> 2661\u001b[1;33m             \u001b[1;32mreturn\u001b[0m \u001b[0mself\u001b[0m\u001b[1;33m.\u001b[0m\u001b[0m_call\u001b[0m\u001b[1;33m(\u001b[0m\u001b[0minputs\u001b[0m\u001b[1;33m)\u001b[0m\u001b[1;33m\u001b[0m\u001b[0m\n\u001b[0m\u001b[0;32m   2662\u001b[0m         \u001b[1;32melse\u001b[0m\u001b[1;33m:\u001b[0m\u001b[1;33m\u001b[0m\u001b[0m\n\u001b[0;32m   2663\u001b[0m             \u001b[1;32mif\u001b[0m \u001b[0mpy_any\u001b[0m\u001b[1;33m(\u001b[0m\u001b[0mis_tensor\u001b[0m\u001b[1;33m(\u001b[0m\u001b[0mx\u001b[0m\u001b[1;33m)\u001b[0m \u001b[1;32mfor\u001b[0m \u001b[0mx\u001b[0m \u001b[1;32min\u001b[0m \u001b[0minputs\u001b[0m\u001b[1;33m)\u001b[0m\u001b[1;33m:\u001b[0m\u001b[1;33m\u001b[0m\u001b[0m\n",
      "\u001b[1;32mC:\\anaconda3\\lib\\site-packages\\keras\\backend\\tensorflow_backend.py\u001b[0m in \u001b[0;36m_call\u001b[1;34m(self, inputs)\u001b[0m\n\u001b[0;32m   2629\u001b[0m                                 \u001b[0msymbol_vals\u001b[0m\u001b[1;33m,\u001b[0m\u001b[1;33m\u001b[0m\u001b[0m\n\u001b[0;32m   2630\u001b[0m                                 session)\n\u001b[1;32m-> 2631\u001b[1;33m         \u001b[0mfetched\u001b[0m \u001b[1;33m=\u001b[0m \u001b[0mself\u001b[0m\u001b[1;33m.\u001b[0m\u001b[0m_callable_fn\u001b[0m\u001b[1;33m(\u001b[0m\u001b[1;33m*\u001b[0m\u001b[0marray_vals\u001b[0m\u001b[1;33m)\u001b[0m\u001b[1;33m\u001b[0m\u001b[0m\n\u001b[0m\u001b[0;32m   2632\u001b[0m         \u001b[1;32mreturn\u001b[0m \u001b[0mfetched\u001b[0m\u001b[1;33m[\u001b[0m\u001b[1;33m:\u001b[0m\u001b[0mlen\u001b[0m\u001b[1;33m(\u001b[0m\u001b[0mself\u001b[0m\u001b[1;33m.\u001b[0m\u001b[0moutputs\u001b[0m\u001b[1;33m)\u001b[0m\u001b[1;33m]\u001b[0m\u001b[1;33m\u001b[0m\u001b[0m\n\u001b[0;32m   2633\u001b[0m \u001b[1;33m\u001b[0m\u001b[0m\n",
      "\u001b[1;32mC:\\anaconda3\\lib\\site-packages\\tensorflow\\python\\client\\session.py\u001b[0m in \u001b[0;36m__call__\u001b[1;34m(self, *args)\u001b[0m\n\u001b[0;32m   1449\u001b[0m         \u001b[1;32mif\u001b[0m \u001b[0mself\u001b[0m\u001b[1;33m.\u001b[0m\u001b[0m_session\u001b[0m\u001b[1;33m.\u001b[0m\u001b[0m_created_with_new_api\u001b[0m\u001b[1;33m:\u001b[0m\u001b[1;33m\u001b[0m\u001b[0m\n\u001b[0;32m   1450\u001b[0m           return tf_session.TF_SessionRunCallable(\n\u001b[1;32m-> 1451\u001b[1;33m               self._session._session, self._handle, args, status, None)\n\u001b[0m\u001b[0;32m   1452\u001b[0m         \u001b[1;32melse\u001b[0m\u001b[1;33m:\u001b[0m\u001b[1;33m\u001b[0m\u001b[0m\n\u001b[0;32m   1453\u001b[0m           return tf_session.TF_DeprecatedSessionRunCallable(\n",
      "\u001b[1;31mKeyboardInterrupt\u001b[0m: "
     ]
    }
   ],
   "source": [
    "model.fit(X_train, train_lst, batch_size=batch_size, epochs=nb_epoch,\n",
    "            verbose=1, validation_data=(X_test,test_lst))"
   ]
  },
  {
   "cell_type": "code",
   "execution_count": 224,
   "metadata": {},
   "outputs": [],
   "source": [
    "pred=model.predict(X_train[0:10])"
   ]
  },
  {
   "cell_type": "code",
   "execution_count": 225,
   "metadata": {},
   "outputs": [
    {
     "data": {
      "text/plain": [
       "(10, 36)"
      ]
     },
     "execution_count": 225,
     "metadata": {},
     "output_type": "execute_result"
    }
   ],
   "source": [
    "pred[1].shape"
   ]
  },
  {
   "cell_type": "code",
   "execution_count": null,
   "metadata": {},
   "outputs": [],
   "source": []
  },
  {
   "cell_type": "code",
   "execution_count": null,
   "metadata": {
    "scrolled": false
   },
   "outputs": [],
   "source": []
  },
  {
   "cell_type": "code",
   "execution_count": null,
   "metadata": {},
   "outputs": [],
   "source": []
  },
  {
   "cell_type": "code",
   "execution_count": null,
   "metadata": {},
   "outputs": [],
   "source": []
  },
  {
   "cell_type": "code",
   "execution_count": null,
   "metadata": {},
   "outputs": [],
   "source": []
  }
 ],
 "metadata": {
  "kernelspec": {
   "display_name": "Python 3",
   "language": "python",
   "name": "python3"
  },
  "language_info": {
   "codemirror_mode": {
    "name": "ipython",
    "version": 3
   },
   "file_extension": ".py",
   "mimetype": "text/x-python",
   "name": "python",
   "nbconvert_exporter": "python",
   "pygments_lexer": "ipython3",
   "version": "3.6.5"
  }
 },
 "nbformat": 4,
 "nbformat_minor": 2
}
