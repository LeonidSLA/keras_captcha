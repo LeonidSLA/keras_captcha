{
 "cells": [
  {
   "cell_type": "code",
   "execution_count": 1,
   "metadata": {
    "scrolled": false
   },
   "outputs": [
    {
     "name": "stderr",
     "output_type": "stream",
     "text": [
      "C:\\anaconda3\\lib\\site-packages\\h5py\\__init__.py:36: FutureWarning: Conversion of the second argument of issubdtype from `float` to `np.floating` is deprecated. In future, it will be treated as `np.float64 == np.dtype(float).type`.\n",
      "  from ._conv import register_converters as _register_converters\n",
      "Using TensorFlow backend.\n"
     ]
    }
   ],
   "source": [
    "from __future__ import print_function\n",
    "import numpy as np\n",
    "np.random.seed(1337)  # for reproducibility\n",
    "\n",
    "import captcha_params\n",
    "\n",
    "from keras.models import Sequential\n",
    "from keras.layers import Dense, Dropout, Activation, Flatten\n",
    "from keras.layers import Conv2D, MaxPooling2D\n",
    "from keras.layers.advanced_activations import LeakyReLU\n",
    "from keras.utils import np_utils\n",
    "from keras.optimizers import adamax\n",
    "from keras.callbacks import Callback\n",
    "from keras import backend as K\n",
    "from load_data import *\n",
    "import get_train_set\n",
    "import h5py\n",
    "from keras.models import model_from_json"
   ]
  },
  {
   "cell_type": "code",
   "execution_count": 2,
   "metadata": {},
   "outputs": [],
   "source": [
    "#Generate additional training set\n",
    "for i in range(500):     \n",
    "    text, image = get_train_set.gen_captcha_text_and_image(i)\n"
   ]
  },
  {
   "cell_type": "code",
   "execution_count": 3,
   "metadata": {},
   "outputs": [],
   "source": [
    "batch_size = 10\n",
    "nb_epoch = 100\n",
    "MAX_CAPTCHA = captcha_params.get_captcha_size()\n",
    "CHAR_SET_LEN = captcha_params.get_char_set_len()\n",
    "\n",
    "# input image dimensions\n",
    "img_rows, img_cols = captcha_params.get_height(), captcha_params.get_width()"
   ]
  },
  {
   "cell_type": "code",
   "execution_count": 2,
   "metadata": {},
   "outputs": [],
   "source": [
    "#original data\n",
    "from load_data import load_data\n",
    "(X_train, y_train,y_train_text), (X_test, y_test,y_test_text) = load_data(tol_num = 1000,train_num = 500,folder='labeled_captchas')\n",
    "\n",
    "# Generated data\n",
    "(X_train_gen, y_train_gen,y_train_text_gen), (X_test_gen, y_test_gen,y_test_text_gen) = load_data(tol_num = 500,train_num = 500,folder='generated')"
   ]
  },
  {
   "cell_type": "code",
   "execution_count": 3,
   "metadata": {},
   "outputs": [
    {
     "data": {
      "text/plain": [
       "(500, 150, 330)"
      ]
     },
     "execution_count": 3,
     "metadata": {},
     "output_type": "execute_result"
    }
   ],
   "source": [
    "X_train.shape"
   ]
  },
  {
   "cell_type": "code",
   "execution_count": 185,
   "metadata": {},
   "outputs": [],
   "source": [
    "# Add generated data to train set\n",
    "X_train=np.append(X_train, X_train_gen,axis=0)\n",
    "y_train=np.append(y_train, y_train_gen,axis=0)\n",
    "#y_train_text=np.append(y_train_text, y_train_text_gen)"
   ]
  },
  {
   "cell_type": "code",
   "execution_count": 52,
   "metadata": {},
   "outputs": [],
   "source": [
    "X_train=X_train.reshape(X_train.shape[0],X_train.shape[1],X_train.shape[2],1)\n",
    "X_test=X_test.reshape(X_test.shape[0],X_test.shape[1],X_test.shape[2],1)"
   ]
  },
  {
   "cell_type": "code",
   "execution_count": null,
   "metadata": {},
   "outputs": [],
   "source": [
    "y_train=y_train.reshape(y_train.shape[0],5,36)\n",
    "y_test=y_test.reshape(y_test.shape[0],5,36)"
   ]
  },
  {
   "cell_type": "code",
   "execution_count": 5,
   "metadata": {},
   "outputs": [],
   "source": [
    "train_lst=[y_train[:,0,] ,\n",
    "           y_train[:,1,] , \n",
    "           y_train[:,2,] ,\n",
    "           y_train[:,3,] ,\n",
    "           y_train[:,4,]  \n",
    "          ]\n",
    "\n",
    "test_lst=[y_test[:,0,] ,\n",
    "           y_test[:,1,] , \n",
    "           y_test[:,2,] ,\n",
    "           y_test[:,3,] ,\n",
    "           y_test[:,4,]  \n",
    "          ]"
   ]
  },
  {
   "cell_type": "code",
   "execution_count": 6,
   "metadata": {},
   "outputs": [
    {
     "data": {
      "text/plain": [
       "array(['4D63O'], dtype='<U10')"
      ]
     },
     "execution_count": 6,
     "metadata": {},
     "output_type": "execute_result"
    }
   ],
   "source": [
    "y_test_text[3]"
   ]
  },
  {
   "cell_type": "code",
   "execution_count": 7,
   "metadata": {},
   "outputs": [
    {
     "data": {
      "text/plain": [
       "array([0, 0, 0, 0, 0, 0, 0, 0, 0, 0, 0, 0, 0, 0, 0, 0, 0, 0, 0, 0, 0, 0,\n",
       "       0, 0, 1, 0, 0, 0, 0, 0, 0, 0, 0, 0, 0, 0], dtype=uint8)"
      ]
     },
     "execution_count": 7,
     "metadata": {},
     "output_type": "execute_result"
    }
   ],
   "source": [
    "test_lst[4][3]"
   ]
  },
  {
   "cell_type": "code",
   "execution_count": 53,
   "metadata": {},
   "outputs": [
    {
     "name": "stdout",
     "output_type": "stream",
     "text": [
      "X_train shape: (500, 150, 330, 1)\n",
      "500 train samples\n",
      "500 test samples\n"
     ]
    }
   ],
   "source": [
    "X_train = X_train.astype('float32')\n",
    "X_test = X_test.astype('float32')\n",
    "X_train =(X_train/255)-0.5\n",
    "X_test =(X_test/255)-0.5\n",
    "print('X_train shape:', X_train.shape)\n",
    "print(X_train.shape[0], 'train samples')\n",
    "print(X_test.shape[0], 'test samples')\n"
   ]
  },
  {
   "cell_type": "code",
   "execution_count": 28,
   "metadata": {},
   "outputs": [],
   "source": [
    "#model = Sequential()"
   ]
  },
  {
   "cell_type": "code",
   "execution_count": 54,
   "metadata": {},
   "outputs": [],
   "source": [
    "input_shape = [X_train.shape[1], X_train.shape[2],1]\n",
    "# size of pooling area for max pooling\n",
    "pool_size = (2, 2)\n",
    "# convolution kernel size\n",
    "kernel_size = (3, 3)\n",
    "batch_size =70\n",
    "nb_filters1=48\n",
    "nb_filters=24\n",
    "nb_filters1=16"
   ]
  },
  {
   "cell_type": "code",
   "execution_count": 55,
   "metadata": {},
   "outputs": [
    {
     "data": {
      "text/plain": [
       "[150, 330, 1]"
      ]
     },
     "execution_count": 55,
     "metadata": {},
     "output_type": "execute_result"
    }
   ],
   "source": [
    "input_shape"
   ]
  },
  {
   "cell_type": "code",
   "execution_count": 56,
   "metadata": {},
   "outputs": [],
   "source": [
    "from keras.layers import Input\n",
    "from keras.models import Model\n",
    "\n",
    "batch_size = 100\n",
    "nb_classes = 36\n",
    "nb_epoch = 100\n",
    "\n",
    "\n",
    "\n",
    "model_input=Input(shape=input_shape)\n",
    "\n",
    "x = MaxPooling2D(pool_size=(2, 2))(model_input)\n",
    "\n",
    "x = Conv2D(36, kernel_size  )(x)\n",
    "x = Activation('relu')(x)\n",
    "\n",
    "x = Conv2D(24, kernel_size  )(x)\n",
    "x = Activation('relu')(x)\n",
    "\n",
    "x = MaxPooling2D(pool_size=(2, 2))(x)\n",
    "x = Dropout(0.25)(x)\n",
    "conv_out = Flatten()(x)\n",
    "\n",
    "x1 = Dense(nb_classes, activation='softmax')(conv_out)\n",
    "x2 = Dense(nb_classes, activation='softmax')(conv_out)\n",
    "x3 = Dense(nb_classes, activation='softmax')(conv_out)\n",
    "x4 = Dense(nb_classes, activation='softmax')(conv_out)\n",
    "x5 = Dense(nb_classes, activation='softmax')(conv_out)\n",
    "\n",
    "lst = [x1, x2, x3, x4, x5]\n",
    "\n",
    "\n",
    "model = Model(inputs=model_input, outputs=lst)"
   ]
  },
  {
   "cell_type": "code",
   "execution_count": 57,
   "metadata": {},
   "outputs": [
    {
     "name": "stdout",
     "output_type": "stream",
     "text": [
      "__________________________________________________________________________________________________\n",
      "Layer (type)                    Output Shape         Param #     Connected to                     \n",
      "==================================================================================================\n",
      "input_15 (InputLayer)           (None, 150, 330, 1)  0                                            \n",
      "__________________________________________________________________________________________________\n",
      "max_pooling2d_8 (MaxPooling2D)  (None, 75, 165, 1)   0           input_15[0][0]                   \n",
      "__________________________________________________________________________________________________\n",
      "conv2d_20 (Conv2D)              (None, 73, 163, 36)  360         max_pooling2d_8[0][0]            \n",
      "__________________________________________________________________________________________________\n",
      "activation_13 (Activation)      (None, 73, 163, 36)  0           conv2d_20[0][0]                  \n",
      "__________________________________________________________________________________________________\n",
      "conv2d_21 (Conv2D)              (None, 71, 161, 24)  7800        activation_13[0][0]              \n",
      "__________________________________________________________________________________________________\n",
      "activation_14 (Activation)      (None, 71, 161, 24)  0           conv2d_21[0][0]                  \n",
      "__________________________________________________________________________________________________\n",
      "max_pooling2d_9 (MaxPooling2D)  (None, 35, 80, 24)   0           activation_14[0][0]              \n",
      "__________________________________________________________________________________________________\n",
      "dropout_7 (Dropout)             (None, 35, 80, 24)   0           max_pooling2d_9[0][0]            \n",
      "__________________________________________________________________________________________________\n",
      "flatten_7 (Flatten)             (None, 67200)        0           dropout_7[0][0]                  \n",
      "__________________________________________________________________________________________________\n",
      "dense_31 (Dense)                (None, 36)           2419236     flatten_7[0][0]                  \n",
      "__________________________________________________________________________________________________\n",
      "dense_32 (Dense)                (None, 36)           2419236     flatten_7[0][0]                  \n",
      "__________________________________________________________________________________________________\n",
      "dense_33 (Dense)                (None, 36)           2419236     flatten_7[0][0]                  \n",
      "__________________________________________________________________________________________________\n",
      "dense_34 (Dense)                (None, 36)           2419236     flatten_7[0][0]                  \n",
      "__________________________________________________________________________________________________\n",
      "dense_35 (Dense)                (None, 36)           2419236     flatten_7[0][0]                  \n",
      "==================================================================================================\n",
      "Total params: 12,104,340\n",
      "Trainable params: 12,104,340\n",
      "Non-trainable params: 0\n",
      "__________________________________________________________________________________________________\n"
     ]
    }
   ],
   "source": [
    "model.summary()"
   ]
  },
  {
   "cell_type": "code",
   "execution_count": 58,
   "metadata": {},
   "outputs": [],
   "source": [
    "from keras.losses import categorical_crossentropy\n",
    "def m_losses(y_true,y_pred):\n",
    "    loss =categorical_crossentropy(y_true[0], y_pred[0])+categorical_crossentropy(y_true[1], y_pred[1])+categorical_crossentropy(y_true[2], y_pred[2])+categorical_crossentropy(y_true[3], y_pred[3])+categorical_crossentropy(y_true[4], y_pred[4])\n",
    "    \n",
    "    return loss\n"
   ]
  },
  {
   "cell_type": "code",
   "execution_count": null,
   "metadata": {},
   "outputs": [],
   "source": []
  },
  {
   "cell_type": "code",
   "execution_count": null,
   "metadata": {},
   "outputs": [],
   "source": []
  },
  {
   "cell_type": "code",
   "execution_count": 30,
   "metadata": {},
   "outputs": [],
   "source": [
    "#model.add(Conv2D(kernel_size=kernel_size, filters=nb_filters1, padding='same' ,input_shape=input_shape ))\n",
    "#model.add(LeakyReLU(0.1))\n",
    "#model.add(MaxPooling2D(pool_size=pool_size))\n",
    "#model.add(Dropout(0.25))\n",
    "\n",
    "#model.add(Conv2D(16, kernel_size=kernel_size))\n",
    "#model.add(LeakyReLU(0.1))\n",
    "#model.add(MaxPooling2D(pool_size=pool_size))\n",
    "#model.add(Dropout(0.25))\n",
    "\n",
    "#model.add(Conv2D(8, kernel_size=kernel_size))\n",
    "#model.add(LeakyReLU(0.1))\n",
    "#model.add(MaxPooling2D(pool_size=pool_size))\n",
    "#model.add(Dropout(0.25))\n",
    "\n",
    "#model.add(Conv2D(4, kernel_size=kernel_size))\n",
    "#model.add(LeakyReLU(0.1))\n",
    "#model.add(MaxPooling2D(pool_size=pool_size))\n",
    "#model.add(Dropout(0.25))\n",
    "\n",
    "# Fully connected layer\n",
    "#model.add(Flatten())\n",
    "#model.add(Dense(512))\n",
    "#model.add(LeakyReLU(0.1))\n",
    "#model.add(Dropout(0.25))\n",
    "#model.add(Dense(MAX_CAPTCHA*CHAR_SET_LEN))\n",
    "#model.add(Activation('softmax'))"
   ]
  },
  {
   "cell_type": "code",
   "execution_count": 59,
   "metadata": {},
   "outputs": [],
   "source": [
    "INIT_LR = 5e-3\n",
    "model.compile(loss=m_losses,\n",
    "              optimizer=adamax(lr=INIT_LR),\n",
    "              metrics=['accuracy'])\n",
    "\n",
    "# scheduler of learning rate (decay with epochs)\n",
    "def lr_scheduler(epoch):\n",
    "    return INIT_LR * 0.9 ** epoch\n",
    "\n",
    "# callback for printing of actual learning rate used by optimizer\n",
    "class LrHistory(Callback):\n",
    "    def on_epoch_begin(self, epoch, logs={}):\n",
    "        print(\"Learning rate:\", K.get_value(model.optimizer.lr))"
   ]
  },
  {
   "cell_type": "code",
   "execution_count": null,
   "metadata": {},
   "outputs": [
    {
     "name": "stdout",
     "output_type": "stream",
     "text": [
      "Train on 500 samples, validate on 500 samples\n",
      "Epoch 1/100\n",
      "500/500 [==============================] - 31s 62ms/step - loss: 251.7345 - dense_31_loss: 40.7982 - dense_32_loss: 56.8568 - dense_33_loss: 56.7140 - dense_34_loss: 53.4087 - dense_35_loss: 43.9567 - dense_31_acc: 0.0560 - dense_32_acc: 0.0380 - dense_33_acc: 0.0580 - dense_34_acc: 0.0740 - dense_35_acc: 0.0560 - val_loss: 177.8040 - val_dense_31_loss: 36.1896 - val_dense_32_loss: 36.3615 - val_dense_33_loss: 40.8327 - val_dense_34_loss: 32.1395 - val_dense_35_loss: 32.2808 - val_dense_31_acc: 0.0720 - val_dense_32_acc: 0.0500 - val_dense_33_acc: 0.0660 - val_dense_34_acc: 0.0660 - val_dense_35_acc: 0.0600\n",
      "Epoch 2/100\n",
      "500/500 [==============================] - 28s 56ms/step - loss: 100.2208 - dense_31_loss: 19.8705 - dense_32_loss: 20.8319 - dense_33_loss: 21.7478 - dense_34_loss: 17.5641 - dense_35_loss: 20.2066 - dense_31_acc: 0.0620 - dense_32_acc: 0.0720 - dense_33_acc: 0.0760 - dense_34_acc: 0.0460 - dense_35_acc: 0.0660 - val_loss: 85.5474 - val_dense_31_loss: 16.5739 - val_dense_32_loss: 17.1973 - val_dense_33_loss: 17.4438 - val_dense_34_loss: 17.0438 - val_dense_35_loss: 17.2886 - val_dense_31_acc: 0.0780 - val_dense_32_acc: 0.0780 - val_dense_33_acc: 0.0580 - val_dense_34_acc: 0.0840 - val_dense_35_acc: 0.0620\n",
      "Epoch 3/100\n",
      "500/500 [==============================] - 26s 53ms/step - loss: 85.1594 - dense_31_loss: 17.8817 - dense_32_loss: 18.0329 - dense_33_loss: 15.4626 - dense_34_loss: 17.5272 - dense_35_loss: 16.2550 - dense_31_acc: 0.0780 - dense_32_acc: 0.0800 - dense_33_acc: 0.0760 - dense_34_acc: 0.0460 - dense_35_acc: 0.0720 - val_loss: 86.9370 - val_dense_31_loss: 16.2091 - val_dense_32_loss: 16.6640 - val_dense_33_loss: 17.0365 - val_dense_34_loss: 17.3568 - val_dense_35_loss: 19.6706 - val_dense_31_acc: 0.0720 - val_dense_32_acc: 0.0380 - val_dense_33_acc: 0.0440 - val_dense_34_acc: 0.0600 - val_dense_35_acc: 0.0500\n",
      "Epoch 4/100\n",
      "500/500 [==============================] - 26s 53ms/step - loss: 79.9298 - dense_31_loss: 17.0749 - dense_32_loss: 15.3680 - dense_33_loss: 16.6062 - dense_34_loss: 15.0638 - dense_35_loss: 15.8169 - dense_31_acc: 0.0820 - dense_32_acc: 0.0640 - dense_33_acc: 0.0860 - dense_34_acc: 0.0760 - dense_35_acc: 0.0640 - val_loss: 83.0901 - val_dense_31_loss: 16.4971 - val_dense_32_loss: 16.5505 - val_dense_33_loss: 16.3521 - val_dense_34_loss: 16.7604 - val_dense_35_loss: 16.9300 - val_dense_31_acc: 0.0680 - val_dense_32_acc: 0.0380 - val_dense_33_acc: 0.0560 - val_dense_34_acc: 0.0540 - val_dense_35_acc: 0.0500\n",
      "Epoch 5/100\n",
      "300/500 [=================>............] - ETA: 8s - loss: 79.0203 - dense_31_loss: 15.8592 - dense_32_loss: 15.7774 - dense_33_loss: 15.3855 - dense_34_loss: 16.6039 - dense_35_loss: 15.3944 - dense_31_acc: 0.0633 - dense_32_acc: 0.0400 - dense_33_acc: 0.0800 - dense_34_acc: 0.0933 - dense_35_acc: 0.0667 "
     ]
    }
   ],
   "source": [
    "model.fit(X_train, train_lst, batch_size=batch_size, epochs=nb_epoch,\n",
    "            verbose=1, validation_data=(X_test,test_lst))"
   ]
  },
  {
   "cell_type": "code",
   "execution_count": 224,
   "metadata": {},
   "outputs": [],
   "source": [
    "pred=model.predict(X_train[0:10])"
   ]
  },
  {
   "cell_type": "code",
   "execution_count": 225,
   "metadata": {},
   "outputs": [
    {
     "data": {
      "text/plain": [
       "(10, 36)"
      ]
     },
     "execution_count": 225,
     "metadata": {},
     "output_type": "execute_result"
    }
   ],
   "source": [
    "pred[1].shape"
   ]
  },
  {
   "cell_type": "code",
   "execution_count": null,
   "metadata": {},
   "outputs": [],
   "source": []
  },
  {
   "cell_type": "code",
   "execution_count": null,
   "metadata": {
    "scrolled": false
   },
   "outputs": [],
   "source": []
  },
  {
   "cell_type": "code",
   "execution_count": null,
   "metadata": {},
   "outputs": [],
   "source": []
  },
  {
   "cell_type": "code",
   "execution_count": null,
   "metadata": {},
   "outputs": [],
   "source": []
  },
  {
   "cell_type": "code",
   "execution_count": null,
   "metadata": {},
   "outputs": [],
   "source": []
  }
 ],
 "metadata": {
  "kernelspec": {
   "display_name": "Python 3",
   "language": "python",
   "name": "python3"
  },
  "language_info": {
   "codemirror_mode": {
    "name": "ipython",
    "version": 3
   },
   "file_extension": ".py",
   "mimetype": "text/x-python",
   "name": "python",
   "nbconvert_exporter": "python",
   "pygments_lexer": "ipython3",
   "version": "3.6.5"
  }
 },
 "nbformat": 4,
 "nbformat_minor": 2
}
