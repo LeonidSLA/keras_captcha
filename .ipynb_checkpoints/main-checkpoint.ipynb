{
 "cells": [
  {
   "cell_type": "code",
   "execution_count": 1,
   "metadata": {
    "scrolled": false
   },
   "outputs": [
    {
     "name": "stderr",
     "output_type": "stream",
     "text": [
      "C:\\anaconda3\\lib\\site-packages\\h5py\\__init__.py:36: FutureWarning: Conversion of the second argument of issubdtype from `float` to `np.floating` is deprecated. In future, it will be treated as `np.float64 == np.dtype(float).type`.\n",
      "  from ._conv import register_converters as _register_converters\n",
      "Using TensorFlow backend.\n"
     ]
    }
   ],
   "source": [
    "from __future__ import print_function\n",
    "import numpy as np\n",
    "np.random.seed(1337)  # for reproducibility\n",
    "\n",
    "import captcha_params\n",
    "\n",
    "from keras.models import Sequential\n",
    "from keras.layers import Dense, Dropout, Activation, Flatten\n",
    "from keras.layers import Conv2D, MaxPooling2D\n",
    "from keras.layers.advanced_activations import LeakyReLU\n",
    "from keras.utils import np_utils\n",
    "from keras.optimizers import adamax\n",
    "from keras.callbacks import Callback\n",
    "from keras import backend as K\n",
    "from load_data import *\n",
    "import get_train_set\n",
    "import h5py\n",
    "from keras.models import model_from_json"
   ]
  },
  {
   "cell_type": "code",
   "execution_count": 2,
   "metadata": {},
   "outputs": [],
   "source": [
    "#Generate additional training set\n",
    "for i in range(500):     \n",
    "    text, image = get_train_set.gen_captcha_text_and_image(i)\n"
   ]
  },
  {
   "cell_type": "code",
   "execution_count": 3,
   "metadata": {},
   "outputs": [],
   "source": [
    "batch_size = 10\n",
    "nb_epoch = 100\n",
    "MAX_CAPTCHA = captcha_params.get_captcha_size()\n",
    "CHAR_SET_LEN = captcha_params.get_char_set_len()\n",
    "\n",
    "# input image dimensions\n",
    "img_rows, img_cols = captcha_params.get_height(), captcha_params.get_width()"
   ]
  },
  {
   "cell_type": "code",
   "execution_count": 2,
   "metadata": {},
   "outputs": [],
   "source": [
    "#original data\n",
    "from load_data import load_data\n",
    "(X_train, y_train,y_train_text), (X_test, y_test,y_test_text) = load_data(tol_num = 1000,train_num = 500,folder='labeled_captchas')\n",
    "\n",
    "# Generated data\n",
    "(X_train_gen, y_train_gen,y_train_text_gen), (X_test_gen, y_test_gen,y_test_text_gen) = load_data(tol_num = 500,train_num = 500,folder='generated')"
   ]
  },
  {
   "cell_type": "code",
   "execution_count": 3,
   "metadata": {},
   "outputs": [
    {
     "data": {
      "text/plain": [
       "(500, 150, 330)"
      ]
     },
     "execution_count": 3,
     "metadata": {},
     "output_type": "execute_result"
    }
   ],
   "source": [
    "X_train.shape"
   ]
  },
  {
   "cell_type": "code",
   "execution_count": 185,
   "metadata": {},
   "outputs": [],
   "source": [
    "# Add generated data to train set\n",
    "X_train=np.append(X_train, X_train_gen,axis=0)\n",
    "y_train=np.append(y_train, y_train_gen,axis=0)\n",
    "#y_train_text=np.append(y_train_text, y_train_text_gen)"
   ]
  },
  {
   "cell_type": "code",
   "execution_count": 52,
   "metadata": {},
   "outputs": [],
   "source": [
    "X_train=X_train.reshape(X_train.shape[0],X_train.shape[1],X_train.shape[2],1)\n",
    "X_test=X_test.reshape(X_test.shape[0],X_test.shape[1],X_test.shape[2],1)"
   ]
  },
  {
   "cell_type": "code",
   "execution_count": null,
   "metadata": {},
   "outputs": [],
   "source": [
    "y_train=y_train.reshape(y_train.shape[0],5,36)\n",
    "y_test=y_test.reshape(y_test.shape[0],5,36)"
   ]
  },
  {
   "cell_type": "code",
   "execution_count": 5,
   "metadata": {},
   "outputs": [],
   "source": [
    "train_lst=[y_train[:,0,] ,\n",
    "           y_train[:,1,] , \n",
    "           y_train[:,2,] ,\n",
    "           y_train[:,3,] ,\n",
    "           y_train[:,4,]  \n",
    "          ]\n",
    "\n",
    "test_lst=[y_test[:,0,] ,\n",
    "           y_test[:,1,] , \n",
    "           y_test[:,2,] ,\n",
    "           y_test[:,3,] ,\n",
    "           y_test[:,4,]  \n",
    "          ]"
   ]
  },
  {
   "cell_type": "code",
   "execution_count": 6,
   "metadata": {},
   "outputs": [
    {
     "data": {
      "text/plain": [
       "array(['4D63O'], dtype='<U10')"
      ]
     },
     "execution_count": 6,
     "metadata": {},
     "output_type": "execute_result"
    }
   ],
   "source": [
    "y_test_text[3]"
   ]
  },
  {
   "cell_type": "code",
   "execution_count": 7,
   "metadata": {},
   "outputs": [
    {
     "data": {
      "text/plain": [
       "array([0, 0, 0, 0, 0, 0, 0, 0, 0, 0, 0, 0, 0, 0, 0, 0, 0, 0, 0, 0, 0, 0,\n",
       "       0, 0, 1, 0, 0, 0, 0, 0, 0, 0, 0, 0, 0, 0], dtype=uint8)"
      ]
     },
     "execution_count": 7,
     "metadata": {},
     "output_type": "execute_result"
    }
   ],
   "source": [
    "test_lst[4][3]"
   ]
  },
  {
   "cell_type": "code",
   "execution_count": 53,
   "metadata": {},
   "outputs": [
    {
     "name": "stdout",
     "output_type": "stream",
     "text": [
      "X_train shape: (500, 150, 330, 1)\n",
      "500 train samples\n",
      "500 test samples\n"
     ]
    }
   ],
   "source": [
    "X_train = X_train.astype('float32')\n",
    "X_test = X_test.astype('float32')\n",
    "X_train =(X_train/255)-0.5\n",
    "X_test =(X_test/255)-0.5\n",
    "print('X_train shape:', X_train.shape)\n",
    "print(X_train.shape[0], 'train samples')\n",
    "print(X_test.shape[0], 'test samples')\n"
   ]
  },
  {
   "cell_type": "code",
   "execution_count": 28,
   "metadata": {},
   "outputs": [],
   "source": [
    "#model = Sequential()"
   ]
  },
  {
   "cell_type": "code",
   "execution_count": 54,
   "metadata": {},
   "outputs": [],
   "source": [
    "input_shape = [X_train.shape[1], X_train.shape[2],1]\n",
    "# size of pooling area for max pooling\n",
    "pool_size = (2, 2)\n",
    "# convolution kernel size\n",
    "kernel_size = (3, 3)\n",
    "batch_size =70\n",
    "nb_filters1=48\n",
    "nb_filters=24\n",
    "nb_filters1=16"
   ]
  },
  {
   "cell_type": "code",
   "execution_count": 55,
   "metadata": {},
   "outputs": [
    {
     "data": {
      "text/plain": [
       "[150, 330, 1]"
      ]
     },
     "execution_count": 55,
     "metadata": {},
     "output_type": "execute_result"
    }
   ],
   "source": [
    "input_shape"
   ]
  },
  {
   "cell_type": "code",
   "execution_count": 56,
   "metadata": {},
   "outputs": [],
   "source": [
    "from keras.layers import Input\n",
    "from keras.models import Model\n",
    "\n",
    "batch_size = 100\n",
    "nb_classes = 36\n",
    "nb_epoch = 100\n",
    "\n",
    "\n",
    "\n",
    "model_input=Input(shape=input_shape)\n",
    "\n",
    "x = MaxPooling2D(pool_size=(2, 2))(model_input)\n",
    "\n",
    "x = Conv2D(36, kernel_size  )(x)\n",
    "x = Activation('relu')(x)\n",
    "\n",
    "x = Conv2D(24, kernel_size  )(x)\n",
    "x = Activation('relu')(x)\n",
    "\n",
    "x = MaxPooling2D(pool_size=(2, 2))(x)\n",
    "x = Dropout(0.25)(x)\n",
    "conv_out = Flatten()(x)\n",
    "\n",
    "x1 = Dense(nb_classes, activation='softmax')(conv_out)\n",
    "x2 = Dense(nb_classes, activation='softmax')(conv_out)\n",
    "x3 = Dense(nb_classes, activation='softmax')(conv_out)\n",
    "x4 = Dense(nb_classes, activation='softmax')(conv_out)\n",
    "x5 = Dense(nb_classes, activation='softmax')(conv_out)\n",
    "\n",
    "lst = [x1, x2, x3, x4, x5]\n",
    "\n",
    "\n",
    "model = Model(inputs=model_input, outputs=lst)"
   ]
  },
  {
   "cell_type": "code",
   "execution_count": 64,
   "metadata": {},
   "outputs": [
    {
     "name": "stdout",
     "output_type": "stream",
     "text": [
      "__________________________________________________________________________________________________\n",
      "Layer (type)                    Output Shape         Param #     Connected to                     \n",
      "==================================================================================================\n",
      "input_15 (InputLayer)           (None, 150, 330, 1)  0                                            \n",
      "__________________________________________________________________________________________________\n",
      "max_pooling2d_8 (MaxPooling2D)  (None, 75, 165, 1)   0           input_15[0][0]                   \n",
      "__________________________________________________________________________________________________\n",
      "conv2d_20 (Conv2D)              (None, 73, 163, 36)  360         max_pooling2d_8[0][0]            \n",
      "__________________________________________________________________________________________________\n",
      "activation_13 (Activation)      (None, 73, 163, 36)  0           conv2d_20[0][0]                  \n",
      "__________________________________________________________________________________________________\n",
      "conv2d_21 (Conv2D)              (None, 71, 161, 24)  7800        activation_13[0][0]              \n",
      "__________________________________________________________________________________________________\n",
      "activation_14 (Activation)      (None, 71, 161, 24)  0           conv2d_21[0][0]                  \n",
      "__________________________________________________________________________________________________\n",
      "max_pooling2d_9 (MaxPooling2D)  (None, 35, 80, 24)   0           activation_14[0][0]              \n",
      "__________________________________________________________________________________________________\n",
      "dropout_7 (Dropout)             (None, 35, 80, 24)   0           max_pooling2d_9[0][0]            \n",
      "__________________________________________________________________________________________________\n",
      "flatten_7 (Flatten)             (None, 67200)        0           dropout_7[0][0]                  \n",
      "__________________________________________________________________________________________________\n",
      "dense_31 (Dense)                (None, 36)           2419236     flatten_7[0][0]                  \n",
      "__________________________________________________________________________________________________\n",
      "dense_32 (Dense)                (None, 36)           2419236     flatten_7[0][0]                  \n",
      "__________________________________________________________________________________________________\n",
      "dense_33 (Dense)                (None, 36)           2419236     flatten_7[0][0]                  \n",
      "__________________________________________________________________________________________________\n",
      "dense_34 (Dense)                (None, 36)           2419236     flatten_7[0][0]                  \n",
      "__________________________________________________________________________________________________\n",
      "dense_35 (Dense)                (None, 36)           2419236     flatten_7[0][0]                  \n",
      "==================================================================================================\n",
      "Total params: 12,104,340\n",
      "Trainable params: 12,104,340\n",
      "Non-trainable params: 0\n",
      "__________________________________________________________________________________________________\n"
     ]
    }
   ],
   "source": [
    "model.summary()"
   ]
  },
  {
   "cell_type": "code",
   "execution_count": 65,
   "metadata": {},
   "outputs": [],
   "source": [
    "from keras.losses import categorical_crossentropy\n",
    "def m_losses(y_true,y_pred):\n",
    "    loss =categorical_crossentropy(y_true[0], y_pred[0])+categorical_crossentropy(y_true[1], y_pred[1])+categorical_crossentropy(y_true[2], y_pred[2])+categorical_crossentropy(y_true[3], y_pred[3])+categorical_crossentropy(y_true[4], y_pred[4])\n",
    "    \n",
    "    return loss\n"
   ]
  },
  {
   "cell_type": "code",
   "execution_count": null,
   "metadata": {},
   "outputs": [],
   "source": []
  },
  {
   "cell_type": "code",
   "execution_count": null,
   "metadata": {},
   "outputs": [],
   "source": []
  },
  {
   "cell_type": "code",
   "execution_count": 30,
   "metadata": {},
   "outputs": [],
   "source": [
    "#model.add(Conv2D(kernel_size=kernel_size, filters=nb_filters1, padding='same' ,input_shape=input_shape ))\n",
    "#model.add(LeakyReLU(0.1))\n",
    "#model.add(MaxPooling2D(pool_size=pool_size))\n",
    "#model.add(Dropout(0.25))\n",
    "\n",
    "#model.add(Conv2D(16, kernel_size=kernel_size))\n",
    "#model.add(LeakyReLU(0.1))\n",
    "#model.add(MaxPooling2D(pool_size=pool_size))\n",
    "#model.add(Dropout(0.25))\n",
    "\n",
    "#model.add(Conv2D(8, kernel_size=kernel_size))\n",
    "#model.add(LeakyReLU(0.1))\n",
    "#model.add(MaxPooling2D(pool_size=pool_size))\n",
    "#model.add(Dropout(0.25))\n",
    "\n",
    "#model.add(Conv2D(4, kernel_size=kernel_size))\n",
    "#model.add(LeakyReLU(0.1))\n",
    "#model.add(MaxPooling2D(pool_size=pool_size))\n",
    "#model.add(Dropout(0.25))\n",
    "\n",
    "# Fully connected layer\n",
    "#model.add(Flatten())\n",
    "#model.add(Dense(512))\n",
    "#model.add(LeakyReLU(0.1))\n",
    "#model.add(Dropout(0.25))\n",
    "#model.add(Dense(MAX_CAPTCHA*CHAR_SET_LEN))\n",
    "#model.add(Activation('softmax'))"
   ]
  },
  {
   "cell_type": "code",
   "execution_count": 66,
   "metadata": {},
   "outputs": [],
   "source": [
    "INIT_LR = 5e-3\n",
    "model.compile(loss=m_losses,\n",
    "              optimizer=adamax(lr=INIT_LR),\n",
    "              metrics=['accuracy'])\n",
    "\n",
    "# scheduler of learning rate (decay with epochs)\n",
    "def lr_scheduler(epoch):\n",
    "    return INIT_LR * 0.9 ** epoch\n",
    "\n",
    "# callback for printing of actual learning rate used by optimizer\n",
    "class LrHistory(Callback):\n",
    "    def on_epoch_begin(self, epoch, logs={}):\n",
    "        print(\"Learning rate:\", K.get_value(model.optimizer.lr))"
   ]
  },
  {
   "cell_type": "code",
   "execution_count": null,
   "metadata": {},
   "outputs": [
    {
     "name": "stdout",
     "output_type": "stream",
     "text": [
      "Train on 500 samples, validate on 500 samples\n",
      "Epoch 1/100\n",
      "500/500 [==============================] - 25s 50ms/step - loss: 85.9825 - dense_31_loss: 17.1523 - dense_32_loss: 17.2053 - dense_33_loss: 17.1835 - dense_34_loss: 17.2238 - dense_35_loss: 17.2177 - dense_31_acc: 0.0700 - dense_32_acc: 0.0800 - dense_33_acc: 0.0640 - dense_34_acc: 0.0900 - dense_35_acc: 0.0800 - val_loss: 85.8295 - val_dense_31_loss: 17.0829 - val_dense_32_loss: 17.1603 - val_dense_33_loss: 17.1478 - val_dense_34_loss: 17.2013 - val_dense_35_loss: 17.2373 - val_dense_31_acc: 0.0780 - val_dense_32_acc: 0.0780 - val_dense_33_acc: 0.0580 - val_dense_34_acc: 0.0540 - val_dense_35_acc: 0.0580\n",
      "Epoch 2/100\n",
      "500/500 [==============================] - 25s 51ms/step - loss: 85.5691 - dense_31_loss: 17.1248 - dense_32_loss: 17.1404 - dense_33_loss: 17.1053 - dense_34_loss: 17.0944 - dense_35_loss: 17.1042 - dense_31_acc: 0.0700 - dense_32_acc: 0.0800 - dense_33_acc: 0.0640 - dense_34_acc: 0.0900 - dense_35_acc: 0.0800 - val_loss: 85.5174 - val_dense_31_loss: 17.0157 - val_dense_32_loss: 17.0973 - val_dense_33_loss: 17.0878 - val_dense_34_loss: 17.1388 - val_dense_35_loss: 17.1778 - val_dense_31_acc: 0.0780 - val_dense_32_acc: 0.0780 - val_dense_33_acc: 0.0580 - val_dense_34_acc: 0.0540 - val_dense_35_acc: 0.0580\n",
      "Epoch 3/100\n",
      "500/500 [==============================] - 26s 51ms/step - loss: 85.3494 - dense_31_loss: 16.9788 - dense_32_loss: 17.0640 - dense_33_loss: 17.0894 - dense_34_loss: 17.1420 - dense_35_loss: 17.0753 - dense_31_acc: 0.0700 - dense_32_acc: 0.0800 - dense_33_acc: 0.0640 - dense_34_acc: 0.0900 - dense_35_acc: 0.0700 - val_loss: 85.2135 - val_dense_31_loss: 16.9488 - val_dense_32_loss: 17.0358 - val_dense_33_loss: 17.0294 - val_dense_34_loss: 17.0784 - val_dense_35_loss: 17.1211 - val_dense_31_acc: 0.0780 - val_dense_32_acc: 0.0780 - val_dense_33_acc: 0.0580 - val_dense_34_acc: 0.0780 - val_dense_35_acc: 0.0660\n",
      "Epoch 4/100\n",
      "500/500 [==============================] - 26s 51ms/step - loss: 81.6920 - dense_31_loss: 16.2517 - dense_32_loss: 16.3471 - dense_33_loss: 16.3584 - dense_34_loss: 16.4122 - dense_35_loss: 16.3225 - dense_31_acc: 0.0700 - dense_32_acc: 0.0800 - dense_33_acc: 0.0640 - dense_34_acc: 0.0680 - dense_35_acc: 0.0560 - val_loss: 84.9215 - val_dense_31_loss: 16.8843 - val_dense_32_loss: 16.9765 - val_dense_33_loss: 16.9753 - val_dense_34_loss: 17.0181 - val_dense_35_loss: 17.0674 - val_dense_31_acc: 0.0780 - val_dense_32_acc: 0.0780 - val_dense_33_acc: 0.0580 - val_dense_34_acc: 0.0780 - val_dense_35_acc: 0.0660\n",
      "Epoch 5/100\n",
      "500/500 [==============================] - 26s 51ms/step - loss: 84.7163 - dense_31_loss: 16.8280 - dense_32_loss: 16.9431 - dense_33_loss: 17.0082 - dense_34_loss: 16.9719 - dense_35_loss: 16.9650 - dense_31_acc: 0.0700 - dense_32_acc: 0.0800 - dense_33_acc: 0.0640 - dense_34_acc: 0.0680 - dense_35_acc: 0.0560 - val_loss: 84.6386 - val_dense_31_loss: 16.8216 - val_dense_32_loss: 16.9194 - val_dense_33_loss: 16.9228 - val_dense_34_loss: 16.9598 - val_dense_35_loss: 17.0150 - val_dense_31_acc: 0.0780 - val_dense_32_acc: 0.0780 - val_dense_33_acc: 0.0580 - val_dense_34_acc: 0.0780 - val_dense_35_acc: 0.0660\n",
      "Epoch 6/100\n",
      "500/500 [==============================] - 27s 54ms/step - loss: 84.4730 - dense_31_loss: 16.7967 - dense_32_loss: 16.9044 - dense_33_loss: 16.9136 - dense_34_loss: 16.9478 - dense_35_loss: 16.9105 - dense_31_acc: 0.0700 - dense_32_acc: 0.0800 - dense_33_acc: 0.0640 - dense_34_acc: 0.0680 - dense_35_acc: 0.0560 - val_loss: 84.3610 - val_dense_31_loss: 16.7597 - val_dense_32_loss: 16.8650 - val_dense_33_loss: 16.8684 - val_dense_34_loss: 16.9038 - val_dense_35_loss: 16.9641 - val_dense_31_acc: 0.0780 - val_dense_32_acc: 0.0780 - val_dense_33_acc: 0.0580 - val_dense_34_acc: 0.0780 - val_dense_35_acc: 0.0660\n",
      "Epoch 7/100\n",
      "500/500 [==============================] - 27s 54ms/step - loss: 84.2157 - dense_31_loss: 16.8250 - dense_32_loss: 16.8664 - dense_33_loss: 16.8209 - dense_34_loss: 16.8616 - dense_35_loss: 16.8417 - dense_31_acc: 0.0700 - dense_32_acc: 0.0800 - dense_33_acc: 0.0640 - dense_34_acc: 0.0680 - dense_35_acc: 0.0560 - val_loss: 84.0867 - val_dense_31_loss: 16.6997 - val_dense_32_loss: 16.8111 - val_dense_33_loss: 16.8127 - val_dense_34_loss: 16.8495 - val_dense_35_loss: 16.9137 - val_dense_31_acc: 0.0780 - val_dense_32_acc: 0.0780 - val_dense_33_acc: 0.0580 - val_dense_34_acc: 0.0780 - val_dense_35_acc: 0.0660\n",
      "Epoch 8/100\n",
      "500/500 [==============================] - 29s 58ms/step - loss: 83.9776 - dense_31_loss: 16.7695 - dense_32_loss: 16.7576 - dense_33_loss: 16.7965 - dense_34_loss: 16.8384 - dense_35_loss: 16.8157 - dense_31_acc: 0.0700 - dense_32_acc: 0.0800 - dense_33_acc: 0.0740 - dense_34_acc: 0.0680 - dense_35_acc: 0.0560 - val_loss: 83.8167 - val_dense_31_loss: 16.6416 - val_dense_32_loss: 16.7584 - val_dense_33_loss: 16.7578 - val_dense_34_loss: 16.7955 - val_dense_35_loss: 16.8633 - val_dense_31_acc: 0.0780 - val_dense_32_acc: 0.0780 - val_dense_33_acc: 0.0440 - val_dense_34_acc: 0.0780 - val_dense_35_acc: 0.0660\n",
      "Epoch 9/100\n",
      "500/500 [==============================] - 29s 58ms/step - loss: 80.3282 - dense_31_loss: 16.0162 - dense_32_loss: 16.0695 - dense_33_loss: 16.0696 - dense_34_loss: 16.1201 - dense_35_loss: 16.0527 - dense_31_acc: 0.0700 - dense_32_acc: 0.0800 - dense_33_acc: 0.0800 - dense_34_acc: 0.0680 - dense_35_acc: 0.0560 - val_loss: 83.5547 - val_dense_31_loss: 16.5859 - val_dense_32_loss: 16.7061 - val_dense_33_loss: 16.7057 - val_dense_34_loss: 16.7433 - val_dense_35_loss: 16.8137 - val_dense_31_acc: 0.0780 - val_dense_32_acc: 0.0780 - val_dense_33_acc: 0.0440 - val_dense_34_acc: 0.0780 - val_dense_35_acc: 0.0660\n",
      "Epoch 10/100\n",
      "500/500 [==============================] - 29s 59ms/step - loss: 83.4583 - dense_31_loss: 16.6074 - dense_32_loss: 16.7184 - dense_33_loss: 16.6975 - dense_34_loss: 16.7272 - dense_35_loss: 16.7076 - dense_31_acc: 0.0700 - dense_32_acc: 0.0800 - dense_33_acc: 0.0800 - dense_34_acc: 0.0680 - dense_35_acc: 0.0580 - val_loss: 83.2991 - val_dense_31_loss: 16.5307 - val_dense_32_loss: 16.6566 - val_dense_33_loss: 16.6546 - val_dense_34_loss: 16.6924 - val_dense_35_loss: 16.7649 - val_dense_31_acc: 0.0780 - val_dense_32_acc: 0.0780 - val_dense_33_acc: 0.0440 - val_dense_34_acc: 0.0780 - val_dense_35_acc: 0.0580\n",
      "Epoch 11/100\n",
      "500/500 [==============================] - 29s 59ms/step - loss: 83.0419 - dense_31_loss: 16.4866 - dense_32_loss: 16.6466 - dense_33_loss: 16.6559 - dense_34_loss: 16.6443 - dense_35_loss: 16.6084 - dense_31_acc: 0.0700 - dense_32_acc: 0.0800 - dense_33_acc: 0.0800 - dense_34_acc: 0.0680 - dense_35_acc: 0.0620 - val_loss: 83.0504 - val_dense_31_loss: 16.4762 - val_dense_32_loss: 16.6075 - val_dense_33_loss: 16.6056 - val_dense_34_loss: 16.6434 - val_dense_35_loss: 16.7176 - val_dense_31_acc: 0.0780 - val_dense_32_acc: 0.0780 - val_dense_33_acc: 0.0440 - val_dense_34_acc: 0.0780 - val_dense_35_acc: 0.0580\n",
      "Epoch 12/100\n",
      "500/500 [==============================] - 29s 59ms/step - loss: 82.8841 - dense_31_loss: 16.4662 - dense_32_loss: 16.5863 - dense_33_loss: 16.6129 - dense_34_loss: 16.6465 - dense_35_loss: 16.5722 - dense_31_acc: 0.0700 - dense_32_acc: 0.0800 - dense_33_acc: 0.0860 - dense_34_acc: 0.0680 - dense_35_acc: 0.0620 - val_loss: 82.8108 - val_dense_31_loss: 16.4246 - val_dense_32_loss: 16.5598 - val_dense_33_loss: 16.5578 - val_dense_34_loss: 16.5961 - val_dense_35_loss: 16.6724 - val_dense_31_acc: 0.0780 - val_dense_32_acc: 0.0780 - val_dense_33_acc: 0.0660 - val_dense_34_acc: 0.0780 - val_dense_35_acc: 0.0580\n",
      "Epoch 13/100\n",
      "500/500 [==============================] - 27s 54ms/step - loss: 82.7557 - dense_31_loss: 16.4359 - dense_32_loss: 16.5608 - dense_33_loss: 16.6037 - dense_34_loss: 16.6594 - dense_35_loss: 16.4959 - dense_31_acc: 0.0700 - dense_32_acc: 0.0800 - dense_33_acc: 0.0720 - dense_34_acc: 0.0680 - dense_35_acc: 0.0620 - val_loss: 82.5806 - val_dense_31_loss: 16.3744 - val_dense_32_loss: 16.5122 - val_dense_33_loss: 16.5120 - val_dense_34_loss: 16.5525 - val_dense_35_loss: 16.6294 - val_dense_31_acc: 0.0780 - val_dense_32_acc: 0.0780 - val_dense_33_acc: 0.0660 - val_dense_34_acc: 0.0780 - val_dense_35_acc: 0.0580\n",
      "Epoch 14/100\n"
     ]
    },
    {
     "name": "stdout",
     "output_type": "stream",
     "text": [
      "500/500 [==============================] - 27s 54ms/step - loss: 82.3307 - dense_31_loss: 16.3559 - dense_32_loss: 16.4868 - dense_33_loss: 16.4800 - dense_34_loss: 16.5417 - dense_35_loss: 16.4664 - dense_31_acc: 0.0700 - dense_32_acc: 0.0800 - dense_33_acc: 0.0720 - dense_34_acc: 0.0680 - dense_35_acc: 0.0620 - val_loss: 82.3580 - val_dense_31_loss: 16.3258 - val_dense_32_loss: 16.4649 - val_dense_33_loss: 16.4678 - val_dense_34_loss: 16.5117 - val_dense_35_loss: 16.5879 - val_dense_31_acc: 0.0780 - val_dense_32_acc: 0.0780 - val_dense_33_acc: 0.0440 - val_dense_34_acc: 0.0780 - val_dense_35_acc: 0.0580\n",
      "Epoch 15/100\n",
      "500/500 [==============================] - 27s 53ms/step - loss: 82.0953 - dense_31_loss: 16.3095 - dense_32_loss: 16.4350 - dense_33_loss: 16.4994 - dense_34_loss: 16.4357 - dense_35_loss: 16.4157 - dense_31_acc: 0.0700 - dense_32_acc: 0.0800 - dense_33_acc: 0.0800 - dense_34_acc: 0.0680 - dense_35_acc: 0.0620 - val_loss: 82.1368 - val_dense_31_loss: 16.2750 - val_dense_32_loss: 16.4191 - val_dense_33_loss: 16.4244 - val_dense_34_loss: 16.4714 - val_dense_35_loss: 16.5469 - val_dense_31_acc: 0.0780 - val_dense_32_acc: 0.0780 - val_dense_33_acc: 0.0440 - val_dense_34_acc: 0.0780 - val_dense_35_acc: 0.0580\n",
      "Epoch 16/100\n",
      "500/500 [==============================] - 27s 53ms/step - loss: 82.1148 - dense_31_loss: 16.2597 - dense_32_loss: 16.4251 - dense_33_loss: 16.4266 - dense_34_loss: 16.5675 - dense_35_loss: 16.4359 - dense_31_acc: 0.0700 - dense_32_acc: 0.0800 - dense_33_acc: 0.0800 - dense_34_acc: 0.0680 - dense_35_acc: 0.0660 - val_loss: 81.9235 - val_dense_31_loss: 16.2249 - val_dense_32_loss: 16.3765 - val_dense_33_loss: 16.3830 - val_dense_34_loss: 16.4317 - val_dense_35_loss: 16.5074 - val_dense_31_acc: 0.0780 - val_dense_32_acc: 0.0780 - val_dense_33_acc: 0.0440 - val_dense_34_acc: 0.0780 - val_dense_35_acc: 0.0580\n",
      "Epoch 17/100\n",
      "500/500 [==============================] - 26s 51ms/step - loss: 78.4494 - dense_31_loss: 15.5774 - dense_32_loss: 15.7106 - dense_33_loss: 15.6990 - dense_34_loss: 15.7833 - dense_35_loss: 15.6791 - dense_31_acc: 0.0700 - dense_32_acc: 0.0800 - dense_33_acc: 0.0800 - dense_34_acc: 0.0680 - dense_35_acc: 0.0800 - val_loss: 81.7137 - val_dense_31_loss: 16.1784 - val_dense_32_loss: 16.3346 - val_dense_33_loss: 16.3416 - val_dense_34_loss: 16.3908 - val_dense_35_loss: 16.4682 - val_dense_31_acc: 0.0780 - val_dense_32_acc: 0.0780 - val_dense_33_acc: 0.0440 - val_dense_34_acc: 0.0780 - val_dense_35_acc: 0.0580\n",
      "Epoch 18/100\n",
      "500/500 [==============================] - 27s 54ms/step - loss: 81.5387 - dense_31_loss: 16.1218 - dense_32_loss: 16.3064 - dense_33_loss: 16.3287 - dense_34_loss: 16.5221 - dense_35_loss: 16.2597 - dense_31_acc: 0.0700 - dense_32_acc: 0.0800 - dense_33_acc: 0.0800 - dense_34_acc: 0.0680 - dense_35_acc: 0.0800 - val_loss: 81.5091 - val_dense_31_loss: 16.1332 - val_dense_32_loss: 16.2939 - val_dense_33_loss: 16.3001 - val_dense_34_loss: 16.3509 - val_dense_35_loss: 16.4311 - val_dense_31_acc: 0.0780 - val_dense_32_acc: 0.0780 - val_dense_33_acc: 0.0440 - val_dense_34_acc: 0.0780 - val_dense_35_acc: 0.0580\n",
      "Epoch 19/100\n",
      "500/500 [==============================] - 29s 58ms/step - loss: 81.3221 - dense_31_loss: 16.1596 - dense_32_loss: 16.2580 - dense_33_loss: 16.3203 - dense_34_loss: 16.3408 - dense_35_loss: 16.2434 - dense_31_acc: 0.0700 - dense_32_acc: 0.0800 - dense_33_acc: 0.0800 - dense_34_acc: 0.0680 - dense_35_acc: 0.0800 - val_loss: 81.3112 - val_dense_31_loss: 16.0880 - val_dense_32_loss: 16.2550 - val_dense_33_loss: 16.2596 - val_dense_34_loss: 16.3134 - val_dense_35_loss: 16.3952 - val_dense_31_acc: 0.0780 - val_dense_32_acc: 0.0780 - val_dense_33_acc: 0.0440 - val_dense_34_acc: 0.0780 - val_dense_35_acc: 0.0580\n",
      "Epoch 20/100\n",
      "500/500 [==============================] - 26s 53ms/step - loss: 80.9778 - dense_31_loss: 16.1215 - dense_32_loss: 16.1866 - dense_33_loss: 16.2348 - dense_34_loss: 16.2361 - dense_35_loss: 16.1988 - dense_31_acc: 0.0700 - dense_32_acc: 0.0800 - dense_33_acc: 0.0800 - dense_34_acc: 0.0680 - dense_35_acc: 0.0800 - val_loss: 81.1181 - val_dense_31_loss: 16.0450 - val_dense_32_loss: 16.2159 - val_dense_33_loss: 16.2207 - val_dense_34_loss: 16.2761 - val_dense_35_loss: 16.3605 - val_dense_31_acc: 0.0780 - val_dense_32_acc: 0.0780 - val_dense_33_acc: 0.0440 - val_dense_34_acc: 0.0780 - val_dense_35_acc: 0.0580\n",
      "Epoch 21/100\n",
      "500/500 [==============================] - 27s 54ms/step - loss: 80.7225 - dense_31_loss: 16.0102 - dense_32_loss: 16.1753 - dense_33_loss: 16.1655 - dense_34_loss: 16.1943 - dense_35_loss: 16.1770 - dense_31_acc: 0.0700 - dense_32_acc: 0.0800 - dense_33_acc: 0.0800 - dense_34_acc: 0.0680 - dense_35_acc: 0.0800 - val_loss: 80.9256 - val_dense_31_loss: 16.0038 - val_dense_32_loss: 16.1748 - val_dense_33_loss: 16.1827 - val_dense_34_loss: 16.2389 - val_dense_35_loss: 16.3253 - val_dense_31_acc: 0.0780 - val_dense_32_acc: 0.0780 - val_dense_33_acc: 0.0440 - val_dense_34_acc: 0.0780 - val_dense_35_acc: 0.0580\n",
      "Epoch 22/100\n",
      "500/500 [==============================] - 26s 53ms/step - loss: 80.7676 - dense_31_loss: 16.0352 - dense_32_loss: 16.1168 - dense_33_loss: 16.2096 - dense_34_loss: 16.1970 - dense_35_loss: 16.2090 - dense_31_acc: 0.0700 - dense_32_acc: 0.0800 - dense_33_acc: 0.0800 - dense_34_acc: 0.0680 - dense_35_acc: 0.0800 - val_loss: 80.7337 - val_dense_31_loss: 15.9641 - val_dense_32_loss: 16.1343 - val_dense_33_loss: 16.1445 - val_dense_34_loss: 16.2008 - val_dense_35_loss: 16.2900 - val_dense_31_acc: 0.0780 - val_dense_32_acc: 0.0780 - val_dense_33_acc: 0.0440 - val_dense_34_acc: 0.0780 - val_dense_35_acc: 0.0580\n",
      "Epoch 23/100\n",
      "500/500 [==============================] - 26s 53ms/step - loss: 80.5654 - dense_31_loss: 15.9451 - dense_32_loss: 16.2157 - dense_33_loss: 16.1554 - dense_34_loss: 16.1571 - dense_35_loss: 16.0921 - dense_31_acc: 0.0700 - dense_32_acc: 0.0800 - dense_33_acc: 0.0800 - dense_34_acc: 0.0680 - dense_35_acc: 0.0800 - val_loss: 80.5473 - val_dense_31_loss: 15.9243 - val_dense_32_loss: 16.0951 - val_dense_33_loss: 16.1074 - val_dense_34_loss: 16.1645 - val_dense_35_loss: 16.2560 - val_dense_31_acc: 0.0780 - val_dense_32_acc: 0.0780 - val_dense_33_acc: 0.0440 - val_dense_34_acc: 0.0780 - val_dense_35_acc: 0.0580\n",
      "Epoch 24/100\n",
      "500/500 [==============================] - 26s 53ms/step - loss: 76.9550 - dense_31_loss: 15.2827 - dense_32_loss: 15.3917 - dense_33_loss: 15.4735 - dense_34_loss: 15.4232 - dense_35_loss: 15.3839 - dense_31_acc: 0.0700 - dense_32_acc: 0.0800 - dense_33_acc: 0.0800 - dense_34_acc: 0.0680 - dense_35_acc: 0.0800 - val_loss: 80.3693 - val_dense_31_loss: 15.8841 - val_dense_32_loss: 16.0593 - val_dense_33_loss: 16.0720 - val_dense_34_loss: 16.1301 - val_dense_35_loss: 16.2237 - val_dense_31_acc: 0.0780 - val_dense_32_acc: 0.0780 - val_dense_33_acc: 0.0440 - val_dense_34_acc: 0.0780 - val_dense_35_acc: 0.0580\n",
      "Epoch 25/100\n",
      "500/500 [==============================] - 26s 53ms/step - loss: 80.1005 - dense_31_loss: 15.8563 - dense_32_loss: 15.9700 - dense_33_loss: 16.1369 - dense_34_loss: 16.1368 - dense_35_loss: 16.0006 - dense_31_acc: 0.0700 - dense_32_acc: 0.0800 - dense_33_acc: 0.0800 - dense_34_acc: 0.0680 - dense_35_acc: 0.0800 - val_loss: 80.1985 - val_dense_31_loss: 15.8443 - val_dense_32_loss: 16.0260 - val_dense_33_loss: 16.0379 - val_dense_34_loss: 16.0983 - val_dense_35_loss: 16.1920 - val_dense_31_acc: 0.0780 - val_dense_32_acc: 0.0780 - val_dense_33_acc: 0.0440 - val_dense_34_acc: 0.0780 - val_dense_35_acc: 0.0640\n",
      "Epoch 26/100\n",
      "500/500 [==============================] - 27s 55ms/step - loss: 80.2040 - dense_31_loss: 15.8222 - dense_32_loss: 16.1292 - dense_33_loss: 16.1101 - dense_34_loss: 16.1318 - dense_35_loss: 16.0108 - dense_31_acc: 0.0700 - dense_32_acc: 0.0800 - dense_33_acc: 0.0800 - dense_34_acc: 0.0680 - dense_35_acc: 0.0660 - val_loss: 80.0296 - val_dense_31_loss: 15.8042 - val_dense_32_loss: 15.9945 - val_dense_33_loss: 16.0046 - val_dense_34_loss: 16.0666 - val_dense_35_loss: 16.1597 - val_dense_31_acc: 0.0780 - val_dense_32_acc: 0.0780 - val_dense_33_acc: 0.0440 - val_dense_34_acc: 0.0780 - val_dense_35_acc: 0.0640\n",
      "Epoch 27/100\n"
     ]
    },
    {
     "name": "stdout",
     "output_type": "stream",
     "text": [
      "500/500 [==============================] - 27s 54ms/step - loss: 79.7742 - dense_31_loss: 15.7909 - dense_32_loss: 15.9896 - dense_33_loss: 16.0433 - dense_34_loss: 16.0084 - dense_35_loss: 15.9419 - dense_31_acc: 0.0700 - dense_32_acc: 0.0800 - dense_33_acc: 0.0800 - dense_34_acc: 0.0680 - dense_35_acc: 0.0660 - val_loss: 79.8630 - val_dense_31_loss: 15.7652 - val_dense_32_loss: 15.9623 - val_dense_33_loss: 15.9713 - val_dense_34_loss: 16.0363 - val_dense_35_loss: 16.1279 - val_dense_31_acc: 0.0780 - val_dense_32_acc: 0.0780 - val_dense_33_acc: 0.0440 - val_dense_34_acc: 0.0780 - val_dense_35_acc: 0.0640\n",
      "Epoch 28/100\n",
      "500/500 [==============================] - 27s 55ms/step - loss: 79.6830 - dense_31_loss: 15.7585 - dense_32_loss: 15.9640 - dense_33_loss: 15.9787 - dense_34_loss: 16.0277 - dense_35_loss: 15.9541 - dense_31_acc: 0.0700 - dense_32_acc: 0.0800 - dense_33_acc: 0.0800 - dense_34_acc: 0.0680 - dense_35_acc: 0.0660 - val_loss: 79.7022 - val_dense_31_loss: 15.7283 - val_dense_32_loss: 15.9313 - val_dense_33_loss: 15.9390 - val_dense_34_loss: 16.0060 - val_dense_35_loss: 16.0975 - val_dense_31_acc: 0.0780 - val_dense_32_acc: 0.0780 - val_dense_33_acc: 0.0440 - val_dense_34_acc: 0.0780 - val_dense_35_acc: 0.0640\n",
      "Epoch 29/100\n",
      "500/500 [==============================] - 27s 55ms/step - loss: 79.2636 - dense_31_loss: 15.6889 - dense_32_loss: 15.8713 - dense_33_loss: 16.0016 - dense_34_loss: 15.8971 - dense_35_loss: 15.8046 - dense_31_acc: 0.0700 - dense_32_acc: 0.0800 - dense_33_acc: 0.0800 - dense_34_acc: 0.0680 - dense_35_acc: 0.0660 - val_loss: 79.5454 - val_dense_31_loss: 15.6929 - val_dense_32_loss: 15.9014 - val_dense_33_loss: 15.9062 - val_dense_34_loss: 15.9770 - val_dense_35_loss: 16.0679 - val_dense_31_acc: 0.0780 - val_dense_32_acc: 0.0780 - val_dense_33_acc: 0.0440 - val_dense_34_acc: 0.0780 - val_dense_35_acc: 0.0640\n",
      "Epoch 30/100\n",
      "500/500 [==============================] - 28s 56ms/step - loss: 79.2323 - dense_31_loss: 15.6907 - dense_32_loss: 15.8703 - dense_33_loss: 15.8784 - dense_34_loss: 15.9319 - dense_35_loss: 15.8611 - dense_31_acc: 0.0700 - dense_32_acc: 0.0800 - dense_33_acc: 0.0800 - dense_34_acc: 0.0680 - dense_35_acc: 0.0660 - val_loss: 79.3881 - val_dense_31_loss: 15.6585 - val_dense_32_loss: 15.8705 - val_dense_33_loss: 15.8726 - val_dense_34_loss: 15.9473 - val_dense_35_loss: 16.0392 - val_dense_31_acc: 0.0780 - val_dense_32_acc: 0.0780 - val_dense_33_acc: 0.0440 - val_dense_34_acc: 0.0780 - val_dense_35_acc: 0.0640\n",
      "Epoch 31/100\n",
      "500/500 [==============================] - 27s 54ms/step - loss: 79.0735 - dense_31_loss: 15.6659 - dense_32_loss: 15.8039 - dense_33_loss: 15.8809 - dense_34_loss: 15.9215 - dense_35_loss: 15.8012 - dense_31_acc: 0.0700 - dense_32_acc: 0.0800 - dense_33_acc: 0.0800 - dense_34_acc: 0.0680 - dense_35_acc: 0.0660 - val_loss: 79.2333 - val_dense_31_loss: 15.6251 - val_dense_32_loss: 15.8397 - val_dense_33_loss: 15.8386 - val_dense_34_loss: 15.9173 - val_dense_35_loss: 16.0126 - val_dense_31_acc: 0.0780 - val_dense_32_acc: 0.0780 - val_dense_33_acc: 0.0440 - val_dense_34_acc: 0.0780 - val_dense_35_acc: 0.0640\n",
      "Epoch 32/100\n",
      "500/500 [==============================] - 28s 55ms/step - loss: 78.9238 - dense_31_loss: 15.6243 - dense_32_loss: 15.8057 - dense_33_loss: 15.8579 - dense_34_loss: 15.8869 - dense_35_loss: 15.7490 - dense_31_acc: 0.0700 - dense_32_acc: 0.0800 - dense_33_acc: 0.0800 - dense_34_acc: 0.0680 - dense_35_acc: 0.0660 - val_loss: 79.0804 - val_dense_31_loss: 15.5915 - val_dense_32_loss: 15.8090 - val_dense_33_loss: 15.8054 - val_dense_34_loss: 15.8877 - val_dense_35_loss: 15.9868 - val_dense_31_acc: 0.0780 - val_dense_32_acc: 0.0780 - val_dense_33_acc: 0.0440 - val_dense_34_acc: 0.0780 - val_dense_35_acc: 0.0640\n",
      "Epoch 33/100\n",
      "500/500 [==============================] - 28s 56ms/step - loss: 78.7925 - dense_31_loss: 15.5798 - dense_32_loss: 15.7985 - dense_33_loss: 15.7950 - dense_34_loss: 15.8345 - dense_35_loss: 15.7848 - dense_31_acc: 0.0700 - dense_32_acc: 0.0800 - dense_33_acc: 0.0800 - dense_34_acc: 0.0680 - dense_35_acc: 0.0500 - val_loss: 78.9297 - val_dense_31_loss: 15.5572 - val_dense_32_loss: 15.7800 - val_dense_33_loss: 15.7734 - val_dense_34_loss: 15.8590 - val_dense_35_loss: 15.9602 - val_dense_31_acc: 0.0780 - val_dense_32_acc: 0.0780 - val_dense_33_acc: 0.0440 - val_dense_34_acc: 0.0780 - val_dense_35_acc: 0.0580\n",
      "Epoch 34/100\n",
      "500/500 [==============================] - 28s 56ms/step - loss: 78.6451 - dense_31_loss: 15.5347 - dense_32_loss: 15.8033 - dense_33_loss: 15.7848 - dense_34_loss: 15.8273 - dense_35_loss: 15.6948 - dense_31_acc: 0.0700 - dense_32_acc: 0.0800 - dense_33_acc: 0.0800 - dense_34_acc: 0.0680 - dense_35_acc: 0.0700 - val_loss: 78.7815 - val_dense_31_loss: 15.5235 - val_dense_32_loss: 15.7496 - val_dense_33_loss: 15.7418 - val_dense_34_loss: 15.8317 - val_dense_35_loss: 15.9349 - val_dense_31_acc: 0.0780 - val_dense_32_acc: 0.0780 - val_dense_33_acc: 0.0440 - val_dense_34_acc: 0.0780 - val_dense_35_acc: 0.0640\n",
      "Epoch 35/100\n",
      "500/500 [==============================] - 30s 60ms/step - loss: 78.2819 - dense_31_loss: 15.4968 - dense_32_loss: 15.6286 - dense_33_loss: 15.7241 - dense_34_loss: 15.7891 - dense_35_loss: 15.6433 - dense_31_acc: 0.0700 - dense_32_acc: 0.0800 - dense_33_acc: 0.0800 - dense_34_acc: 0.0680 - dense_35_acc: 0.0660 - val_loss: 78.6365 - val_dense_31_loss: 15.4906 - val_dense_32_loss: 15.7197 - val_dense_33_loss: 15.7120 - val_dense_34_loss: 15.8041 - val_dense_35_loss: 15.9101 - val_dense_31_acc: 0.0780 - val_dense_32_acc: 0.0780 - val_dense_33_acc: 0.0440 - val_dense_34_acc: 0.0780 - val_dense_35_acc: 0.0640\n",
      "Epoch 36/100\n",
      "300/500 [=================>............] - ETA: 8s - loss: 78.3606 - dense_31_loss: 15.4921 - dense_32_loss: 15.7318 - dense_33_loss: 15.8016 - dense_34_loss: 15.7298 - dense_35_loss: 15.6054 - dense_31_acc: 0.0767 - dense_32_acc: 0.0800 - dense_33_acc: 0.0733 - dense_34_acc: 0.0600 - dense_35_acc: 0.0533 "
     ]
    }
   ],
   "source": [
    "model.fit(X_train, train_lst, batch_size=batch_size, epochs=nb_epoch,\n",
    "            verbose=1, validation_data=(X_test,test_lst))"
   ]
  },
  {
   "cell_type": "code",
   "execution_count": 224,
   "metadata": {},
   "outputs": [],
   "source": [
    "pred=model.predict(X_train[0:10])"
   ]
  },
  {
   "cell_type": "code",
   "execution_count": 225,
   "metadata": {},
   "outputs": [
    {
     "data": {
      "text/plain": [
       "(10, 36)"
      ]
     },
     "execution_count": 225,
     "metadata": {},
     "output_type": "execute_result"
    }
   ],
   "source": [
    "pred[1].shape"
   ]
  },
  {
   "cell_type": "code",
   "execution_count": null,
   "metadata": {},
   "outputs": [],
   "source": []
  },
  {
   "cell_type": "code",
   "execution_count": null,
   "metadata": {
    "scrolled": false
   },
   "outputs": [],
   "source": []
  },
  {
   "cell_type": "code",
   "execution_count": null,
   "metadata": {},
   "outputs": [],
   "source": []
  },
  {
   "cell_type": "code",
   "execution_count": null,
   "metadata": {},
   "outputs": [],
   "source": []
  },
  {
   "cell_type": "code",
   "execution_count": null,
   "metadata": {},
   "outputs": [],
   "source": []
  }
 ],
 "metadata": {
  "kernelspec": {
   "display_name": "Python 3",
   "language": "python",
   "name": "python3"
  },
  "language_info": {
   "codemirror_mode": {
    "name": "ipython",
    "version": 3
   },
   "file_extension": ".py",
   "mimetype": "text/x-python",
   "name": "python",
   "nbconvert_exporter": "python",
   "pygments_lexer": "ipython3",
   "version": "3.6.5"
  }
 },
 "nbformat": 4,
 "nbformat_minor": 2
}
