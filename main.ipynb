{
  "nbformat": 4,
  "nbformat_minor": 0,
  "metadata": {
    "colab": {
      "name": "main.ipynb",
      "version": "0.3.2",
      "provenance": [],
      "collapsed_sections": [],
      "include_colab_link": true
    },
    "kernelspec": {
      "display_name": "Python 3",
      "language": "python",
      "name": "python3"
    },
    "accelerator": "GPU"
  },
  "cells": [
    {
      "cell_type": "markdown",
      "metadata": {
        "id": "view-in-github",
        "colab_type": "text"
      },
      "source": [
        "[View in Colaboratory](https://colab.research.google.com/github/LeonidSLA/keras_captcha/blob/master/main.ipynb)"
      ]
    },
    {
      "metadata": {
        "id": "eEg8ByJEQjwm",
        "colab_type": "code",
        "colab": {
          "base_uri": "https://localhost:8080/",
          "height": 68
        },
        "outputId": "a704ba7f-a8c3-44ad-ed7f-aa8bae7b66b1"
      },
      "cell_type": "code",
      "source": [
        "!pip install -q xlrd\n",
        "!pip install captcha"
      ],
      "execution_count": 4,
      "outputs": [
        {
          "output_type": "stream",
          "text": [
            "Requirement already satisfied: captcha in /usr/local/lib/python3.6/dist-packages (0.2.4)\r\n",
            "Requirement already satisfied: Pillow in /usr/local/lib/python3.6/dist-packages (from captcha) (4.0.0)\r\n",
            "Requirement already satisfied: olefile in /usr/local/lib/python3.6/dist-packages (from Pillow->captcha) (0.45.1)\r\n"
          ],
          "name": "stdout"
        }
      ]
    },
    {
      "metadata": {
        "id": "4MG_xG2Zrp4S",
        "colab_type": "code",
        "colab": {
          "base_uri": "https://localhost:8080/",
          "height": 34
        },
        "outputId": "ee678434-d3ba-4446-dbe8-c8d1609ef6a7"
      },
      "cell_type": "code",
      "source": [
        "ls"
      ],
      "execution_count": 5,
      "outputs": [
        {
          "output_type": "stream",
          "text": [
            "\u001b[0m\u001b[01;34mdatalab\u001b[0m/  \u001b[01;34mkeras_captcha\u001b[0m/\r\n"
          ],
          "name": "stdout"
        }
      ]
    },
    {
      "metadata": {
        "id": "2yTbDfgwlil-",
        "colab_type": "code",
        "colab": {
          "base_uri": "https://localhost:8080/",
          "height": 119
        },
        "outputId": "0ec888af-60f4-4bfc-a806-2b99286e8b10"
      },
      "cell_type": "code",
      "source": [
        "!git clone https://github.com/LeonidSLA/keras_captcha.git"
      ],
      "execution_count": 2,
      "outputs": [
        {
          "output_type": "stream",
          "text": [
            "Cloning into 'keras_captcha'...\n",
            "remote: Counting objects: 2571, done.\u001b[K\n",
            "remote: Compressing objects: 100% (2540/2540), done.\u001b[K\n",
            "remote: Total 2571 (delta 33), reused 2561 (delta 23), pack-reused 0\u001b[K\n",
            "Receiving objects: 100% (2571/2571), 72.39 MiB | 37.17 MiB/s, done.\n",
            "Resolving deltas: 100% (33/33), done.\n"
          ],
          "name": "stdout"
        }
      ]
    },
    {
      "metadata": {
        "id": "E6VJ8GwqlxnH",
        "colab_type": "code",
        "colab": {
          "base_uri": "https://localhost:8080/",
          "height": 51
        },
        "outputId": "82df2725-0a48-4938-e272-4efd86e1a197"
      },
      "cell_type": "code",
      "source": [
        "!git clean -d -f\n",
        "!git pull origin master"
      ],
      "execution_count": 132,
      "outputs": [
        {
          "output_type": "stream",
          "text": [
            "fatal: Not a git repository (or any of the parent directories): .git\n",
            "fatal: Not a git repository (or any of the parent directories): .git\n"
          ],
          "name": "stdout"
        }
      ]
    },
    {
      "metadata": {
        "id": "OnnyF2M9mh7b",
        "colab_type": "code",
        "colab": {}
      },
      "cell_type": "code",
      "source": [
        "import os\n",
        "os.chdir('keras_captcha')"
      ],
      "execution_count": 0,
      "outputs": []
    },
    {
      "metadata": {
        "id": "NniVDcldrTrf",
        "colab_type": "code",
        "colab": {
          "base_uri": "https://localhost:8080/",
          "height": 34
        },
        "outputId": "f3a0890b-aabe-44e6-aaed-5b484a2ca3b5"
      },
      "cell_type": "code",
      "source": [
        "ls"
      ],
      "execution_count": 131,
      "outputs": [
        {
          "output_type": "stream",
          "text": [
            "\u001b[0m\u001b[01;34mdatalab\u001b[0m/  \u001b[01;34mkeras_captcha\u001b[0m/\r\n"
          ],
          "name": "stdout"
        }
      ]
    },
    {
      "metadata": {
        "id": "6VLIBOj80dNS",
        "colab_type": "code",
        "colab": {}
      },
      "cell_type": "code",
      "source": [
        "rm -r keras_captcha"
      ],
      "execution_count": 0,
      "outputs": []
    },
    {
      "metadata": {
        "id": "FjcFiXNBXSFW",
        "colab_type": "code",
        "colab": {
          "base_uri": "https://localhost:8080/",
          "height": 2816
        },
        "outputId": "193281fa-e442-4a0d-8f2f-bacdf12a07f1"
      },
      "cell_type": "code",
      "source": [
        "!apt-get install -y -qq software-properties-common python-software-properties module-init-tools\n",
        "!add-apt-repository -y ppa:alessandro-strada/ppa 2>&1 > /dev/null\n",
        "!apt-get update -qq 2>&1 > /dev/null\n",
        "!apt-get -y install -qq google-drive-ocamlfuse fuse\n",
        "from google.colab import auth\n",
        "auth.authenticate_user()\n",
        "from oauth2client.client import GoogleCredentials\n",
        "creds = GoogleCredentials.get_application_default()\n",
        "import getpass\n",
        "!google-drive-ocamlfuse -headless -id={creds.client_id} -secret={creds.client_secret} < /dev/null 2>&1 | grep URL\n",
        "vcode = getpass.getpass()\n",
        "!echo {vcode} | google-drive-ocamlfuse -headless -id={creds.client_id} -secret={creds.client_secret}"
      ],
      "execution_count": 75,
      "outputs": [
        {
          "output_type": "stream",
          "text": [
            "Preconfiguring packages ...\n",
            "Selecting previously unselected package cron.\n",
            "(Reading database ... 18396 files and directories currently installed.)\n",
            "Preparing to unpack .../00-cron_3.0pl1-128ubuntu5_amd64.deb ...\n",
            "Unpacking cron (3.0pl1-128ubuntu5) ...\n",
            "Selecting previously unselected package libapparmor1:amd64.\n",
            "Preparing to unpack .../01-libapparmor1_2.11.0-2ubuntu17.1_amd64.deb ...\n",
            "Unpacking libapparmor1:amd64 (2.11.0-2ubuntu17.1) ...\n",
            "Selecting previously unselected package libdbus-1-3:amd64.\n",
            "Preparing to unpack .../02-libdbus-1-3_1.10.22-1ubuntu1_amd64.deb ...\n",
            "Unpacking libdbus-1-3:amd64 (1.10.22-1ubuntu1) ...\n",
            "Selecting previously unselected package dbus.\n",
            "Preparing to unpack .../03-dbus_1.10.22-1ubuntu1_amd64.deb ...\n",
            "Unpacking dbus (1.10.22-1ubuntu1) ...\n",
            "Preparing to unpack .../04-gnupg_2.1.15-1ubuntu8.1_amd64.deb ...\n",
            "Unpacking gnupg (2.1.15-1ubuntu8.1) over (2.1.15-1ubuntu8) ...\n",
            "Preparing to unpack .../05-gnupg-agent_2.1.15-1ubuntu8.1_amd64.deb ...\n",
            "Unpacking gnupg-agent (2.1.15-1ubuntu8.1) over (2.1.15-1ubuntu8) ...\n",
            "Selecting previously unselected package dirmngr.\n",
            "Preparing to unpack .../06-dirmngr_2.1.15-1ubuntu8.1_amd64.deb ...\n",
            "Unpacking dirmngr (2.1.15-1ubuntu8.1) ...\n",
            "Selecting previously unselected package distro-info-data.\n",
            "Preparing to unpack .../07-distro-info-data_0.36ubuntu0.2_all.deb ...\n",
            "Unpacking distro-info-data (0.36ubuntu0.2) ...\n",
            "Selecting previously unselected package libkmod2:amd64.\n",
            "Preparing to unpack .../08-libkmod2_24-1ubuntu2_amd64.deb ...\n",
            "Unpacking libkmod2:amd64 (24-1ubuntu2) ...\n",
            "Selecting previously unselected package kmod.\n",
            "Preparing to unpack .../09-kmod_24-1ubuntu2_amd64.deb ...\n",
            "Unpacking kmod (24-1ubuntu2) ...\n",
            "Selecting previously unselected package lsb-release.\n",
            "Preparing to unpack .../10-lsb-release_9.20160110ubuntu5_all.deb ...\n",
            "Unpacking lsb-release (9.20160110ubuntu5) ...\n",
            "Selecting previously unselected package libgirepository-1.0-1:amd64.\n",
            "Preparing to unpack .../11-libgirepository-1.0-1_1.54.1-1_amd64.deb ...\n",
            "Unpacking libgirepository-1.0-1:amd64 (1.54.1-1) ...\n",
            "Selecting previously unselected package gir1.2-glib-2.0:amd64.\n",
            "Preparing to unpack .../12-gir1.2-glib-2.0_1.54.1-1_amd64.deb ...\n",
            "Unpacking gir1.2-glib-2.0:amd64 (1.54.1-1) ...\n",
            "Selecting previously unselected package iso-codes.\n",
            "Preparing to unpack .../13-iso-codes_3.75-1_all.deb ...\n",
            "Unpacking iso-codes (3.75-1) ...\n",
            "Selecting previously unselected package libdbus-glib-1-2:amd64.\n",
            "Preparing to unpack .../14-libdbus-glib-1-2_0.108-2_amd64.deb ...\n",
            "Unpacking libdbus-glib-1-2:amd64 (0.108-2) ...\n",
            "Selecting previously unselected package python-apt-common.\n",
            "Preparing to unpack .../15-python-apt-common_1.4.0~beta3build2_all.deb ...\n",
            "Unpacking python-apt-common (1.4.0~beta3build2) ...\n",
            "Selecting previously unselected package python3-apt.\n",
            "Preparing to unpack .../16-python3-apt_1.4.0~beta3build2_amd64.deb ...\n",
            "Unpacking python3-apt (1.4.0~beta3build2) ...\n",
            "Selecting previously unselected package python3-dbus.\n",
            "Preparing to unpack .../17-python3-dbus_1.2.4-1build3_amd64.deb ...\n",
            "Unpacking python3-dbus (1.2.4-1build3) ...\n",
            "Selecting previously unselected package python3-gi.\n",
            "Preparing to unpack .../18-python3-gi_3.24.1-2build1_amd64.deb ...\n",
            "Unpacking python3-gi (3.24.1-2build1) ...\n",
            "Selecting previously unselected package module-init-tools.\n",
            "Preparing to unpack .../19-module-init-tools_24-1ubuntu2_all.deb ...\n",
            "Unpacking module-init-tools (24-1ubuntu2) ...\n",
            "Selecting previously unselected package python-apt.\n",
            "Preparing to unpack .../20-python-apt_1.4.0~beta3build2_amd64.deb ...\n",
            "Unpacking python-apt (1.4.0~beta3build2) ...\n",
            "Selecting previously unselected package python-pycurl.\n",
            "Preparing to unpack .../21-python-pycurl_7.43.0-2build2_amd64.deb ...\n",
            "Unpacking python-pycurl (7.43.0-2build2) ...\n",
            "\n",
            "Selecting previously unselected package python-software-properties.\n",
            "Preparing to unpack .../22-python-software-properties_0.96.24.17_all.deb ...\n",
            "Unpacking python-software-properties (0.96.24.17) ...\n",
            "Selecting previously unselected package python3-software-properties.\n",
            "Preparing to unpack .../23-python3-software-properties_0.96.24.17_all.deb ...\n",
            "Unpacking python3-software-properties (0.96.24.17) ...\n",
            "Selecting previously unselected package software-properties-common.\n",
            "Preparing to unpack .../24-software-properties-common_0.96.24.17_all.deb ...\n",
            "Unpacking software-properties-common (0.96.24.17) ...\n",
            "gpg: keybox '/tmp/tmpjcm2wdpf/pubring.gpg' created\n",
            "gpg: /tmp/tmpjcm2wdpf/trustdb.gpg: trustdb created\n",
            "gpg: key AD5F235DF639B041: public key \"Launchpad PPA for Alessandro Strada\" imported\n",
            "gpg: Total number processed: 1\n",
            "gpg:               imported: 1\n",
            "Warning: apt-key output should not be parsed (stdout is not a terminal)\n",
            "Selecting previously unselected package libfuse2:amd64.\n",
            "(Reading database ... 19804 files and directories currently installed.)\n",
            "Preparing to unpack .../libfuse2_2.9.7-1ubuntu1_amd64.deb ...\n",
            "Unpacking libfuse2:amd64 (2.9.7-1ubuntu1) ...\n",
            "Selecting previously unselected package fuse.\n",
            "Preparing to unpack .../fuse_2.9.7-1ubuntu1_amd64.deb ...\n",
            "Unpacking fuse (2.9.7-1ubuntu1) ...\n",
            "Selecting previously unselected package google-drive-ocamlfuse.\n",
            "Preparing to unpack .../google-drive-ocamlfuse_0.6.21-0ubuntu2_amd64.deb ...\n",
            "Unpacking google-drive-ocamlfuse (0.6.21-0ubuntu2) ...\n",
            "Setting up libfuse2:amd64 (2.9.7-1ubuntu1) ...\n",
            "Processing triggers for libc-bin (2.26-0ubuntu2.1) ...\n",
            "Setting up fuse (2.9.7-1ubuntu1) ...\n"
          ],
          "name": "stdout"
        },
        {
          "output_type": "stream",
          "text": [
            "Setting up google-drive-ocamlfuse (0.6.21-0ubuntu2) ...\r\n"
          ],
          "name": "stdout"
        },
        {
          "output_type": "error",
          "ename": "KeyboardInterrupt",
          "evalue": "ignored",
          "traceback": [
            "\u001b[0;31m---------------------------------------------------------------------------\u001b[0m",
            "\u001b[0;31mKeyboardInterrupt\u001b[0m                         Traceback (most recent call last)",
            "\u001b[0;32m/usr/local/lib/python3.6/dist-packages/ipykernel/kernelbase.py\u001b[0m in \u001b[0;36m_input_request\u001b[0;34m(self, prompt, ident, parent, password)\u001b[0m\n\u001b[1;32m    729\u001b[0m             \u001b[0;32mtry\u001b[0m\u001b[0;34m:\u001b[0m\u001b[0;34m\u001b[0m\u001b[0m\n\u001b[0;32m--> 730\u001b[0;31m                 \u001b[0mident\u001b[0m\u001b[0;34m,\u001b[0m \u001b[0mreply\u001b[0m \u001b[0;34m=\u001b[0m \u001b[0mself\u001b[0m\u001b[0;34m.\u001b[0m\u001b[0msession\u001b[0m\u001b[0;34m.\u001b[0m\u001b[0mrecv\u001b[0m\u001b[0;34m(\u001b[0m\u001b[0mself\u001b[0m\u001b[0;34m.\u001b[0m\u001b[0mstdin_socket\u001b[0m\u001b[0;34m,\u001b[0m \u001b[0;36m0\u001b[0m\u001b[0;34m)\u001b[0m\u001b[0;34m\u001b[0m\u001b[0m\n\u001b[0m\u001b[1;32m    731\u001b[0m             \u001b[0;32mexcept\u001b[0m \u001b[0mException\u001b[0m\u001b[0;34m:\u001b[0m\u001b[0;34m\u001b[0m\u001b[0m\n",
            "\u001b[0;32m/usr/local/lib/python3.6/dist-packages/jupyter_client/session.py\u001b[0m in \u001b[0;36mrecv\u001b[0;34m(self, socket, mode, content, copy)\u001b[0m\n\u001b[1;32m    802\u001b[0m         \u001b[0;32mtry\u001b[0m\u001b[0;34m:\u001b[0m\u001b[0;34m\u001b[0m\u001b[0m\n\u001b[0;32m--> 803\u001b[0;31m             \u001b[0mmsg_list\u001b[0m \u001b[0;34m=\u001b[0m \u001b[0msocket\u001b[0m\u001b[0;34m.\u001b[0m\u001b[0mrecv_multipart\u001b[0m\u001b[0;34m(\u001b[0m\u001b[0mmode\u001b[0m\u001b[0;34m,\u001b[0m \u001b[0mcopy\u001b[0m\u001b[0;34m=\u001b[0m\u001b[0mcopy\u001b[0m\u001b[0;34m)\u001b[0m\u001b[0;34m\u001b[0m\u001b[0m\n\u001b[0m\u001b[1;32m    804\u001b[0m         \u001b[0;32mexcept\u001b[0m \u001b[0mzmq\u001b[0m\u001b[0;34m.\u001b[0m\u001b[0mZMQError\u001b[0m \u001b[0;32mas\u001b[0m \u001b[0me\u001b[0m\u001b[0;34m:\u001b[0m\u001b[0;34m\u001b[0m\u001b[0m\n",
            "\u001b[0;32m/usr/local/lib/python3.6/dist-packages/zmq/sugar/socket.py\u001b[0m in \u001b[0;36mrecv_multipart\u001b[0;34m(self, flags, copy, track)\u001b[0m\n\u001b[1;32m    394\u001b[0m         \"\"\"\n\u001b[0;32m--> 395\u001b[0;31m         \u001b[0mparts\u001b[0m \u001b[0;34m=\u001b[0m \u001b[0;34m[\u001b[0m\u001b[0mself\u001b[0m\u001b[0;34m.\u001b[0m\u001b[0mrecv\u001b[0m\u001b[0;34m(\u001b[0m\u001b[0mflags\u001b[0m\u001b[0;34m,\u001b[0m \u001b[0mcopy\u001b[0m\u001b[0;34m=\u001b[0m\u001b[0mcopy\u001b[0m\u001b[0;34m,\u001b[0m \u001b[0mtrack\u001b[0m\u001b[0;34m=\u001b[0m\u001b[0mtrack\u001b[0m\u001b[0;34m)\u001b[0m\u001b[0;34m]\u001b[0m\u001b[0;34m\u001b[0m\u001b[0m\n\u001b[0m\u001b[1;32m    396\u001b[0m         \u001b[0;31m# have first part already, only loop while more to receive\u001b[0m\u001b[0;34m\u001b[0m\u001b[0;34m\u001b[0m\u001b[0m\n",
            "\u001b[0;32mzmq/backend/cython/socket.pyx\u001b[0m in \u001b[0;36mzmq.backend.cython.socket.Socket.recv\u001b[0;34m()\u001b[0m\n",
            "\u001b[0;32mzmq/backend/cython/socket.pyx\u001b[0m in \u001b[0;36mzmq.backend.cython.socket.Socket.recv\u001b[0;34m()\u001b[0m\n",
            "\u001b[0;32mzmq/backend/cython/socket.pyx\u001b[0m in \u001b[0;36mzmq.backend.cython.socket._recv_copy\u001b[0;34m()\u001b[0m\n",
            "\u001b[0;32m/usr/local/lib/python3.6/dist-packages/zmq/backend/cython/checkrc.pxd\u001b[0m in \u001b[0;36mzmq.backend.cython.checkrc._check_rc\u001b[0;34m()\u001b[0m\n",
            "\u001b[0;31mKeyboardInterrupt\u001b[0m: ",
            "\nDuring handling of the above exception, another exception occurred:\n",
            "\u001b[0;31mKeyboardInterrupt\u001b[0m                         Traceback (most recent call last)",
            "\u001b[0;32m<ipython-input-75-75a4d519ca25>\u001b[0m in \u001b[0;36m<module>\u001b[0;34m()\u001b[0m\n\u001b[1;32m      4\u001b[0m \u001b[0mget_ipython\u001b[0m\u001b[0;34m(\u001b[0m\u001b[0;34m)\u001b[0m\u001b[0;34m.\u001b[0m\u001b[0msystem\u001b[0m\u001b[0;34m(\u001b[0m\u001b[0;34m'apt-get -y install -qq google-drive-ocamlfuse fuse'\u001b[0m\u001b[0;34m)\u001b[0m\u001b[0;34m\u001b[0m\u001b[0m\n\u001b[1;32m      5\u001b[0m \u001b[0;32mfrom\u001b[0m \u001b[0mgoogle\u001b[0m\u001b[0;34m.\u001b[0m\u001b[0mcolab\u001b[0m \u001b[0;32mimport\u001b[0m \u001b[0mauth\u001b[0m\u001b[0;34m\u001b[0m\u001b[0m\n\u001b[0;32m----> 6\u001b[0;31m \u001b[0mauth\u001b[0m\u001b[0;34m.\u001b[0m\u001b[0mauthenticate_user\u001b[0m\u001b[0;34m(\u001b[0m\u001b[0;34m)\u001b[0m\u001b[0;34m\u001b[0m\u001b[0m\n\u001b[0m\u001b[1;32m      7\u001b[0m \u001b[0;32mfrom\u001b[0m \u001b[0moauth2client\u001b[0m\u001b[0;34m.\u001b[0m\u001b[0mclient\u001b[0m \u001b[0;32mimport\u001b[0m \u001b[0mGoogleCredentials\u001b[0m\u001b[0;34m\u001b[0m\u001b[0m\n\u001b[1;32m      8\u001b[0m \u001b[0mcreds\u001b[0m \u001b[0;34m=\u001b[0m \u001b[0mGoogleCredentials\u001b[0m\u001b[0;34m.\u001b[0m\u001b[0mget_application_default\u001b[0m\u001b[0;34m(\u001b[0m\u001b[0;34m)\u001b[0m\u001b[0;34m\u001b[0m\u001b[0m\n",
            "\u001b[0;32m/usr/local/lib/python3.6/dist-packages/google/colab/auth.py\u001b[0m in \u001b[0;36mauthenticate_user\u001b[0;34m(clear_output)\u001b[0m\n\u001b[1;32m    129\u001b[0m   \u001b[0mos\u001b[0m\u001b[0;34m.\u001b[0m\u001b[0menviron\u001b[0m\u001b[0;34m[\u001b[0m\u001b[0;34m'GOOGLE_APPLICATION_CREDENTIALS'\u001b[0m\u001b[0;34m]\u001b[0m \u001b[0;34m=\u001b[0m \u001b[0m_get_adc_path\u001b[0m\u001b[0;34m(\u001b[0m\u001b[0;34m)\u001b[0m\u001b[0;34m\u001b[0m\u001b[0m\n\u001b[1;32m    130\u001b[0m   \u001b[0;32mif\u001b[0m \u001b[0;32mnot\u001b[0m \u001b[0m_check_adc\u001b[0m\u001b[0;34m(\u001b[0m\u001b[0;34m)\u001b[0m\u001b[0;34m:\u001b[0m\u001b[0;34m\u001b[0m\u001b[0m\n\u001b[0;32m--> 131\u001b[0;31m     \u001b[0m_gcloud_login\u001b[0m\u001b[0;34m(\u001b[0m\u001b[0mclear_output\u001b[0m\u001b[0;34m=\u001b[0m\u001b[0mclear_output\u001b[0m\u001b[0;34m)\u001b[0m\u001b[0;34m\u001b[0m\u001b[0m\n\u001b[0m\u001b[1;32m    132\u001b[0m     \u001b[0m_install_adc\u001b[0m\u001b[0;34m(\u001b[0m\u001b[0;34m)\u001b[0m\u001b[0;34m\u001b[0m\u001b[0m\n\u001b[1;32m    133\u001b[0m   \u001b[0;32mif\u001b[0m \u001b[0m_check_adc\u001b[0m\u001b[0;34m(\u001b[0m\u001b[0;34m)\u001b[0m\u001b[0;34m:\u001b[0m\u001b[0;34m\u001b[0m\u001b[0m\n",
            "\u001b[0;32m/usr/local/lib/python3.6/dist-packages/google/colab/auth.py\u001b[0m in \u001b[0;36m_gcloud_login\u001b[0;34m(clear_output)\u001b[0m\n\u001b[1;32m     76\u001b[0m     \u001b[0;31m# https://github.com/jupyter/notebook/issues/3159\u001b[0m\u001b[0;34m\u001b[0m\u001b[0;34m\u001b[0m\u001b[0m\n\u001b[1;32m     77\u001b[0m     \u001b[0mprompt\u001b[0m \u001b[0;34m=\u001b[0m \u001b[0mprompt\u001b[0m\u001b[0;34m.\u001b[0m\u001b[0mrstrip\u001b[0m\u001b[0;34m(\u001b[0m\u001b[0;34m)\u001b[0m\u001b[0;34m\u001b[0m\u001b[0m\n\u001b[0;32m---> 78\u001b[0;31m     \u001b[0mcode\u001b[0m \u001b[0;34m=\u001b[0m \u001b[0mgetpass\u001b[0m\u001b[0;34m.\u001b[0m\u001b[0mgetpass\u001b[0m\u001b[0;34m(\u001b[0m\u001b[0mprompt\u001b[0m \u001b[0;34m+\u001b[0m \u001b[0;34m'\\n\\nEnter verification code: '\u001b[0m\u001b[0;34m)\u001b[0m\u001b[0;34m\u001b[0m\u001b[0m\n\u001b[0m\u001b[1;32m     79\u001b[0m     \u001b[0mgcloud_process\u001b[0m\u001b[0;34m.\u001b[0m\u001b[0mcommunicate\u001b[0m\u001b[0;34m(\u001b[0m\u001b[0mcode\u001b[0m\u001b[0;34m.\u001b[0m\u001b[0mstrip\u001b[0m\u001b[0;34m(\u001b[0m\u001b[0;34m)\u001b[0m\u001b[0;34m)\u001b[0m\u001b[0;34m\u001b[0m\u001b[0m\n\u001b[1;32m     80\u001b[0m   \u001b[0;32mfinally\u001b[0m\u001b[0;34m:\u001b[0m\u001b[0;34m\u001b[0m\u001b[0m\n",
            "\u001b[0;32m/usr/local/lib/python3.6/dist-packages/ipykernel/kernelbase.py\u001b[0m in \u001b[0;36mgetpass\u001b[0;34m(self, prompt, stream)\u001b[0m\n\u001b[1;32m    686\u001b[0m             \u001b[0mself\u001b[0m\u001b[0;34m.\u001b[0m\u001b[0m_parent_ident\u001b[0m\u001b[0;34m,\u001b[0m\u001b[0;34m\u001b[0m\u001b[0m\n\u001b[1;32m    687\u001b[0m             \u001b[0mself\u001b[0m\u001b[0;34m.\u001b[0m\u001b[0m_parent_header\u001b[0m\u001b[0;34m,\u001b[0m\u001b[0;34m\u001b[0m\u001b[0m\n\u001b[0;32m--> 688\u001b[0;31m             \u001b[0mpassword\u001b[0m\u001b[0;34m=\u001b[0m\u001b[0;32mTrue\u001b[0m\u001b[0;34m,\u001b[0m\u001b[0;34m\u001b[0m\u001b[0m\n\u001b[0m\u001b[1;32m    689\u001b[0m         )\n\u001b[1;32m    690\u001b[0m \u001b[0;34m\u001b[0m\u001b[0m\n",
            "\u001b[0;32m/usr/local/lib/python3.6/dist-packages/ipykernel/kernelbase.py\u001b[0m in \u001b[0;36m_input_request\u001b[0;34m(self, prompt, ident, parent, password)\u001b[0m\n\u001b[1;32m    733\u001b[0m             \u001b[0;32mexcept\u001b[0m \u001b[0mKeyboardInterrupt\u001b[0m\u001b[0;34m:\u001b[0m\u001b[0;34m\u001b[0m\u001b[0m\n\u001b[1;32m    734\u001b[0m                 \u001b[0;31m# re-raise KeyboardInterrupt, to truncate traceback\u001b[0m\u001b[0;34m\u001b[0m\u001b[0;34m\u001b[0m\u001b[0m\n\u001b[0;32m--> 735\u001b[0;31m                 \u001b[0;32mraise\u001b[0m \u001b[0mKeyboardInterrupt\u001b[0m\u001b[0;34m\u001b[0m\u001b[0m\n\u001b[0m\u001b[1;32m    736\u001b[0m             \u001b[0;32melse\u001b[0m\u001b[0;34m:\u001b[0m\u001b[0;34m\u001b[0m\u001b[0m\n\u001b[1;32m    737\u001b[0m                 \u001b[0;32mbreak\u001b[0m\u001b[0;34m\u001b[0m\u001b[0m\n",
            "\u001b[0;31mKeyboardInterrupt\u001b[0m: "
          ]
        }
      ]
    },
    {
      "metadata": {
        "id": "sQggAjkHZ_vs",
        "colab_type": "code",
        "colab": {}
      },
      "cell_type": "code",
      "source": [
        "!mkdir -p drive\n",
        "!google-drive-ocamlfuse drive"
      ],
      "execution_count": 0,
      "outputs": []
    },
    {
      "metadata": {
        "id": "KxjujKx-aDfL",
        "colab_type": "code",
        "colab": {
          "base_uri": "https://localhost:8080/",
          "height": 34
        },
        "outputId": "ab9d7077-7534-4425-d9b0-e117a3a0169e"
      },
      "cell_type": "code",
      "source": [
        "ls"
      ],
      "execution_count": 3,
      "outputs": [
        {
          "output_type": "stream",
          "text": [
            "\u001b[0m\u001b[01;34mdatalab\u001b[0m/\r\n"
          ],
          "name": "stdout"
        }
      ]
    },
    {
      "metadata": {
        "id": "mJ4VQ-eqE7Wk",
        "colab_type": "code",
        "colab": {}
      },
      "cell_type": "code",
      "source": [
        "from __future__ import print_function\n",
        "import numpy as np\n",
        "np.random.seed(1337)  # for reproducibility\n",
        "\n",
        "import captcha_params\n",
        "\n",
        "from keras.models import Sequential\n",
        "from keras.layers import Dense, Dropout, Activation, Flatten\n",
        "from keras.layers import Conv2D, MaxPooling2D\n",
        "from keras.layers.advanced_activations import LeakyReLU\n",
        "from keras.utils import np_utils\n",
        "from keras.optimizers import adamax\n",
        "from keras.callbacks import Callback\n",
        "from load_data import load_data\n",
        "import keras\n",
        "import get_train_set\n",
        "#import h5py\n",
        "#from keras.models import model_from_json"
      ],
      "execution_count": 0,
      "outputs": []
    },
    {
      "metadata": {
        "id": "O9SumlxPFod1",
        "colab_type": "code",
        "colab": {
          "base_uri": "https://localhost:8080/",
          "height": 34
        },
        "outputId": "07281b9a-7453-4f8f-d81a-71c47a02617b"
      },
      "cell_type": "code",
      "source": [
        "import tensorflow as tf\n",
        "device_name = tf.test.gpu_device_name()\n",
        "if device_name != '/device:GPU:0':\n",
        "  raise SystemError('GPU device not found')\n",
        "print('Found GPU at: {}'.format(device_name))"
      ],
      "execution_count": 135,
      "outputs": [
        {
          "output_type": "stream",
          "text": [
            "Found GPU at: /device:GPU:0\n"
          ],
          "name": "stdout"
        }
      ]
    },
    {
      "metadata": {
        "id": "qCMBcdrxE7Wu",
        "colab_type": "code",
        "colab": {}
      },
      "cell_type": "code",
      "source": [
        "batch_size = 10\n",
        "nb_epoch = 100\n",
        "MAX_CAPTCHA = captcha_params.get_captcha_size()\n",
        "CHAR_SET_LEN = captcha_params.get_char_set_len()\n",
        "\n",
        "# input image dimensions\n",
        "img_rows, img_cols = captcha_params.get_height(), captcha_params.get_width()"
      ],
      "execution_count": 0,
      "outputs": []
    },
    {
      "metadata": {
        "id": "ezd31P7iiBmq",
        "colab_type": "code",
        "colab": {}
      },
      "cell_type": "code",
      "source": [
        "#Generate additional training set\n",
        "for i in range(5000):     \n",
        "    text, image = get_train_set.gen_captcha_text_and_image(i)\n"
      ],
      "execution_count": 0,
      "outputs": []
    },
    {
      "metadata": {
        "id": "g23mEEW8vZ76",
        "colab_type": "code",
        "colab": {}
      },
      "cell_type": "code",
      "source": [
        ""
      ],
      "execution_count": 0,
      "outputs": []
    },
    {
      "metadata": {
        "id": "i0fpaXx1E7W0",
        "colab_type": "code",
        "colab": {}
      },
      "cell_type": "code",
      "source": [
        "#original data\n",
        "from load_data import load_data\n",
        "(X_train, y_train,y_train_text), (X_test, y_test,y_test_text) = load_data(tol_num = 1000,train_num = 700,folder='labeled_captchas')"
      ],
      "execution_count": 0,
      "outputs": []
    },
    {
      "metadata": {
        "id": "TBlC75QHlDG9",
        "colab_type": "code",
        "colab": {}
      },
      "cell_type": "code",
      "source": [
        "# Generated data\n",
        "(X_train_gen, y_train_gen,y_train_text_gen), (X_test_gen, y_test_gen,y_test_text_gen) = load_data(tol_num = 2000,train_num = 2000,folder='generated')"
      ],
      "execution_count": 0,
      "outputs": []
    },
    {
      "metadata": {
        "id": "3wDQ6MjVx-Wr",
        "colab_type": "code",
        "colab": {}
      },
      "cell_type": "code",
      "source": [
        "np.save('X_train_gen.npy',X_train_gen)\n",
        "np.save('y_train_gen.npy',y_train_gen)\n",
        "#y_train_gen.save('y_train_gen.dat')"
      ],
      "execution_count": 0,
      "outputs": []
    },
    {
      "metadata": {
        "id": "viFhUgY50-Xo",
        "colab_type": "code",
        "colab": {}
      },
      "cell_type": "code",
      "source": [
        "X_train_gen = np.load('X_train_gen.npy')\n",
        "y_train_gen = np.load('y_train_gen.npy')\n",
        "#y_train_gen = np.fromfile('y_train_gen.dat')"
      ],
      "execution_count": 0,
      "outputs": []
    },
    {
      "metadata": {
        "id": "NGHDhiewE7W2",
        "colab_type": "code",
        "colab": {}
      },
      "cell_type": "code",
      "source": [
        "# Add generated data to train set\n",
        "\n",
        "X_train=np.append(X_train, X_train_gen,axis=0)\n",
        "y_train=np.append(y_train, y_train_gen,axis=0)\n",
        "#y_train_text=np.append(y_train_text, y_train_text_gen)"
      ],
      "execution_count": 0,
      "outputs": []
    },
    {
      "metadata": {
        "id": "6_Sl3UJLs89N",
        "colab_type": "code",
        "colab": {}
      },
      "cell_type": "code",
      "source": [
        "y_train=y_train.reshape(y_train.shape[0],5,36)\n",
        "y_test=y_test.reshape(y_test.shape[0],5,36)"
      ],
      "execution_count": 0,
      "outputs": []
    },
    {
      "metadata": {
        "id": "HgzwIaNdE7W3",
        "colab_type": "code",
        "colab": {}
      },
      "cell_type": "code",
      "source": [
        "input_shape = (img_rows, img_cols, 3)"
      ],
      "execution_count": 0,
      "outputs": []
    },
    {
      "metadata": {
        "id": "VJYx19FzmRYB",
        "colab_type": "code",
        "colab": {}
      },
      "cell_type": "code",
      "source": [
        ""
      ],
      "execution_count": 0,
      "outputs": []
    },
    {
      "metadata": {
        "id": "pPntR-sy77oZ",
        "colab_type": "code",
        "colab": {
          "base_uri": "https://localhost:8080/",
          "height": 34
        },
        "outputId": "200fae48-690b-4c94-f67e-39d11d0a8518"
      },
      "cell_type": "code",
      "source": [
        "X_train.shape"
      ],
      "execution_count": 141,
      "outputs": [
        {
          "output_type": "execute_result",
          "data": {
            "text/plain": [
              "(700, 150, 330, 3)"
            ]
          },
          "metadata": {
            "tags": []
          },
          "execution_count": 141
        }
      ]
    },
    {
      "metadata": {
        "id": "04cKDASIE7W5",
        "colab_type": "code",
        "colab": {}
      },
      "cell_type": "code",
      "source": [
        "train_lst=[y_train[:,0,] ,\n",
        "           y_train[:,1,] , \n",
        "           y_train[:,2,] ,\n",
        "           y_train[:,3,] ,\n",
        "           y_train[:,4,]  \n",
        "          ]\n",
        "\n",
        "test_lst=[y_test[:,0,] ,\n",
        "           y_test[:,1,] , \n",
        "           y_test[:,2,] ,\n",
        "           y_test[:,3,] ,\n",
        "           y_test[:,4,]  \n",
        "          ]"
      ],
      "execution_count": 0,
      "outputs": []
    },
    {
      "metadata": {
        "id": "xhrJ7MOoE7W9",
        "colab_type": "code",
        "colab": {}
      },
      "cell_type": "code",
      "source": [
        "#model = Sequential()\n",
        "\n",
        "# size of pooling area for max pooling\n",
        "pool_size = (2, 2)\n",
        "# convolution kernel size\n",
        "kernel_size = (3, 3)\n",
        "batch_size =70\n",
        "nb_filters1=48\n",
        "nb_filters=24\n",
        "nb_filters1=16"
      ],
      "execution_count": 0,
      "outputs": []
    },
    {
      "metadata": {
        "id": "uAWvQkpcssic",
        "colab_type": "code",
        "colab": {}
      },
      "cell_type": "code",
      "source": [
        ""
      ],
      "execution_count": 0,
      "outputs": []
    },
    {
      "metadata": {
        "id": "AqrJiyhKsiRs",
        "colab_type": "code",
        "colab": {}
      },
      "cell_type": "code",
      "source": [
        "from keras.layers import Input\n",
        "from keras.models import Model\n",
        "\n",
        "batch_size = 100\n",
        "nb_classes = 36\n",
        "nb_epoch = 100\n",
        "\n",
        "\n",
        "model_input=Input(shape=input_shape)\n",
        "\n",
        "x = MaxPooling2D(pool_size=(2, 2))(model_input)\n",
        "\n",
        "\n",
        "x = Conv2D(24, kernel_size)(x)\n",
        "x = Activation('relu')(x)\n",
        "\n",
        "x = MaxPooling2D(pool_size=(2, 2))(x)\n",
        "x = Dropout(0.25)(x)\n",
        "\n",
        "\n",
        "\n",
        "x = Conv2D(12, kernel_size)(x)\n",
        "x = Activation('relu')(x)\n",
        "\n",
        "x = MaxPooling2D(pool_size=(2, 2))(x)\n",
        "x = Dropout(0.25)(x)\n",
        "\n",
        "\n",
        "\n",
        "x = Conv2D(12, kernel_size)(x)\n",
        "x = Activation('relu')(x)\n",
        "\n",
        "x = MaxPooling2D(pool_size=(2, 2))(x)\n",
        "x = Dropout(0.25)(x)\n",
        "\n",
        "\n",
        "conv_out = Flatten()(x)\n",
        "\n",
        "#y = Dense(256, activation=\"relu\")(y)\n",
        "\n",
        "conv_out = Dense(100)(conv_out)\n",
        "conv_out = Activation('relu')(conv_out)\n",
        "conv_out = Dropout(0.25)(conv_out)\n",
        "\n",
        "x1 = Dense(nb_classes, activation='softmax')(conv_out)\n",
        "x2 = Dense(nb_classes, activation='softmax')(conv_out)\n",
        "x3 = Dense(nb_classes, activation='softmax')(conv_out)\n",
        "x4 = Dense(nb_classes, activation='softmax')(conv_out)\n",
        "x5 = Dense(nb_classes, activation='softmax')(conv_out)\n",
        "\n",
        "lst = [x1, x2, x3, x4, x5]\n",
        "\n",
        "\n",
        "\n",
        "model = Model(inputs=model_input, outputs=lst)"
      ],
      "execution_count": 0,
      "outputs": []
    },
    {
      "metadata": {
        "id": "y_bz9OkD3dYT",
        "colab_type": "code",
        "colab": {}
      },
      "cell_type": "code",
      "source": [
        "from keras.losses import categorical_crossentropy\n",
        "def m_losses(y_true,y_pred):\n",
        "    loss =categorical_crossentropy(y_true[0], y_pred[0])+categorical_crossentropy(y_true[1], y_pred[1])+categorical_crossentropy(y_true[2], y_pred[2])+categorical_crossentropy(y_true[3], y_pred[3])+categorical_crossentropy(y_true[4], y_pred[4])\n",
        "    \n",
        "    return loss"
      ],
      "execution_count": 0,
      "outputs": []
    },
    {
      "metadata": {
        "id": "o_boL84EFsMY",
        "colab_type": "code",
        "colab": {}
      },
      "cell_type": "code",
      "source": [
        "def inception(use_imagenet=True):\n",
        "    # load pre-trained model graph, don't add final layer\n",
        "    model = keras.applications.InceptionV3(include_top=False, input_shape=input_shape,\n",
        "                                          weights='imagenet' if use_imagenet else None)\n",
        "    # add global pooling just like in InceptionV3\n",
        "    new_output = keras.layers.GlobalAveragePooling2D()(model.output)\n",
        "    # add new dense layer for our labels\n",
        "    new_output = keras.layers.Dense(MAX_CAPTCHA*CHAR_SET_LEN, activation='softmax')(new_output)\n",
        "    model = keras.engine.training.Model(model.inputs, new_output)\n",
        "    return model"
      ],
      "execution_count": 0,
      "outputs": []
    },
    {
      "metadata": {
        "id": "y_6n_OQftUZD",
        "colab_type": "code",
        "colab": {
          "base_uri": "https://localhost:8080/",
          "height": 918
        },
        "outputId": "df4e68d3-ed17-4db7-cbe2-28d428774e27"
      },
      "cell_type": "code",
      "source": [
        "model.summary()"
      ],
      "execution_count": 27,
      "outputs": [
        {
          "output_type": "stream",
          "text": [
            "__________________________________________________________________________________________________\n",
            "Layer (type)                    Output Shape         Param #     Connected to                     \n",
            "==================================================================================================\n",
            "input_7 (InputLayer)            (None, 150, 330, 3)  0                                            \n",
            "__________________________________________________________________________________________________\n",
            "max_pooling2d_24 (MaxPooling2D) (None, 75, 165, 3)   0           input_7[0][0]                    \n",
            "__________________________________________________________________________________________________\n",
            "conv2d_19 (Conv2D)              (None, 73, 163, 24)  672         max_pooling2d_24[0][0]           \n",
            "__________________________________________________________________________________________________\n",
            "activation_24 (Activation)      (None, 73, 163, 24)  0           conv2d_19[0][0]                  \n",
            "__________________________________________________________________________________________________\n",
            "max_pooling2d_25 (MaxPooling2D) (None, 36, 81, 24)   0           activation_24[0][0]              \n",
            "__________________________________________________________________________________________________\n",
            "dropout_24 (Dropout)            (None, 36, 81, 24)   0           max_pooling2d_25[0][0]           \n",
            "__________________________________________________________________________________________________\n",
            "conv2d_20 (Conv2D)              (None, 34, 79, 12)   2604        dropout_24[0][0]                 \n",
            "__________________________________________________________________________________________________\n",
            "activation_25 (Activation)      (None, 34, 79, 12)   0           conv2d_20[0][0]                  \n",
            "__________________________________________________________________________________________________\n",
            "max_pooling2d_26 (MaxPooling2D) (None, 17, 39, 12)   0           activation_25[0][0]              \n",
            "__________________________________________________________________________________________________\n",
            "dropout_25 (Dropout)            (None, 17, 39, 12)   0           max_pooling2d_26[0][0]           \n",
            "__________________________________________________________________________________________________\n",
            "conv2d_21 (Conv2D)              (None, 15, 37, 12)   1308        dropout_25[0][0]                 \n",
            "__________________________________________________________________________________________________\n",
            "activation_26 (Activation)      (None, 15, 37, 12)   0           conv2d_21[0][0]                  \n",
            "__________________________________________________________________________________________________\n",
            "max_pooling2d_27 (MaxPooling2D) (None, 7, 18, 12)    0           activation_26[0][0]              \n",
            "__________________________________________________________________________________________________\n",
            "dropout_26 (Dropout)            (None, 7, 18, 12)    0           max_pooling2d_27[0][0]           \n",
            "__________________________________________________________________________________________________\n",
            "flatten_7 (Flatten)             (None, 1512)         0           dropout_26[0][0]                 \n",
            "__________________________________________________________________________________________________\n",
            "dense_37 (Dense)                (None, 100)          151300      flatten_7[0][0]                  \n",
            "__________________________________________________________________________________________________\n",
            "activation_27 (Activation)      (None, 100)          0           dense_37[0][0]                   \n",
            "__________________________________________________________________________________________________\n",
            "dropout_27 (Dropout)            (None, 100)          0           activation_27[0][0]              \n",
            "__________________________________________________________________________________________________\n",
            "dense_38 (Dense)                (None, 36)           3636        dropout_27[0][0]                 \n",
            "__________________________________________________________________________________________________\n",
            "dense_39 (Dense)                (None, 36)           3636        dropout_27[0][0]                 \n",
            "__________________________________________________________________________________________________\n",
            "dense_40 (Dense)                (None, 36)           3636        dropout_27[0][0]                 \n",
            "__________________________________________________________________________________________________\n",
            "dense_41 (Dense)                (None, 36)           3636        dropout_27[0][0]                 \n",
            "__________________________________________________________________________________________________\n",
            "dense_42 (Dense)                (None, 36)           3636        dropout_27[0][0]                 \n",
            "==================================================================================================\n",
            "Total params: 174,064\n",
            "Trainable params: 174,064\n",
            "Non-trainable params: 0\n",
            "__________________________________________________________________________________________________\n"
          ],
          "name": "stdout"
        }
      ]
    },
    {
      "metadata": {
        "id": "gf57uncvGXM5",
        "colab_type": "code",
        "colab": {
          "base_uri": "https://localhost:8080/",
          "height": 51
        },
        "outputId": "979a6997-f31a-41ef-d561-cf035cc93134"
      },
      "cell_type": "code",
      "source": [
        "model = inception()"
      ],
      "execution_count": 0,
      "outputs": [
        {
          "output_type": "stream",
          "text": [
            "Downloading data from https://github.com/fchollet/deep-learning-models/releases/download/v0.5/inception_v3_weights_tf_dim_ordering_tf_kernels_notop.h5\n",
            "87916544/87910968 [==============================] - 6s 0us/step\n"
          ],
          "name": "stdout"
        }
      ]
    },
    {
      "metadata": {
        "id": "eaL3HnDgG6Lc",
        "colab_type": "code",
        "colab": {}
      },
      "cell_type": "code",
      "source": [
        "# fix deep layers (fine-tuning only last 50)\n",
        "for layer in model.layers[:-50]:\n",
        "    layer.trainable = False"
      ],
      "execution_count": 0,
      "outputs": []
    },
    {
      "metadata": {
        "id": "O0IZVhRtHCYh",
        "colab_type": "code",
        "colab": {}
      },
      "cell_type": "code",
      "source": [
        "model.compile(\n",
        "    loss='categorical_crossentropy', \n",
        "    optimizer=keras.optimizers.adamax(lr=1e-2),  # we can take big lr here because we fixed first layers\n",
        "    metrics=['accuracy']  # report accuracy during training\n",
        ")"
      ],
      "execution_count": 0,
      "outputs": []
    },
    {
      "metadata": {
        "id": "Sc7jpOwzE7XE",
        "colab_type": "code",
        "colab": {}
      },
      "cell_type": "code",
      "source": [
        "model.add(Conv2D(kernel_size=kernel_size, filters=nb_filters1, padding='same' ,input_shape=input_shape ))\n",
        "model.add(LeakyReLU(0.1))\n",
        "\n",
        "model.add(MaxPooling2D(pool_size=pool_size))\n",
        "model.add(Dropout(0.25))\n",
        "\n",
        "model.add(Conv2D( kernel_size=kernel_size, filters=nb_filters2))\n",
        "model.add(LeakyReLU(0.1))\n",
        "\n",
        "model.add(MaxPooling2D(pool_size=pool_size))\n",
        "model.add(Dropout(0.25))\n",
        "\n",
        "\n",
        "# Fully connected layer\n",
        "model.add(Flatten())\n",
        "\n",
        "model.add(Dense(512))\n",
        "model.add(LeakyReLU(0.1))\n",
        "model.add(Dropout(0.25))\n",
        "\n",
        "model.add(Dense(MAX_CAPTCHA*CHAR_SET_LEN))\n",
        "\n",
        "model.add(Activation('softmax'))"
      ],
      "execution_count": 0,
      "outputs": []
    },
    {
      "metadata": {
        "id": "pzpJFU-YE7XD",
        "colab_type": "code",
        "colab": {
          "base_uri": "https://localhost:8080/",
          "height": 782
        },
        "outputId": "7e76b855-40e3-4bd3-cde8-e126653021d7"
      },
      "cell_type": "code",
      "source": [
        "model.summary()"
      ],
      "execution_count": 78,
      "outputs": [
        {
          "output_type": "stream",
          "text": [
            "__________________________________________________________________________________________________\n",
            "Layer (type)                    Output Shape         Param #     Connected to                     \n",
            "==================================================================================================\n",
            "input_9 (InputLayer)            (None, 150, 330, 3)  0                                            \n",
            "__________________________________________________________________________________________________\n",
            "conv2d_17 (Conv2D)              (None, 150, 330, 32) 896         input_9[0][0]                    \n",
            "__________________________________________________________________________________________________\n",
            "activation_22 (Activation)      (None, 150, 330, 32) 0           conv2d_17[0][0]                  \n",
            "__________________________________________________________________________________________________\n",
            "max_pooling2d_16 (MaxPooling2D) (None, 75, 165, 32)  0           activation_22[0][0]              \n",
            "__________________________________________________________________________________________________\n",
            "dropout_21 (Dropout)            (None, 75, 165, 32)  0           max_pooling2d_16[0][0]           \n",
            "__________________________________________________________________________________________________\n",
            "conv2d_18 (Conv2D)              (None, 73, 163, 24)  6936        dropout_21[0][0]                 \n",
            "__________________________________________________________________________________________________\n",
            "activation_23 (Activation)      (None, 73, 163, 24)  0           conv2d_18[0][0]                  \n",
            "__________________________________________________________________________________________________\n",
            "max_pooling2d_17 (MaxPooling2D) (None, 36, 81, 24)   0           activation_23[0][0]              \n",
            "__________________________________________________________________________________________________\n",
            "dropout_22 (Dropout)            (None, 36, 81, 24)   0           max_pooling2d_17[0][0]           \n",
            "__________________________________________________________________________________________________\n",
            "conv2d_19 (Conv2D)              (None, 34, 79, 24)   5208        dropout_22[0][0]                 \n",
            "__________________________________________________________________________________________________\n",
            "activation_24 (Activation)      (None, 34, 79, 24)   0           conv2d_19[0][0]                  \n",
            "__________________________________________________________________________________________________\n",
            "max_pooling2d_18 (MaxPooling2D) (None, 17, 39, 24)   0           activation_24[0][0]              \n",
            "__________________________________________________________________________________________________\n",
            "dropout_23 (Dropout)            (None, 17, 39, 24)   0           max_pooling2d_18[0][0]           \n",
            "__________________________________________________________________________________________________\n",
            "flatten_9 (Flatten)             (None, 15912)        0           dropout_23[0][0]                 \n",
            "__________________________________________________________________________________________________\n",
            "dense_46 (Dense)                (None, 36)           572868      flatten_9[0][0]                  \n",
            "__________________________________________________________________________________________________\n",
            "dense_47 (Dense)                (None, 36)           572868      flatten_9[0][0]                  \n",
            "__________________________________________________________________________________________________\n",
            "dense_48 (Dense)                (None, 36)           572868      flatten_9[0][0]                  \n",
            "__________________________________________________________________________________________________\n",
            "dense_49 (Dense)                (None, 36)           572868      flatten_9[0][0]                  \n",
            "__________________________________________________________________________________________________\n",
            "dense_50 (Dense)                (None, 36)           572868      flatten_9[0][0]                  \n",
            "==================================================================================================\n",
            "Total params: 2,877,380\n",
            "Trainable params: 2,877,380\n",
            "Non-trainable params: 0\n",
            "__________________________________________________________________________________________________\n"
          ],
          "name": "stdout"
        }
      ]
    },
    {
      "metadata": {
        "id": "cnHAdrUwE7XF",
        "colab_type": "code",
        "colab": {}
      },
      "cell_type": "code",
      "source": [
        "batch_size =10\n",
        "\n",
        "nb_epoch = 100\n",
        "\n",
        "model.compile(loss=m_losses,\n",
        "              optimizer=adamax(lr=0.0001),\n",
        "              metrics=['accuracy'])\n"
      ],
      "execution_count": 0,
      "outputs": []
    },
    {
      "metadata": {
        "id": "Wjm_pi_Xtf4d",
        "colab_type": "code",
        "colab": {
          "base_uri": "https://localhost:8080/",
          "height": 4349
        },
        "outputId": "91eba4a5-129e-4727-90aa-6a2fa12bf200"
      },
      "cell_type": "code",
      "source": [
        "model.fit(X_train, train_lst, batch_size=batch_size, epochs=nb_epoch,\n",
        "            verbose=1, validation_data=(X_test,test_lst))"
      ],
      "execution_count": 30,
      "outputs": [
        {
          "output_type": "stream",
          "text": [
            "Train on 700 samples, validate on 300 samples\n",
            "Epoch 1/100\n",
            "700/700 [==============================] - 6s 8ms/step - loss: 383.8260 - dense_38_loss: 75.1233 - dense_39_loss: 78.9787 - dense_40_loss: 78.9787 - dense_41_loss: 74.8305 - dense_42_loss: 75.9149 - dense_38_acc: 0.0486 - dense_39_acc: 0.0143 - dense_40_acc: 0.0100 - dense_41_acc: 0.0671 - dense_42_acc: 0.0429 - val_loss: 378.6880 - val_dense_38_loss: 72.5314 - val_dense_39_loss: 78.9787 - val_dense_40_loss: 78.9787 - val_dense_41_loss: 72.5314 - val_dense_42_loss: 75.6678 - val_dense_38_acc: 0.0700 - val_dense_39_acc: 0.0000e+00 - val_dense_40_acc: 0.0000e+00 - val_dense_41_acc: 0.0767 - val_dense_42_acc: 0.0567\n",
            "Epoch 2/100\n",
            "700/700 [==============================] - 3s 4ms/step - loss: 389.2146 - dense_38_loss: 75.7291 - dense_39_loss: 80.1300 - dense_40_loss: 79.8997 - dense_41_loss: 75.9358 - dense_42_loss: 77.5200 - dense_38_acc: 0.0571 - dense_39_acc: 0.0043 - dense_40_acc: 0.0114 - dense_41_acc: 0.0586 - dense_42_acc: 0.0286 - val_loss: 378.7753 - val_dense_38_loss: 72.5314 - val_dense_39_loss: 78.9787 - val_dense_40_loss: 78.9787 - val_dense_41_loss: 72.5314 - val_dense_42_loss: 75.7550 - val_dense_38_acc: 0.0700 - val_dense_39_acc: 0.0000e+00 - val_dense_40_acc: 0.0000e+00 - val_dense_41_acc: 0.0767 - val_dense_42_acc: 0.0567\n",
            "Epoch 3/100\n",
            "530/700 [=====================>........] - ETA: 0s - loss: 380.3439 - dense_38_loss: 73.7650 - dense_39_loss: 79.0753 - dense_40_loss: 78.7658 - dense_41_loss: 73.4138 - dense_42_loss: 75.3240 - dense_38_acc: 0.0623 - dense_39_acc: 0.0094 - dense_40_acc: 0.0170 - dense_41_acc: 0.0642 - dense_42_acc: 0.0434"
          ],
          "name": "stdout"
        },
        {
          "output_type": "stream",
          "text": [
            "700/700 [==============================] - 3s 4ms/step - loss: 381.0426 - dense_38_loss: 74.1656 - dense_39_loss: 78.9828 - dense_40_loss: 78.6815 - dense_41_loss: 74.2357 - dense_42_loss: 74.9770 - dense_38_acc: 0.0614 - dense_39_acc: 0.0114 - dense_40_acc: 0.0157 - dense_41_acc: 0.0671 - dense_42_acc: 0.0443 - val_loss: 378.1865 - val_dense_38_loss: 72.5314 - val_dense_39_loss: 78.5317 - val_dense_40_loss: 78.9787 - val_dense_41_loss: 72.5314 - val_dense_42_loss: 75.6133 - val_dense_38_acc: 0.0700 - val_dense_39_acc: 0.0000e+00 - val_dense_40_acc: 0.0000e+00 - val_dense_41_acc: 0.0767 - val_dense_42_acc: 0.0567\n",
            "Epoch 4/100\n",
            "700/700 [==============================] - 3s 4ms/step - loss: 386.5417 - dense_38_loss: 74.5550 - dense_39_loss: 79.4736 - dense_40_loss: 79.9019 - dense_41_loss: 75.2342 - dense_42_loss: 77.3771 - dense_38_acc: 0.0629 - dense_39_acc: 0.0143 - dense_40_acc: 0.0043 - dense_41_acc: 0.0686 - dense_42_acc: 0.0357 - val_loss: 377.7776 - val_dense_38_loss: 72.5314 - val_dense_39_loss: 78.3034 - val_dense_40_loss: 78.9787 - val_dense_41_loss: 72.5314 - val_dense_42_loss: 75.4326 - val_dense_38_acc: 0.0700 - val_dense_39_acc: 0.0000e+00 - val_dense_40_acc: 0.0000e+00 - val_dense_41_acc: 0.0767 - val_dense_42_acc: 0.0533\n",
            "Epoch 5/100\n",
            "700/700 [==============================] - 3s 4ms/step - loss: 382.7186 - dense_38_loss: 74.4392 - dense_39_loss: 79.4392 - dense_40_loss: 78.8538 - dense_41_loss: 73.0447 - dense_42_loss: 76.9417 - dense_38_acc: 0.0614 - dense_39_acc: 0.0086 - dense_40_acc: 0.0100 - dense_41_acc: 0.0686 - dense_42_acc: 0.0429 - val_loss: 377.8352 - val_dense_38_loss: 72.5314 - val_dense_39_loss: 78.3013 - val_dense_40_loss: 78.7160 - val_dense_41_loss: 72.5314 - val_dense_42_loss: 75.7550 - val_dense_38_acc: 0.0700 - val_dense_39_acc: 0.0000e+00 - val_dense_40_acc: 0.0000e+00 - val_dense_41_acc: 0.0767 - val_dense_42_acc: 0.0567\n",
            "Epoch 6/100\n",
            " 30/700 [>.............................] - ETA: 2s - loss: 376.9270 - dense_38_loss: 69.8451 - dense_39_loss: 76.0558 - dense_40_loss: 80.5905 - dense_41_loss: 69.8451 - dense_42_loss: 80.5905 - dense_38_acc: 0.0667 - dense_39_acc: 0.0333 - dense_40_acc: 0.0000e+00 - dense_41_acc: 0.1000 - dense_42_acc: 0.0333                "
          ],
          "name": "stdout"
        },
        {
          "output_type": "stream",
          "text": [
            "700/700 [==============================] - 3s 4ms/step - loss: 388.3159 - dense_38_loss: 76.5119 - dense_39_loss: 79.2673 - dense_40_loss: 79.7719 - dense_41_loss: 75.9853 - dense_42_loss: 76.7795 - dense_38_acc: 0.0557 - dense_39_acc: 0.0143 - dense_40_acc: 0.0057 - dense_41_acc: 0.0600 - dense_42_acc: 0.0457 - val_loss: 376.7936 - val_dense_38_loss: 72.5314 - val_dense_39_loss: 77.3669 - val_dense_40_loss: 78.6088 - val_dense_41_loss: 72.5314 - val_dense_42_loss: 75.7550 - val_dense_38_acc: 0.0700 - val_dense_39_acc: 0.0167 - val_dense_40_acc: 0.0000e+00 - val_dense_41_acc: 0.0767 - val_dense_42_acc: 0.0600\n",
            "Epoch 7/100\n",
            "700/700 [==============================] - 3s 4ms/step - loss: 383.0461 - dense_38_loss: 76.4728 - dense_39_loss: 78.7484 - dense_40_loss: 78.6245 - dense_41_loss: 74.1867 - dense_42_loss: 75.0137 - dense_38_acc: 0.0529 - dense_39_acc: 0.0157 - dense_40_acc: 0.0129 - dense_41_acc: 0.0657 - dense_42_acc: 0.0614 - val_loss: 376.0482 - val_dense_38_loss: 72.5314 - val_dense_39_loss: 77.2044 - val_dense_40_loss: 78.3900 - val_dense_41_loss: 72.5314 - val_dense_42_loss: 75.3909 - val_dense_38_acc: 0.0700 - val_dense_39_acc: 0.0233 - val_dense_40_acc: 0.0067 - val_dense_41_acc: 0.0767 - val_dense_42_acc: 0.0567\n",
            "Epoch 8/100\n",
            "610/700 [=========================>....] - ETA: 0s - loss: 384.5787 - dense_38_loss: 75.5032 - dense_39_loss: 78.7276 - dense_40_loss: 78.9435 - dense_41_loss: 74.7774 - dense_42_loss: 76.6270 - dense_38_acc: 0.0574 - dense_39_acc: 0.0180 - dense_40_acc: 0.0115 - dense_41_acc: 0.0590 - dense_42_acc: 0.0328"
          ],
          "name": "stdout"
        },
        {
          "output_type": "stream",
          "text": [
            "700/700 [==============================] - 3s 4ms/step - loss: 383.5881 - dense_38_loss: 75.0536 - dense_39_loss: 78.5598 - dense_40_loss: 78.4646 - dense_41_loss: 74.8340 - dense_42_loss: 76.6761 - dense_38_acc: 0.0586 - dense_39_acc: 0.0157 - dense_40_acc: 0.0129 - dense_41_acc: 0.0571 - dense_42_acc: 0.0329 - val_loss: 376.2492 - val_dense_38_loss: 72.5314 - val_dense_39_loss: 77.1978 - val_dense_40_loss: 78.4201 - val_dense_41_loss: 72.5314 - val_dense_42_loss: 75.5685 - val_dense_38_acc: 0.0700 - val_dense_39_acc: 0.0233 - val_dense_40_acc: 0.0067 - val_dense_41_acc: 0.0767 - val_dense_42_acc: 0.0600\n",
            "Epoch 9/100\n",
            "700/700 [==============================] - 3s 4ms/step - loss: 385.4975 - dense_38_loss: 75.3209 - dense_39_loss: 78.9338 - dense_40_loss: 79.2089 - dense_41_loss: 74.8712 - dense_42_loss: 77.1627 - dense_38_acc: 0.0643 - dense_39_acc: 0.0186 - dense_40_acc: 0.0143 - dense_41_acc: 0.0614 - dense_42_acc: 0.0371 - val_loss: 374.8279 - val_dense_38_loss: 72.5314 - val_dense_39_loss: 76.0995 - val_dense_40_loss: 78.1182 - val_dense_41_loss: 72.5314 - val_dense_42_loss: 75.5473 - val_dense_38_acc: 0.0700 - val_dense_39_acc: 0.0300 - val_dense_40_acc: 0.0100 - val_dense_41_acc: 0.0767 - val_dense_42_acc: 0.0600\n",
            "Epoch 10/100\n",
            "700/700 [==============================] - 3s 4ms/step - loss: 385.0983 - dense_38_loss: 75.7168 - dense_39_loss: 78.9787 - dense_40_loss: 79.0588 - dense_41_loss: 73.9704 - dense_42_loss: 77.3736 - dense_38_acc: 0.0471 - dense_39_acc: 0.0129 - dense_40_acc: 0.0143 - dense_41_acc: 0.0586 - dense_42_acc: 0.0357 - val_loss: 374.8700 - val_dense_38_loss: 72.5314 - val_dense_39_loss: 76.1129 - val_dense_40_loss: 78.0379 - val_dense_41_loss: 72.5314 - val_dense_42_loss: 75.6563 - val_dense_38_acc: 0.0700 - val_dense_39_acc: 0.0300 - val_dense_40_acc: 0.0100 - val_dense_41_acc: 0.0767 - val_dense_42_acc: 0.0600\n",
            "Epoch 11/100\n",
            " 50/700 [=>............................] - ETA: 2s - loss: 376.1861 - dense_38_loss: 77.3669 - dense_39_loss: 77.3669 - dense_40_loss: 76.2066 - dense_41_loss: 64.6552 - dense_42_loss: 80.5905 - dense_38_acc: 0.0200 - dense_39_acc: 0.0200 - dense_40_acc: 0.0200 - dense_41_acc: 0.1200 - dense_42_acc: 0.0200    "
          ],
          "name": "stdout"
        },
        {
          "output_type": "stream",
          "text": [
            "700/700 [==============================] - 3s 4ms/step - loss: 386.0419 - dense_38_loss: 74.9055 - dense_39_loss: 79.0003 - dense_40_loss: 79.1400 - dense_41_loss: 76.2286 - dense_42_loss: 76.7675 - dense_38_acc: 0.0714 - dense_39_acc: 0.0214 - dense_40_acc: 0.0100 - dense_41_acc: 0.0629 - dense_42_acc: 0.0457 - val_loss: 374.3701 - val_dense_38_loss: 72.5314 - val_dense_39_loss: 76.4907 - val_dense_40_loss: 77.3912 - val_dense_41_loss: 72.5314 - val_dense_42_loss: 75.4253 - val_dense_38_acc: 0.0700 - val_dense_39_acc: 0.0267 - val_dense_40_acc: 0.0167 - val_dense_41_acc: 0.0767 - val_dense_42_acc: 0.0533\n",
            "Epoch 12/100\n",
            "700/700 [==============================] - 3s 4ms/step - loss: 382.1247 - dense_38_loss: 74.4993 - dense_39_loss: 78.9787 - dense_40_loss: 78.4537 - dense_41_loss: 74.0297 - dense_42_loss: 76.1633 - dense_38_acc: 0.0657 - dense_39_acc: 0.0143 - dense_40_acc: 0.0129 - dense_41_acc: 0.0671 - dense_42_acc: 0.0514 - val_loss: 373.2940 - val_dense_38_loss: 72.5314 - val_dense_39_loss: 76.2485 - val_dense_40_loss: 77.1986 - val_dense_41_loss: 72.5314 - val_dense_42_loss: 74.7841 - val_dense_38_acc: 0.0700 - val_dense_39_acc: 0.0267 - val_dense_40_acc: 0.0133 - val_dense_41_acc: 0.0767 - val_dense_42_acc: 0.0567\n",
            "Epoch 13/100\n",
            "690/700 [============================>.] - ETA: 0s - loss: 387.0042 - dense_38_loss: 75.6308 - dense_39_loss: 78.2817 - dense_40_loss: 79.2542 - dense_41_loss: 76.0444 - dense_42_loss: 77.7931 - dense_38_acc: 0.0536 - dense_39_acc: 0.0203 - dense_40_acc: 0.0101 - dense_41_acc: 0.0638 - dense_42_acc: 0.0319"
          ],
          "name": "stdout"
        },
        {
          "output_type": "stream",
          "text": [
            "700/700 [==============================] - 3s 4ms/step - loss: 387.2321 - dense_38_loss: 75.7017 - dense_39_loss: 78.3147 - dense_40_loss: 79.2733 - dense_41_loss: 76.1093 - dense_42_loss: 77.8331 - dense_38_acc: 0.0543 - dense_39_acc: 0.0200 - dense_40_acc: 0.0100 - dense_41_acc: 0.0629 - dense_42_acc: 0.0329 - val_loss: 374.3557 - val_dense_38_loss: 72.5314 - val_dense_39_loss: 76.2808 - val_dense_40_loss: 77.5882 - val_dense_41_loss: 72.5314 - val_dense_42_loss: 75.4239 - val_dense_38_acc: 0.0700 - val_dense_39_acc: 0.0267 - val_dense_40_acc: 0.0100 - val_dense_41_acc: 0.0767 - val_dense_42_acc: 0.0567\n",
            "Epoch 14/100\n",
            "700/700 [==============================] - 3s 4ms/step - loss: 381.7812 - dense_38_loss: 75.3317 - dense_39_loss: 78.7484 - dense_40_loss: 78.2781 - dense_41_loss: 74.1432 - dense_42_loss: 75.2798 - dense_38_acc: 0.0586 - dense_39_acc: 0.0157 - dense_40_acc: 0.0129 - dense_41_acc: 0.0700 - dense_42_acc: 0.0457 - val_loss: 373.2426 - val_dense_38_loss: 72.5314 - val_dense_39_loss: 76.1034 - val_dense_40_loss: 77.0307 - val_dense_41_loss: 72.5314 - val_dense_42_loss: 75.0457 - val_dense_38_acc: 0.0700 - val_dense_39_acc: 0.0333 - val_dense_40_acc: 0.0133 - val_dense_41_acc: 0.0767 - val_dense_42_acc: 0.0600\n",
            "Epoch 15/100\n",
            "700/700 [==============================] - 3s 4ms/step - loss: 384.0050 - dense_38_loss: 76.5975 - dense_39_loss: 78.7485 - dense_40_loss: 78.3589 - dense_41_loss: 74.3491 - dense_42_loss: 75.9510 - dense_38_acc: 0.0557 - dense_39_acc: 0.0257 - dense_40_acc: 0.0229 - dense_41_acc: 0.0743 - dense_42_acc: 0.0457 - val_loss: 373.2814 - val_dense_38_loss: 72.5314 - val_dense_39_loss: 75.9744 - val_dense_40_loss: 77.1911 - val_dense_41_loss: 72.5314 - val_dense_42_loss: 75.0530 - val_dense_38_acc: 0.0700 - val_dense_39_acc: 0.0367 - val_dense_40_acc: 0.0100 - val_dense_41_acc: 0.0767 - val_dense_42_acc: 0.0567\n",
            "Epoch 16/100\n",
            " 50/700 [=>............................] - ETA: 2s - loss: 388.6129 - dense_38_loss: 80.5905 - dense_39_loss: 75.9219 - dense_40_loss: 80.5905 - dense_41_loss: 77.3669 - dense_42_loss: 74.1432 - dense_38_acc: 0.0200 - dense_39_acc: 0.0400 - dense_40_acc: 0.0600 - dense_41_acc: 0.0400 - dense_42_acc: 0.0400    "
          ],
          "name": "stdout"
        },
        {
          "output_type": "stream",
          "text": [
            "700/700 [==============================] - 3s 4ms/step - loss: 385.2327 - dense_38_loss: 75.3374 - dense_39_loss: 78.6465 - dense_40_loss: 79.5907 - dense_41_loss: 74.8349 - dense_42_loss: 76.8232 - dense_38_acc: 0.0529 - dense_39_acc: 0.0214 - dense_40_acc: 0.0129 - dense_41_acc: 0.0714 - dense_42_acc: 0.0500 - val_loss: 371.2366 - val_dense_38_loss: 72.5314 - val_dense_39_loss: 75.3658 - val_dense_40_loss: 77.3724 - val_dense_41_loss: 72.5314 - val_dense_42_loss: 73.4355 - val_dense_38_acc: 0.0700 - val_dense_39_acc: 0.0433 - val_dense_40_acc: 0.0100 - val_dense_41_acc: 0.0767 - val_dense_42_acc: 0.0600\n",
            "Epoch 17/100\n",
            "700/700 [==============================] - 3s 4ms/step - loss: 383.0198 - dense_38_loss: 74.8257 - dense_39_loss: 79.1398 - dense_40_loss: 78.1024 - dense_41_loss: 74.8567 - dense_42_loss: 76.0952 - dense_38_acc: 0.0757 - dense_39_acc: 0.0157 - dense_40_acc: 0.0286 - dense_41_acc: 0.0657 - dense_42_acc: 0.0457 - val_loss: 374.0385 - val_dense_38_loss: 72.5314 - val_dense_39_loss: 75.2689 - val_dense_40_loss: 77.9517 - val_dense_41_loss: 72.5314 - val_dense_42_loss: 75.7550 - val_dense_38_acc: 0.0700 - val_dense_39_acc: 0.0433 - val_dense_40_acc: 0.0033 - val_dense_41_acc: 0.0767 - val_dense_42_acc: 0.0600\n",
            "Epoch 18/100\n",
            "690/700 [============================>.] - ETA: 0s - loss: 385.8636 - dense_38_loss: 76.1538 - dense_39_loss: 78.6087 - dense_40_loss: 78.9553 - dense_41_loss: 74.7889 - dense_42_loss: 77.3568 - dense_38_acc: 0.0522 - dense_39_acc: 0.0174 - dense_40_acc: 0.0188 - dense_41_acc: 0.0652 - dense_42_acc: 0.0333"
          ],
          "name": "stdout"
        },
        {
          "output_type": "stream",
          "text": [
            "700/700 [==============================] - 3s 4ms/step - loss: 385.5711 - dense_38_loss: 75.9109 - dense_39_loss: 78.6370 - dense_40_loss: 78.9787 - dense_41_loss: 74.8717 - dense_42_loss: 77.1728 - dense_38_acc: 0.0529 - dense_39_acc: 0.0171 - dense_40_acc: 0.0186 - dense_41_acc: 0.0657 - dense_42_acc: 0.0343 - val_loss: 373.4291 - val_dense_38_loss: 72.5314 - val_dense_39_loss: 75.2184 - val_dense_40_loss: 77.3928 - val_dense_41_loss: 72.5314 - val_dense_42_loss: 75.7550 - val_dense_38_acc: 0.0700 - val_dense_39_acc: 0.0467 - val_dense_40_acc: 0.0100 - val_dense_41_acc: 0.0767 - val_dense_42_acc: 0.0600\n",
            "Epoch 19/100\n",
            "700/700 [==============================] - 3s 4ms/step - loss: 381.5405 - dense_38_loss: 74.3743 - dense_39_loss: 77.7732 - dense_40_loss: 78.7543 - dense_41_loss: 74.6152 - dense_42_loss: 76.0236 - dense_38_acc: 0.0643 - dense_39_acc: 0.0343 - dense_40_acc: 0.0186 - dense_41_acc: 0.0700 - dense_42_acc: 0.0486 - val_loss: 373.2477 - val_dense_38_loss: 72.5314 - val_dense_39_loss: 75.2600 - val_dense_40_loss: 77.1698 - val_dense_41_loss: 72.5314 - val_dense_42_loss: 75.7550 - val_dense_38_acc: 0.0700 - val_dense_39_acc: 0.0433 - val_dense_40_acc: 0.0100 - val_dense_41_acc: 0.0767 - val_dense_42_acc: 0.0600\n",
            "Epoch 20/100\n",
            "700/700 [==============================] - 3s 4ms/step - loss: 383.0933 - dense_38_loss: 74.7371 - dense_39_loss: 79.1875 - dense_40_loss: 78.9091 - dense_41_loss: 73.5835 - dense_42_loss: 76.6761 - dense_38_acc: 0.0557 - dense_39_acc: 0.0243 - dense_40_acc: 0.0171 - dense_41_acc: 0.0614 - dense_42_acc: 0.0443 - val_loss: 373.6425 - val_dense_38_loss: 72.5314 - val_dense_39_loss: 75.2189 - val_dense_40_loss: 77.6057 - val_dense_41_loss: 72.5314 - val_dense_42_loss: 75.7550 - val_dense_38_acc: 0.0700 - val_dense_39_acc: 0.0467 - val_dense_40_acc: 0.0067 - val_dense_41_acc: 0.0767 - val_dense_42_acc: 0.0600\n",
            "Epoch 21/100\n",
            " 50/700 [=>............................] - ETA: 2s - loss: 386.5237 - dense_38_loss: 74.0115 - dense_39_loss: 77.3669 - dense_40_loss: 80.3982 - dense_41_loss: 77.3669 - dense_42_loss: 77.3802 - dense_38_acc: 0.0600 - dense_39_acc: 0.0200 - dense_40_acc: 0.0200 - dense_41_acc: 0.0600 - dense_42_acc: 0.0200    "
          ],
          "name": "stdout"
        },
        {
          "output_type": "stream",
          "text": [
            "700/700 [==============================] - 3s 4ms/step - loss: 384.0294 - dense_38_loss: 74.6405 - dense_39_loss: 79.4392 - dense_40_loss: 79.2001 - dense_41_loss: 74.3195 - dense_42_loss: 76.4301 - dense_38_acc: 0.0657 - dense_39_acc: 0.0157 - dense_40_acc: 0.0157 - dense_41_acc: 0.0629 - dense_42_acc: 0.0543 - val_loss: 373.6178 - val_dense_38_loss: 72.5314 - val_dense_39_loss: 75.2197 - val_dense_40_loss: 77.5801 - val_dense_41_loss: 72.5314 - val_dense_42_loss: 75.7550 - val_dense_38_acc: 0.0700 - val_dense_39_acc: 0.0467 - val_dense_40_acc: 0.0000e+00 - val_dense_41_acc: 0.0767 - val_dense_42_acc: 0.0600\n",
            "Epoch 22/100\n",
            "700/700 [==============================] - 3s 4ms/step - loss: 381.9735 - dense_38_loss: 73.1926 - dense_39_loss: 78.5215 - dense_40_loss: 78.5190 - dense_41_loss: 75.2945 - dense_42_loss: 76.4458 - dense_38_acc: 0.0786 - dense_39_acc: 0.0229 - dense_40_acc: 0.0186 - dense_41_acc: 0.0600 - dense_42_acc: 0.0529 - val_loss: 373.2183 - val_dense_38_loss: 72.5314 - val_dense_39_loss: 75.2251 - val_dense_40_loss: 77.1752 - val_dense_41_loss: 72.5314 - val_dense_42_loss: 75.7550 - val_dense_38_acc: 0.0700 - val_dense_39_acc: 0.0467 - val_dense_40_acc: 0.0100 - val_dense_41_acc: 0.0767 - val_dense_42_acc: 0.0600\n",
            "Epoch 23/100\n",
            "650/700 [==========================>...] - ETA: 0s - loss: 380.3729 - dense_38_loss: 73.8960 - dense_39_loss: 77.9566 - dense_40_loss: 78.5087 - dense_41_loss: 73.8953 - dense_42_loss: 76.1164 - dense_38_acc: 0.0769 - dense_39_acc: 0.0308 - dense_40_acc: 0.0200 - dense_41_acc: 0.0662 - dense_42_acc: 0.0477"
          ],
          "name": "stdout"
        },
        {
          "output_type": "stream",
          "text": [
            "700/700 [==============================] - 3s 4ms/step - loss: 381.0647 - dense_38_loss: 74.3741 - dense_39_loss: 77.9145 - dense_40_loss: 78.6574 - dense_41_loss: 73.9130 - dense_42_loss: 76.2057 - dense_38_acc: 0.0757 - dense_39_acc: 0.0300 - dense_40_acc: 0.0186 - dense_41_acc: 0.0643 - dense_42_acc: 0.0471 - val_loss: 373.5323 - val_dense_38_loss: 72.5314 - val_dense_39_loss: 75.2178 - val_dense_40_loss: 77.5756 - val_dense_41_loss: 72.5314 - val_dense_42_loss: 75.6760 - val_dense_38_acc: 0.0700 - val_dense_39_acc: 0.0500 - val_dense_40_acc: 0.0067 - val_dense_41_acc: 0.0767 - val_dense_42_acc: 0.0600\n",
            "Epoch 24/100\n",
            "700/700 [==============================] - 3s 4ms/step - loss: 378.8365 - dense_38_loss: 73.5807 - dense_39_loss: 76.8188 - dense_40_loss: 78.2673 - dense_41_loss: 75.1054 - dense_42_loss: 75.0643 - dense_38_acc: 0.0600 - dense_39_acc: 0.0286 - dense_40_acc: 0.0214 - dense_41_acc: 0.0657 - dense_42_acc: 0.0543 - val_loss: 372.9742 - val_dense_38_loss: 72.5314 - val_dense_39_loss: 75.2178 - val_dense_40_loss: 76.9789 - val_dense_41_loss: 72.5314 - val_dense_42_loss: 75.7146 - val_dense_38_acc: 0.0700 - val_dense_39_acc: 0.0500 - val_dense_40_acc: 0.0133 - val_dense_41_acc: 0.0767 - val_dense_42_acc: 0.0600\n",
            "Epoch 25/100\n",
            "700/700 [==============================] - 3s 4ms/step - loss: 382.1628 - dense_38_loss: 74.8784 - dense_39_loss: 76.9818 - dense_40_loss: 78.9769 - dense_41_loss: 76.2539 - dense_42_loss: 75.0717 - dense_38_acc: 0.0614 - dense_39_acc: 0.0286 - dense_40_acc: 0.0200 - dense_41_acc: 0.0643 - dense_42_acc: 0.0529 - val_loss: 372.2801 - val_dense_38_loss: 72.5314 - val_dense_39_loss: 75.2178 - val_dense_40_loss: 76.2444 - val_dense_41_loss: 72.5314 - val_dense_42_loss: 75.7550 - val_dense_38_acc: 0.0700 - val_dense_39_acc: 0.0500 - val_dense_40_acc: 0.0233 - val_dense_41_acc: 0.0767 - val_dense_42_acc: 0.0600\n",
            "Epoch 26/100\n",
            " 30/700 [>.............................] - ETA: 2s - loss: 397.5797 - dense_38_loss: 80.5905 - dense_39_loss: 75.2178 - dense_40_loss: 80.5905 - dense_41_loss: 80.5905 - dense_42_loss: 80.5905 - dense_38_acc: 0.0000e+00 - dense_39_acc: 0.0333 - dense_40_acc: 0.0333 - dense_41_acc: 0.0333 - dense_42_acc: 0.0333            "
          ],
          "name": "stdout"
        },
        {
          "output_type": "stream",
          "text": [
            "700/700 [==============================] - 3s 4ms/step - loss: 382.1870 - dense_38_loss: 75.3895 - dense_39_loss: 78.3443 - dense_40_loss: 78.5814 - dense_41_loss: 74.1625 - dense_42_loss: 75.7092 - dense_38_acc: 0.0543 - dense_39_acc: 0.0257 - dense_40_acc: 0.0143 - dense_41_acc: 0.0643 - dense_42_acc: 0.0557 - val_loss: 370.6830 - val_dense_38_loss: 72.5314 - val_dense_39_loss: 75.2178 - val_dense_40_loss: 77.2451 - val_dense_41_loss: 72.5314 - val_dense_42_loss: 73.1572 - val_dense_38_acc: 0.0700 - val_dense_39_acc: 0.0500 - val_dense_40_acc: 0.0033 - val_dense_41_acc: 0.0767 - val_dense_42_acc: 0.0700\n",
            "Epoch 27/100\n",
            "700/700 [==============================] - 3s 4ms/step - loss: 382.3326 - dense_38_loss: 74.9374 - dense_39_loss: 78.1783 - dense_40_loss: 78.2670 - dense_41_loss: 73.6827 - dense_42_loss: 77.2673 - dense_38_acc: 0.0614 - dense_39_acc: 0.0329 - dense_40_acc: 0.0186 - dense_41_acc: 0.0714 - dense_42_acc: 0.0429 - val_loss: 372.0573 - val_dense_38_loss: 72.5314 - val_dense_39_loss: 75.2178 - val_dense_40_loss: 77.9805 - val_dense_41_loss: 72.5314 - val_dense_42_loss: 73.7962 - val_dense_38_acc: 0.0700 - val_dense_39_acc: 0.0500 - val_dense_40_acc: 0.0000e+00 - val_dense_41_acc: 0.0767 - val_dense_42_acc: 0.0633\n",
            "Epoch 28/100\n",
            "650/700 [==========================>...] - ETA: 0s - loss: 378.8524 - dense_38_loss: 74.1098 - dense_39_loss: 76.8748 - dense_40_loss: 78.8005 - dense_41_loss: 73.6849 - dense_42_loss: 75.3823 - dense_38_acc: 0.0646 - dense_39_acc: 0.0354 - dense_40_acc: 0.0185 - dense_41_acc: 0.0631 - dense_42_acc: 0.0492"
          ],
          "name": "stdout"
        },
        {
          "output_type": "stream",
          "text": [
            "700/700 [==============================] - 3s 4ms/step - loss: 379.5223 - dense_38_loss: 74.3425 - dense_39_loss: 76.7794 - dense_40_loss: 78.9284 - dense_41_loss: 73.7176 - dense_42_loss: 75.7543 - dense_38_acc: 0.0614 - dense_39_acc: 0.0357 - dense_40_acc: 0.0186 - dense_41_acc: 0.0629 - dense_42_acc: 0.0471 - val_loss: 370.2395 - val_dense_38_loss: 72.5314 - val_dense_39_loss: 75.2178 - val_dense_40_loss: 77.6098 - val_dense_41_loss: 72.5314 - val_dense_42_loss: 72.3490 - val_dense_38_acc: 0.0700 - val_dense_39_acc: 0.0500 - val_dense_40_acc: 0.0033 - val_dense_41_acc: 0.0767 - val_dense_42_acc: 0.0767\n",
            "Epoch 29/100\n",
            "700/700 [==============================] - 3s 4ms/step - loss: 379.1203 - dense_38_loss: 74.3896 - dense_39_loss: 76.9715 - dense_40_loss: 77.3850 - dense_41_loss: 73.4525 - dense_42_loss: 76.9218 - dense_38_acc: 0.0743 - dense_39_acc: 0.0357 - dense_40_acc: 0.0271 - dense_41_acc: 0.0771 - dense_42_acc: 0.0414 - val_loss: 372.9216 - val_dense_38_loss: 72.5314 - val_dense_39_loss: 75.2178 - val_dense_40_loss: 77.5198 - val_dense_41_loss: 72.5314 - val_dense_42_loss: 75.1212 - val_dense_38_acc: 0.0700 - val_dense_39_acc: 0.0500 - val_dense_40_acc: 0.0033 - val_dense_41_acc: 0.0767 - val_dense_42_acc: 0.0633\n",
            "Epoch 30/100\n",
            "700/700 [==============================] - 3s 4ms/step - loss: 378.3430 - dense_38_loss: 74.1154 - dense_39_loss: 76.0367 - dense_40_loss: 78.5182 - dense_41_loss: 74.3339 - dense_42_loss: 75.3388 - dense_38_acc: 0.0643 - dense_39_acc: 0.0343 - dense_40_acc: 0.0200 - dense_41_acc: 0.0643 - dense_42_acc: 0.0571 - val_loss: 373.5506 - val_dense_38_loss: 72.5314 - val_dense_39_loss: 75.2178 - val_dense_40_loss: 78.0067 - val_dense_41_loss: 72.5314 - val_dense_42_loss: 75.2632 - val_dense_38_acc: 0.0700 - val_dense_39_acc: 0.0500 - val_dense_40_acc: 0.0033 - val_dense_41_acc: 0.0767 - val_dense_42_acc: 0.0600\n",
            "Epoch 31/100\n",
            " 30/700 [>.............................] - ETA: 2s - loss: 379.1394 - dense_38_loss: 78.2683 - dense_39_loss: 75.2178 - dense_40_loss: 80.5905 - dense_41_loss: 75.2178 - dense_42_loss: 69.8451 - dense_38_acc: 0.0333 - dense_39_acc: 0.0333 - dense_40_acc: 0.0000e+00 - dense_41_acc: 0.0333 - dense_42_acc: 0.1000        "
          ],
          "name": "stdout"
        },
        {
          "output_type": "stream",
          "text": [
            "700/700 [==============================] - 3s 4ms/step - loss: 379.2131 - dense_38_loss: 73.7663 - dense_39_loss: 77.1366 - dense_40_loss: 78.7179 - dense_41_loss: 74.1432 - dense_42_loss: 75.4490 - dense_38_acc: 0.0600 - dense_39_acc: 0.0371 - dense_40_acc: 0.0200 - dense_41_acc: 0.0729 - dense_42_acc: 0.0514 - val_loss: 372.9756 - val_dense_38_loss: 72.5314 - val_dense_39_loss: 75.2178 - val_dense_40_loss: 78.9386 - val_dense_41_loss: 72.5314 - val_dense_42_loss: 73.7564 - val_dense_38_acc: 0.0700 - val_dense_39_acc: 0.0500 - val_dense_40_acc: 0.0000e+00 - val_dense_41_acc: 0.0767 - val_dense_42_acc: 0.0633\n",
            "Epoch 32/100\n",
            "700/700 [==============================] - 3s 4ms/step - loss: 380.8314 - dense_38_loss: 75.2945 - dense_39_loss: 76.2282 - dense_40_loss: 78.0332 - dense_41_loss: 75.0650 - dense_42_loss: 76.2104 - dense_38_acc: 0.0657 - dense_39_acc: 0.0386 - dense_40_acc: 0.0200 - dense_41_acc: 0.0614 - dense_42_acc: 0.0557 - val_loss: 374.7647 - val_dense_38_loss: 72.5314 - val_dense_39_loss: 75.2178 - val_dense_40_loss: 78.7882 - val_dense_41_loss: 72.5314 - val_dense_42_loss: 75.6958 - val_dense_38_acc: 0.0700 - val_dense_39_acc: 0.0500 - val_dense_40_acc: 0.0000e+00 - val_dense_41_acc: 0.0767 - val_dense_42_acc: 0.0633\n",
            "Epoch 33/100\n",
            "590/700 [========================>.....] - ETA: 0s - loss: 379.9515 - dense_38_loss: 72.8183 - dense_39_loss: 77.3123 - dense_40_loss: 78.2275 - dense_41_loss: 74.6791 - dense_42_loss: 76.9143 - dense_38_acc: 0.0746 - dense_39_acc: 0.0390 - dense_40_acc: 0.0271 - dense_41_acc: 0.0661 - dense_42_acc: 0.0559\b\b\b\b\b\b\b\b\b\b\b\b\b\b\b\b\b\b\b\b\b\b\b\b\b\b\b\b\b\b\b\b\b\b\b\b\b\b\b\b\b\b\b\b\b\b\b\b\b\b\b\b\b\b\b\b\b\b\b\b\b\b\b\b\b\b\b\b\b\b\b\b\b\b\b\b\b\b\b\b\b\b\b\b\b\b\b\b\b\b\b\b\b\b\b\b\b\b\b\b\b\b\b\b\b\b\b\b\b\b\b\b\b\b\b\b\b\b\b\b\b\b\b\b\b\b\b\b\b\b\b\b\b\b\b\b\b\b\b\b\b\b\b\b\b\b\b\b\b\b\b\b\b\b\b\b\b\b\b\b\b\b\b\b\b\b\b\b\b\b\b\b\b\b\b\b\b\b\b\b\b\b\b\b\b\b\b\b\b\b\b\b\b\b\b\b\b\b\b\b\b\b\b\b\b\b\b\b\b\b\b\b\b\b\b\b\b\b\b\b\b\b\b\b\b\b\b\b\b\b\b\b\b\b\b\b\b\b\b\b\b\b\b\b\b\b\b\b\b\b\b\b\b\b\b\b\b\b\b\b\b\b\b\b\b\b\b\b\b\b\b\b\b\b\b\b\b\b\b\b\b\b\b\b\b\b\b\b\b\b\b\b\b\b\b\b\b\b\b\b\b\b\b\b\b\b\b"
          ],
          "name": "stdout"
        },
        {
          "output_type": "stream",
          "text": [
            "700/700 [==============================] - 3s 4ms/step - loss: 379.5200 - dense_38_loss: 73.3323 - dense_39_loss: 77.5972 - dense_40_loss: 78.0179 - dense_41_loss: 74.4567 - dense_42_loss: 76.1159 - dense_38_acc: 0.0743 - dense_39_acc: 0.0357 - dense_40_acc: 0.0271 - dense_41_acc: 0.0671 - dense_42_acc: 0.0586 - val_loss: 374.1648 - val_dense_38_loss: 72.5314 - val_dense_39_loss: 75.2178 - val_dense_40_loss: 78.1291 - val_dense_41_loss: 72.5314 - val_dense_42_loss: 75.7550 - val_dense_38_acc: 0.0700 - val_dense_39_acc: 0.0500 - val_dense_40_acc: 0.0067 - val_dense_41_acc: 0.0767 - val_dense_42_acc: 0.0600\n",
            "Epoch 34/100\n",
            "700/700 [==============================] - 3s 4ms/step - loss: 381.1609 - dense_38_loss: 74.9037 - dense_39_loss: 77.0144 - dense_40_loss: 78.4132 - dense_41_loss: 74.7754 - dense_42_loss: 76.0541 - dense_38_acc: 0.0600 - dense_39_acc: 0.0414 - dense_40_acc: 0.0214 - dense_41_acc: 0.0614 - dense_42_acc: 0.0529 - val_loss: 373.2292 - val_dense_38_loss: 72.5314 - val_dense_39_loss: 75.2178 - val_dense_40_loss: 77.1935 - val_dense_41_loss: 72.5314 - val_dense_42_loss: 75.7550 - val_dense_38_acc: 0.0700 - val_dense_39_acc: 0.0500 - val_dense_40_acc: 0.0067 - val_dense_41_acc: 0.0767 - val_dense_42_acc: 0.0600\n",
            "Epoch 35/100\n",
            "700/700 [==============================] - 3s 4ms/step - loss: 379.8564 - dense_38_loss: 72.4897 - dense_39_loss: 77.5876 - dense_40_loss: 78.5468 - dense_41_loss: 76.1679 - dense_42_loss: 75.0644 - dense_38_acc: 0.0886 - dense_39_acc: 0.0400 - dense_40_acc: 0.0243 - dense_41_acc: 0.0643 - dense_42_acc: 0.0486 - val_loss: 373.5898 - val_dense_38_loss: 72.5314 - val_dense_39_loss: 75.2178 - val_dense_40_loss: 77.5541 - val_dense_41_loss: 72.5314 - val_dense_42_loss: 75.7550 - val_dense_38_acc: 0.0700 - val_dense_39_acc: 0.0500 - val_dense_40_acc: 0.0033 - val_dense_41_acc: 0.0767 - val_dense_42_acc: 0.0600\n",
            "Epoch 36/100\n",
            " 30/700 [>.............................] - ETA: 2s - loss: 397.5797 - dense_38_loss: 80.5905 - dense_39_loss: 75.2178 - dense_40_loss: 80.5905 - dense_41_loss: 80.5905 - dense_42_loss: 80.5905 - dense_38_acc: 0.0000e+00 - dense_39_acc: 0.0333 - dense_40_acc: 0.0333 - dense_41_acc: 0.0333 - dense_42_acc: 0.0000e+00        "
          ],
          "name": "stdout"
        },
        {
          "output_type": "stream",
          "text": [
            "700/700 [==============================] - 3s 4ms/step - loss: 380.4548 - dense_38_loss: 74.4499 - dense_39_loss: 78.1292 - dense_40_loss: 78.0146 - dense_41_loss: 75.5912 - dense_42_loss: 74.2700 - dense_38_acc: 0.0671 - dense_39_acc: 0.0429 - dense_40_acc: 0.0214 - dense_41_acc: 0.0743 - dense_42_acc: 0.0629 - val_loss: 372.4713 - val_dense_38_loss: 72.5314 - val_dense_39_loss: 75.2178 - val_dense_40_loss: 76.4356 - val_dense_41_loss: 72.5314 - val_dense_42_loss: 75.7550 - val_dense_38_acc: 0.0700 - val_dense_39_acc: 0.0500 - val_dense_40_acc: 0.0133 - val_dense_41_acc: 0.0767 - val_dense_42_acc: 0.0600\n",
            "Epoch 37/100\n",
            "700/700 [==============================] - 3s 4ms/step - loss: 379.0649 - dense_38_loss: 74.3038 - dense_39_loss: 76.6050 - dense_40_loss: 77.1237 - dense_41_loss: 74.3735 - dense_42_loss: 76.6588 - dense_38_acc: 0.0643 - dense_39_acc: 0.0414 - dense_40_acc: 0.0243 - dense_41_acc: 0.0657 - dense_42_acc: 0.0443 - val_loss: 373.3473 - val_dense_38_loss: 72.5314 - val_dense_39_loss: 75.2178 - val_dense_40_loss: 77.4805 - val_dense_41_loss: 72.5314 - val_dense_42_loss: 75.5861 - val_dense_38_acc: 0.0700 - val_dense_39_acc: 0.0500 - val_dense_40_acc: 0.0067 - val_dense_41_acc: 0.0767 - val_dense_42_acc: 0.0633\n",
            "Epoch 38/100\n",
            "570/700 [=======================>......] - ETA: 0s - loss: 382.0984 - dense_38_loss: 76.3378 - dense_39_loss: 74.8741 - dense_40_loss: 78.4715 - dense_41_loss: 77.1972 - dense_42_loss: 75.2179 - dense_38_acc: 0.0561 - dense_39_acc: 0.0509 - dense_40_acc: 0.0246 - dense_41_acc: 0.0614 - dense_42_acc: 0.0649"
          ],
          "name": "stdout"
        },
        {
          "output_type": "stream",
          "text": [
            "700/700 [==============================] - 3s 4ms/step - loss: 381.9724 - dense_38_loss: 76.2051 - dense_39_loss: 75.0146 - dense_40_loss: 78.4045 - dense_41_loss: 77.1366 - dense_42_loss: 75.2116 - dense_38_acc: 0.0543 - dense_39_acc: 0.0500 - dense_40_acc: 0.0229 - dense_41_acc: 0.0629 - dense_42_acc: 0.0643 - val_loss: 370.9195 - val_dense_38_loss: 72.5314 - val_dense_39_loss: 75.2178 - val_dense_40_loss: 75.8255 - val_dense_41_loss: 72.5314 - val_dense_42_loss: 74.8133 - val_dense_38_acc: 0.0700 - val_dense_39_acc: 0.0500 - val_dense_40_acc: 0.0133 - val_dense_41_acc: 0.0767 - val_dense_42_acc: 0.0633\n",
            "Epoch 39/100\n",
            "700/700 [==============================] - 3s 4ms/step - loss: 377.9997 - dense_38_loss: 74.8546 - dense_39_loss: 75.6091 - dense_40_loss: 77.3136 - dense_41_loss: 73.6827 - dense_42_loss: 76.5396 - dense_38_acc: 0.0729 - dense_39_acc: 0.0529 - dense_40_acc: 0.0357 - dense_41_acc: 0.0643 - dense_42_acc: 0.0486 - val_loss: 368.9636 - val_dense_38_loss: 72.5314 - val_dense_39_loss: 75.2178 - val_dense_40_loss: 74.8197 - val_dense_41_loss: 72.5314 - val_dense_42_loss: 73.8632 - val_dense_38_acc: 0.0700 - val_dense_39_acc: 0.0500 - val_dense_40_acc: 0.0267 - val_dense_41_acc: 0.0767 - val_dense_42_acc: 0.0633\n",
            "Epoch 40/100\n",
            "700/700 [==============================] - 3s 4ms/step - loss: 379.7583 - dense_38_loss: 73.5312 - dense_39_loss: 76.8282 - dense_40_loss: 77.1117 - dense_41_loss: 75.7524 - dense_42_loss: 76.5347 - dense_38_acc: 0.0614 - dense_39_acc: 0.0471 - dense_40_acc: 0.0400 - dense_41_acc: 0.0600 - dense_42_acc: 0.0500 - val_loss: 369.5808 - val_dense_38_loss: 72.5314 - val_dense_39_loss: 75.2178 - val_dense_40_loss: 74.6288 - val_dense_41_loss: 72.5314 - val_dense_42_loss: 74.6714 - val_dense_38_acc: 0.0700 - val_dense_39_acc: 0.0500 - val_dense_40_acc: 0.0467 - val_dense_41_acc: 0.0767 - val_dense_42_acc: 0.0633\n",
            "Epoch 41/100\n",
            " 30/700 [>.............................] - ETA: 2s - loss: 386.8343 - dense_38_loss: 69.8451 - dense_39_loss: 80.5905 - dense_40_loss: 80.5905 - dense_41_loss: 80.5905 - dense_42_loss: 75.2178 - dense_38_acc: 0.1000 - dense_39_acc: 0.0667 - dense_40_acc: 0.0000e+00 - dense_41_acc: 0.1000 - dense_42_acc: 0.0667"
          ],
          "name": "stdout"
        },
        {
          "output_type": "stream",
          "text": [
            "700/700 [==============================] - 3s 4ms/step - loss: 379.2407 - dense_38_loss: 73.2658 - dense_39_loss: 75.9853 - dense_40_loss: 78.5207 - dense_41_loss: 75.1559 - dense_42_loss: 76.3130 - dense_38_acc: 0.0757 - dense_39_acc: 0.0529 - dense_40_acc: 0.0257 - dense_41_acc: 0.0700 - dense_42_acc: 0.0500 - val_loss: 369.6016 - val_dense_38_loss: 72.5314 - val_dense_39_loss: 75.2178 - val_dense_40_loss: 74.8645 - val_dense_41_loss: 72.5314 - val_dense_42_loss: 74.4565 - val_dense_38_acc: 0.0700 - val_dense_39_acc: 0.0500 - val_dense_40_acc: 0.0433 - val_dense_41_acc: 0.0767 - val_dense_42_acc: 0.0600\n",
            "Epoch 42/100\n",
            "700/700 [==============================] - 3s 4ms/step - loss: 380.4378 - dense_38_loss: 75.5230 - dense_39_loss: 76.1779 - dense_40_loss: 77.3292 - dense_41_loss: 76.2156 - dense_42_loss: 75.1921 - dense_38_acc: 0.0600 - dense_39_acc: 0.0457 - dense_40_acc: 0.0343 - dense_41_acc: 0.0671 - dense_42_acc: 0.0414 - val_loss: 367.0589 - val_dense_38_loss: 72.5314 - val_dense_39_loss: 75.2178 - val_dense_40_loss: 74.1753 - val_dense_41_loss: 72.5314 - val_dense_42_loss: 72.6029 - val_dense_38_acc: 0.0700 - val_dense_39_acc: 0.0500 - val_dense_40_acc: 0.0433 - val_dense_41_acc: 0.0767 - val_dense_42_acc: 0.0700\n",
            "Epoch 43/100\n",
            "630/700 [==========================>...] - ETA: 0s - loss: 379.6890 - dense_38_loss: 74.1684 - dense_39_loss: 77.7762 - dense_40_loss: 76.4606 - dense_41_loss: 75.1541 - dense_42_loss: 76.1297 - dense_38_acc: 0.0698 - dense_39_acc: 0.0460 - dense_40_acc: 0.0413 - dense_41_acc: 0.0587 - dense_42_acc: 0.0492"
          ],
          "name": "stdout"
        },
        {
          "output_type": "stream",
          "text": [
            "700/700 [==============================] - 3s 4ms/step - loss: 379.1126 - dense_38_loss: 73.8896 - dense_39_loss: 77.5971 - dense_40_loss: 76.5037 - dense_41_loss: 75.2372 - dense_42_loss: 75.8850 - dense_38_acc: 0.0686 - dense_39_acc: 0.0500 - dense_40_acc: 0.0414 - dense_41_acc: 0.0571 - dense_42_acc: 0.0500 - val_loss: 367.4506 - val_dense_38_loss: 72.5314 - val_dense_39_loss: 75.2178 - val_dense_40_loss: 74.6066 - val_dense_41_loss: 72.5314 - val_dense_42_loss: 72.5634 - val_dense_38_acc: 0.0700 - val_dense_39_acc: 0.0500 - val_dense_40_acc: 0.0467 - val_dense_41_acc: 0.0767 - val_dense_42_acc: 0.0667\n",
            "Epoch 44/100\n",
            "700/700 [==============================] - 3s 4ms/step - loss: 376.6467 - dense_38_loss: 74.4689 - dense_39_loss: 75.9853 - dense_40_loss: 77.8989 - dense_41_loss: 73.9404 - dense_42_loss: 74.3532 - dense_38_acc: 0.0757 - dense_39_acc: 0.0471 - dense_40_acc: 0.0314 - dense_41_acc: 0.0629 - dense_42_acc: 0.0514 - val_loss: 367.3315 - val_dense_38_loss: 72.5314 - val_dense_39_loss: 75.2178 - val_dense_40_loss: 74.9382 - val_dense_41_loss: 72.5314 - val_dense_42_loss: 72.1127 - val_dense_38_acc: 0.0700 - val_dense_39_acc: 0.0500 - val_dense_40_acc: 0.0467 - val_dense_41_acc: 0.0767 - val_dense_42_acc: 0.0700\n",
            "Epoch 45/100\n",
            "700/700 [==============================] - 3s 4ms/step - loss: 377.8728 - dense_38_loss: 72.8252 - dense_39_loss: 76.2156 - dense_40_loss: 78.0811 - dense_41_loss: 74.8340 - dense_42_loss: 75.9169 - dense_38_acc: 0.0843 - dense_39_acc: 0.0457 - dense_40_acc: 0.0243 - dense_41_acc: 0.0714 - dense_42_acc: 0.0586 - val_loss: 367.7209 - val_dense_38_loss: 72.5314 - val_dense_39_loss: 75.2178 - val_dense_40_loss: 74.8706 - val_dense_41_loss: 72.5314 - val_dense_42_loss: 72.5697 - val_dense_38_acc: 0.0700 - val_dense_39_acc: 0.0500 - val_dense_40_acc: 0.0400 - val_dense_41_acc: 0.0767 - val_dense_42_acc: 0.0667\n",
            "Epoch 46/100\n",
            " 50/700 [=>............................] - ETA: 2s - loss: 368.6487 - dense_38_loss: 80.5905 - dense_39_loss: 74.1432 - dense_40_loss: 74.1432 - dense_41_loss: 68.2163 - dense_42_loss: 71.5554 - dense_38_acc: 0.0200 - dense_39_acc: 0.0400 - dense_40_acc: 0.0600 - dense_41_acc: 0.0800 - dense_42_acc: 0.0800"
          ],
          "name": "stdout"
        },
        {
          "output_type": "stream",
          "text": [
            "700/700 [==============================] - 3s 4ms/step - loss: 376.0953 - dense_38_loss: 74.3050 - dense_39_loss: 74.3735 - dense_40_loss: 76.1731 - dense_41_loss: 74.8031 - dense_42_loss: 76.4405 - dense_38_acc: 0.0600 - dense_39_acc: 0.0557 - dense_40_acc: 0.0443 - dense_41_acc: 0.0614 - dense_42_acc: 0.0500 - val_loss: 367.8379 - val_dense_38_loss: 72.5314 - val_dense_39_loss: 75.2178 - val_dense_40_loss: 75.4293 - val_dense_41_loss: 72.5314 - val_dense_42_loss: 72.1279 - val_dense_38_acc: 0.0700 - val_dense_39_acc: 0.0500 - val_dense_40_acc: 0.0400 - val_dense_41_acc: 0.0767 - val_dense_42_acc: 0.0700\n",
            "Epoch 47/100\n",
            "700/700 [==============================] - 3s 4ms/step - loss: 379.2138 - dense_38_loss: 73.5754 - dense_39_loss: 76.1611 - dense_40_loss: 76.9262 - dense_41_loss: 76.2156 - dense_42_loss: 76.3355 - dense_38_acc: 0.0714 - dense_39_acc: 0.0471 - dense_40_acc: 0.0429 - dense_41_acc: 0.0629 - dense_42_acc: 0.0457 - val_loss: 365.7016 - val_dense_38_loss: 72.5314 - val_dense_39_loss: 75.2178 - val_dense_40_loss: 74.1527 - val_dense_41_loss: 72.5314 - val_dense_42_loss: 71.2682 - val_dense_38_acc: 0.0700 - val_dense_39_acc: 0.0500 - val_dense_40_acc: 0.0500 - val_dense_41_acc: 0.0767 - val_dense_42_acc: 0.0600\n",
            "Epoch 48/100\n",
            "690/700 [============================>.] - ETA: 0s - loss: 378.2785 - dense_38_loss: 74.3048 - dense_39_loss: 75.9186 - dense_40_loss: 76.9046 - dense_41_loss: 75.4514 - dense_42_loss: 75.6991 - dense_38_acc: 0.0696 - dense_39_acc: 0.0493 - dense_40_acc: 0.0377 - dense_41_acc: 0.0696 - dense_42_acc: 0.0594"
          ],
          "name": "stdout"
        },
        {
          "output_type": "stream",
          "text": [
            "700/700 [==============================] - 3s 4ms/step - loss: 378.4007 - dense_38_loss: 74.3946 - dense_39_loss: 75.9853 - dense_40_loss: 76.9572 - dense_41_loss: 75.2945 - dense_42_loss: 75.7690 - dense_38_acc: 0.0686 - dense_39_acc: 0.0486 - dense_40_acc: 0.0371 - dense_41_acc: 0.0700 - dense_42_acc: 0.0586 - val_loss: 365.9947 - val_dense_38_loss: 72.5314 - val_dense_39_loss: 75.2178 - val_dense_40_loss: 74.3085 - val_dense_41_loss: 72.5314 - val_dense_42_loss: 71.4055 - val_dense_38_acc: 0.0700 - val_dense_39_acc: 0.0500 - val_dense_40_acc: 0.0500 - val_dense_41_acc: 0.0767 - val_dense_42_acc: 0.0633\n",
            "Epoch 49/100\n",
            "700/700 [==============================] - 3s 4ms/step - loss: 380.5540 - dense_38_loss: 75.9671 - dense_39_loss: 75.4969 - dense_40_loss: 77.5979 - dense_41_loss: 76.3628 - dense_42_loss: 75.1294 - dense_38_acc: 0.0614 - dense_39_acc: 0.0529 - dense_40_acc: 0.0343 - dense_41_acc: 0.0586 - dense_42_acc: 0.0586 - val_loss: 366.3111 - val_dense_38_loss: 72.5314 - val_dense_39_loss: 75.2178 - val_dense_40_loss: 74.2477 - val_dense_41_loss: 72.5314 - val_dense_42_loss: 71.7827 - val_dense_38_acc: 0.0700 - val_dense_39_acc: 0.0500 - val_dense_40_acc: 0.0500 - val_dense_41_acc: 0.0767 - val_dense_42_acc: 0.0667\n",
            "Epoch 50/100\n",
            "700/700 [==============================] - 3s 4ms/step - loss: 380.1899 - dense_38_loss: 75.4527 - dense_39_loss: 75.5248 - dense_40_loss: 77.2472 - dense_41_loss: 75.8994 - dense_42_loss: 76.0658 - dense_38_acc: 0.0643 - dense_39_acc: 0.0571 - dense_40_acc: 0.0371 - dense_41_acc: 0.0500 - dense_42_acc: 0.0500 - val_loss: 368.4676 - val_dense_38_loss: 72.5314 - val_dense_39_loss: 75.2178 - val_dense_40_loss: 74.0266 - val_dense_41_loss: 72.5314 - val_dense_42_loss: 74.1603 - val_dense_38_acc: 0.0700 - val_dense_39_acc: 0.0500 - val_dense_40_acc: 0.0533 - val_dense_41_acc: 0.0767 - val_dense_42_acc: 0.0633\n",
            "Epoch 51/100\n",
            " 30/700 [>.............................] - ETA: 2s - loss: 381.4616 - dense_38_loss: 80.5905 - dense_39_loss: 69.8451 - dense_40_loss: 75.2178 - dense_41_loss: 75.2178 - dense_42_loss: 80.5905 - dense_38_acc: 0.0667 - dense_39_acc: 0.1000 - dense_40_acc: 0.0667 - dense_41_acc: 0.0333 - dense_42_acc: 0.0000e+00            "
          ],
          "name": "stdout"
        },
        {
          "output_type": "stream",
          "text": [
            "700/700 [==============================] - 3s 4ms/step - loss: 384.4273 - dense_38_loss: 75.8018 - dense_39_loss: 77.0976 - dense_40_loss: 78.1526 - dense_41_loss: 76.9063 - dense_42_loss: 76.4689 - dense_38_acc: 0.0643 - dense_39_acc: 0.0429 - dense_40_acc: 0.0386 - dense_41_acc: 0.0571 - dense_42_acc: 0.0571 - val_loss: 369.6350 - val_dense_38_loss: 72.5314 - val_dense_39_loss: 75.2178 - val_dense_40_loss: 73.9177 - val_dense_41_loss: 72.5314 - val_dense_42_loss: 75.4367 - val_dense_38_acc: 0.0700 - val_dense_39_acc: 0.0500 - val_dense_40_acc: 0.0533 - val_dense_41_acc: 0.0767 - val_dense_42_acc: 0.0633\n",
            "Epoch 52/100\n",
            "700/700 [==============================] - 3s 4ms/step - loss: 377.3442 - dense_38_loss: 74.8701 - dense_39_loss: 75.0643 - dense_40_loss: 76.6911 - dense_41_loss: 74.8340 - dense_42_loss: 75.8847 - dense_38_acc: 0.0629 - dense_39_acc: 0.0586 - dense_40_acc: 0.0343 - dense_41_acc: 0.0714 - dense_42_acc: 0.0471 - val_loss: 369.6432 - val_dense_38_loss: 72.5314 - val_dense_39_loss: 75.2178 - val_dense_40_loss: 73.6075 - val_dense_41_loss: 72.5314 - val_dense_42_loss: 75.7550 - val_dense_38_acc: 0.0700 - val_dense_39_acc: 0.0500 - val_dense_40_acc: 0.0600 - val_dense_41_acc: 0.0767 - val_dense_42_acc: 0.0600\n",
            "Epoch 53/100\n",
            "690/700 [============================>.] - ETA: 0s - loss: 377.9295 - dense_38_loss: 75.5887 - dense_39_loss: 74.9177 - dense_40_loss: 76.4834 - dense_41_loss: 75.6850 - dense_42_loss: 75.2547 - dense_38_acc: 0.0565 - dense_39_acc: 0.0580 - dense_40_acc: 0.0391 - dense_41_acc: 0.0580 - dense_42_acc: 0.0493"
          ],
          "name": "stdout"
        },
        {
          "output_type": "stream",
          "text": [
            "700/700 [==============================] - 3s 4ms/step - loss: 377.3837 - dense_38_loss: 75.4299 - dense_39_loss: 74.7685 - dense_40_loss: 76.5421 - dense_41_loss: 75.5248 - dense_42_loss: 75.1184 - dense_38_acc: 0.0571 - dense_39_acc: 0.0586 - dense_40_acc: 0.0386 - dense_41_acc: 0.0586 - dense_42_acc: 0.0486 - val_loss: 369.2984 - val_dense_38_loss: 72.5314 - val_dense_39_loss: 75.2178 - val_dense_40_loss: 73.7363 - val_dense_41_loss: 72.5314 - val_dense_42_loss: 75.2814 - val_dense_38_acc: 0.0700 - val_dense_39_acc: 0.0500 - val_dense_40_acc: 0.0533 - val_dense_41_acc: 0.0767 - val_dense_42_acc: 0.0600\n",
            "Epoch 54/100\n",
            "700/700 [==============================] - 3s 4ms/step - loss: 378.9290 - dense_38_loss: 74.5737 - dense_39_loss: 75.1645 - dense_40_loss: 77.3321 - dense_41_loss: 75.0643 - dense_42_loss: 76.7942 - dense_38_acc: 0.0543 - dense_39_acc: 0.0600 - dense_40_acc: 0.0314 - dense_41_acc: 0.0671 - dense_42_acc: 0.0500 - val_loss: 368.3236 - val_dense_38_loss: 72.5314 - val_dense_39_loss: 75.2178 - val_dense_40_loss: 73.8137 - val_dense_41_loss: 72.5314 - val_dense_42_loss: 74.2292 - val_dense_38_acc: 0.0700 - val_dense_39_acc: 0.0500 - val_dense_40_acc: 0.0533 - val_dense_41_acc: 0.0767 - val_dense_42_acc: 0.0600\n",
            "Epoch 55/100\n",
            "700/700 [==============================] - 3s 4ms/step - loss: 379.4677 - dense_38_loss: 75.3007 - dense_39_loss: 77.3669 - dense_40_loss: 77.3696 - dense_41_loss: 74.3227 - dense_42_loss: 75.1079 - dense_38_acc: 0.0643 - dense_39_acc: 0.0486 - dense_40_acc: 0.0357 - dense_41_acc: 0.0729 - dense_42_acc: 0.0629 - val_loss: 369.0224 - val_dense_38_loss: 72.5314 - val_dense_39_loss: 75.2178 - val_dense_40_loss: 73.3807 - val_dense_41_loss: 72.5314 - val_dense_42_loss: 75.3610 - val_dense_38_acc: 0.0700 - val_dense_39_acc: 0.0500 - val_dense_40_acc: 0.0533 - val_dense_41_acc: 0.0767 - val_dense_42_acc: 0.0567\n",
            "Epoch 56/100\n",
            " 50/700 [=>............................] - ETA: 2s - loss: 373.7020 - dense_38_loss: 73.9054 - dense_39_loss: 74.1432 - dense_40_loss: 80.5905 - dense_41_loss: 67.6960 - dense_42_loss: 77.3669 - dense_38_acc: 0.0800 - dense_39_acc: 0.0400 - dense_40_acc: 0.0600 - dense_41_acc: 0.1600 - dense_42_acc: 0.0400"
          ],
          "name": "stdout"
        },
        {
          "output_type": "stream",
          "text": [
            "700/700 [==============================] - 3s 4ms/step - loss: 380.9189 - dense_38_loss: 76.2081 - dense_39_loss: 75.5248 - dense_40_loss: 77.9052 - dense_41_loss: 74.5884 - dense_42_loss: 76.6925 - dense_38_acc: 0.0671 - dense_39_acc: 0.0571 - dense_40_acc: 0.0400 - dense_41_acc: 0.0629 - dense_42_acc: 0.0500 - val_loss: 369.7510 - val_dense_38_loss: 72.5314 - val_dense_39_loss: 75.2178 - val_dense_40_loss: 73.9080 - val_dense_41_loss: 72.5314 - val_dense_42_loss: 75.5623 - val_dense_38_acc: 0.0700 - val_dense_39_acc: 0.0500 - val_dense_40_acc: 0.0533 - val_dense_41_acc: 0.0767 - val_dense_42_acc: 0.0633\n",
            "Epoch 57/100\n",
            "700/700 [==============================] - 3s 4ms/step - loss: 379.3831 - dense_38_loss: 74.0924 - dense_39_loss: 75.9853 - dense_40_loss: 78.8649 - dense_41_loss: 75.4035 - dense_42_loss: 75.0370 - dense_38_acc: 0.0729 - dense_39_acc: 0.0529 - dense_40_acc: 0.0243 - dense_41_acc: 0.0586 - dense_42_acc: 0.0686 - val_loss: 369.5245 - val_dense_38_loss: 72.5314 - val_dense_39_loss: 75.2178 - val_dense_40_loss: 74.0012 - val_dense_41_loss: 72.5314 - val_dense_42_loss: 75.2426 - val_dense_38_acc: 0.0700 - val_dense_39_acc: 0.0500 - val_dense_40_acc: 0.0533 - val_dense_41_acc: 0.0767 - val_dense_42_acc: 0.0633\n",
            "Epoch 58/100\n",
            "650/700 [==========================>...] - ETA: 0s - loss: 369.3633 - dense_38_loss: 70.8890 - dense_39_loss: 74.3913 - dense_40_loss: 75.7350 - dense_41_loss: 73.3579 - dense_42_loss: 74.9901 - dense_38_acc: 0.0800 - dense_39_acc: 0.0538 - dense_40_acc: 0.0492 - dense_41_acc: 0.0785 - dense_42_acc: 0.0554"
          ],
          "name": "stdout"
        },
        {
          "output_type": "stream",
          "text": [
            "700/700 [==============================] - 3s 4ms/step - loss: 370.6112 - dense_38_loss: 70.8912 - dense_39_loss: 74.8341 - dense_40_loss: 76.0818 - dense_41_loss: 73.6443 - dense_42_loss: 75.1599 - dense_38_acc: 0.0786 - dense_39_acc: 0.0529 - dense_40_acc: 0.0471 - dense_41_acc: 0.0743 - dense_42_acc: 0.0529 - val_loss: 368.9653 - val_dense_38_loss: 72.5314 - val_dense_39_loss: 75.2178 - val_dense_40_loss: 73.1875 - val_dense_41_loss: 72.5314 - val_dense_42_loss: 75.4972 - val_dense_38_acc: 0.0700 - val_dense_39_acc: 0.0500 - val_dense_40_acc: 0.0533 - val_dense_41_acc: 0.0767 - val_dense_42_acc: 0.0600\n",
            "Epoch 59/100\n",
            "700/700 [==============================] - 3s 4ms/step - loss: 378.0162 - dense_38_loss: 74.8631 - dense_39_loss: 76.4458 - dense_40_loss: 75.6611 - dense_41_loss: 75.0649 - dense_42_loss: 75.9812 - dense_38_acc: 0.0657 - dense_39_acc: 0.0471 - dense_40_acc: 0.0514 - dense_41_acc: 0.0614 - dense_42_acc: 0.0629 - val_loss: 366.9867 - val_dense_38_loss: 72.5314 - val_dense_39_loss: 75.2178 - val_dense_40_loss: 73.0869 - val_dense_41_loss: 72.5314 - val_dense_42_loss: 73.6191 - val_dense_38_acc: 0.0700 - val_dense_39_acc: 0.0500 - val_dense_40_acc: 0.0533 - val_dense_41_acc: 0.0767 - val_dense_42_acc: 0.0633\n",
            "Epoch 60/100\n",
            "700/700 [==============================] - 3s 4ms/step - loss: 375.9537 - dense_38_loss: 71.9697 - dense_39_loss: 76.9843 - dense_40_loss: 76.4900 - dense_41_loss: 74.3074 - dense_42_loss: 76.2023 - dense_38_acc: 0.0829 - dense_39_acc: 0.0514 - dense_40_acc: 0.0329 - dense_41_acc: 0.0714 - dense_42_acc: 0.0557 - val_loss: 365.3738 - val_dense_38_loss: 72.5314 - val_dense_39_loss: 75.2178 - val_dense_40_loss: 72.5362 - val_dense_41_loss: 72.5314 - val_dense_42_loss: 72.5569 - val_dense_38_acc: 0.0700 - val_dense_39_acc: 0.0500 - val_dense_40_acc: 0.0600 - val_dense_41_acc: 0.0767 - val_dense_42_acc: 0.0633\n",
            "Epoch 61/100\n",
            " 30/700 [>.............................] - ETA: 2s - loss: 381.4616 - dense_38_loss: 80.5905 - dense_39_loss: 69.8451 - dense_40_loss: 80.5905 - dense_41_loss: 75.2178 - dense_42_loss: 75.2178 - dense_38_acc: 0.0667 - dense_39_acc: 0.1000 - dense_40_acc: 0.0000e+00 - dense_41_acc: 0.0667 - dense_42_acc: 0.1000    "
          ],
          "name": "stdout"
        },
        {
          "output_type": "stream",
          "text": [
            "700/700 [==============================] - 3s 4ms/step - loss: 377.1397 - dense_38_loss: 75.0907 - dense_39_loss: 75.2977 - dense_40_loss: 76.6555 - dense_41_loss: 74.8340 - dense_42_loss: 75.2618 - dense_38_acc: 0.0743 - dense_39_acc: 0.0571 - dense_40_acc: 0.0414 - dense_41_acc: 0.0586 - dense_42_acc: 0.0614 - val_loss: 363.9494 - val_dense_38_loss: 72.5314 - val_dense_39_loss: 75.2178 - val_dense_40_loss: 72.0607 - val_dense_41_loss: 72.5314 - val_dense_42_loss: 71.6081 - val_dense_38_acc: 0.0700 - val_dense_39_acc: 0.0500 - val_dense_40_acc: 0.0533 - val_dense_41_acc: 0.0767 - val_dense_42_acc: 0.0600\n",
            "Epoch 62/100\n",
            "700/700 [==============================] - 3s 4ms/step - loss: 374.3676 - dense_38_loss: 72.4484 - dense_39_loss: 76.2156 - dense_40_loss: 74.8434 - dense_41_loss: 75.1399 - dense_42_loss: 75.7202 - dense_38_acc: 0.0743 - dense_39_acc: 0.0543 - dense_40_acc: 0.0429 - dense_41_acc: 0.0586 - dense_42_acc: 0.0571 - val_loss: 362.7559 - val_dense_38_loss: 72.5314 - val_dense_39_loss: 75.2178 - val_dense_40_loss: 70.4779 - val_dense_41_loss: 72.5314 - val_dense_42_loss: 71.9974 - val_dense_38_acc: 0.0700 - val_dense_39_acc: 0.0500 - val_dense_40_acc: 0.0700 - val_dense_41_acc: 0.0767 - val_dense_42_acc: 0.0500\n",
            "Epoch 63/100\n",
            "670/700 [===========================>..] - ETA: 0s - loss: 377.7663 - dense_38_loss: 73.7291 - dense_39_loss: 74.4549 - dense_40_loss: 77.7786 - dense_41_loss: 76.2622 - dense_42_loss: 75.5416 - dense_38_acc: 0.0851 - dense_39_acc: 0.0552 - dense_40_acc: 0.0373 - dense_41_acc: 0.0537 - dense_42_acc: 0.0612"
          ],
          "name": "stdout"
        },
        {
          "output_type": "stream",
          "text": [
            "700/700 [==============================] - 3s 4ms/step - loss: 376.7854 - dense_38_loss: 73.5626 - dense_39_loss: 74.2588 - dense_40_loss: 77.4386 - dense_41_loss: 76.2174 - dense_42_loss: 75.3079 - dense_38_acc: 0.0857 - dense_39_acc: 0.0571 - dense_40_acc: 0.0386 - dense_41_acc: 0.0543 - dense_42_acc: 0.0614 - val_loss: 364.5261 - val_dense_38_loss: 72.5314 - val_dense_39_loss: 75.2178 - val_dense_40_loss: 71.6604 - val_dense_41_loss: 72.5314 - val_dense_42_loss: 72.5850 - val_dense_38_acc: 0.0700 - val_dense_39_acc: 0.0500 - val_dense_40_acc: 0.0633 - val_dense_41_acc: 0.0767 - val_dense_42_acc: 0.0500\n",
            "Epoch 64/100\n",
            "700/700 [==============================] - 3s 4ms/step - loss: 380.7923 - dense_38_loss: 73.8243 - dense_39_loss: 76.6761 - dense_40_loss: 77.5032 - dense_41_loss: 75.0705 - dense_42_loss: 77.7183 - dense_38_acc: 0.0843 - dense_39_acc: 0.0557 - dense_40_acc: 0.0486 - dense_41_acc: 0.0586 - dense_42_acc: 0.0414 - val_loss: 364.1906 - val_dense_38_loss: 72.5314 - val_dense_39_loss: 75.2178 - val_dense_40_loss: 70.6607 - val_dense_41_loss: 72.5314 - val_dense_42_loss: 73.2493 - val_dense_38_acc: 0.0700 - val_dense_39_acc: 0.0500 - val_dense_40_acc: 0.0600 - val_dense_41_acc: 0.0767 - val_dense_42_acc: 0.0500\n",
            "Epoch 65/100\n",
            "700/700 [==============================] - 3s 4ms/step - loss: 379.8306 - dense_38_loss: 74.4286 - dense_39_loss: 77.2053 - dense_40_loss: 76.3264 - dense_41_loss: 76.0774 - dense_42_loss: 75.7930 - dense_38_acc: 0.0714 - dense_39_acc: 0.0471 - dense_40_acc: 0.0443 - dense_41_acc: 0.0629 - dense_42_acc: 0.0514 - val_loss: 364.6420 - val_dense_38_loss: 72.5314 - val_dense_39_loss: 75.2178 - val_dense_40_loss: 72.1794 - val_dense_41_loss: 72.5314 - val_dense_42_loss: 72.1819 - val_dense_38_acc: 0.0700 - val_dense_39_acc: 0.0500 - val_dense_40_acc: 0.0567 - val_dense_41_acc: 0.0767 - val_dense_42_acc: 0.0567\n",
            "Epoch 66/100\n",
            " 30/700 [>.............................] - ETA: 2s - loss: 333.1073 - dense_38_loss: 69.8451 - dense_39_loss: 69.8451 - dense_40_loss: 64.4724 - dense_41_loss: 64.4724 - dense_42_loss: 64.4724 - dense_38_acc: 0.0333 - dense_39_acc: 0.0667 - dense_40_acc: 0.1000 - dense_41_acc: 0.1000 - dense_42_acc: 0.0667        "
          ],
          "name": "stdout"
        },
        {
          "output_type": "stream",
          "text": [
            "700/700 [==============================] - 3s 4ms/step - loss: 375.0953 - dense_38_loss: 72.1398 - dense_39_loss: 76.2156 - dense_40_loss: 76.5817 - dense_41_loss: 75.0878 - dense_42_loss: 75.0705 - dense_38_acc: 0.0771 - dense_39_acc: 0.0543 - dense_40_acc: 0.0386 - dense_41_acc: 0.0614 - dense_42_acc: 0.0571 - val_loss: 365.9608 - val_dense_38_loss: 72.5314 - val_dense_39_loss: 75.2178 - val_dense_40_loss: 70.6466 - val_dense_41_loss: 72.5314 - val_dense_42_loss: 75.0335 - val_dense_38_acc: 0.0700 - val_dense_39_acc: 0.0500 - val_dense_40_acc: 0.0667 - val_dense_41_acc: 0.0767 - val_dense_42_acc: 0.0600\n",
            "Epoch 67/100\n",
            "700/700 [==============================] - 3s 4ms/step - loss: 380.1883 - dense_38_loss: 74.2953 - dense_39_loss: 76.2156 - dense_40_loss: 77.5217 - dense_41_loss: 76.4004 - dense_42_loss: 75.7553 - dense_38_acc: 0.0614 - dense_39_acc: 0.0500 - dense_40_acc: 0.0386 - dense_41_acc: 0.0543 - dense_42_acc: 0.0514 - val_loss: 365.8157 - val_dense_38_loss: 72.5314 - val_dense_39_loss: 75.2178 - val_dense_40_loss: 70.2112 - val_dense_41_loss: 72.5314 - val_dense_42_loss: 75.3238 - val_dense_38_acc: 0.0700 - val_dense_39_acc: 0.0500 - val_dense_40_acc: 0.0767 - val_dense_41_acc: 0.0767 - val_dense_42_acc: 0.0600\n",
            "Epoch 68/100\n",
            "650/700 [==========================>...] - ETA: 0s - loss: 377.5799 - dense_38_loss: 74.2838 - dense_39_loss: 75.6461 - dense_40_loss: 76.4599 - dense_41_loss: 75.4644 - dense_42_loss: 75.7256 - dense_38_acc: 0.0662 - dense_39_acc: 0.0508 - dense_40_acc: 0.0538 - dense_41_acc: 0.0569 - dense_42_acc: 0.0492"
          ],
          "name": "stdout"
        },
        {
          "output_type": "stream",
          "text": [
            "700/700 [==============================] - 3s 4ms/step - loss: 377.8519 - dense_38_loss: 74.2738 - dense_39_loss: 75.7690 - dense_40_loss: 76.1357 - dense_41_loss: 75.8305 - dense_42_loss: 75.8428 - dense_38_acc: 0.0657 - dense_39_acc: 0.0486 - dense_40_acc: 0.0543 - dense_41_acc: 0.0557 - dense_42_acc: 0.0486 - val_loss: 366.4120 - val_dense_38_loss: 72.5314 - val_dense_39_loss: 75.2178 - val_dense_40_loss: 70.4756 - val_dense_41_loss: 72.5314 - val_dense_42_loss: 75.6557 - val_dense_38_acc: 0.0700 - val_dense_39_acc: 0.0500 - val_dense_40_acc: 0.0800 - val_dense_41_acc: 0.0767 - val_dense_42_acc: 0.0600\n",
            "Epoch 69/100\n",
            "700/700 [==============================] - 3s 4ms/step - loss: 377.7768 - dense_38_loss: 74.2356 - dense_39_loss: 75.9853 - dense_40_loss: 76.4892 - dense_41_loss: 75.7551 - dense_42_loss: 75.3116 - dense_38_acc: 0.0671 - dense_39_acc: 0.0571 - dense_40_acc: 0.0371 - dense_41_acc: 0.0571 - dense_42_acc: 0.0657 - val_loss: 366.4788 - val_dense_38_loss: 72.5314 - val_dense_39_loss: 75.2178 - val_dense_40_loss: 70.5310 - val_dense_41_loss: 72.5314 - val_dense_42_loss: 75.6672 - val_dense_38_acc: 0.0700 - val_dense_39_acc: 0.0500 - val_dense_40_acc: 0.0767 - val_dense_41_acc: 0.0767 - val_dense_42_acc: 0.0600\n",
            "Epoch 70/100\n",
            "700/700 [==============================] - 3s 4ms/step - loss: 378.2073 - dense_38_loss: 73.1820 - dense_39_loss: 76.2156 - dense_40_loss: 77.0909 - dense_41_loss: 74.9270 - dense_42_loss: 76.7919 - dense_38_acc: 0.0714 - dense_39_acc: 0.0557 - dense_40_acc: 0.0400 - dense_41_acc: 0.0614 - dense_42_acc: 0.0443 - val_loss: 366.5214 - val_dense_38_loss: 72.5314 - val_dense_39_loss: 75.2178 - val_dense_40_loss: 70.7669 - val_dense_41_loss: 72.5314 - val_dense_42_loss: 75.4739 - val_dense_38_acc: 0.0700 - val_dense_39_acc: 0.0500 - val_dense_40_acc: 0.0733 - val_dense_41_acc: 0.0767 - val_dense_42_acc: 0.0600\n",
            "Epoch 71/100\n",
            " 50/700 [=>............................] - ETA: 2s - loss: 382.6736 - dense_38_loss: 77.3669 - dense_39_loss: 74.1432 - dense_40_loss: 77.3669 - dense_41_loss: 79.6534 - dense_42_loss: 74.1432 - dense_38_acc: 0.0800 - dense_39_acc: 0.0800 - dense_40_acc: 0.0600 - dense_41_acc: 0.0400 - dense_42_acc: 0.0800    "
          ],
          "name": "stdout"
        },
        {
          "output_type": "stream",
          "text": [
            "700/700 [==============================] - 3s 4ms/step - loss: 376.3747 - dense_38_loss: 74.3960 - dense_39_loss: 75.6004 - dense_40_loss: 76.5463 - dense_41_loss: 76.1253 - dense_42_loss: 73.7067 - dense_38_acc: 0.0614 - dense_39_acc: 0.0543 - dense_40_acc: 0.0514 - dense_41_acc: 0.0614 - dense_42_acc: 0.0700 - val_loss: 368.3820 - val_dense_38_loss: 72.5314 - val_dense_39_loss: 75.2178 - val_dense_40_loss: 72.4530 - val_dense_41_loss: 72.5314 - val_dense_42_loss: 75.6484 - val_dense_38_acc: 0.0700 - val_dense_39_acc: 0.0500 - val_dense_40_acc: 0.0600 - val_dense_41_acc: 0.0767 - val_dense_42_acc: 0.0600\n",
            "Epoch 72/100\n",
            "700/700 [==============================] - 3s 4ms/step - loss: 379.8537 - dense_38_loss: 75.2368 - dense_39_loss: 75.0643 - dense_40_loss: 76.7173 - dense_41_loss: 75.4684 - dense_42_loss: 77.3669 - dense_38_acc: 0.0743 - dense_39_acc: 0.0529 - dense_40_acc: 0.0571 - dense_41_acc: 0.0671 - dense_42_acc: 0.0529 - val_loss: 368.1500 - val_dense_38_loss: 72.5314 - val_dense_39_loss: 75.2178 - val_dense_40_loss: 72.7848 - val_dense_41_loss: 72.5314 - val_dense_42_loss: 75.0845 - val_dense_38_acc: 0.0700 - val_dense_39_acc: 0.0500 - val_dense_40_acc: 0.0633 - val_dense_41_acc: 0.0767 - val_dense_42_acc: 0.0600\n",
            "Epoch 73/100\n",
            "650/700 [==========================>...] - ETA: 0s - loss: 380.9688 - dense_38_loss: 77.0147 - dense_39_loss: 75.1351 - dense_40_loss: 76.0409 - dense_41_loss: 76.3750 - dense_42_loss: 76.4030 - dense_38_acc: 0.0569 - dense_39_acc: 0.0554 - dense_40_acc: 0.0446 - dense_41_acc: 0.0492 - dense_42_acc: 0.0446"
          ],
          "name": "stdout"
        },
        {
          "output_type": "stream",
          "text": [
            "700/700 [==============================] - 3s 4ms/step - loss: 380.4667 - dense_38_loss: 76.3491 - dense_39_loss: 75.5248 - dense_40_loss: 75.9054 - dense_41_loss: 76.4458 - dense_42_loss: 76.2416 - dense_38_acc: 0.0600 - dense_39_acc: 0.0514 - dense_40_acc: 0.0457 - dense_41_acc: 0.0486 - dense_42_acc: 0.0471 - val_loss: 369.0177 - val_dense_38_loss: 72.5314 - val_dense_39_loss: 75.2178 - val_dense_40_loss: 73.6060 - val_dense_41_loss: 72.5314 - val_dense_42_loss: 75.1310 - val_dense_38_acc: 0.0700 - val_dense_39_acc: 0.0500 - val_dense_40_acc: 0.0600 - val_dense_41_acc: 0.0767 - val_dense_42_acc: 0.0633\n",
            "Epoch 74/100\n",
            "700/700 [==============================] - 3s 4ms/step - loss: 379.7356 - dense_38_loss: 75.6954 - dense_39_loss: 76.2156 - dense_40_loss: 76.7191 - dense_41_loss: 76.0519 - dense_42_loss: 75.0536 - dense_38_acc: 0.0629 - dense_39_acc: 0.0529 - dense_40_acc: 0.0486 - dense_41_acc: 0.0543 - dense_42_acc: 0.0486 - val_loss: 368.6896 - val_dense_38_loss: 72.5314 - val_dense_39_loss: 75.2178 - val_dense_40_loss: 73.6060 - val_dense_41_loss: 72.5314 - val_dense_42_loss: 74.8030 - val_dense_38_acc: 0.0700 - val_dense_39_acc: 0.0500 - val_dense_40_acc: 0.0600 - val_dense_41_acc: 0.0767 - val_dense_42_acc: 0.0633\n",
            "Epoch 75/100\n",
            "700/700 [==============================] - 3s 4ms/step - loss: 377.9605 - dense_38_loss: 73.2536 - dense_39_loss: 75.6156 - dense_40_loss: 77.9926 - dense_41_loss: 74.9206 - dense_42_loss: 76.1781 - dense_38_acc: 0.0686 - dense_39_acc: 0.0571 - dense_40_acc: 0.0286 - dense_41_acc: 0.0671 - dense_42_acc: 0.0557 - val_loss: 368.0260 - val_dense_38_loss: 72.5314 - val_dense_39_loss: 75.2178 - val_dense_40_loss: 73.6060 - val_dense_41_loss: 72.5314 - val_dense_42_loss: 74.1393 - val_dense_38_acc: 0.0700 - val_dense_39_acc: 0.0500 - val_dense_40_acc: 0.0600 - val_dense_41_acc: 0.0767 - val_dense_42_acc: 0.0633\n",
            "Epoch 76/100\n",
            " 50/700 [=>............................] - ETA: 2s - loss: 372.0865 - dense_38_loss: 74.1432 - dense_39_loss: 72.2899 - dense_40_loss: 74.1432 - dense_41_loss: 74.1432 - dense_42_loss: 77.3669 - dense_38_acc: 0.0800 - dense_39_acc: 0.0800 - dense_40_acc: 0.0600 - dense_41_acc: 0.0600 - dense_42_acc: 0.0400"
          ],
          "name": "stdout"
        },
        {
          "output_type": "stream",
          "text": [
            "700/700 [==============================] - 3s 4ms/step - loss: 374.3205 - dense_38_loss: 72.9699 - dense_39_loss: 75.8529 - dense_40_loss: 76.2995 - dense_41_loss: 74.3014 - dense_42_loss: 74.8967 - dense_38_acc: 0.0757 - dense_39_acc: 0.0557 - dense_40_acc: 0.0500 - dense_41_acc: 0.0629 - dense_42_acc: 0.0486 - val_loss: 369.1885 - val_dense_38_loss: 72.5314 - val_dense_39_loss: 75.2178 - val_dense_40_loss: 73.6060 - val_dense_41_loss: 72.5314 - val_dense_42_loss: 75.3019 - val_dense_38_acc: 0.0700 - val_dense_39_acc: 0.0500 - val_dense_40_acc: 0.0600 - val_dense_41_acc: 0.0767 - val_dense_42_acc: 0.0633\n",
            "Epoch 77/100\n",
            "700/700 [==============================] - 3s 4ms/step - loss: 377.6735 - dense_38_loss: 75.0643 - dense_39_loss: 75.7550 - dense_40_loss: 77.3120 - dense_41_loss: 75.2853 - dense_42_loss: 74.2568 - dense_38_acc: 0.0614 - dense_39_acc: 0.0557 - dense_40_acc: 0.0429 - dense_41_acc: 0.0671 - dense_42_acc: 0.0629 - val_loss: 369.2586 - val_dense_38_loss: 72.5314 - val_dense_39_loss: 75.2178 - val_dense_40_loss: 73.6060 - val_dense_41_loss: 72.5314 - val_dense_42_loss: 75.3720 - val_dense_38_acc: 0.0700 - val_dense_39_acc: 0.0500 - val_dense_40_acc: 0.0600 - val_dense_41_acc: 0.0767 - val_dense_42_acc: 0.0633\n",
            "Epoch 78/100\n",
            "650/700 [==========================>...] - ETA: 0s - loss: 377.6846 - dense_38_loss: 74.2416 - dense_39_loss: 75.3377 - dense_40_loss: 75.8980 - dense_41_loss: 76.8426 - dense_42_loss: 75.3646 - dense_38_acc: 0.0692 - dense_39_acc: 0.0538 - dense_40_acc: 0.0446 - dense_41_acc: 0.0646 - dense_42_acc: 0.0662"
          ],
          "name": "stdout"
        },
        {
          "output_type": "stream",
          "text": [
            "700/700 [==============================] - 3s 4ms/step - loss: 378.1869 - dense_38_loss: 74.4649 - dense_39_loss: 75.7129 - dense_40_loss: 76.2332 - dense_41_loss: 76.7798 - dense_42_loss: 74.9961 - dense_38_acc: 0.0671 - dense_39_acc: 0.0557 - dense_40_acc: 0.0443 - dense_41_acc: 0.0629 - dense_42_acc: 0.0671 - val_loss: 369.6165 - val_dense_38_loss: 72.5314 - val_dense_39_loss: 75.2178 - val_dense_40_loss: 73.6060 - val_dense_41_loss: 72.5314 - val_dense_42_loss: 75.7298 - val_dense_38_acc: 0.0700 - val_dense_39_acc: 0.0500 - val_dense_40_acc: 0.0600 - val_dense_41_acc: 0.0767 - val_dense_42_acc: 0.0633\n",
            "Epoch 79/100\n",
            "700/700 [==============================] - 3s 4ms/step - loss: 378.8603 - dense_38_loss: 75.0769 - dense_39_loss: 76.4458 - dense_40_loss: 76.9697 - dense_41_loss: 75.6181 - dense_42_loss: 74.7498 - dense_38_acc: 0.0671 - dense_39_acc: 0.0543 - dense_40_acc: 0.0443 - dense_41_acc: 0.0629 - dense_42_acc: 0.0614 - val_loss: 369.0496 - val_dense_38_loss: 72.5314 - val_dense_39_loss: 75.2178 - val_dense_40_loss: 73.6060 - val_dense_41_loss: 72.5314 - val_dense_42_loss: 75.1630 - val_dense_38_acc: 0.0700 - val_dense_39_acc: 0.0500 - val_dense_40_acc: 0.0600 - val_dense_41_acc: 0.0767 - val_dense_42_acc: 0.0633\n",
            "Epoch 80/100\n",
            "700/700 [==============================] - 3s 4ms/step - loss: 376.6520 - dense_38_loss: 74.1235 - dense_39_loss: 75.5248 - dense_40_loss: 76.8630 - dense_41_loss: 74.3227 - dense_42_loss: 75.8180 - dense_38_acc: 0.0729 - dense_39_acc: 0.0571 - dense_40_acc: 0.0414 - dense_41_acc: 0.0657 - dense_42_acc: 0.0600 - val_loss: 369.5440 - val_dense_38_loss: 72.5314 - val_dense_39_loss: 75.2178 - val_dense_40_loss: 73.6060 - val_dense_41_loss: 72.5314 - val_dense_42_loss: 75.6574 - val_dense_38_acc: 0.0700 - val_dense_39_acc: 0.0500 - val_dense_40_acc: 0.0600 - val_dense_41_acc: 0.0767 - val_dense_42_acc: 0.0633\n",
            "Epoch 81/100\n",
            " 50/700 [=>............................] - ETA: 2s - loss: 373.9398 - dense_38_loss: 67.6960 - dense_39_loss: 77.3669 - dense_40_loss: 80.5905 - dense_41_loss: 77.3669 - dense_42_loss: 70.9196 - dense_38_acc: 0.1200 - dense_39_acc: 0.0600 - dense_40_acc: 0.0200 - dense_41_acc: 0.0400 - dense_42_acc: 0.0600"
          ],
          "name": "stdout"
        },
        {
          "output_type": "stream",
          "text": [
            "700/700 [==============================] - 3s 4ms/step - loss: 378.2131 - dense_38_loss: 73.8510 - dense_39_loss: 76.6761 - dense_40_loss: 77.2232 - dense_41_loss: 75.2838 - dense_42_loss: 75.1791 - dense_38_acc: 0.0700 - dense_39_acc: 0.0571 - dense_40_acc: 0.0400 - dense_41_acc: 0.0657 - dense_42_acc: 0.0586 - val_loss: 369.6417 - val_dense_38_loss: 72.5314 - val_dense_39_loss: 75.2178 - val_dense_40_loss: 73.6060 - val_dense_41_loss: 72.5314 - val_dense_42_loss: 75.7550 - val_dense_38_acc: 0.0700 - val_dense_39_acc: 0.0500 - val_dense_40_acc: 0.0600 - val_dense_41_acc: 0.0767 - val_dense_42_acc: 0.0600\n",
            "Epoch 82/100\n",
            "700/700 [==============================] - 3s 4ms/step - loss: 376.3286 - dense_38_loss: 75.5755 - dense_39_loss: 75.7550 - dense_40_loss: 75.4512 - dense_41_loss: 74.8858 - dense_42_loss: 74.6610 - dense_38_acc: 0.0686 - dense_39_acc: 0.0500 - dense_40_acc: 0.0457 - dense_41_acc: 0.0629 - dense_42_acc: 0.0571 - val_loss: 369.6417 - val_dense_38_loss: 72.5314 - val_dense_39_loss: 75.2178 - val_dense_40_loss: 73.6060 - val_dense_41_loss: 72.5314 - val_dense_42_loss: 75.7550 - val_dense_38_acc: 0.0700 - val_dense_39_acc: 0.0500 - val_dense_40_acc: 0.0600 - val_dense_41_acc: 0.0767 - val_dense_42_acc: 0.0600\n",
            "Epoch 83/100\n",
            "670/700 [===========================>..] - ETA: 0s - loss: 373.6065 - dense_38_loss: 73.9228 - dense_39_loss: 75.9077 - dense_40_loss: 76.9711 - dense_41_loss: 73.4329 - dense_42_loss: 73.3720 - dense_38_acc: 0.0672 - dense_39_acc: 0.0537 - dense_40_acc: 0.0418 - dense_41_acc: 0.0657 - dense_42_acc: 0.0746"
          ],
          "name": "stdout"
        },
        {
          "output_type": "stream",
          "text": [
            "700/700 [==============================] - 3s 4ms/step - loss: 373.7129 - dense_38_loss: 73.7480 - dense_39_loss: 75.8781 - dense_40_loss: 76.8960 - dense_41_loss: 73.5094 - dense_42_loss: 73.6814 - dense_38_acc: 0.0686 - dense_39_acc: 0.0529 - dense_40_acc: 0.0429 - dense_41_acc: 0.0657 - dense_42_acc: 0.0729 - val_loss: 369.6417 - val_dense_38_loss: 72.5314 - val_dense_39_loss: 75.2178 - val_dense_40_loss: 73.6060 - val_dense_41_loss: 72.5314 - val_dense_42_loss: 75.7550 - val_dense_38_acc: 0.0700 - val_dense_39_acc: 0.0500 - val_dense_40_acc: 0.0600 - val_dense_41_acc: 0.0767 - val_dense_42_acc: 0.0600\n",
            "Epoch 84/100\n",
            "700/700 [==============================] - 3s 4ms/step - loss: 378.4055 - dense_38_loss: 73.9734 - dense_39_loss: 76.2156 - dense_40_loss: 76.3899 - dense_41_loss: 76.9595 - dense_42_loss: 74.8672 - dense_38_acc: 0.0700 - dense_39_acc: 0.0543 - dense_40_acc: 0.0529 - dense_41_acc: 0.0586 - dense_42_acc: 0.0671 - val_loss: 369.6417 - val_dense_38_loss: 72.5314 - val_dense_39_loss: 75.2178 - val_dense_40_loss: 73.6060 - val_dense_41_loss: 72.5314 - val_dense_42_loss: 75.7550 - val_dense_38_acc: 0.0700 - val_dense_39_acc: 0.0500 - val_dense_40_acc: 0.0600 - val_dense_41_acc: 0.0767 - val_dense_42_acc: 0.0600\n",
            "Epoch 85/100\n",
            "700/700 [==============================] - 3s 4ms/step - loss: 375.3690 - dense_38_loss: 72.4729 - dense_39_loss: 76.1443 - dense_40_loss: 75.2944 - dense_41_loss: 75.7155 - dense_42_loss: 75.7418 - dense_38_acc: 0.0771 - dense_39_acc: 0.0543 - dense_40_acc: 0.0571 - dense_41_acc: 0.0586 - dense_42_acc: 0.0486 - val_loss: 369.6417 - val_dense_38_loss: 72.5314 - val_dense_39_loss: 75.2178 - val_dense_40_loss: 73.6060 - val_dense_41_loss: 72.5314 - val_dense_42_loss: 75.7550 - val_dense_38_acc: 0.0700 - val_dense_39_acc: 0.0500 - val_dense_40_acc: 0.0600 - val_dense_41_acc: 0.0767 - val_dense_42_acc: 0.0600\n",
            "Epoch 86/100\n",
            " 50/700 [=>............................] - ETA: 2s - loss: 370.1456 - dense_38_loss: 80.5905 - dense_39_loss: 74.1432 - dense_40_loss: 74.1432 - dense_41_loss: 74.1432 - dense_42_loss: 67.1254 - dense_38_acc: 0.0400 - dense_39_acc: 0.0600 - dense_40_acc: 0.0400 - dense_41_acc: 0.1000 - dense_42_acc: 0.0800"
          ],
          "name": "stdout"
        },
        {
          "output_type": "stream",
          "text": [
            "700/700 [==============================] - 3s 4ms/step - loss: 375.9586 - dense_38_loss: 74.6551 - dense_39_loss: 76.0255 - dense_40_loss: 76.4473 - dense_41_loss: 73.7907 - dense_42_loss: 75.0401 - dense_38_acc: 0.0657 - dense_39_acc: 0.0500 - dense_40_acc: 0.0471 - dense_41_acc: 0.0700 - dense_42_acc: 0.0529 - val_loss: 369.6417 - val_dense_38_loss: 72.5314 - val_dense_39_loss: 75.2178 - val_dense_40_loss: 73.6060 - val_dense_41_loss: 72.5314 - val_dense_42_loss: 75.7550 - val_dense_38_acc: 0.0700 - val_dense_39_acc: 0.0500 - val_dense_40_acc: 0.0600 - val_dense_41_acc: 0.0767 - val_dense_42_acc: 0.0600\n",
            "Epoch 87/100\n",
            "700/700 [==============================] - 3s 4ms/step - loss: 382.2359 - dense_38_loss: 76.6332 - dense_39_loss: 76.4458 - dense_40_loss: 78.0577 - dense_41_loss: 74.8978 - dense_42_loss: 76.2013 - dense_38_acc: 0.0586 - dense_39_acc: 0.0529 - dense_40_acc: 0.0400 - dense_41_acc: 0.0629 - dense_42_acc: 0.0500 - val_loss: 369.6417 - val_dense_38_loss: 72.5314 - val_dense_39_loss: 75.2178 - val_dense_40_loss: 73.6060 - val_dense_41_loss: 72.5314 - val_dense_42_loss: 75.7550 - val_dense_38_acc: 0.0700 - val_dense_39_acc: 0.0500 - val_dense_40_acc: 0.0600 - val_dense_41_acc: 0.0767 - val_dense_42_acc: 0.0600\n",
            "Epoch 88/100\n",
            "690/700 [============================>.] - ETA: 0s - loss: 375.5885 - dense_38_loss: 74.2058 - dense_39_loss: 76.8532 - dense_40_loss: 75.4514 - dense_41_loss: 74.5170 - dense_42_loss: 74.5610 - dense_38_acc: 0.0725 - dense_39_acc: 0.0536 - dense_40_acc: 0.0536 - dense_41_acc: 0.0710 - dense_42_acc: 0.0536"
          ],
          "name": "stdout"
        },
        {
          "output_type": "stream",
          "text": [
            "700/700 [==============================] - 3s 4ms/step - loss: 375.7491 - dense_38_loss: 74.0668 - dense_39_loss: 76.9066 - dense_40_loss: 75.5248 - dense_41_loss: 74.6038 - dense_42_loss: 74.6472 - dense_38_acc: 0.0729 - dense_39_acc: 0.0529 - dense_40_acc: 0.0529 - dense_41_acc: 0.0714 - dense_42_acc: 0.0543 - val_loss: 369.6417 - val_dense_38_loss: 72.5314 - val_dense_39_loss: 75.2178 - val_dense_40_loss: 73.6060 - val_dense_41_loss: 72.5314 - val_dense_42_loss: 75.7550 - val_dense_38_acc: 0.0700 - val_dense_39_acc: 0.0500 - val_dense_40_acc: 0.0600 - val_dense_41_acc: 0.0767 - val_dense_42_acc: 0.0600\n",
            "Epoch 89/100\n",
            "700/700 [==============================] - 3s 4ms/step - loss: 377.5082 - dense_38_loss: 75.0021 - dense_39_loss: 76.6761 - dense_40_loss: 75.3713 - dense_41_loss: 73.4525 - dense_42_loss: 77.0064 - dense_38_acc: 0.0686 - dense_39_acc: 0.0514 - dense_40_acc: 0.0471 - dense_41_acc: 0.0671 - dense_42_acc: 0.0529 - val_loss: 369.6417 - val_dense_38_loss: 72.5314 - val_dense_39_loss: 75.2178 - val_dense_40_loss: 73.6060 - val_dense_41_loss: 72.5314 - val_dense_42_loss: 75.7550 - val_dense_38_acc: 0.0700 - val_dense_39_acc: 0.0500 - val_dense_40_acc: 0.0600 - val_dense_41_acc: 0.0767 - val_dense_42_acc: 0.0600\n",
            "Epoch 90/100\n",
            "150/700 [=====>........................] - ETA: 1s - loss: 382.3297 - dense_38_loss: 77.3669 - dense_39_loss: 75.7135 - dense_40_loss: 77.7409 - dense_41_loss: 79.5159 - dense_42_loss: 71.9925 - dense_38_acc: 0.0533 - dense_39_acc: 0.0400 - dense_40_acc: 0.0200 - dense_41_acc: 0.0400 - dense_42_acc: 0.0733"
          ],
          "name": "stdout"
        },
        {
          "output_type": "error",
          "ename": "KeyboardInterrupt",
          "evalue": "ignored",
          "traceback": [
            "\u001b[0;31m---------------------------------------------------------------------------\u001b[0m",
            "\u001b[0;31mKeyboardInterrupt\u001b[0m                         Traceback (most recent call last)",
            "\u001b[0;32m<ipython-input-30-747f49cb4e94>\u001b[0m in \u001b[0;36m<module>\u001b[0;34m()\u001b[0m\n\u001b[1;32m      1\u001b[0m model.fit(X_train, train_lst, batch_size=batch_size, epochs=nb_epoch,\n\u001b[0;32m----> 2\u001b[0;31m             verbose=1, validation_data=(X_test,test_lst))\n\u001b[0m",
            "\u001b[0;32m/usr/local/lib/python3.6/dist-packages/keras/engine/training.py\u001b[0m in \u001b[0;36mfit\u001b[0;34m(self, x, y, batch_size, epochs, verbose, callbacks, validation_split, validation_data, shuffle, class_weight, sample_weight, initial_epoch, steps_per_epoch, validation_steps, **kwargs)\u001b[0m\n\u001b[1;32m   1703\u001b[0m                               \u001b[0minitial_epoch\u001b[0m\u001b[0;34m=\u001b[0m\u001b[0minitial_epoch\u001b[0m\u001b[0;34m,\u001b[0m\u001b[0;34m\u001b[0m\u001b[0m\n\u001b[1;32m   1704\u001b[0m                               \u001b[0msteps_per_epoch\u001b[0m\u001b[0;34m=\u001b[0m\u001b[0msteps_per_epoch\u001b[0m\u001b[0;34m,\u001b[0m\u001b[0;34m\u001b[0m\u001b[0m\n\u001b[0;32m-> 1705\u001b[0;31m                               validation_steps=validation_steps)\n\u001b[0m\u001b[1;32m   1706\u001b[0m \u001b[0;34m\u001b[0m\u001b[0m\n\u001b[1;32m   1707\u001b[0m     def evaluate(self, x=None, y=None,\n",
            "\u001b[0;32m/usr/local/lib/python3.6/dist-packages/keras/engine/training.py\u001b[0m in \u001b[0;36m_fit_loop\u001b[0;34m(self, f, ins, out_labels, batch_size, epochs, verbose, callbacks, val_f, val_ins, shuffle, callback_metrics, initial_epoch, steps_per_epoch, validation_steps)\u001b[0m\n\u001b[1;32m   1234\u001b[0m                         \u001b[0mins_batch\u001b[0m\u001b[0;34m[\u001b[0m\u001b[0mi\u001b[0m\u001b[0;34m]\u001b[0m \u001b[0;34m=\u001b[0m \u001b[0mins_batch\u001b[0m\u001b[0;34m[\u001b[0m\u001b[0mi\u001b[0m\u001b[0;34m]\u001b[0m\u001b[0;34m.\u001b[0m\u001b[0mtoarray\u001b[0m\u001b[0;34m(\u001b[0m\u001b[0;34m)\u001b[0m\u001b[0;34m\u001b[0m\u001b[0m\n\u001b[1;32m   1235\u001b[0m \u001b[0;34m\u001b[0m\u001b[0m\n\u001b[0;32m-> 1236\u001b[0;31m                     \u001b[0mouts\u001b[0m \u001b[0;34m=\u001b[0m \u001b[0mf\u001b[0m\u001b[0;34m(\u001b[0m\u001b[0mins_batch\u001b[0m\u001b[0;34m)\u001b[0m\u001b[0;34m\u001b[0m\u001b[0m\n\u001b[0m\u001b[1;32m   1237\u001b[0m                     \u001b[0;32mif\u001b[0m \u001b[0;32mnot\u001b[0m \u001b[0misinstance\u001b[0m\u001b[0;34m(\u001b[0m\u001b[0mouts\u001b[0m\u001b[0;34m,\u001b[0m \u001b[0mlist\u001b[0m\u001b[0;34m)\u001b[0m\u001b[0;34m:\u001b[0m\u001b[0;34m\u001b[0m\u001b[0m\n\u001b[1;32m   1238\u001b[0m                         \u001b[0mouts\u001b[0m \u001b[0;34m=\u001b[0m \u001b[0;34m[\u001b[0m\u001b[0mouts\u001b[0m\u001b[0;34m]\u001b[0m\u001b[0;34m\u001b[0m\u001b[0m\n",
            "\u001b[0;32m/usr/local/lib/python3.6/dist-packages/keras/backend/tensorflow_backend.py\u001b[0m in \u001b[0;36m__call__\u001b[0;34m(self, inputs)\u001b[0m\n\u001b[1;32m   2480\u001b[0m         \u001b[0msession\u001b[0m \u001b[0;34m=\u001b[0m \u001b[0mget_session\u001b[0m\u001b[0;34m(\u001b[0m\u001b[0;34m)\u001b[0m\u001b[0;34m\u001b[0m\u001b[0m\n\u001b[1;32m   2481\u001b[0m         updated = session.run(fetches=fetches, feed_dict=feed_dict,\n\u001b[0;32m-> 2482\u001b[0;31m                               **self.session_kwargs)\n\u001b[0m\u001b[1;32m   2483\u001b[0m         \u001b[0;32mreturn\u001b[0m \u001b[0mupdated\u001b[0m\u001b[0;34m[\u001b[0m\u001b[0;34m:\u001b[0m\u001b[0mlen\u001b[0m\u001b[0;34m(\u001b[0m\u001b[0mself\u001b[0m\u001b[0;34m.\u001b[0m\u001b[0moutputs\u001b[0m\u001b[0;34m)\u001b[0m\u001b[0;34m]\u001b[0m\u001b[0;34m\u001b[0m\u001b[0m\n\u001b[1;32m   2484\u001b[0m \u001b[0;34m\u001b[0m\u001b[0m\n",
            "\u001b[0;32m/usr/local/lib/python3.6/dist-packages/tensorflow/python/client/session.py\u001b[0m in \u001b[0;36mrun\u001b[0;34m(self, fetches, feed_dict, options, run_metadata)\u001b[0m\n\u001b[1;32m    898\u001b[0m     \u001b[0;32mtry\u001b[0m\u001b[0;34m:\u001b[0m\u001b[0;34m\u001b[0m\u001b[0m\n\u001b[1;32m    899\u001b[0m       result = self._run(None, fetches, feed_dict, options_ptr,\n\u001b[0;32m--> 900\u001b[0;31m                          run_metadata_ptr)\n\u001b[0m\u001b[1;32m    901\u001b[0m       \u001b[0;32mif\u001b[0m \u001b[0mrun_metadata\u001b[0m\u001b[0;34m:\u001b[0m\u001b[0;34m\u001b[0m\u001b[0m\n\u001b[1;32m    902\u001b[0m         \u001b[0mproto_data\u001b[0m \u001b[0;34m=\u001b[0m \u001b[0mtf_session\u001b[0m\u001b[0;34m.\u001b[0m\u001b[0mTF_GetBuffer\u001b[0m\u001b[0;34m(\u001b[0m\u001b[0mrun_metadata_ptr\u001b[0m\u001b[0;34m)\u001b[0m\u001b[0;34m\u001b[0m\u001b[0m\n",
            "\u001b[0;32m/usr/local/lib/python3.6/dist-packages/tensorflow/python/client/session.py\u001b[0m in \u001b[0;36m_run\u001b[0;34m(self, handle, fetches, feed_dict, options, run_metadata)\u001b[0m\n\u001b[1;32m   1133\u001b[0m     \u001b[0;32mif\u001b[0m \u001b[0mfinal_fetches\u001b[0m \u001b[0;32mor\u001b[0m \u001b[0mfinal_targets\u001b[0m \u001b[0;32mor\u001b[0m \u001b[0;34m(\u001b[0m\u001b[0mhandle\u001b[0m \u001b[0;32mand\u001b[0m \u001b[0mfeed_dict_tensor\u001b[0m\u001b[0;34m)\u001b[0m\u001b[0;34m:\u001b[0m\u001b[0;34m\u001b[0m\u001b[0m\n\u001b[1;32m   1134\u001b[0m       results = self._do_run(handle, final_targets, final_fetches,\n\u001b[0;32m-> 1135\u001b[0;31m                              feed_dict_tensor, options, run_metadata)\n\u001b[0m\u001b[1;32m   1136\u001b[0m     \u001b[0;32melse\u001b[0m\u001b[0;34m:\u001b[0m\u001b[0;34m\u001b[0m\u001b[0m\n\u001b[1;32m   1137\u001b[0m       \u001b[0mresults\u001b[0m \u001b[0;34m=\u001b[0m \u001b[0;34m[\u001b[0m\u001b[0;34m]\u001b[0m\u001b[0;34m\u001b[0m\u001b[0m\n",
            "\u001b[0;32m/usr/local/lib/python3.6/dist-packages/tensorflow/python/client/session.py\u001b[0m in \u001b[0;36m_do_run\u001b[0;34m(self, handle, target_list, fetch_list, feed_dict, options, run_metadata)\u001b[0m\n\u001b[1;32m   1314\u001b[0m     \u001b[0;32mif\u001b[0m \u001b[0mhandle\u001b[0m \u001b[0;32mis\u001b[0m \u001b[0;32mNone\u001b[0m\u001b[0;34m:\u001b[0m\u001b[0;34m\u001b[0m\u001b[0m\n\u001b[1;32m   1315\u001b[0m       return self._do_call(_run_fn, feeds, fetches, targets, options,\n\u001b[0;32m-> 1316\u001b[0;31m                            run_metadata)\n\u001b[0m\u001b[1;32m   1317\u001b[0m     \u001b[0;32melse\u001b[0m\u001b[0;34m:\u001b[0m\u001b[0;34m\u001b[0m\u001b[0m\n\u001b[1;32m   1318\u001b[0m       \u001b[0;32mreturn\u001b[0m \u001b[0mself\u001b[0m\u001b[0;34m.\u001b[0m\u001b[0m_do_call\u001b[0m\u001b[0;34m(\u001b[0m\u001b[0m_prun_fn\u001b[0m\u001b[0;34m,\u001b[0m \u001b[0mhandle\u001b[0m\u001b[0;34m,\u001b[0m \u001b[0mfeeds\u001b[0m\u001b[0;34m,\u001b[0m \u001b[0mfetches\u001b[0m\u001b[0;34m)\u001b[0m\u001b[0;34m\u001b[0m\u001b[0m\n",
            "\u001b[0;32m/usr/local/lib/python3.6/dist-packages/tensorflow/python/client/session.py\u001b[0m in \u001b[0;36m_do_call\u001b[0;34m(self, fn, *args)\u001b[0m\n\u001b[1;32m   1320\u001b[0m   \u001b[0;32mdef\u001b[0m \u001b[0m_do_call\u001b[0m\u001b[0;34m(\u001b[0m\u001b[0mself\u001b[0m\u001b[0;34m,\u001b[0m \u001b[0mfn\u001b[0m\u001b[0;34m,\u001b[0m \u001b[0;34m*\u001b[0m\u001b[0margs\u001b[0m\u001b[0;34m)\u001b[0m\u001b[0;34m:\u001b[0m\u001b[0;34m\u001b[0m\u001b[0m\n\u001b[1;32m   1321\u001b[0m     \u001b[0;32mtry\u001b[0m\u001b[0;34m:\u001b[0m\u001b[0;34m\u001b[0m\u001b[0m\n\u001b[0;32m-> 1322\u001b[0;31m       \u001b[0;32mreturn\u001b[0m \u001b[0mfn\u001b[0m\u001b[0;34m(\u001b[0m\u001b[0;34m*\u001b[0m\u001b[0margs\u001b[0m\u001b[0;34m)\u001b[0m\u001b[0;34m\u001b[0m\u001b[0m\n\u001b[0m\u001b[1;32m   1323\u001b[0m     \u001b[0;32mexcept\u001b[0m \u001b[0merrors\u001b[0m\u001b[0;34m.\u001b[0m\u001b[0mOpError\u001b[0m \u001b[0;32mas\u001b[0m \u001b[0me\u001b[0m\u001b[0;34m:\u001b[0m\u001b[0;34m\u001b[0m\u001b[0m\n\u001b[1;32m   1324\u001b[0m       \u001b[0mmessage\u001b[0m \u001b[0;34m=\u001b[0m \u001b[0mcompat\u001b[0m\u001b[0;34m.\u001b[0m\u001b[0mas_text\u001b[0m\u001b[0;34m(\u001b[0m\u001b[0me\u001b[0m\u001b[0;34m.\u001b[0m\u001b[0mmessage\u001b[0m\u001b[0;34m)\u001b[0m\u001b[0;34m\u001b[0m\u001b[0m\n",
            "\u001b[0;32m/usr/local/lib/python3.6/dist-packages/tensorflow/python/client/session.py\u001b[0m in \u001b[0;36m_run_fn\u001b[0;34m(feed_dict, fetch_list, target_list, options, run_metadata)\u001b[0m\n\u001b[1;32m   1305\u001b[0m       \u001b[0mself\u001b[0m\u001b[0;34m.\u001b[0m\u001b[0m_extend_graph\u001b[0m\u001b[0;34m(\u001b[0m\u001b[0;34m)\u001b[0m\u001b[0;34m\u001b[0m\u001b[0m\n\u001b[1;32m   1306\u001b[0m       return self._call_tf_sessionrun(\n\u001b[0;32m-> 1307\u001b[0;31m           options, feed_dict, fetch_list, target_list, run_metadata)\n\u001b[0m\u001b[1;32m   1308\u001b[0m \u001b[0;34m\u001b[0m\u001b[0m\n\u001b[1;32m   1309\u001b[0m     \u001b[0;32mdef\u001b[0m \u001b[0m_prun_fn\u001b[0m\u001b[0;34m(\u001b[0m\u001b[0mhandle\u001b[0m\u001b[0;34m,\u001b[0m \u001b[0mfeed_dict\u001b[0m\u001b[0;34m,\u001b[0m \u001b[0mfetch_list\u001b[0m\u001b[0;34m)\u001b[0m\u001b[0;34m:\u001b[0m\u001b[0;34m\u001b[0m\u001b[0m\n",
            "\u001b[0;32m/usr/local/lib/python3.6/dist-packages/tensorflow/python/client/session.py\u001b[0m in \u001b[0;36m_call_tf_sessionrun\u001b[0;34m(self, options, feed_dict, fetch_list, target_list, run_metadata)\u001b[0m\n\u001b[1;32m   1407\u001b[0m       return tf_session.TF_SessionRun_wrapper(\n\u001b[1;32m   1408\u001b[0m           \u001b[0mself\u001b[0m\u001b[0;34m.\u001b[0m\u001b[0m_session\u001b[0m\u001b[0;34m,\u001b[0m \u001b[0moptions\u001b[0m\u001b[0;34m,\u001b[0m \u001b[0mfeed_dict\u001b[0m\u001b[0;34m,\u001b[0m \u001b[0mfetch_list\u001b[0m\u001b[0;34m,\u001b[0m \u001b[0mtarget_list\u001b[0m\u001b[0;34m,\u001b[0m\u001b[0;34m\u001b[0m\u001b[0m\n\u001b[0;32m-> 1409\u001b[0;31m           run_metadata)\n\u001b[0m\u001b[1;32m   1410\u001b[0m     \u001b[0;32melse\u001b[0m\u001b[0;34m:\u001b[0m\u001b[0;34m\u001b[0m\u001b[0m\n\u001b[1;32m   1411\u001b[0m       \u001b[0;32mwith\u001b[0m \u001b[0merrors\u001b[0m\u001b[0;34m.\u001b[0m\u001b[0mraise_exception_on_not_ok_status\u001b[0m\u001b[0;34m(\u001b[0m\u001b[0;34m)\u001b[0m \u001b[0;32mas\u001b[0m \u001b[0mstatus\u001b[0m\u001b[0;34m:\u001b[0m\u001b[0;34m\u001b[0m\u001b[0m\n",
            "\u001b[0;31mKeyboardInterrupt\u001b[0m: "
          ]
        }
      ]
    },
    {
      "metadata": {
        "id": "0pS531PiE7XH",
        "colab_type": "code",
        "colab": {
          "base_uri": "https://localhost:8080/",
          "height": 2478
        },
        "outputId": "a4b79030-131e-43df-e7c5-68cd38587b46"
      },
      "cell_type": "code",
      "source": [
        "model.fit(X_train, y_train, batch_size=batch_size, epochs=nb_epoch,\n",
        "            verbose=1, validation_data=(X_test,y_test))"
      ],
      "execution_count": 0,
      "outputs": [
        {
          "output_type": "stream",
          "text": [
            "Train on 5500 samples, validate on 500 samples\n",
            "Epoch 1/100\n",
            "5500/5500 [==============================] - 43s 8ms/step - loss: 25.2689 - acc: 0.0204 - val_loss: 22.1700 - val_acc: 0.0280\n",
            "Epoch 2/100\n",
            "5500/5500 [==============================] - 34s 6ms/step - loss: 21.8578 - acc: 0.0862 - val_loss: 22.6610 - val_acc: 0.0640\n",
            "Epoch 3/100\n",
            "5500/5500 [==============================] - 35s 6ms/step - loss: 18.8426 - acc: 0.1680 - val_loss: 22.4841 - val_acc: 0.0480\n",
            "Epoch 4/100\n",
            "5500/5500 [==============================] - 35s 6ms/step - loss: 16.1464 - acc: 0.2247 - val_loss: 24.6651 - val_acc: 0.0100\n",
            "Epoch 5/100\n",
            "3000/5500 [===============>..............] - ETA: 14s - loss: 14.2210 - acc: 0.2443"
          ],
          "name": "stdout"
        },
        {
          "output_type": "stream",
          "text": [
            "5500/5500 [==============================] - 35s 6ms/step - loss: 14.2773 - acc: 0.2415 - val_loss: 26.7780 - val_acc: 0.0260\n",
            "Epoch 6/100\n",
            "5500/5500 [==============================] - 35s 6ms/step - loss: 13.1220 - acc: 0.2347 - val_loss: 29.0632 - val_acc: 0.0480\n",
            "Epoch 7/100\n",
            "5500/5500 [==============================] - 35s 6ms/step - loss: 12.4929 - acc: 0.2282 - val_loss: 34.5680 - val_acc: 0.0220\n",
            "Epoch 8/100\n",
            "5500/5500 [==============================] - 35s 6ms/step - loss: 12.0773 - acc: 0.2275 - val_loss: 34.1477 - val_acc: 0.0060\n",
            "Epoch 9/100\n",
            "5500/5500 [==============================] - 35s 6ms/step - loss: 11.7684 - acc: 0.2129 - val_loss: 35.1606 - val_acc: 0.0280\n",
            "Epoch 10/100\n",
            " 100/5500 [..............................] - ETA: 30s - loss: 11.4504 - acc: 0.1700"
          ],
          "name": "stdout"
        },
        {
          "output_type": "stream",
          "text": [
            "5500/5500 [==============================] - 35s 6ms/step - loss: 11.5018 - acc: 0.2198 - val_loss: 32.9730 - val_acc: 0.0020\n",
            "Epoch 11/100\n",
            "5500/5500 [==============================] - 35s 6ms/step - loss: 11.2834 - acc: 0.2125 - val_loss: 35.7876 - val_acc: 0.0000e+00\n",
            "Epoch 12/100\n",
            "5500/5500 [==============================] - 35s 6ms/step - loss: 11.1757 - acc: 0.2089 - val_loss: 32.1775 - val_acc: 0.0160\n",
            "Epoch 13/100\n",
            "5500/5500 [==============================] - 34s 6ms/step - loss: 11.0493 - acc: 0.2127 - val_loss: 32.8633 - val_acc: 0.0060\n",
            "Epoch 14/100\n",
            "5200/5500 [===========================>..] - ETA: 1s - loss: 10.9204 - acc: 0.2052"
          ],
          "name": "stdout"
        },
        {
          "output_type": "stream",
          "text": [
            "5500/5500 [==============================] - 35s 6ms/step - loss: 10.9177 - acc: 0.2044 - val_loss: 30.0162 - val_acc: 0.0240\n",
            "Epoch 15/100\n",
            "5500/5500 [==============================] - 35s 6ms/step - loss: 10.7762 - acc: 0.2058 - val_loss: 34.8518 - val_acc: 0.0060\n",
            "Epoch 16/100\n",
            "5500/5500 [==============================] - 35s 6ms/step - loss: 10.7078 - acc: 0.2122 - val_loss: 35.9082 - val_acc: 0.0060\n",
            "Epoch 17/100\n",
            "5500/5500 [==============================] - 35s 6ms/step - loss: 10.6309 - acc: 0.2084 - val_loss: 34.8384 - val_acc: 0.0000e+00\n",
            "Epoch 18/100\n",
            "5500/5500 [==============================] - 35s 6ms/step - loss: 10.5851 - acc: 0.2060 - val_loss: 33.1622 - val_acc: 0.0080\n",
            "Epoch 19/100\n",
            " 300/5500 [>.............................] - ETA: 29s - loss: 10.3291 - acc: 0.2167"
          ],
          "name": "stdout"
        },
        {
          "output_type": "stream",
          "text": [
            "5500/5500 [==============================] - 35s 6ms/step - loss: 10.4627 - acc: 0.2102 - val_loss: 35.1813 - val_acc: 0.0100\n",
            "Epoch 20/100\n",
            "5500/5500 [==============================] - 35s 6ms/step - loss: 10.4272 - acc: 0.2087 - val_loss: 34.0734 - val_acc: 0.0140\n",
            "Epoch 21/100\n",
            "5500/5500 [==============================] - 35s 6ms/step - loss: 10.3665 - acc: 0.2067 - val_loss: 36.9413 - val_acc: 0.0020\n",
            "Epoch 22/100\n",
            "5500/5500 [==============================] - 35s 6ms/step - loss: 10.3583 - acc: 0.2080 - val_loss: 33.4993 - val_acc: 0.0160\n",
            "Epoch 23/100\n",
            "5400/5500 [============================>.] - ETA: 0s - loss: 10.2728 - acc: 0.1957"
          ],
          "name": "stdout"
        },
        {
          "output_type": "stream",
          "text": [
            "\b\b\b\b\b\b\b\b\b\b\b\b\b\b\b\b\b\b\b\b\b\b\b\b\b\b\b\b\b\b\b\b\b\b\b\b\b\b\b\b\b\b\b\b\b\b\b\b\b\b\b\b\b\b\b\b\b\b\b\b\b\b\b\b\b\b\b\b\b\b\b\b\b\b\b\b\b\b\b\b\b\b\r5500/5500 [==============================] - 35s 6ms/step - loss: 10.2691 - acc: 0.1944 - val_loss: 34.0805 - val_acc: 0.0140\n",
            "Epoch 24/100\n",
            "5500/5500 [==============================] - 34s 6ms/step - loss: 10.2188 - acc: 0.2024 - val_loss: 32.1892 - val_acc: 0.0380\n",
            "Epoch 25/100\n",
            "5500/5500 [==============================] - 34s 6ms/step - loss: 10.1730 - acc: 0.1996 - val_loss: 35.3467 - val_acc: 0.0120\n",
            "Epoch 26/100\n",
            "5500/5500 [==============================] - 35s 6ms/step - loss: 10.1747 - acc: 0.2025 - val_loss: 34.2580 - val_acc: 0.0040\n",
            "Epoch 27/100\n",
            "3400/5500 [=================>............] - ETA: 12s - loss: 10.1271 - acc: 0.1924"
          ],
          "name": "stdout"
        },
        {
          "output_type": "stream",
          "text": [
            "5500/5500 [==============================] - 35s 6ms/step - loss: 10.1311 - acc: 0.1956 - val_loss: 32.2648 - val_acc: 0.0220\n",
            "Epoch 28/100\n",
            "5500/5500 [==============================] - 35s 6ms/step - loss: 10.0653 - acc: 0.2040 - val_loss: 35.7962 - val_acc: 0.0140\n",
            "Epoch 29/100\n",
            "5500/5500 [==============================] - 35s 6ms/step - loss: 10.0472 - acc: 0.2044 - val_loss: 33.2968 - val_acc: 0.0060\n",
            "Epoch 30/100\n",
            "5500/5500 [==============================] - 35s 6ms/step - loss: 9.9931 - acc: 0.1924 - val_loss: 32.2726 - val_acc: 0.0160\n",
            "Epoch 31/100\n",
            "5500/5500 [==============================] - 35s 6ms/step - loss: 9.9273 - acc: 0.2040 - val_loss: 31.8521 - val_acc: 0.0120\n",
            "Epoch 32/100\n",
            " 100/5500 [..............................] - ETA: 30s - loss: 9.7580 - acc: 0.1400"
          ],
          "name": "stdout"
        },
        {
          "output_type": "stream",
          "text": [
            "5500/5500 [==============================] - 35s 6ms/step - loss: 9.9199 - acc: 0.2064 - val_loss: 31.7656 - val_acc: 0.0220\n",
            "Epoch 33/100\n",
            "5500/5500 [==============================] - 35s 6ms/step - loss: 9.9248 - acc: 0.1969 - val_loss: 32.0583 - val_acc: 0.0120\n",
            "Epoch 34/100\n",
            "5500/5500 [==============================] - 35s 6ms/step - loss: 9.8520 - acc: 0.2009 - val_loss: 32.0471 - val_acc: 0.0100\n",
            "Epoch 35/100\n",
            "3800/5500 [===================>..........] - ETA: 9s - loss: 9.8130 - acc: 0.2084 "
          ],
          "name": "stdout"
        },
        {
          "output_type": "error",
          "ename": "KeyboardInterrupt",
          "evalue": "ignored",
          "traceback": [
            "\u001b[0;31m---------------------------------------------------------------------------\u001b[0m",
            "\u001b[0;31mKeyboardInterrupt\u001b[0m                         Traceback (most recent call last)",
            "\u001b[0;32m<ipython-input-26-1ce091154dee>\u001b[0m in \u001b[0;36m<module>\u001b[0;34m()\u001b[0m\n\u001b[1;32m      1\u001b[0m model.fit(X_train, y_train, batch_size=batch_size, epochs=nb_epoch,\n\u001b[0;32m----> 2\u001b[0;31m             verbose=1, validation_data=(X_test,y_test))\n\u001b[0m",
            "\u001b[0;32m/usr/local/lib/python3.6/dist-packages/keras/engine/training.py\u001b[0m in \u001b[0;36mfit\u001b[0;34m(self, x, y, batch_size, epochs, verbose, callbacks, validation_split, validation_data, shuffle, class_weight, sample_weight, initial_epoch, steps_per_epoch, validation_steps, **kwargs)\u001b[0m\n\u001b[1;32m   1703\u001b[0m                               \u001b[0minitial_epoch\u001b[0m\u001b[0;34m=\u001b[0m\u001b[0minitial_epoch\u001b[0m\u001b[0;34m,\u001b[0m\u001b[0;34m\u001b[0m\u001b[0m\n\u001b[1;32m   1704\u001b[0m                               \u001b[0msteps_per_epoch\u001b[0m\u001b[0;34m=\u001b[0m\u001b[0msteps_per_epoch\u001b[0m\u001b[0;34m,\u001b[0m\u001b[0;34m\u001b[0m\u001b[0m\n\u001b[0;32m-> 1705\u001b[0;31m                               validation_steps=validation_steps)\n\u001b[0m\u001b[1;32m   1706\u001b[0m \u001b[0;34m\u001b[0m\u001b[0m\n\u001b[1;32m   1707\u001b[0m     def evaluate(self, x=None, y=None,\n",
            "\u001b[0;32m/usr/local/lib/python3.6/dist-packages/keras/engine/training.py\u001b[0m in \u001b[0;36m_fit_loop\u001b[0;34m(self, f, ins, out_labels, batch_size, epochs, verbose, callbacks, val_f, val_ins, shuffle, callback_metrics, initial_epoch, steps_per_epoch, validation_steps)\u001b[0m\n\u001b[1;32m   1234\u001b[0m                         \u001b[0mins_batch\u001b[0m\u001b[0;34m[\u001b[0m\u001b[0mi\u001b[0m\u001b[0;34m]\u001b[0m \u001b[0;34m=\u001b[0m \u001b[0mins_batch\u001b[0m\u001b[0;34m[\u001b[0m\u001b[0mi\u001b[0m\u001b[0;34m]\u001b[0m\u001b[0;34m.\u001b[0m\u001b[0mtoarray\u001b[0m\u001b[0;34m(\u001b[0m\u001b[0;34m)\u001b[0m\u001b[0;34m\u001b[0m\u001b[0m\n\u001b[1;32m   1235\u001b[0m \u001b[0;34m\u001b[0m\u001b[0m\n\u001b[0;32m-> 1236\u001b[0;31m                     \u001b[0mouts\u001b[0m \u001b[0;34m=\u001b[0m \u001b[0mf\u001b[0m\u001b[0;34m(\u001b[0m\u001b[0mins_batch\u001b[0m\u001b[0;34m)\u001b[0m\u001b[0;34m\u001b[0m\u001b[0m\n\u001b[0m\u001b[1;32m   1237\u001b[0m                     \u001b[0;32mif\u001b[0m \u001b[0;32mnot\u001b[0m \u001b[0misinstance\u001b[0m\u001b[0;34m(\u001b[0m\u001b[0mouts\u001b[0m\u001b[0;34m,\u001b[0m \u001b[0mlist\u001b[0m\u001b[0;34m)\u001b[0m\u001b[0;34m:\u001b[0m\u001b[0;34m\u001b[0m\u001b[0m\n\u001b[1;32m   1238\u001b[0m                         \u001b[0mouts\u001b[0m \u001b[0;34m=\u001b[0m \u001b[0;34m[\u001b[0m\u001b[0mouts\u001b[0m\u001b[0;34m]\u001b[0m\u001b[0;34m\u001b[0m\u001b[0m\n",
            "\u001b[0;32m/usr/local/lib/python3.6/dist-packages/keras/backend/tensorflow_backend.py\u001b[0m in \u001b[0;36m__call__\u001b[0;34m(self, inputs)\u001b[0m\n\u001b[1;32m   2480\u001b[0m         \u001b[0msession\u001b[0m \u001b[0;34m=\u001b[0m \u001b[0mget_session\u001b[0m\u001b[0;34m(\u001b[0m\u001b[0;34m)\u001b[0m\u001b[0;34m\u001b[0m\u001b[0m\n\u001b[1;32m   2481\u001b[0m         updated = session.run(fetches=fetches, feed_dict=feed_dict,\n\u001b[0;32m-> 2482\u001b[0;31m                               **self.session_kwargs)\n\u001b[0m\u001b[1;32m   2483\u001b[0m         \u001b[0;32mreturn\u001b[0m \u001b[0mupdated\u001b[0m\u001b[0;34m[\u001b[0m\u001b[0;34m:\u001b[0m\u001b[0mlen\u001b[0m\u001b[0;34m(\u001b[0m\u001b[0mself\u001b[0m\u001b[0;34m.\u001b[0m\u001b[0moutputs\u001b[0m\u001b[0;34m)\u001b[0m\u001b[0;34m]\u001b[0m\u001b[0;34m\u001b[0m\u001b[0m\n\u001b[1;32m   2484\u001b[0m \u001b[0;34m\u001b[0m\u001b[0m\n",
            "\u001b[0;32m/usr/local/lib/python3.6/dist-packages/tensorflow/python/client/session.py\u001b[0m in \u001b[0;36mrun\u001b[0;34m(self, fetches, feed_dict, options, run_metadata)\u001b[0m\n\u001b[1;32m    898\u001b[0m     \u001b[0;32mtry\u001b[0m\u001b[0;34m:\u001b[0m\u001b[0;34m\u001b[0m\u001b[0m\n\u001b[1;32m    899\u001b[0m       result = self._run(None, fetches, feed_dict, options_ptr,\n\u001b[0;32m--> 900\u001b[0;31m                          run_metadata_ptr)\n\u001b[0m\u001b[1;32m    901\u001b[0m       \u001b[0;32mif\u001b[0m \u001b[0mrun_metadata\u001b[0m\u001b[0;34m:\u001b[0m\u001b[0;34m\u001b[0m\u001b[0m\n\u001b[1;32m    902\u001b[0m         \u001b[0mproto_data\u001b[0m \u001b[0;34m=\u001b[0m \u001b[0mtf_session\u001b[0m\u001b[0;34m.\u001b[0m\u001b[0mTF_GetBuffer\u001b[0m\u001b[0;34m(\u001b[0m\u001b[0mrun_metadata_ptr\u001b[0m\u001b[0;34m)\u001b[0m\u001b[0;34m\u001b[0m\u001b[0m\n",
            "\u001b[0;32m/usr/local/lib/python3.6/dist-packages/tensorflow/python/client/session.py\u001b[0m in \u001b[0;36m_run\u001b[0;34m(self, handle, fetches, feed_dict, options, run_metadata)\u001b[0m\n\u001b[1;32m   1133\u001b[0m     \u001b[0;32mif\u001b[0m \u001b[0mfinal_fetches\u001b[0m \u001b[0;32mor\u001b[0m \u001b[0mfinal_targets\u001b[0m \u001b[0;32mor\u001b[0m \u001b[0;34m(\u001b[0m\u001b[0mhandle\u001b[0m \u001b[0;32mand\u001b[0m \u001b[0mfeed_dict_tensor\u001b[0m\u001b[0;34m)\u001b[0m\u001b[0;34m:\u001b[0m\u001b[0;34m\u001b[0m\u001b[0m\n\u001b[1;32m   1134\u001b[0m       results = self._do_run(handle, final_targets, final_fetches,\n\u001b[0;32m-> 1135\u001b[0;31m                              feed_dict_tensor, options, run_metadata)\n\u001b[0m\u001b[1;32m   1136\u001b[0m     \u001b[0;32melse\u001b[0m\u001b[0;34m:\u001b[0m\u001b[0;34m\u001b[0m\u001b[0m\n\u001b[1;32m   1137\u001b[0m       \u001b[0mresults\u001b[0m \u001b[0;34m=\u001b[0m \u001b[0;34m[\u001b[0m\u001b[0;34m]\u001b[0m\u001b[0;34m\u001b[0m\u001b[0m\n",
            "\u001b[0;32m/usr/local/lib/python3.6/dist-packages/tensorflow/python/client/session.py\u001b[0m in \u001b[0;36m_do_run\u001b[0;34m(self, handle, target_list, fetch_list, feed_dict, options, run_metadata)\u001b[0m\n\u001b[1;32m   1314\u001b[0m     \u001b[0;32mif\u001b[0m \u001b[0mhandle\u001b[0m \u001b[0;32mis\u001b[0m \u001b[0;32mNone\u001b[0m\u001b[0;34m:\u001b[0m\u001b[0;34m\u001b[0m\u001b[0m\n\u001b[1;32m   1315\u001b[0m       return self._do_call(_run_fn, feeds, fetches, targets, options,\n\u001b[0;32m-> 1316\u001b[0;31m                            run_metadata)\n\u001b[0m\u001b[1;32m   1317\u001b[0m     \u001b[0;32melse\u001b[0m\u001b[0;34m:\u001b[0m\u001b[0;34m\u001b[0m\u001b[0m\n\u001b[1;32m   1318\u001b[0m       \u001b[0;32mreturn\u001b[0m \u001b[0mself\u001b[0m\u001b[0;34m.\u001b[0m\u001b[0m_do_call\u001b[0m\u001b[0;34m(\u001b[0m\u001b[0m_prun_fn\u001b[0m\u001b[0;34m,\u001b[0m \u001b[0mhandle\u001b[0m\u001b[0;34m,\u001b[0m \u001b[0mfeeds\u001b[0m\u001b[0;34m,\u001b[0m \u001b[0mfetches\u001b[0m\u001b[0;34m)\u001b[0m\u001b[0;34m\u001b[0m\u001b[0m\n",
            "\u001b[0;32m/usr/local/lib/python3.6/dist-packages/tensorflow/python/client/session.py\u001b[0m in \u001b[0;36m_do_call\u001b[0;34m(self, fn, *args)\u001b[0m\n\u001b[1;32m   1320\u001b[0m   \u001b[0;32mdef\u001b[0m \u001b[0m_do_call\u001b[0m\u001b[0;34m(\u001b[0m\u001b[0mself\u001b[0m\u001b[0;34m,\u001b[0m \u001b[0mfn\u001b[0m\u001b[0;34m,\u001b[0m \u001b[0;34m*\u001b[0m\u001b[0margs\u001b[0m\u001b[0;34m)\u001b[0m\u001b[0;34m:\u001b[0m\u001b[0;34m\u001b[0m\u001b[0m\n\u001b[1;32m   1321\u001b[0m     \u001b[0;32mtry\u001b[0m\u001b[0;34m:\u001b[0m\u001b[0;34m\u001b[0m\u001b[0m\n\u001b[0;32m-> 1322\u001b[0;31m       \u001b[0;32mreturn\u001b[0m \u001b[0mfn\u001b[0m\u001b[0;34m(\u001b[0m\u001b[0;34m*\u001b[0m\u001b[0margs\u001b[0m\u001b[0;34m)\u001b[0m\u001b[0;34m\u001b[0m\u001b[0m\n\u001b[0m\u001b[1;32m   1323\u001b[0m     \u001b[0;32mexcept\u001b[0m \u001b[0merrors\u001b[0m\u001b[0;34m.\u001b[0m\u001b[0mOpError\u001b[0m \u001b[0;32mas\u001b[0m \u001b[0me\u001b[0m\u001b[0;34m:\u001b[0m\u001b[0;34m\u001b[0m\u001b[0m\n\u001b[1;32m   1324\u001b[0m       \u001b[0mmessage\u001b[0m \u001b[0;34m=\u001b[0m \u001b[0mcompat\u001b[0m\u001b[0;34m.\u001b[0m\u001b[0mas_text\u001b[0m\u001b[0;34m(\u001b[0m\u001b[0me\u001b[0m\u001b[0;34m.\u001b[0m\u001b[0mmessage\u001b[0m\u001b[0;34m)\u001b[0m\u001b[0;34m\u001b[0m\u001b[0m\n",
            "\u001b[0;32m/usr/local/lib/python3.6/dist-packages/tensorflow/python/client/session.py\u001b[0m in \u001b[0;36m_run_fn\u001b[0;34m(feed_dict, fetch_list, target_list, options, run_metadata)\u001b[0m\n\u001b[1;32m   1305\u001b[0m       \u001b[0mself\u001b[0m\u001b[0;34m.\u001b[0m\u001b[0m_extend_graph\u001b[0m\u001b[0;34m(\u001b[0m\u001b[0;34m)\u001b[0m\u001b[0;34m\u001b[0m\u001b[0m\n\u001b[1;32m   1306\u001b[0m       return self._call_tf_sessionrun(\n\u001b[0;32m-> 1307\u001b[0;31m           options, feed_dict, fetch_list, target_list, run_metadata)\n\u001b[0m\u001b[1;32m   1308\u001b[0m \u001b[0;34m\u001b[0m\u001b[0m\n\u001b[1;32m   1309\u001b[0m     \u001b[0;32mdef\u001b[0m \u001b[0m_prun_fn\u001b[0m\u001b[0;34m(\u001b[0m\u001b[0mhandle\u001b[0m\u001b[0;34m,\u001b[0m \u001b[0mfeed_dict\u001b[0m\u001b[0;34m,\u001b[0m \u001b[0mfetch_list\u001b[0m\u001b[0;34m)\u001b[0m\u001b[0;34m:\u001b[0m\u001b[0;34m\u001b[0m\u001b[0m\n",
            "\u001b[0;32m/usr/local/lib/python3.6/dist-packages/tensorflow/python/client/session.py\u001b[0m in \u001b[0;36m_call_tf_sessionrun\u001b[0;34m(self, options, feed_dict, fetch_list, target_list, run_metadata)\u001b[0m\n\u001b[1;32m   1407\u001b[0m       return tf_session.TF_SessionRun_wrapper(\n\u001b[1;32m   1408\u001b[0m           \u001b[0mself\u001b[0m\u001b[0;34m.\u001b[0m\u001b[0m_session\u001b[0m\u001b[0;34m,\u001b[0m \u001b[0moptions\u001b[0m\u001b[0;34m,\u001b[0m \u001b[0mfeed_dict\u001b[0m\u001b[0;34m,\u001b[0m \u001b[0mfetch_list\u001b[0m\u001b[0;34m,\u001b[0m \u001b[0mtarget_list\u001b[0m\u001b[0;34m,\u001b[0m\u001b[0;34m\u001b[0m\u001b[0m\n\u001b[0;32m-> 1409\u001b[0;31m           run_metadata)\n\u001b[0m\u001b[1;32m   1410\u001b[0m     \u001b[0;32melse\u001b[0m\u001b[0;34m:\u001b[0m\u001b[0;34m\u001b[0m\u001b[0m\n\u001b[1;32m   1411\u001b[0m       \u001b[0;32mwith\u001b[0m \u001b[0merrors\u001b[0m\u001b[0;34m.\u001b[0m\u001b[0mraise_exception_on_not_ok_status\u001b[0m\u001b[0;34m(\u001b[0m\u001b[0;34m)\u001b[0m \u001b[0;32mas\u001b[0m \u001b[0mstatus\u001b[0m\u001b[0;34m:\u001b[0m\u001b[0;34m\u001b[0m\u001b[0m\n",
            "\u001b[0;31mKeyboardInterrupt\u001b[0m: "
          ]
        }
      ]
    },
    {
      "metadata": {
        "id": "h__fXUMFE7XK",
        "colab_type": "code",
        "colab": {}
      },
      "cell_type": "code",
      "source": [
        "score = model.evaluate(X_test, y_test, verbose=0)\n",
        "predict = model.predict(X_test,batch_size = batch_size,verbose = 0)"
      ],
      "execution_count": 0,
      "outputs": []
    },
    {
      "metadata": {
        "id": "-fF7NMrwE7XO",
        "colab_type": "code",
        "colab": {
          "base_uri": "https://localhost:8080/",
          "height": 34
        },
        "outputId": "496ef06d-f5e8-4773-fe7c-cb3474098ef5"
      },
      "cell_type": "code",
      "source": [
        "score"
      ],
      "execution_count": 0,
      "outputs": [
        {
          "output_type": "execute_result",
          "data": {
            "text/plain": [
              "[11.118076133728028, 0.28]"
            ]
          },
          "metadata": {
            "tags": []
          },
          "execution_count": 57
        }
      ]
    },
    {
      "metadata": {
        "id": "Cuh0OGiLE7XV",
        "colab_type": "code",
        "colab": {
          "base_uri": "https://localhost:8080/",
          "height": 799
        },
        "outputId": "c1ae598d-185e-489c-daa4-4cf1f184ca36"
      },
      "cell_type": "code",
      "source": [
        "predict[1]"
      ],
      "execution_count": 0,
      "outputs": [
        {
          "output_type": "execute_result",
          "data": {
            "text/plain": [
              "array([1.5284390e-06, 2.3697584e-04, 1.8197912e-04, 5.8962614e-05,\n",
              "       1.1963204e-03, 2.4681420e-03, 1.1096110e-03, 3.6078872e-04,\n",
              "       3.8474204e-04, 1.6395837e-03, 1.4101419e-01, 7.6950423e-04,\n",
              "       1.0255806e-03, 4.3321475e-03, 4.5343876e-04, 4.7576907e-03,\n",
              "       1.6470024e-06, 2.5950649e-06, 2.2418210e-06, 2.7139024e-06,\n",
              "       1.7650574e-06, 9.8350165e-06, 3.3705430e-06, 1.1283876e-06,\n",
              "       1.3486898e-04, 4.4983476e-06, 2.9816508e-06, 4.5750594e-06,\n",
              "       2.2231916e-06, 1.4044243e-06, 2.2699733e-06, 3.2218152e-06,\n",
              "       3.5158307e-06, 1.4041725e-06, 2.2417439e-06, 5.8015248e-06,\n",
              "       1.6450004e-03, 1.5243220e-03, 1.3717784e-03, 9.1513270e-04,\n",
              "       1.3421621e-02, 3.8186298e-04, 1.7035551e-02, 4.1572613e-04,\n",
              "       4.5722527e-03, 5.5355928e-04, 5.2857250e-03, 6.1748084e-04,\n",
              "       1.0539745e-03, 1.4671421e-04, 2.7498386e-03, 4.4137653e-04,\n",
              "       3.6473600e-06, 2.7770843e-06, 3.4474535e-06, 4.7992144e-06,\n",
              "       3.3268238e-06, 2.2711015e-06, 6.2980062e-06, 2.9012922e-06,\n",
              "       2.2317757e-04, 4.3870059e-05, 6.2508598e-06, 2.5270792e-06,\n",
              "       1.6430630e-06, 1.8189131e-06, 1.4919425e-06, 2.5231632e-06,\n",
              "       3.0851947e-06, 3.7110215e-06, 3.8368598e-06, 2.1962849e-06,\n",
              "       2.0958907e-03, 3.9553380e-04, 2.1381886e-04, 8.5345446e-04,\n",
              "       2.3940927e-03, 2.1697774e-03, 1.8649775e-01, 1.9635948e-04,\n",
              "       5.8946200e-03, 7.0057344e-04, 6.3995380e-05, 5.1721081e-04,\n",
              "       9.5325743e-04, 7.0447702e-04, 7.0658704e-04, 2.0924346e-03,\n",
              "       1.4915868e-06, 2.9962052e-06, 4.6181240e-06, 4.6644045e-06,\n",
              "       2.3608450e-06, 3.7703423e-06, 4.8400939e-06, 1.5612061e-06,\n",
              "       9.0517315e-05, 3.1175516e-06, 2.0062041e-06, 4.8695870e-06,\n",
              "       2.6075707e-06, 1.9586357e-06, 1.8919009e-06, 1.3903597e-06,\n",
              "       1.8780484e-06, 2.9662956e-06, 2.8101279e-06, 1.7259845e-06,\n",
              "       3.6242197e-04, 4.3052732e-04, 2.6110761e-04, 1.8047696e-04,\n",
              "       8.1311318e-04, 1.1729449e-03, 4.5332136e-03, 7.2404864e-04,\n",
              "       1.4909264e-04, 1.6359225e-04, 1.8117338e-04, 1.3269373e-03,\n",
              "       2.5066640e-03, 2.3818851e-01, 1.5522371e-03, 5.6332984e-04,\n",
              "       5.0581852e-04, 7.5868212e-07, 2.5366774e-06, 2.3963194e-06,\n",
              "       3.2249511e-06, 1.4055820e-06, 5.5586438e-06, 2.0648131e-06,\n",
              "       6.9104170e-04, 2.3780772e-06, 1.2125798e-06, 3.2235855e-06,\n",
              "       2.4865078e-06, 4.1354137e-06, 3.6509032e-06, 1.2523844e-06,\n",
              "       2.0283821e-06, 3.0009865e-06, 2.6319146e-06, 2.3396526e-06,\n",
              "       9.9720281e-05, 1.3788231e-04, 8.4072701e-05, 7.1429834e-04,\n",
              "       1.2001388e-03, 4.6358607e-03, 6.3263010e-03, 1.0562878e-03,\n",
              "       1.1945700e-03, 8.3115257e-05, 1.2563125e-03, 1.2030057e-02,\n",
              "       3.6199584e-05, 4.6496221e-04, 4.4477722e-03, 2.9255944e-01,\n",
              "       2.4659512e-06, 1.9739712e-06, 2.3754501e-06, 2.6859909e-06,\n",
              "       2.8172794e-06, 1.2991379e-06, 1.6957240e-06, 4.1430562e-06,\n",
              "       3.3886678e-05, 2.8472850e-06, 3.9127553e-06, 3.5339092e-06,\n",
              "       2.5637555e-06, 2.2556058e-06, 1.6882208e-06, 3.7167947e-06,\n",
              "       1.8096667e-06, 2.7277765e-06, 2.8010177e-06, 2.3559639e-06],\n",
              "      dtype=float32)"
            ]
          },
          "metadata": {
            "tags": []
          },
          "execution_count": 65
        }
      ]
    },
    {
      "metadata": {
        "id": "R8vjibfeE7XX",
        "colab_type": "code",
        "colab": {}
      },
      "cell_type": "code",
      "source": [
        ""
      ],
      "execution_count": 0,
      "outputs": []
    },
    {
      "metadata": {
        "id": "dYz9xHs7E7Xa",
        "colab_type": "code",
        "colab": {}
      },
      "cell_type": "code",
      "source": [
        ""
      ],
      "execution_count": 0,
      "outputs": []
    },
    {
      "metadata": {
        "id": "rw8hJtNsE7Xb",
        "colab_type": "code",
        "colab": {}
      },
      "cell_type": "code",
      "source": [
        ""
      ],
      "execution_count": 0,
      "outputs": []
    },
    {
      "metadata": {
        "id": "FHdMH5ycE7Xd",
        "colab_type": "code",
        "colab": {}
      },
      "cell_type": "code",
      "source": [
        ""
      ],
      "execution_count": 0,
      "outputs": []
    }
  ]
}