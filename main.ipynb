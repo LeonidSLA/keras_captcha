{
 "cells": [
  {
   "cell_type": "markdown",
   "metadata": {
    "colab_type": "text",
    "id": "view-in-github"
   },
   "source": [
    "[View in Colaboratory](https://colab.research.google.com/github/LeonidSLA/keras_captcha/blob/master/main.ipynb)"
   ]
  },
  {
   "cell_type": "code",
   "execution_count": 0,
   "metadata": {
    "colab": {
     "autoexec": {
      "startup": false,
      "wait_interval": 0
     }
    },
    "colab_type": "code",
    "id": "_k2OVBV7GgYO"
   },
   "outputs": [],
   "source": [
    "import os\n",
    "os.chdir('keras_captcha')"
   ]
  },
  {
   "cell_type": "code",
   "execution_count": 84,
   "metadata": {
    "colab": {
     "autoexec": {
      "startup": false,
      "wait_interval": 0
     },
     "base_uri": "https://localhost:8080/",
     "height": 68
    },
    "colab_type": "code",
    "executionInfo": {
     "elapsed": 1881,
     "status": "ok",
     "timestamp": 1531909622995,
     "user": {
      "displayName": "Leonid Savintsev",
      "photoUrl": "https://lh3.googleusercontent.com/a/default-user=s128",
      "userId": "101215834058893654151"
     },
     "user_tz": -180
    },
    "id": "v3Vp-5f76Tie",
    "outputId": "38e09eb2-37a9-489c-a8a3-54840d2cb54b"
   },
   "outputs": [
    {
     "name": "stdout",
     "output_type": "stream",
     "text": [
      "captcha_params.py    get_train_set.py   main.ipynb\r\n",
      "colab process.ipynb  \u001b[0m\u001b[01;34mlabeled_captchas\u001b[0m/  new txt.txt\r\n",
      "\u001b[01;34mgenerated\u001b[0m/           load_data.py       \u001b[01;34m__pycache__\u001b[0m/\r\n"
     ]
    }
   ],
   "source": [
    "ls"
   ]
  },
  {
   "cell_type": "code",
   "execution_count": 0,
   "metadata": {
    "colab": {
     "autoexec": {
      "startup": false,
      "wait_interval": 0
     }
    },
    "colab_type": "code",
    "id": "mJ4VQ-eqE7Wk"
   },
   "outputs": [],
   "source": [
    "from __future__ import print_function\n",
    "import numpy as np\n",
    "np.random.seed(1337)  # for reproducibility\n",
    "\n",
    "import captcha_params\n",
    "\n",
    "from keras.models import Sequential,Model,load_model\n",
    "from keras.layers import Input, Dense, Dropout, Activation, Flatten,Conv2D, MaxPooling2D\n",
    "from keras.layers.advanced_activations import LeakyReLU\n",
    "from keras.utils import np_utils\n",
    "from keras.optimizers import adamax\n",
    "from keras.callbacks import Callback,TensorBoard,ModelCheckpoint\n",
    "from load_data import load_data\n",
    "import keras\n",
    "import get_train_set\n",
    "#import h5py\n",
    "#from keras.models import model_from_json"
   ]
  },
  {
   "cell_type": "code",
   "execution_count": 85,
   "metadata": {
    "colab": {
     "autoexec": {
      "startup": false,
      "wait_interval": 0
     },
     "base_uri": "https://localhost:8080/",
     "height": 214
    },
    "colab_type": "code",
    "executionInfo": {
     "elapsed": 788,
     "status": "error",
     "timestamp": 1531909630221,
     "user": {
      "displayName": "Leonid Savintsev",
      "photoUrl": "https://lh3.googleusercontent.com/a/default-user=s128",
      "userId": "101215834058893654151"
     },
     "user_tz": -180
    },
    "id": "-RKH7_ijzBhe",
    "outputId": "bc5d1b54-60a2-4497-950f-9b398e056e48"
   },
   "outputs": [
    {
     "ename": "SystemError",
     "evalue": "ignored",
     "output_type": "error",
     "traceback": [
      "\u001b[0;31m---------------------------------------------------------------------------\u001b[0m",
      "\u001b[0;31mSystemError\u001b[0m                               Traceback (most recent call last)",
      "\u001b[0;32m<ipython-input-85-d1680108c58e>\u001b[0m in \u001b[0;36m<module>\u001b[0;34m()\u001b[0m\n\u001b[1;32m      2\u001b[0m \u001b[0mdevice_name\u001b[0m \u001b[0;34m=\u001b[0m \u001b[0mtf\u001b[0m\u001b[0;34m.\u001b[0m\u001b[0mtest\u001b[0m\u001b[0;34m.\u001b[0m\u001b[0mgpu_device_name\u001b[0m\u001b[0;34m(\u001b[0m\u001b[0;34m)\u001b[0m\u001b[0;34m\u001b[0m\u001b[0m\n\u001b[1;32m      3\u001b[0m \u001b[0;32mif\u001b[0m \u001b[0mdevice_name\u001b[0m \u001b[0;34m!=\u001b[0m \u001b[0;34m'/device:GPU:0'\u001b[0m\u001b[0;34m:\u001b[0m\u001b[0;34m\u001b[0m\u001b[0m\n\u001b[0;32m----> 4\u001b[0;31m   \u001b[0;32mraise\u001b[0m \u001b[0mSystemError\u001b[0m\u001b[0;34m(\u001b[0m\u001b[0;34m'GPU device not found'\u001b[0m\u001b[0;34m)\u001b[0m\u001b[0;34m\u001b[0m\u001b[0m\n\u001b[0m\u001b[1;32m      5\u001b[0m \u001b[0mprint\u001b[0m\u001b[0;34m(\u001b[0m\u001b[0;34m'Found GPU at: {}'\u001b[0m\u001b[0;34m.\u001b[0m\u001b[0mformat\u001b[0m\u001b[0;34m(\u001b[0m\u001b[0mdevice_name\u001b[0m\u001b[0;34m)\u001b[0m\u001b[0;34m)\u001b[0m\u001b[0;34m\u001b[0m\u001b[0m\n",
      "\u001b[0;31mSystemError\u001b[0m: GPU device not found"
     ]
    }
   ],
   "source": [
    "import tensorflow as tf\n",
    "device_name = tf.test.gpu_device_name()\n",
    "if device_name != '/device:GPU:0':\n",
    "  raise SystemError('GPU device not found')\n",
    "print('Found GPU at: {}'.format(device_name))"
   ]
  },
  {
   "cell_type": "code",
   "execution_count": 0,
   "metadata": {
    "colab": {
     "autoexec": {
      "startup": false,
      "wait_interval": 0
     }
    },
    "colab_type": "code",
    "id": "ezd31P7iiBmq"
   },
   "outputs": [],
   "source": [
    "#Generate additional training set to 'generated' folder\n",
    "for i in range(8000):     \n",
    "    text, image = get_train_set.gen_captcha_text_and_image(i)\n"
   ]
  },
  {
   "cell_type": "code",
   "execution_count": 0,
   "metadata": {
    "colab": {
     "autoexec": {
      "startup": false,
      "wait_interval": 0
     }
    },
    "colab_type": "code",
    "id": "i0fpaXx1E7W0"
   },
   "outputs": [],
   "source": [
    "#original data\n",
    "from load_data import load_data\n",
    "(X_train, y_train,y_train_text), (X_test, y_test,y_test_text) = load_data(tol_num = 1000,train_num = 700,folder='labeled_captchas')"
   ]
  },
  {
   "cell_type": "code",
   "execution_count": 0,
   "metadata": {
    "colab": {
     "autoexec": {
      "startup": false,
      "wait_interval": 0
     }
    },
    "colab_type": "code",
    "id": "TBlC75QHlDG9"
   },
   "outputs": [],
   "source": [
    "# Generated data\n",
    "(X_train_gen, y_train_gen,y_train_text_gen), (X_test_gen, y_test_gen,y_test_text_gen) = load_data(tol_num = 8000,train_num = 8000,folder='generated')"
   ]
  },
  {
   "cell_type": "code",
   "execution_count": 0,
   "metadata": {
    "colab": {
     "autoexec": {
      "startup": false,
      "wait_interval": 0
     }
    },
    "colab_type": "code",
    "id": "NGHDhiewE7W2"
   },
   "outputs": [],
   "source": [
    "# Add generated data to train set\n",
    "X_train_gen=np.append(X_train, X_train_gen,axis=0)\n",
    "y_train_gen=[np.append(y_train[0],y_train_gen[0],axis=0), \n",
    "             np.append(y_train[1],y_train_gen[1],axis=0),\n",
    "             np.append(y_train[2],y_train_gen[2],axis=0),\n",
    "             np.append(y_train[3],y_train_gen[3],axis=0),\n",
    "             np.append(y_train[4],y_train_gen[4],axis=0)]\n",
    "y_train_text_gen=np.append(y_train_text, y_train_text_gen)"
   ]
  },
  {
   "cell_type": "code",
   "execution_count": 0,
   "metadata": {
    "colab": {
     "autoexec": {
      "startup": false,
      "wait_interval": 0
     }
    },
    "colab_type": "code",
    "id": "AqrJiyhKsiRs"
   },
   "outputs": [],
   "source": [
    "# get input image dimensions\n",
    "img_rows, img_cols = captcha_params.get_height(), captcha_params.get_width()\n",
    "input_shape = (img_rows, img_cols, 1)\n",
    "\n",
    "#Number of classes to predict\n",
    "nb_classes = 36 #9 digits and 26 letters \n",
    "\n",
    "kernel_size =(3,3)\n",
    "pool_size= (2,2)\n",
    "\n",
    "model_input=Input(shape=input_shape)\n",
    "\n",
    "x = MaxPooling2D(pool_size=(2, 2))(model_input)\n",
    "\n",
    "x = Conv2D(36, kernel_size  )(x)\n",
    "x = Activation('relu')(x)\n",
    "\n",
    "x = Conv2D(24, kernel_size  )(x)\n",
    "x = Activation('relu')(x)\n",
    "\n",
    "x = MaxPooling2D(pool_size=(2, 2))(x)\n",
    "x = Dropout(0.25)(x)\n",
    "conv_out = Flatten()(x)\n",
    "\n",
    "x1 = Dense(nb_classes, activation='softmax')(conv_out)\n",
    "x2 = Dense(nb_classes, activation='softmax')(conv_out)\n",
    "x3 = Dense(nb_classes, activation='softmax')(conv_out)\n",
    "x4 = Dense(nb_classes, activation='softmax')(conv_out)\n",
    "x5 = Dense(nb_classes, activation='softmax')(conv_out)\n",
    "\n",
    "lst = [x1, x2, x3, x4, x5]\n",
    "\n",
    "\n",
    "\n",
    "model = Model(inputs=model_input, outputs=lst)"
   ]
  },
  {
   "cell_type": "code",
   "execution_count": 21,
   "metadata": {
    "colab": {
     "autoexec": {
      "startup": false,
      "wait_interval": 0
     },
     "base_uri": "https://localhost:8080/",
     "height": 612
    },
    "colab_type": "code",
    "executionInfo": {
     "elapsed": 618,
     "status": "ok",
     "timestamp": 1531893025268,
     "user": {
      "displayName": "Leonid Savintsev",
      "photoUrl": "https://lh3.googleusercontent.com/a/default-user=s128",
      "userId": "101215834058893654151"
     },
     "user_tz": -180
    },
    "id": "N7PpPz8vNAys",
    "outputId": "49ae99c0-3719-431f-8890-dd6b721866da"
   },
   "outputs": [
    {
     "name": "stdout",
     "output_type": "stream",
     "text": [
      "__________________________________________________________________________________________________\n",
      "Layer (type)                    Output Shape         Param #     Connected to                     \n",
      "==================================================================================================\n",
      "input_2 (InputLayer)            (None, 150, 330, 1)  0                                            \n",
      "__________________________________________________________________________________________________\n",
      "max_pooling2d_3 (MaxPooling2D)  (None, 75, 165, 1)   0           input_2[0][0]                    \n",
      "__________________________________________________________________________________________________\n",
      "conv2d_3 (Conv2D)               (None, 73, 163, 36)  360         max_pooling2d_3[0][0]            \n",
      "__________________________________________________________________________________________________\n",
      "activation_3 (Activation)       (None, 73, 163, 36)  0           conv2d_3[0][0]                   \n",
      "__________________________________________________________________________________________________\n",
      "conv2d_4 (Conv2D)               (None, 71, 161, 24)  7800        activation_3[0][0]               \n",
      "__________________________________________________________________________________________________\n",
      "activation_4 (Activation)       (None, 71, 161, 24)  0           conv2d_4[0][0]                   \n",
      "__________________________________________________________________________________________________\n",
      "max_pooling2d_4 (MaxPooling2D)  (None, 35, 80, 24)   0           activation_4[0][0]               \n",
      "__________________________________________________________________________________________________\n",
      "dropout_2 (Dropout)             (None, 35, 80, 24)   0           max_pooling2d_4[0][0]            \n",
      "__________________________________________________________________________________________________\n",
      "flatten_2 (Flatten)             (None, 67200)        0           dropout_2[0][0]                  \n",
      "__________________________________________________________________________________________________\n",
      "dense_6 (Dense)                 (None, 36)           2419236     flatten_2[0][0]                  \n",
      "__________________________________________________________________________________________________\n",
      "dense_7 (Dense)                 (None, 36)           2419236     flatten_2[0][0]                  \n",
      "__________________________________________________________________________________________________\n",
      "dense_8 (Dense)                 (None, 36)           2419236     flatten_2[0][0]                  \n",
      "__________________________________________________________________________________________________\n",
      "dense_9 (Dense)                 (None, 36)           2419236     flatten_2[0][0]                  \n",
      "__________________________________________________________________________________________________\n",
      "dense_10 (Dense)                (None, 36)           2419236     flatten_2[0][0]                  \n",
      "==================================================================================================\n",
      "Total params: 12,104,340\n",
      "Trainable params: 12,104,340\n",
      "Non-trainable params: 0\n",
      "__________________________________________________________________________________________________\n"
     ]
    }
   ],
   "source": [
    "model.summary()"
   ]
  },
  {
   "cell_type": "code",
   "execution_count": 0,
   "metadata": {
    "colab": {
     "autoexec": {
      "startup": false,
      "wait_interval": 0
     }
    },
    "colab_type": "code",
    "id": "y_bz9OkD3dYT"
   },
   "outputs": [],
   "source": [
    "#Loss function - summ of 5 losses (One per each symbol)\n",
    "\n",
    "from keras.losses import categorical_crossentropy\n",
    "def m_losses(y_true,y_pred):\n",
    "    loss =categorical_crossentropy(y_true[0], y_pred[0])+categorical_crossentropy(y_true[1], y_pred[1])+categorical_crossentropy(y_true[2], y_pred[2])+categorical_crossentropy(y_true[3], y_pred[3])+categorical_crossentropy(y_true[4], y_pred[4])\n",
    "    \n",
    "    return loss"
   ]
  },
  {
   "cell_type": "code",
   "execution_count": 0,
   "metadata": {
    "colab": {
     "autoexec": {
      "startup": false,
      "wait_interval": 0
     }
    },
    "colab_type": "code",
    "id": "cnHAdrUwE7XF"
   },
   "outputs": [],
   "source": [
    "# Set Learning rate and compile model\n",
    "learning_rate = 0.005\n",
    "model.compile(loss=m_losses,\n",
    "              optimizer=adamax(lr=learning_rate),\n",
    "              metrics=['accuracy'])\n",
    "\n",
    "# checkpoint to save model weights\n",
    "filepath=\"/content/drive/best_model.h5\"\n",
    "checkpoint = ModelCheckpoint(filepath, monitor='val_acc', verbose=1, save_best_only=True, mode='max')\n",
    "callbacks_list = [checkpoint]"
   ]
  },
  {
   "cell_type": "code",
   "execution_count": 0,
   "metadata": {
    "colab": {
     "autoexec": {
      "startup": false,
      "wait_interval": 0
     }
    },
    "colab_type": "code",
    "id": "QknmhHWF8BYj"
   },
   "outputs": [],
   "source": []
  },
  {
   "cell_type": "code",
   "execution_count": 92,
   "metadata": {
    "colab": {
     "autoexec": {
      "startup": false,
      "wait_interval": 0
     },
     "base_uri": "https://localhost:8080/",
     "height": 2937
    },
    "colab_type": "code",
    "executionInfo": {
     "elapsed": 1865394,
     "status": "error",
     "timestamp": 1531915502241,
     "user": {
      "displayName": "Leonid Savintsev",
      "photoUrl": "https://lh3.googleusercontent.com/a/default-user=s128",
      "userId": "101215834058893654151"
     },
     "user_tz": -180
    },
    "id": "Wjm_pi_Xtf4d",
    "outputId": "ca26caac-3e56-4e82-e7aa-5e4bd016c76c"
   },
   "outputs": [
    {
     "name": "stdout",
     "output_type": "stream",
     "text": [
      "Train on 700 samples, validate on 300 samples\n",
      "Epoch 1/100\n",
      "700/700 [==============================] - 41s 59ms/step - loss: 45.5487 - dense_6_loss: 6.7681 - dense_7_loss: 7.6015 - dense_8_loss: 7.9245 - dense_9_loss: 12.8902 - dense_10_loss: 10.3643 - dense_6_acc: 0.6571 - dense_7_acc: 0.6400 - dense_8_acc: 0.6543 - dense_9_acc: 0.5300 - dense_10_acc: 0.6186 - val_loss: 24.8535 - val_dense_6_loss: 1.8931 - val_dense_7_loss: 4.9258 - val_dense_8_loss: 4.6141 - val_dense_9_loss: 9.8874 - val_dense_10_loss: 3.5331 - val_dense_6_acc: 0.8667 - val_dense_7_acc: 0.7833 - val_dense_8_acc: 0.8100 - val_dense_9_acc: 0.6967 - val_dense_10_acc: 0.8267\n",
      "Epoch 2/100\n",
      "700/700 [==============================] - 39s 56ms/step - loss: 18.5285 - dense_6_loss: 2.1087 - dense_7_loss: 3.1546 - dense_8_loss: 3.9203 - dense_9_loss: 5.6185 - dense_10_loss: 3.7265 - dense_6_acc: 0.9443 - dense_7_acc: 0.8757 - dense_8_acc: 0.8414 - dense_9_acc: 0.7543 - dense_10_acc: 0.8886 - val_loss: 18.9078 - val_dense_6_loss: 0.8036 - val_dense_7_loss: 4.0147 - val_dense_8_loss: 4.1109 - val_dense_9_loss: 7.6068 - val_dense_10_loss: 2.3719 - val_dense_6_acc: 0.9733 - val_dense_7_acc: 0.8600 - val_dense_8_acc: 0.8600 - val_dense_9_acc: 0.7533 - val_dense_10_acc: 0.9200\n",
      "Epoch 3/100\n",
      "700/700 [==============================] - 39s 56ms/step - loss: 14.9996 - dense_6_loss: 1.2641 - dense_7_loss: 2.4973 - dense_8_loss: 2.6802 - dense_9_loss: 4.1234 - dense_10_loss: 4.4346 - dense_6_acc: 0.9729 - dense_7_acc: 0.8843 - dense_8_acc: 0.8543 - dense_9_acc: 0.7843 - dense_10_acc: 0.9300 - val_loss: 16.8006 - val_dense_6_loss: 0.2371 - val_dense_7_loss: 3.7935 - val_dense_8_loss: 3.7210 - val_dense_9_loss: 7.7647 - val_dense_10_loss: 1.2842 - val_dense_6_acc: 0.9767 - val_dense_7_acc: 0.8600 - val_dense_8_acc: 0.8567 - val_dense_9_acc: 0.7767 - val_dense_10_acc: 0.9467\n",
      "Epoch 4/100\n",
      "700/700 [==============================] - 39s 56ms/step - loss: 12.5235 - dense_6_loss: 0.3623 - dense_7_loss: 2.3572 - dense_8_loss: 4.0250 - dense_9_loss: 4.7925 - dense_10_loss: 0.9865 - dense_6_acc: 0.9771 - dense_7_acc: 0.8943 - dense_8_acc: 0.8757 - dense_9_acc: 0.8100 - dense_10_acc: 0.9571 - val_loss: 16.0254 - val_dense_6_loss: 0.0914 - val_dense_7_loss: 3.7673 - val_dense_8_loss: 3.4194 - val_dense_9_loss: 7.9787 - val_dense_10_loss: 0.7686 - val_dense_6_acc: 0.9767 - val_dense_7_acc: 0.8800 - val_dense_8_acc: 0.8700 - val_dense_9_acc: 0.8167 - val_dense_10_acc: 0.9533\n",
      "Epoch 5/100\n",
      "700/700 [==============================] - 39s 56ms/step - loss: 13.2123 - dense_6_loss: 2.4841 - dense_7_loss: 1.7304 - dense_8_loss: 2.1461 - dense_9_loss: 4.1980 - dense_10_loss: 2.6536 - dense_6_acc: 0.9814 - dense_7_acc: 0.9143 - dense_8_acc: 0.8914 - dense_9_acc: 0.8329 - dense_10_acc: 0.9643 - val_loss: 15.5969 - val_dense_6_loss: 0.0425 - val_dense_7_loss: 3.7628 - val_dense_8_loss: 3.1139 - val_dense_9_loss: 8.1629 - val_dense_10_loss: 0.5148 - val_dense_6_acc: 0.9800 - val_dense_7_acc: 0.8900 - val_dense_8_acc: 0.8767 - val_dense_9_acc: 0.8167 - val_dense_10_acc: 0.9633\n",
      "Epoch 6/100\n",
      "700/700 [==============================] - 39s 56ms/step - loss: 8.5268 - dense_6_loss: 0.1959 - dense_7_loss: 1.6538 - dense_8_loss: 1.2125 - dense_9_loss: 2.7833 - dense_10_loss: 2.6813 - dense_6_acc: 0.9786 - dense_7_acc: 0.9129 - dense_8_acc: 0.9057 - dense_9_acc: 0.8414 - dense_10_acc: 0.9671 - val_loss: 15.3318 - val_dense_6_loss: 0.0200 - val_dense_7_loss: 3.7150 - val_dense_8_loss: 2.8077 - val_dense_9_loss: 8.4560 - val_dense_10_loss: 0.3332 - val_dense_6_acc: 0.9800 - val_dense_7_acc: 0.9100 - val_dense_8_acc: 0.8933 - val_dense_9_acc: 0.8333 - val_dense_10_acc: 0.9733\n",
      "Epoch 7/100\n",
      "100/700 [===>..........................] - ETA: 29s - loss: 8.6485 - dense_6_loss: 0.0684 - dense_7_loss: 1.4466 - dense_8_loss: 1.8561 - dense_9_loss: 4.8863 - dense_10_loss: 0.3911 - dense_6_acc: 0.9900 - dense_7_acc: 0.9300 - dense_8_acc: 0.8900 - dense_9_acc: 0.8500 - dense_10_acc: 0.9700700/700 [==============================] - 39s 56ms/step - loss: 12.1564 - dense_6_loss: 0.1906 - dense_7_loss: 1.5292 - dense_8_loss: 3.3653 - dense_9_loss: 6.6503 - dense_10_loss: 0.4208 - dense_6_acc: 0.9829 - dense_7_acc: 0.9357 - dense_8_acc: 0.9171 - dense_9_acc: 0.8557 - dense_10_acc: 0.9771 - val_loss: 15.0683 - val_dense_6_loss: 0.0116 - val_dense_7_loss: 3.7749 - val_dense_8_loss: 2.5855 - val_dense_9_loss: 8.4768 - val_dense_10_loss: 0.2195 - val_dense_6_acc: 0.9833 - val_dense_7_acc: 0.9000 - val_dense_8_acc: 0.9100 - val_dense_9_acc: 0.8400 - val_dense_10_acc: 0.9700\n",
      "Epoch 8/100\n",
      "700/700 [==============================] - 39s 56ms/step - loss: 3.4962 - dense_6_loss: 0.0697 - dense_7_loss: 0.4934 - dense_8_loss: 0.3405 - dense_9_loss: 2.0388 - dense_10_loss: 0.5539 - dense_6_acc: 0.9814 - dense_7_acc: 0.9386 - dense_8_acc: 0.9186 - dense_9_acc: 0.8914 - dense_10_acc: 0.9743 - val_loss: 14.5649 - val_dense_6_loss: 0.0085 - val_dense_7_loss: 3.7334 - val_dense_8_loss: 2.4631 - val_dense_9_loss: 8.1759 - val_dense_10_loss: 0.1840 - val_dense_6_acc: 0.9833 - val_dense_7_acc: 0.9000 - val_dense_8_acc: 0.9133 - val_dense_9_acc: 0.8600 - val_dense_10_acc: 0.9733\n",
      "Epoch 9/100\n",
      "700/700 [==============================] - 39s 56ms/step - loss: 11437.7136 - dense_6_loss: 2295.5453 - dense_7_loss: 2365.8093 - dense_8_loss: 2307.6834 - dense_9_loss: 2127.4044 - dense_10_loss: 2341.2702 - dense_6_acc: 0.9829 - dense_7_acc: 0.9514 - dense_8_acc: 0.9200 - dense_9_acc: 0.9029 - dense_10_acc: 0.9829 - val_loss: 14.3362 - val_dense_6_loss: 0.0070 - val_dense_7_loss: 3.7509 - val_dense_8_loss: 2.4087 - val_dense_9_loss: 7.9979 - val_dense_10_loss: 0.1716 - val_dense_6_acc: 0.9833 - val_dense_7_acc: 0.9033 - val_dense_8_acc: 0.9200 - val_dense_9_acc: 0.8767 - val_dense_10_acc: 0.9733\n",
      "Epoch 10/100\n",
      "700/700 [==============================] - 40s 56ms/step - loss: 5.3109 - dense_6_loss: 0.0375 - dense_7_loss: 3.1584 - dense_8_loss: 0.6601 - dense_9_loss: 1.3043 - dense_10_loss: 0.1507 - dense_6_acc: 0.9857 - dense_7_acc: 0.9500 - dense_8_acc: 0.9286 - dense_9_acc: 0.9000 - dense_10_acc: 0.9814 - val_loss: 14.1020 - val_dense_6_loss: 0.0061 - val_dense_7_loss: 3.6983 - val_dense_8_loss: 2.4044 - val_dense_9_loss: 7.8275 - val_dense_10_loss: 0.1657 - val_dense_6_acc: 0.9833 - val_dense_7_acc: 0.9033 - val_dense_8_acc: 0.9167 - val_dense_9_acc: 0.8833 - val_dense_10_acc: 0.9733\n",
      "Epoch 11/100\n",
      "700/700 [==============================] - 39s 56ms/step - loss: 3.7622 - dense_6_loss: 0.0858 - dense_7_loss: 0.8790 - dense_8_loss: 1.5293 - dense_9_loss: 1.1855 - dense_10_loss: 0.0826 - dense_6_acc: 0.9857 - dense_7_acc: 0.9514 - dense_8_acc: 0.9386 - dense_9_acc: 0.9086 - dense_10_acc: 0.9857 - val_loss: 13.4635 - val_dense_6_loss: 0.0049 - val_dense_7_loss: 3.4459 - val_dense_8_loss: 2.3334 - val_dense_9_loss: 7.5276 - val_dense_10_loss: 0.1517 - val_dense_6_acc: 0.9833 - val_dense_7_acc: 0.9100 - val_dense_8_acc: 0.9233 - val_dense_9_acc: 0.8933 - val_dense_10_acc: 0.9767\n",
      "Epoch 12/100\n",
      "700/700 [==============================] - 39s 56ms/step - loss: 1.6989 - dense_6_loss: 0.0157 - dense_7_loss: 0.5556 - dense_8_loss: 0.5211 - dense_9_loss: 0.5819 - dense_10_loss: 0.0246 - dense_6_acc: 0.9829 - dense_7_acc: 0.9457 - dense_8_acc: 0.9471 - dense_9_acc: 0.9214 - dense_10_acc: 0.9857 - val_loss: 12.9892 - val_dense_6_loss: 0.0040 - val_dense_7_loss: 3.2731 - val_dense_8_loss: 2.2907 - val_dense_9_loss: 7.2810 - val_dense_10_loss: 0.1404 - val_dense_6_acc: 0.9867 - val_dense_7_acc: 0.9167 - val_dense_8_acc: 0.9367 - val_dense_9_acc: 0.9033 - val_dense_10_acc: 0.9767\n",
      "Epoch 13/100\n",
      "200/700 [=======>......................] - ETA: 24s - loss: 0.4814 - dense_6_loss: 0.0012 - dense_7_loss: 0.0048 - dense_8_loss: 0.0769 - dense_9_loss: 0.3790 - dense_10_loss: 0.0195 - dense_6_acc: 0.9900 - dense_7_acc: 0.9650 - dense_8_acc: 0.9600 - dense_9_acc: 0.9200 - dense_10_acc: 0.9900                700/700 [==============================] - 39s 56ms/step - loss: 11462.7700 - dense_6_loss: 2289.0196 - dense_7_loss: 2271.1030 - dense_8_loss: 2147.3665 - dense_9_loss: 2386.0527 - dense_10_loss: 2369.2279 - dense_6_acc: 0.9857 - dense_7_acc: 0.9600 - dense_8_acc: 0.9543 - dense_9_acc: 0.9257 - dense_10_acc: 0.9814 - val_loss: 12.7966 - val_dense_6_loss: 0.0034 - val_dense_7_loss: 3.2644 - val_dense_8_loss: 2.2834 - val_dense_9_loss: 7.1177 - val_dense_10_loss: 0.1277 - val_dense_6_acc: 0.9867 - val_dense_7_acc: 0.9200 - val_dense_8_acc: 0.9333 - val_dense_9_acc: 0.9000 - val_dense_10_acc: 0.9800\n",
      "Epoch 14/100\n",
      "700/700 [==============================] - 39s 56ms/step - loss: 2.1360 - dense_6_loss: 0.0146 - dense_7_loss: 0.4850 - dense_8_loss: 0.8130 - dense_9_loss: 0.7521 - dense_10_loss: 0.0712 - dense_6_acc: 0.9871 - dense_7_acc: 0.9586 - dense_8_acc: 0.9586 - dense_9_acc: 0.9243 - dense_10_acc: 0.9814 - val_loss: 12.3601 - val_dense_6_loss: 0.0028 - val_dense_7_loss: 3.1811 - val_dense_8_loss: 2.2292 - val_dense_9_loss: 6.8393 - val_dense_10_loss: 0.1077 - val_dense_6_acc: 0.9867 - val_dense_7_acc: 0.9200 - val_dense_8_acc: 0.9367 - val_dense_9_acc: 0.9067 - val_dense_10_acc: 0.9800\n",
      "Epoch 15/100\n",
      "700/700 [==============================] - 40s 57ms/step - loss: 11457.9303 - dense_6_loss: 2288.2021 - dense_7_loss: 2269.6888 - dense_8_loss: 2146.1995 - dense_9_loss: 2385.0140 - dense_10_loss: 2368.8262 - dense_6_acc: 0.9857 - dense_7_acc: 0.9671 - dense_8_acc: 0.9614 - dense_9_acc: 0.9371 - dense_10_acc: 0.9843 - val_loss: 11.6406 - val_dense_6_loss: 0.0022 - val_dense_7_loss: 3.0167 - val_dense_8_loss: 2.0298 - val_dense_9_loss: 6.4965 - val_dense_10_loss: 0.0954 - val_dense_6_acc: 0.9867 - val_dense_7_acc: 0.9133 - val_dense_8_acc: 0.9367 - val_dense_9_acc: 0.9167 - val_dense_10_acc: 0.9800\n",
      "Epoch 16/100\n",
      "700/700 [==============================] - 40s 57ms/step - loss: 12981.6177 - dense_6_loss: 2270.7863 - dense_7_loss: 2848.0214 - dense_8_loss: 3038.4451 - dense_9_loss: 2174.1084 - dense_10_loss: 2650.2575 - dense_6_acc: 0.9857 - dense_7_acc: 0.9657 - dense_8_acc: 0.9643 - dense_9_acc: 0.9457 - dense_10_acc: 0.9843 - val_loss: 10.7403 - val_dense_6_loss: 0.0018 - val_dense_7_loss: 2.7258 - val_dense_8_loss: 1.7690 - val_dense_9_loss: 6.1300 - val_dense_10_loss: 0.1137 - val_dense_6_acc: 0.9867 - val_dense_7_acc: 0.9233 - val_dense_8_acc: 0.9400 - val_dense_9_acc: 0.9133 - val_dense_10_acc: 0.9800\n",
      "Epoch 17/100\n",
      "700/700 [==============================] - 39s 56ms/step - loss: 11351.9906 - dense_6_loss: 2067.1068 - dense_7_loss: 2124.6408 - dense_8_loss: 2607.4302 - dense_9_loss: 2110.6533 - dense_10_loss: 2442.1594 - dense_6_acc: 0.9843 - dense_7_acc: 0.9714 - dense_8_acc: 0.9671 - dense_9_acc: 0.9457 - dense_10_acc: 0.9843 - val_loss: 10.4521 - val_dense_6_loss: 0.0014 - val_dense_7_loss: 2.7395 - val_dense_8_loss: 1.5794 - val_dense_9_loss: 5.9916 - val_dense_10_loss: 0.1401 - val_dense_6_acc: 0.9867 - val_dense_7_acc: 0.9233 - val_dense_8_acc: 0.9467 - val_dense_9_acc: 0.9133 - val_dense_10_acc: 0.9800\n",
      "Epoch 18/100\n",
      "700/700 [==============================] - 39s 56ms/step - loss: 6.1848 - dense_6_loss: 0.0243 - dense_7_loss: 4.7474 - dense_8_loss: 0.3207 - dense_9_loss: 1.0818 - dense_10_loss: 0.0106 - dense_6_acc: 0.9871 - dense_7_acc: 0.9671 - dense_8_acc: 0.9700 - dense_9_acc: 0.9600 - dense_10_acc: 0.9871 - val_loss: 10.4418 - val_dense_6_loss: 0.0010 - val_dense_7_loss: 2.8115 - val_dense_8_loss: 1.5306 - val_dense_9_loss: 5.9430 - val_dense_10_loss: 0.1557 - val_dense_6_acc: 0.9900 - val_dense_7_acc: 0.9267 - val_dense_8_acc: 0.9467 - val_dense_9_acc: 0.9200 - val_dense_10_acc: 0.9800\n",
      "Epoch 19/100\n"
     ]
    },
    {
     "name": "stdout",
     "output_type": "stream",
     "text": [
      "200/700 [=======>......................] - ETA: 24s - loss: 6.5078 - dense_6_loss: 0.0438 - dense_7_loss: 0.3721 - dense_8_loss: 0.0491 - dense_9_loss: 5.9557 - dense_10_loss: 0.0872 - dense_6_acc: 0.9900 - dense_7_acc: 0.9700 - dense_8_acc: 0.9850 - dense_9_acc: 0.9500 - dense_10_acc: 0.9950    700/700 [==============================] - 39s 56ms/step - loss: 4.3102 - dense_6_loss: 2.3153 - dense_7_loss: 0.1238 - dense_8_loss: 0.0477 - dense_9_loss: 1.7646 - dense_10_loss: 0.0589 - dense_6_acc: 0.9843 - dense_7_acc: 0.9743 - dense_8_acc: 0.9671 - dense_9_acc: 0.9557 - dense_10_acc: 0.9857 - val_loss: 10.5436 - val_dense_6_loss: 7.2579e-04 - val_dense_7_loss: 2.9067 - val_dense_8_loss: 1.5588 - val_dense_9_loss: 5.9247 - val_dense_10_loss: 0.1527 - val_dense_6_acc: 0.9900 - val_dense_7_acc: 0.9300 - val_dense_8_acc: 0.9567 - val_dense_9_acc: 0.9267 - val_dense_10_acc: 0.9800\n",
      "Epoch 20/100\n",
      "700/700 [==============================] - 39s 56ms/step - loss: 4.1150 - dense_6_loss: 2.3247 - dense_7_loss: 0.3876 - dense_8_loss: 0.2554 - dense_9_loss: 0.8886 - dense_10_loss: 0.2586 - dense_6_acc: 0.9843 - dense_7_acc: 0.9786 - dense_8_acc: 0.9743 - dense_9_acc: 0.9486 - dense_10_acc: 0.9857 - val_loss: 9.9261 - val_dense_6_loss: 5.5490e-04 - val_dense_7_loss: 2.5774 - val_dense_8_loss: 1.3229 - val_dense_9_loss: 5.8971 - val_dense_10_loss: 0.1282 - val_dense_6_acc: 0.9900 - val_dense_7_acc: 0.9300 - val_dense_8_acc: 0.9633 - val_dense_9_acc: 0.9333 - val_dense_10_acc: 0.9800\n",
      "Epoch 21/100\n",
      "700/700 [==============================] - 39s 56ms/step - loss: 24420.6812 - dense_6_loss: 4556.0326 - dense_7_loss: 5114.8146 - dense_8_loss: 5178.1735 - dense_9_loss: 4555.4873 - dense_10_loss: 5016.1735 - dense_6_acc: 0.9871 - dense_7_acc: 0.9800 - dense_8_acc: 0.9700 - dense_9_acc: 0.9529 - dense_10_acc: 0.9886 - val_loss: 9.6570 - val_dense_6_loss: 4.3668e-04 - val_dense_7_loss: 2.4450 - val_dense_8_loss: 1.1282 - val_dense_9_loss: 5.9749 - val_dense_10_loss: 0.1083 - val_dense_6_acc: 0.9900 - val_dense_7_acc: 0.9267 - val_dense_8_acc: 0.9633 - val_dense_9_acc: 0.9267 - val_dense_10_acc: 0.9800\n",
      "Epoch 22/100\n",
      "700/700 [==============================] - 39s 56ms/step - loss: 2.9941 - dense_6_loss: 2.3053 - dense_7_loss: 0.2664 - dense_8_loss: 0.1918 - dense_9_loss: 0.2224 - dense_10_loss: 0.0082 - dense_6_acc: 0.9857 - dense_7_acc: 0.9757 - dense_8_acc: 0.9757 - dense_9_acc: 0.9457 - dense_10_acc: 0.9857 - val_loss: 9.7012 - val_dense_6_loss: 3.7577e-04 - val_dense_7_loss: 2.4617 - val_dense_8_loss: 1.0314 - val_dense_9_loss: 6.1092 - val_dense_10_loss: 0.0986 - val_dense_6_acc: 0.9900 - val_dense_7_acc: 0.9233 - val_dense_8_acc: 0.9633 - val_dense_9_acc: 0.9300 - val_dense_10_acc: 0.9800\n",
      "Epoch 23/100\n",
      "700/700 [==============================] - 39s 56ms/step - loss: 2.9096 - dense_6_loss: 0.0279 - dense_7_loss: 0.1176 - dense_8_loss: 2.4418 - dense_9_loss: 0.3179 - dense_10_loss: 0.0045 - dense_6_acc: 0.9871 - dense_7_acc: 0.9714 - dense_8_acc: 0.9771 - dense_9_acc: 0.9586 - dense_10_acc: 0.9871 - val_loss: 9.7389 - val_dense_6_loss: 3.2330e-04 - val_dense_7_loss: 2.4354 - val_dense_8_loss: 0.9379 - val_dense_9_loss: 6.2729 - val_dense_10_loss: 0.0925 - val_dense_6_acc: 0.9900 - val_dense_7_acc: 0.9200 - val_dense_8_acc: 0.9600 - val_dense_9_acc: 0.9300 - val_dense_10_acc: 0.9800\n",
      "Epoch 24/100\n",
      "700/700 [==============================] - 39s 56ms/step - loss: 5.1321 - dense_6_loss: 0.0070 - dense_7_loss: 0.1076 - dense_8_loss: 2.4199 - dense_9_loss: 2.5888 - dense_10_loss: 0.0088 - dense_6_acc: 0.9871 - dense_7_acc: 0.9714 - dense_8_acc: 0.9729 - dense_9_acc: 0.9571 - dense_10_acc: 0.9886 - val_loss: 9.6294 - val_dense_6_loss: 2.5458e-04 - val_dense_7_loss: 2.3792 - val_dense_8_loss: 0.8490 - val_dense_9_loss: 6.3023 - val_dense_10_loss: 0.0987 - val_dense_6_acc: 0.9900 - val_dense_7_acc: 0.9200 - val_dense_8_acc: 0.9567 - val_dense_9_acc: 0.9333 - val_dense_10_acc: 0.9800\n",
      "Epoch 25/100\n",
      "200/700 [=======>......................] - ETA: 24s - loss: 42284.5076 - dense_6_loss: 8841.8213 - dense_7_loss: 9661.3915 - dense_8_loss: 8103.4508 - dense_9_loss: 8841.7535 - dense_10_loss: 6836.0940 - dense_6_acc: 0.9850 - dense_7_acc: 0.9850 - dense_8_acc: 0.9650 - dense_9_acc: 0.9700 - dense_10_acc: 0.9850     700/700 [==============================] - 39s 56ms/step - loss: 12083.4591 - dense_6_loss: 2526.2597 - dense_7_loss: 2761.3996 - dense_8_loss: 2315.9115 - dense_9_loss: 2526.7118 - dense_10_loss: 1953.1776 - dense_6_acc: 0.9871 - dense_7_acc: 0.9757 - dense_8_acc: 0.9700 - dense_9_acc: 0.9643 - dense_10_acc: 0.9857 - val_loss: 9.2488 - val_dense_6_loss: 2.3065e-04 - val_dense_7_loss: 2.3016 - val_dense_8_loss: 0.7711 - val_dense_9_loss: 6.0670 - val_dense_10_loss: 0.1088 - val_dense_6_acc: 0.9900 - val_dense_7_acc: 0.9300 - val_dense_8_acc: 0.9667 - val_dense_9_acc: 0.9367 - val_dense_10_acc: 0.9800\n",
      "Epoch 26/100\n",
      "700/700 [==============================] - 39s 56ms/step - loss: 12973.5597 - dense_6_loss: 2548.4799 - dense_7_loss: 2610.2157 - dense_8_loss: 2841.9948 - dense_9_loss: 2687.0569 - dense_10_loss: 2285.8132 - dense_6_acc: 0.9871 - dense_7_acc: 0.9743 - dense_8_acc: 0.9700 - dense_9_acc: 0.9643 - dense_10_acc: 0.9871 - val_loss: 9.3312 - val_dense_6_loss: 2.3165e-04 - val_dense_7_loss: 2.4885 - val_dense_8_loss: 0.8403 - val_dense_9_loss: 5.8776 - val_dense_10_loss: 0.1246 - val_dense_6_acc: 0.9900 - val_dense_7_acc: 0.9333 - val_dense_8_acc: 0.9633 - val_dense_9_acc: 0.9433 - val_dense_10_acc: 0.9800\n",
      "Epoch 27/100\n",
      "700/700 [==============================] - 39s 56ms/step - loss: 12968.0761 - dense_6_loss: 2547.8998 - dense_7_loss: 2607.0587 - dense_8_loss: 2841.3936 - dense_9_loss: 2686.4641 - dense_10_loss: 2285.2592 - dense_6_acc: 0.9871 - dense_7_acc: 0.9771 - dense_8_acc: 0.9671 - dense_9_acc: 0.9614 - dense_10_acc: 0.9871 - val_loss: 9.7295 - val_dense_6_loss: 2.2521e-04 - val_dense_7_loss: 2.6892 - val_dense_8_loss: 1.0198 - val_dense_9_loss: 5.8787 - val_dense_10_loss: 0.1415 - val_dense_6_acc: 0.9867 - val_dense_7_acc: 0.9400 - val_dense_8_acc: 0.9567 - val_dense_9_acc: 0.9367 - val_dense_10_acc: 0.9833\n",
      "Epoch 28/100\n",
      "700/700 [==============================] - 39s 56ms/step - loss: 12962.6571 - dense_6_loss: 2546.8478 - dense_7_loss: 2605.7641 - dense_8_loss: 2840.6076 - dense_9_loss: 2685.8341 - dense_10_loss: 2283.6039 - dense_6_acc: 0.9871 - dense_7_acc: 0.9700 - dense_8_acc: 0.9714 - dense_9_acc: 0.9586 - dense_10_acc: 0.9857 - val_loss: 9.8435 - val_dense_6_loss: 2.3479e-04 - val_dense_7_loss: 2.8152 - val_dense_8_loss: 0.9788 - val_dense_9_loss: 5.8249 - val_dense_10_loss: 0.2244 - val_dense_6_acc: 0.9867 - val_dense_7_acc: 0.9433 - val_dense_8_acc: 0.9600 - val_dense_9_acc: 0.9267 - val_dense_10_acc: 0.9767\n",
      "Epoch 29/100\n",
      "700/700 [==============================] - 39s 56ms/step - loss: 3.6831 - dense_6_loss: 0.0261 - dense_7_loss: 0.2516 - dense_8_loss: 2.6106 - dense_9_loss: 0.5310 - dense_10_loss: 0.2638 - dense_6_acc: 0.9843 - dense_7_acc: 0.9700 - dense_8_acc: 0.9757 - dense_9_acc: 0.9571 - dense_10_acc: 0.9857 - val_loss: 8.2455 - val_dense_6_loss: 2.0921e-04 - val_dense_7_loss: 2.3920 - val_dense_8_loss: 0.3911 - val_dense_9_loss: 5.1961 - val_dense_10_loss: 0.2662 - val_dense_6_acc: 0.9867 - val_dense_7_acc: 0.9433 - val_dense_8_acc: 0.9700 - val_dense_9_acc: 0.9267 - val_dense_10_acc: 0.9767\n",
      "Epoch 30/100\n",
      "700/700 [==============================] - 39s 56ms/step - loss: 5.2608 - dense_6_loss: 2.3119 - dense_7_loss: 2.3128 - dense_8_loss: 0.1841 - dense_9_loss: 0.4459 - dense_10_loss: 0.0061 - dense_6_acc: 0.9857 - dense_7_acc: 0.9786 - dense_8_acc: 0.9743 - dense_9_acc: 0.9600 - dense_10_acc: 0.9843 - val_loss: 7.8845 - val_dense_6_loss: 2.0212e-04 - val_dense_7_loss: 2.2071 - val_dense_8_loss: 0.2875 - val_dense_9_loss: 5.1126 - val_dense_10_loss: 0.2771 - val_dense_6_acc: 0.9867 - val_dense_7_acc: 0.9500 - val_dense_8_acc: 0.9633 - val_dense_9_acc: 0.9233 - val_dense_10_acc: 0.9767\n",
      "Epoch 31/100\n"
     ]
    },
    {
     "name": "stdout",
     "output_type": "stream",
     "text": [
      "100/700 [===>..........................] - ETA: 29s - loss: 0.0112 - dense_6_loss: 3.1190e-04 - dense_7_loss: 6.3181e-06 - dense_8_loss: 5.2691e-05 - dense_9_loss: 8.7866e-04 - dense_10_loss: 0.0100 - dense_6_acc: 0.9700 - dense_7_acc: 0.9700 - dense_8_acc: 0.9600 - dense_9_acc: 0.9500 - dense_10_acc: 0.9700700/700 [==============================] - 39s 56ms/step - loss: 9.6871 - dense_6_loss: 4.6060 - dense_7_loss: 2.4997 - dense_8_loss: 0.1177 - dense_9_loss: 2.4436 - dense_10_loss: 0.0202 - dense_6_acc: 0.9871 - dense_7_acc: 0.9786 - dense_8_acc: 0.9743 - dense_9_acc: 0.9629 - dense_10_acc: 0.9871 - val_loss: 7.6138 - val_dense_6_loss: 2.0921e-04 - val_dense_7_loss: 1.9740 - val_dense_8_loss: 0.3758 - val_dense_9_loss: 4.9968 - val_dense_10_loss: 0.2670 - val_dense_6_acc: 0.9867 - val_dense_7_acc: 0.9500 - val_dense_8_acc: 0.9733 - val_dense_9_acc: 0.9300 - val_dense_10_acc: 0.9767\n",
      "Epoch 32/100\n",
      "700/700 [==============================] - 39s 56ms/step - loss: 8.4081 - dense_6_loss: 0.0100 - dense_7_loss: 2.4806 - dense_8_loss: 2.4810 - dense_9_loss: 1.1197 - dense_10_loss: 2.3169 - dense_6_acc: 0.9843 - dense_7_acc: 0.9771 - dense_8_acc: 0.9800 - dense_9_acc: 0.9643 - dense_10_acc: 0.9857 - val_loss: 7.6862 - val_dense_6_loss: 2.0989e-04 - val_dense_7_loss: 2.2003 - val_dense_8_loss: 0.4528 - val_dense_9_loss: 4.8050 - val_dense_10_loss: 0.2279 - val_dense_6_acc: 0.9867 - val_dense_7_acc: 0.9533 - val_dense_8_acc: 0.9700 - val_dense_9_acc: 0.9367 - val_dense_10_acc: 0.9767\n",
      "Epoch 33/100\n",
      "700/700 [==============================] - 39s 56ms/step - loss: 3.0497 - dense_6_loss: 0.0103 - dense_7_loss: 0.0288 - dense_8_loss: 2.3899 - dense_9_loss: 0.5803 - dense_10_loss: 0.0404 - dense_6_acc: 0.9857 - dense_7_acc: 0.9786 - dense_8_acc: 0.9743 - dense_9_acc: 0.9700 - dense_10_acc: 0.9814 - val_loss: 7.5801 - val_dense_6_loss: 2.1744e-04 - val_dense_7_loss: 2.3340 - val_dense_8_loss: 0.5431 - val_dense_9_loss: 4.5167 - val_dense_10_loss: 0.1861 - val_dense_6_acc: 0.9900 - val_dense_7_acc: 0.9600 - val_dense_8_acc: 0.9700 - val_dense_9_acc: 0.9500 - val_dense_10_acc: 0.9767\n",
      "Epoch 34/100\n",
      "700/700 [==============================] - 39s 56ms/step - loss: 11432.1721 - dense_6_loss: 2294.8608 - dense_7_loss: 2364.6884 - dense_8_loss: 2305.5363 - dense_9_loss: 2126.1081 - dense_10_loss: 2340.9790 - dense_6_acc: 0.9857 - dense_7_acc: 0.9829 - dense_8_acc: 0.9771 - dense_9_acc: 0.9671 - dense_10_acc: 0.9871 - val_loss: 7.4603 - val_dense_6_loss: 2.2845e-04 - val_dense_7_loss: 2.3594 - val_dense_8_loss: 0.5595 - val_dense_9_loss: 4.4245 - val_dense_10_loss: 0.1166 - val_dense_6_acc: 0.9900 - val_dense_7_acc: 0.9533 - val_dense_8_acc: 0.9633 - val_dense_9_acc: 0.9400 - val_dense_10_acc: 0.9767\n",
      "Epoch 35/100\n",
      "700/700 [==============================] - 39s 56ms/step - loss: 1.0391 - dense_6_loss: 0.0083 - dense_7_loss: 0.2542 - dense_8_loss: 0.0771 - dense_9_loss: 0.6847 - dense_10_loss: 0.0148 - dense_6_acc: 0.9871 - dense_7_acc: 0.9757 - dense_8_acc: 0.9757 - dense_9_acc: 0.9657 - dense_10_acc: 0.9871 - val_loss: 6.7807 - val_dense_6_loss: 2.3397e-04 - val_dense_7_loss: 1.8934 - val_dense_8_loss: 0.4120 - val_dense_9_loss: 4.3858 - val_dense_10_loss: 0.0893 - val_dense_6_acc: 0.9900 - val_dense_7_acc: 0.9433 - val_dense_8_acc: 0.9633 - val_dense_9_acc: 0.9400 - val_dense_10_acc: 0.9800\n",
      "Epoch 36/100\n",
      "700/700 [==============================] - 39s 56ms/step - loss: 8.0019 - dense_6_loss: 0.0213 - dense_7_loss: 0.3658 - dense_8_loss: 2.5579 - dense_9_loss: 2.7507 - dense_10_loss: 2.3063 - dense_6_acc: 0.9871 - dense_7_acc: 0.9743 - dense_8_acc: 0.9743 - dense_9_acc: 0.9671 - dense_10_acc: 0.9871 - val_loss: 6.4074 - val_dense_6_loss: 1.6579e-04 - val_dense_7_loss: 1.7310 - val_dense_8_loss: 0.1821 - val_dense_9_loss: 4.4165 - val_dense_10_loss: 0.0777 - val_dense_6_acc: 0.9900 - val_dense_7_acc: 0.9433 - val_dense_8_acc: 0.9767 - val_dense_9_acc: 0.9400 - val_dense_10_acc: 0.9800\n",
      "Epoch 37/100\n",
      "200/700 [=======>......................] - ETA: 24s - loss: 0.0385 - dense_6_loss: 0.0016 - dense_7_loss: 5.0257e-04 - dense_8_loss: 0.0089 - dense_9_loss: 0.0272 - dense_10_loss: 3.9149e-04 - dense_6_acc: 0.9900 - dense_7_acc: 0.9850 - dense_8_acc: 0.9800 - dense_9_acc: 0.9850 - dense_10_acc: 0.9800    700/700 [==============================] - 39s 56ms/step - loss: 2.5703 - dense_6_loss: 0.0049 - dense_7_loss: 2.4142 - dense_8_loss: 0.0696 - dense_9_loss: 0.0570 - dense_10_loss: 0.0246 - dense_6_acc: 0.9871 - dense_7_acc: 0.9686 - dense_8_acc: 0.9786 - dense_9_acc: 0.9686 - dense_10_acc: 0.9871 - val_loss: 6.5000 - val_dense_6_loss: 1.5020e-04 - val_dense_7_loss: 1.7006 - val_dense_8_loss: 0.1530 - val_dense_9_loss: 4.5797 - val_dense_10_loss: 0.0666 - val_dense_6_acc: 0.9900 - val_dense_7_acc: 0.9567 - val_dense_8_acc: 0.9700 - val_dense_9_acc: 0.9333 - val_dense_10_acc: 0.9800\n",
      "Epoch 38/100\n",
      "700/700 [==============================] - 39s 56ms/step - loss: 12965.2545 - dense_6_loss: 2267.3700 - dense_7_loss: 2845.8943 - dense_8_loss: 3032.7066 - dense_9_loss: 2171.5507 - dense_10_loss: 2647.7334 - dense_6_acc: 0.9843 - dense_7_acc: 0.9743 - dense_8_acc: 0.9714 - dense_9_acc: 0.9714 - dense_10_acc: 0.9900 - val_loss: 6.6623 - val_dense_6_loss: 1.4382e-04 - val_dense_7_loss: 1.8288 - val_dense_8_loss: 0.1707 - val_dense_9_loss: 4.6034 - val_dense_10_loss: 0.0592 - val_dense_6_acc: 0.9900 - val_dense_7_acc: 0.9533 - val_dense_8_acc: 0.9667 - val_dense_9_acc: 0.9367 - val_dense_10_acc: 0.9800\n",
      "Epoch 39/100\n",
      "700/700 [==============================] - 39s 56ms/step - loss: 12966.1155 - dense_6_loss: 2267.0277 - dense_7_loss: 2847.9648 - dense_8_loss: 3032.5113 - dense_9_loss: 2171.1614 - dense_10_loss: 2647.4507 - dense_6_acc: 0.9871 - dense_7_acc: 0.9771 - dense_8_acc: 0.9729 - dense_9_acc: 0.9743 - dense_10_acc: 0.9871 - val_loss: 6.9090 - val_dense_6_loss: 1.3688e-04 - val_dense_7_loss: 2.0625 - val_dense_8_loss: 0.2378 - val_dense_9_loss: 4.5526 - val_dense_10_loss: 0.0560 - val_dense_6_acc: 0.9900 - val_dense_7_acc: 0.9533 - val_dense_8_acc: 0.9633 - val_dense_9_acc: 0.9367 - val_dense_10_acc: 0.9800\n",
      "Epoch 40/100\n",
      "700/700 [==============================] - 39s 56ms/step - loss: 0.1202 - dense_6_loss: 0.0099 - dense_7_loss: 0.0219 - dense_8_loss: 0.0109 - dense_9_loss: 0.0642 - dense_10_loss: 0.0133 - dense_6_acc: 0.9871 - dense_7_acc: 0.9786 - dense_8_acc: 0.9729 - dense_9_acc: 0.9700 - dense_10_acc: 0.9886 - val_loss: 7.2586 - val_dense_6_loss: 1.2979e-04 - val_dense_7_loss: 2.3928 - val_dense_8_loss: 0.3017 - val_dense_9_loss: 4.5068 - val_dense_10_loss: 0.0572 - val_dense_6_acc: 0.9900 - val_dense_7_acc: 0.9567 - val_dense_8_acc: 0.9633 - val_dense_9_acc: 0.9333 - val_dense_10_acc: 0.9800\n",
      "Epoch 41/100\n",
      "700/700 [==============================] - 39s 56ms/step - loss: 11426.4529 - dense_6_loss: 2294.9823 - dense_7_loss: 2363.6604 - dense_8_loss: 2303.9353 - dense_9_loss: 2124.6067 - dense_10_loss: 2339.2681 - dense_6_acc: 0.9857 - dense_7_acc: 0.9786 - dense_8_acc: 0.9757 - dense_9_acc: 0.9757 - dense_10_acc: 0.9871 - val_loss: 7.4253 - val_dense_6_loss: 1.5312e-04 - val_dense_7_loss: 2.5918 - val_dense_8_loss: 0.3384 - val_dense_9_loss: 4.4383 - val_dense_10_loss: 0.0567 - val_dense_6_acc: 0.9900 - val_dense_7_acc: 0.9567 - val_dense_8_acc: 0.9567 - val_dense_9_acc: 0.9367 - val_dense_10_acc: 0.9800\n",
      "Epoch 42/100\n",
      "700/700 [==============================] - 39s 56ms/step - loss: 3.5218 - dense_6_loss: 0.2715 - dense_7_loss: 0.3322 - dense_8_loss: 0.4161 - dense_9_loss: 2.4981 - dense_10_loss: 0.0040 - dense_6_acc: 0.9829 - dense_7_acc: 0.9757 - dense_8_acc: 0.9729 - dense_9_acc: 0.9729 - dense_10_acc: 0.9886 - val_loss: 7.9085 - val_dense_6_loss: 8.6231e-05 - val_dense_7_loss: 2.0290 - val_dense_8_loss: 0.3335 - val_dense_9_loss: 5.4890 - val_dense_10_loss: 0.0568 - val_dense_6_acc: 0.9900 - val_dense_7_acc: 0.9500 - val_dense_8_acc: 0.9600 - val_dense_9_acc: 0.9333 - val_dense_10_acc: 0.9800\n",
      "Epoch 43/100\n"
     ]
    },
    {
     "name": "stdout",
     "output_type": "stream",
     "text": [
      "200/700 [=======>......................] - ETA: 24s - loss: 0.0936 - dense_6_loss: 0.0028 - dense_7_loss: 0.0345 - dense_8_loss: 0.0041 - dense_9_loss: 0.0457 - dense_10_loss: 0.0066 - dense_6_acc: 0.9900 - dense_7_acc: 0.9950 - dense_8_acc: 0.9900 - dense_9_acc: 0.9750 - dense_10_acc: 0.9950700/700 [==============================] - 39s 56ms/step - loss: 11344.1780 - dense_6_loss: 2066.5516 - dense_7_loss: 2122.5702 - dense_8_loss: 2605.4751 - dense_9_loss: 2108.0811 - dense_10_loss: 2441.5005 - dense_6_acc: 0.9871 - dense_7_acc: 0.9800 - dense_8_acc: 0.9729 - dense_9_acc: 0.9757 - dense_10_acc: 0.9886 - val_loss: 7.8433 - val_dense_6_loss: 5.2076e-05 - val_dense_7_loss: 1.7962 - val_dense_8_loss: 0.2832 - val_dense_9_loss: 5.7087 - val_dense_10_loss: 0.0552 - val_dense_6_acc: 0.9900 - val_dense_7_acc: 0.9467 - val_dense_8_acc: 0.9667 - val_dense_9_acc: 0.9333 - val_dense_10_acc: 0.9767\n",
      "Epoch 44/100\n",
      "700/700 [==============================] - 39s 56ms/step - loss: 11342.9156 - dense_6_loss: 2066.2069 - dense_7_loss: 2122.4451 - dense_8_loss: 2605.0910 - dense_9_loss: 2108.0841 - dense_10_loss: 2441.0884 - dense_6_acc: 0.9871 - dense_7_acc: 0.9729 - dense_8_acc: 0.9771 - dense_9_acc: 0.9714 - dense_10_acc: 0.9857 - val_loss: 7.7775 - val_dense_6_loss: 4.5718e-05 - val_dense_7_loss: 1.8252 - val_dense_8_loss: 0.1969 - val_dense_9_loss: 5.6976 - val_dense_10_loss: 0.0577 - val_dense_6_acc: 0.9900 - val_dense_7_acc: 0.9533 - val_dense_8_acc: 0.9667 - val_dense_9_acc: 0.9267 - val_dense_10_acc: 0.9767\n",
      "Epoch 45/100\n",
      "700/700 [==============================] - 39s 56ms/step - loss: 0.6179 - dense_6_loss: 0.0104 - dense_7_loss: 0.0886 - dense_8_loss: 0.4706 - dense_9_loss: 0.0456 - dense_10_loss: 0.0027 - dense_6_acc: 0.9857 - dense_7_acc: 0.9800 - dense_8_acc: 0.9771 - dense_9_acc: 0.9757 - dense_10_acc: 0.9829 - val_loss: 7.8436 - val_dense_6_loss: 4.4665e-05 - val_dense_7_loss: 1.9397 - val_dense_8_loss: 0.1800 - val_dense_9_loss: 5.6589 - val_dense_10_loss: 0.0650 - val_dense_6_acc: 0.9900 - val_dense_7_acc: 0.9567 - val_dense_8_acc: 0.9700 - val_dense_9_acc: 0.9267 - val_dense_10_acc: 0.9767\n",
      "Epoch 46/100\n",
      "700/700 [==============================] - 39s 56ms/step - loss: 11417.8632 - dense_6_loss: 2292.0836 - dense_7_loss: 2362.1662 - dense_8_loss: 2302.3411 - dense_9_loss: 2123.4119 - dense_10_loss: 2337.8597 - dense_6_acc: 0.9871 - dense_7_acc: 0.9757 - dense_8_acc: 0.9786 - dense_9_acc: 0.9700 - dense_10_acc: 0.9857 - val_loss: 7.9425 - val_dense_6_loss: 4.6592e-05 - val_dense_7_loss: 2.0296 - val_dense_8_loss: 0.1828 - val_dense_9_loss: 5.6604 - val_dense_10_loss: 0.0697 - val_dense_6_acc: 0.9900 - val_dense_7_acc: 0.9567 - val_dense_8_acc: 0.9667 - val_dense_9_acc: 0.9433 - val_dense_10_acc: 0.9767\n",
      "Epoch 47/100\n",
      "700/700 [==============================] - 39s 56ms/step - loss: 0.6476 - dense_6_loss: 0.0038 - dense_7_loss: 0.4289 - dense_8_loss: 0.0314 - dense_9_loss: 0.1810 - dense_10_loss: 0.0024 - dense_6_acc: 0.9857 - dense_7_acc: 0.9829 - dense_8_acc: 0.9771 - dense_9_acc: 0.9771 - dense_10_acc: 0.9829 - val_loss: 8.2039 - val_dense_6_loss: 4.8042e-05 - val_dense_7_loss: 2.3463 - val_dense_8_loss: 0.1741 - val_dense_9_loss: 5.6123 - val_dense_10_loss: 0.0712 - val_dense_6_acc: 0.9900 - val_dense_7_acc: 0.9533 - val_dense_8_acc: 0.9667 - val_dense_9_acc: 0.9500 - val_dense_10_acc: 0.9767\n",
      "Epoch 48/100\n",
      "300/700 [===========>..................] - ETA: 19s - loss: 0.3347 - dense_6_loss: 1.7142e-04 - dense_7_loss: 0.3099 - dense_8_loss: 0.0101 - dense_9_loss: 0.0142 - dense_10_loss: 3.2449e-04 - dense_6_acc: 0.9933 - dense_7_acc: 0.9867 - dense_8_acc: 0.9900 - dense_9_acc: 0.9867 - dense_10_acc: 0.9900"
     ]
    },
    {
     "ename": "KeyboardInterrupt",
     "evalue": "ignored",
     "output_type": "error",
     "traceback": [
      "\u001b[0;31m---------------------------------------------------------------------------\u001b[0m",
      "\u001b[0;31mKeyboardInterrupt\u001b[0m                         Traceback (most recent call last)",
      "\u001b[0;32m<ipython-input-92-4b9a403c0500>\u001b[0m in \u001b[0;36m<module>\u001b[0;34m()\u001b[0m\n\u001b[1;32m      1\u001b[0m model.fit(X_train, y_train, batch_size=100, epochs=100,\n\u001b[0;32m----> 2\u001b[0;31m             \u001b[0mverbose\u001b[0m\u001b[0;34m=\u001b[0m\u001b[0;36m1\u001b[0m\u001b[0;34m,\u001b[0m \u001b[0mvalidation_data\u001b[0m\u001b[0;34m=\u001b[0m\u001b[0;34m(\u001b[0m\u001b[0mX_test\u001b[0m\u001b[0;34m,\u001b[0m\u001b[0my_test\u001b[0m\u001b[0;34m)\u001b[0m\u001b[0;31m#,callbacks=callbacks_list\u001b[0m\u001b[0;34m\u001b[0m\u001b[0m\n\u001b[0m\u001b[1;32m      3\u001b[0m          )\n",
      "\u001b[0;32m/usr/local/lib/python3.6/dist-packages/keras/engine/training.py\u001b[0m in \u001b[0;36mfit\u001b[0;34m(self, x, y, batch_size, epochs, verbose, callbacks, validation_split, validation_data, shuffle, class_weight, sample_weight, initial_epoch, steps_per_epoch, validation_steps, **kwargs)\u001b[0m\n\u001b[1;32m   1703\u001b[0m                               \u001b[0minitial_epoch\u001b[0m\u001b[0;34m=\u001b[0m\u001b[0minitial_epoch\u001b[0m\u001b[0;34m,\u001b[0m\u001b[0;34m\u001b[0m\u001b[0m\n\u001b[1;32m   1704\u001b[0m                               \u001b[0msteps_per_epoch\u001b[0m\u001b[0;34m=\u001b[0m\u001b[0msteps_per_epoch\u001b[0m\u001b[0;34m,\u001b[0m\u001b[0;34m\u001b[0m\u001b[0m\n\u001b[0;32m-> 1705\u001b[0;31m                               validation_steps=validation_steps)\n\u001b[0m\u001b[1;32m   1706\u001b[0m \u001b[0;34m\u001b[0m\u001b[0m\n\u001b[1;32m   1707\u001b[0m     def evaluate(self, x=None, y=None,\n",
      "\u001b[0;32m/usr/local/lib/python3.6/dist-packages/keras/engine/training.py\u001b[0m in \u001b[0;36m_fit_loop\u001b[0;34m(self, f, ins, out_labels, batch_size, epochs, verbose, callbacks, val_f, val_ins, shuffle, callback_metrics, initial_epoch, steps_per_epoch, validation_steps)\u001b[0m\n\u001b[1;32m   1234\u001b[0m                         \u001b[0mins_batch\u001b[0m\u001b[0;34m[\u001b[0m\u001b[0mi\u001b[0m\u001b[0;34m]\u001b[0m \u001b[0;34m=\u001b[0m \u001b[0mins_batch\u001b[0m\u001b[0;34m[\u001b[0m\u001b[0mi\u001b[0m\u001b[0;34m]\u001b[0m\u001b[0;34m.\u001b[0m\u001b[0mtoarray\u001b[0m\u001b[0;34m(\u001b[0m\u001b[0;34m)\u001b[0m\u001b[0;34m\u001b[0m\u001b[0m\n\u001b[1;32m   1235\u001b[0m \u001b[0;34m\u001b[0m\u001b[0m\n\u001b[0;32m-> 1236\u001b[0;31m                     \u001b[0mouts\u001b[0m \u001b[0;34m=\u001b[0m \u001b[0mf\u001b[0m\u001b[0;34m(\u001b[0m\u001b[0mins_batch\u001b[0m\u001b[0;34m)\u001b[0m\u001b[0;34m\u001b[0m\u001b[0m\n\u001b[0m\u001b[1;32m   1237\u001b[0m                     \u001b[0;32mif\u001b[0m \u001b[0;32mnot\u001b[0m \u001b[0misinstance\u001b[0m\u001b[0;34m(\u001b[0m\u001b[0mouts\u001b[0m\u001b[0;34m,\u001b[0m \u001b[0mlist\u001b[0m\u001b[0;34m)\u001b[0m\u001b[0;34m:\u001b[0m\u001b[0;34m\u001b[0m\u001b[0m\n\u001b[1;32m   1238\u001b[0m                         \u001b[0mouts\u001b[0m \u001b[0;34m=\u001b[0m \u001b[0;34m[\u001b[0m\u001b[0mouts\u001b[0m\u001b[0;34m]\u001b[0m\u001b[0;34m\u001b[0m\u001b[0m\n",
      "\u001b[0;32m/usr/local/lib/python3.6/dist-packages/keras/backend/tensorflow_backend.py\u001b[0m in \u001b[0;36m__call__\u001b[0;34m(self, inputs)\u001b[0m\n\u001b[1;32m   2480\u001b[0m         \u001b[0msession\u001b[0m \u001b[0;34m=\u001b[0m \u001b[0mget_session\u001b[0m\u001b[0;34m(\u001b[0m\u001b[0;34m)\u001b[0m\u001b[0;34m\u001b[0m\u001b[0m\n\u001b[1;32m   2481\u001b[0m         updated = session.run(fetches=fetches, feed_dict=feed_dict,\n\u001b[0;32m-> 2482\u001b[0;31m                               **self.session_kwargs)\n\u001b[0m\u001b[1;32m   2483\u001b[0m         \u001b[0;32mreturn\u001b[0m \u001b[0mupdated\u001b[0m\u001b[0;34m[\u001b[0m\u001b[0;34m:\u001b[0m\u001b[0mlen\u001b[0m\u001b[0;34m(\u001b[0m\u001b[0mself\u001b[0m\u001b[0;34m.\u001b[0m\u001b[0moutputs\u001b[0m\u001b[0;34m)\u001b[0m\u001b[0;34m]\u001b[0m\u001b[0;34m\u001b[0m\u001b[0m\n\u001b[1;32m   2484\u001b[0m \u001b[0;34m\u001b[0m\u001b[0m\n",
      "\u001b[0;32m/usr/local/lib/python3.6/dist-packages/tensorflow/python/client/session.py\u001b[0m in \u001b[0;36mrun\u001b[0;34m(self, fetches, feed_dict, options, run_metadata)\u001b[0m\n\u001b[1;32m    898\u001b[0m     \u001b[0;32mtry\u001b[0m\u001b[0;34m:\u001b[0m\u001b[0;34m\u001b[0m\u001b[0m\n\u001b[1;32m    899\u001b[0m       result = self._run(None, fetches, feed_dict, options_ptr,\n\u001b[0;32m--> 900\u001b[0;31m                          run_metadata_ptr)\n\u001b[0m\u001b[1;32m    901\u001b[0m       \u001b[0;32mif\u001b[0m \u001b[0mrun_metadata\u001b[0m\u001b[0;34m:\u001b[0m\u001b[0;34m\u001b[0m\u001b[0m\n\u001b[1;32m    902\u001b[0m         \u001b[0mproto_data\u001b[0m \u001b[0;34m=\u001b[0m \u001b[0mtf_session\u001b[0m\u001b[0;34m.\u001b[0m\u001b[0mTF_GetBuffer\u001b[0m\u001b[0;34m(\u001b[0m\u001b[0mrun_metadata_ptr\u001b[0m\u001b[0;34m)\u001b[0m\u001b[0;34m\u001b[0m\u001b[0m\n",
      "\u001b[0;32m/usr/local/lib/python3.6/dist-packages/tensorflow/python/client/session.py\u001b[0m in \u001b[0;36m_run\u001b[0;34m(self, handle, fetches, feed_dict, options, run_metadata)\u001b[0m\n\u001b[1;32m   1133\u001b[0m     \u001b[0;32mif\u001b[0m \u001b[0mfinal_fetches\u001b[0m \u001b[0;32mor\u001b[0m \u001b[0mfinal_targets\u001b[0m \u001b[0;32mor\u001b[0m \u001b[0;34m(\u001b[0m\u001b[0mhandle\u001b[0m \u001b[0;32mand\u001b[0m \u001b[0mfeed_dict_tensor\u001b[0m\u001b[0;34m)\u001b[0m\u001b[0;34m:\u001b[0m\u001b[0;34m\u001b[0m\u001b[0m\n\u001b[1;32m   1134\u001b[0m       results = self._do_run(handle, final_targets, final_fetches,\n\u001b[0;32m-> 1135\u001b[0;31m                              feed_dict_tensor, options, run_metadata)\n\u001b[0m\u001b[1;32m   1136\u001b[0m     \u001b[0;32melse\u001b[0m\u001b[0;34m:\u001b[0m\u001b[0;34m\u001b[0m\u001b[0m\n\u001b[1;32m   1137\u001b[0m       \u001b[0mresults\u001b[0m \u001b[0;34m=\u001b[0m \u001b[0;34m[\u001b[0m\u001b[0;34m]\u001b[0m\u001b[0;34m\u001b[0m\u001b[0m\n",
      "\u001b[0;32m/usr/local/lib/python3.6/dist-packages/tensorflow/python/client/session.py\u001b[0m in \u001b[0;36m_do_run\u001b[0;34m(self, handle, target_list, fetch_list, feed_dict, options, run_metadata)\u001b[0m\n\u001b[1;32m   1314\u001b[0m     \u001b[0;32mif\u001b[0m \u001b[0mhandle\u001b[0m \u001b[0;32mis\u001b[0m \u001b[0;32mNone\u001b[0m\u001b[0;34m:\u001b[0m\u001b[0;34m\u001b[0m\u001b[0m\n\u001b[1;32m   1315\u001b[0m       return self._do_call(_run_fn, feeds, fetches, targets, options,\n\u001b[0;32m-> 1316\u001b[0;31m                            run_metadata)\n\u001b[0m\u001b[1;32m   1317\u001b[0m     \u001b[0;32melse\u001b[0m\u001b[0;34m:\u001b[0m\u001b[0;34m\u001b[0m\u001b[0m\n\u001b[1;32m   1318\u001b[0m       \u001b[0;32mreturn\u001b[0m \u001b[0mself\u001b[0m\u001b[0;34m.\u001b[0m\u001b[0m_do_call\u001b[0m\u001b[0;34m(\u001b[0m\u001b[0m_prun_fn\u001b[0m\u001b[0;34m,\u001b[0m \u001b[0mhandle\u001b[0m\u001b[0;34m,\u001b[0m \u001b[0mfeeds\u001b[0m\u001b[0;34m,\u001b[0m \u001b[0mfetches\u001b[0m\u001b[0;34m)\u001b[0m\u001b[0;34m\u001b[0m\u001b[0m\n",
      "\u001b[0;32m/usr/local/lib/python3.6/dist-packages/tensorflow/python/client/session.py\u001b[0m in \u001b[0;36m_do_call\u001b[0;34m(self, fn, *args)\u001b[0m\n\u001b[1;32m   1320\u001b[0m   \u001b[0;32mdef\u001b[0m \u001b[0m_do_call\u001b[0m\u001b[0;34m(\u001b[0m\u001b[0mself\u001b[0m\u001b[0;34m,\u001b[0m \u001b[0mfn\u001b[0m\u001b[0;34m,\u001b[0m \u001b[0;34m*\u001b[0m\u001b[0margs\u001b[0m\u001b[0;34m)\u001b[0m\u001b[0;34m:\u001b[0m\u001b[0;34m\u001b[0m\u001b[0m\n\u001b[1;32m   1321\u001b[0m     \u001b[0;32mtry\u001b[0m\u001b[0;34m:\u001b[0m\u001b[0;34m\u001b[0m\u001b[0m\n\u001b[0;32m-> 1322\u001b[0;31m       \u001b[0;32mreturn\u001b[0m \u001b[0mfn\u001b[0m\u001b[0;34m(\u001b[0m\u001b[0;34m*\u001b[0m\u001b[0margs\u001b[0m\u001b[0;34m)\u001b[0m\u001b[0;34m\u001b[0m\u001b[0m\n\u001b[0m\u001b[1;32m   1323\u001b[0m     \u001b[0;32mexcept\u001b[0m \u001b[0merrors\u001b[0m\u001b[0;34m.\u001b[0m\u001b[0mOpError\u001b[0m \u001b[0;32mas\u001b[0m \u001b[0me\u001b[0m\u001b[0;34m:\u001b[0m\u001b[0;34m\u001b[0m\u001b[0m\n\u001b[1;32m   1324\u001b[0m       \u001b[0mmessage\u001b[0m \u001b[0;34m=\u001b[0m \u001b[0mcompat\u001b[0m\u001b[0;34m.\u001b[0m\u001b[0mas_text\u001b[0m\u001b[0;34m(\u001b[0m\u001b[0me\u001b[0m\u001b[0;34m.\u001b[0m\u001b[0mmessage\u001b[0m\u001b[0;34m)\u001b[0m\u001b[0;34m\u001b[0m\u001b[0m\n",
      "\u001b[0;32m/usr/local/lib/python3.6/dist-packages/tensorflow/python/client/session.py\u001b[0m in \u001b[0;36m_run_fn\u001b[0;34m(feed_dict, fetch_list, target_list, options, run_metadata)\u001b[0m\n\u001b[1;32m   1305\u001b[0m       \u001b[0mself\u001b[0m\u001b[0;34m.\u001b[0m\u001b[0m_extend_graph\u001b[0m\u001b[0;34m(\u001b[0m\u001b[0;34m)\u001b[0m\u001b[0;34m\u001b[0m\u001b[0m\n\u001b[1;32m   1306\u001b[0m       return self._call_tf_sessionrun(\n\u001b[0;32m-> 1307\u001b[0;31m           options, feed_dict, fetch_list, target_list, run_metadata)\n\u001b[0m\u001b[1;32m   1308\u001b[0m \u001b[0;34m\u001b[0m\u001b[0m\n\u001b[1;32m   1309\u001b[0m     \u001b[0;32mdef\u001b[0m \u001b[0m_prun_fn\u001b[0m\u001b[0;34m(\u001b[0m\u001b[0mhandle\u001b[0m\u001b[0;34m,\u001b[0m \u001b[0mfeed_dict\u001b[0m\u001b[0;34m,\u001b[0m \u001b[0mfetch_list\u001b[0m\u001b[0;34m)\u001b[0m\u001b[0;34m:\u001b[0m\u001b[0;34m\u001b[0m\u001b[0m\n",
      "\u001b[0;32m/usr/local/lib/python3.6/dist-packages/tensorflow/python/client/session.py\u001b[0m in \u001b[0;36m_call_tf_sessionrun\u001b[0;34m(self, options, feed_dict, fetch_list, target_list, run_metadata)\u001b[0m\n\u001b[1;32m   1407\u001b[0m       return tf_session.TF_SessionRun_wrapper(\n\u001b[1;32m   1408\u001b[0m           \u001b[0mself\u001b[0m\u001b[0;34m.\u001b[0m\u001b[0m_session\u001b[0m\u001b[0;34m,\u001b[0m \u001b[0moptions\u001b[0m\u001b[0;34m,\u001b[0m \u001b[0mfeed_dict\u001b[0m\u001b[0;34m,\u001b[0m \u001b[0mfetch_list\u001b[0m\u001b[0;34m,\u001b[0m \u001b[0mtarget_list\u001b[0m\u001b[0;34m,\u001b[0m\u001b[0;34m\u001b[0m\u001b[0m\n\u001b[0;32m-> 1409\u001b[0;31m           run_metadata)\n\u001b[0m\u001b[1;32m   1410\u001b[0m     \u001b[0;32melse\u001b[0m\u001b[0;34m:\u001b[0m\u001b[0;34m\u001b[0m\u001b[0m\n\u001b[1;32m   1411\u001b[0m       \u001b[0;32mwith\u001b[0m \u001b[0merrors\u001b[0m\u001b[0;34m.\u001b[0m\u001b[0mraise_exception_on_not_ok_status\u001b[0m\u001b[0;34m(\u001b[0m\u001b[0;34m)\u001b[0m \u001b[0;32mas\u001b[0m \u001b[0mstatus\u001b[0m\u001b[0;34m:\u001b[0m\u001b[0;34m\u001b[0m\u001b[0m\n",
      "\u001b[0;31mKeyboardInterrupt\u001b[0m: "
     ]
    }
   ],
   "source": [
    "#Training on original data set\n",
    "model.fit(X_train, y_train, batch_size=100, epochs=100,\n",
    "            verbose=1, validation_data=(X_test,y_test)#,callbacks=callbacks_list\n",
    "         )"
   ]
  },
  {
   "cell_type": "code",
   "execution_count": 103,
   "metadata": {
    "colab": {
     "autoexec": {
      "startup": false,
      "wait_interval": 0
     },
     "base_uri": "https://localhost:8080/",
     "height": 105
    },
    "colab_type": "code",
    "executionInfo": {
     "elapsed": 398080,
     "status": "ok",
     "timestamp": 1531916463984,
     "user": {
      "displayName": "Leonid Savintsev",
      "photoUrl": "https://lh3.googleusercontent.com/a/default-user=s128",
      "userId": "101215834058893654151"
     },
     "user_tz": -180
    },
    "id": "6n7em30eV2Sx",
    "outputId": "78dc304a-90a4-4c3c-ffd9-8add53a0a422"
   },
   "outputs": [
    {
     "name": "stdout",
     "output_type": "stream",
     "text": [
      "Train on 8000 samples, validate on 300 samples\n",
      "Epoch 1/1\n",
      "8000/8000 [==============================] - 397s 50ms/step - loss: 60.6836 - dense_6_loss: 8.3891 - dense_7_loss: 11.8750 - dense_8_loss: 12.8806 - dense_9_loss: 14.2166 - dense_10_loss: 13.3223 - dense_6_acc: 0.5267 - dense_7_acc: 0.3529 - dense_8_acc: 0.3114 - dense_9_acc: 0.2844 - dense_10_acc: 0.2914 - val_loss: 25.5097 - val_dense_6_loss: 1.6103 - val_dense_7_loss: 6.3801 - val_dense_8_loss: 3.4068 - val_dense_9_loss: 11.6785 - val_dense_10_loss: 2.4339 - val_dense_6_acc: 0.9233 - val_dense_7_acc: 0.7767 - val_dense_8_acc: 0.8467 - val_dense_9_acc: 0.7633 - val_dense_10_acc: 0.8467\n"
     ]
    },
    {
     "data": {
      "text/plain": [
       "<keras.callbacks.History at 0x7f2e617c3780>"
      ]
     },
     "execution_count": 103,
     "metadata": {
      "tags": []
     },
     "output_type": "execute_result"
    }
   ],
   "source": [
    "# Training on generated dataset\n",
    "\n",
    "model.fit(X_train_gen, y_train_gen, batch_size=100, epochs=1,\n",
    "            verbose=1, validation_data=(X_test,y_test)#,callbacks=callbacks_list\n",
    "         )"
   ]
  },
  {
   "cell_type": "code",
   "execution_count": 38,
   "metadata": {
    "colab": {
     "autoexec": {
      "startup": false,
      "wait_interval": 0
     }
    },
    "colab_type": "code",
    "id": "h__fXUMFE7XK"
   },
   "outputs": [],
   "source": [
    "# Save and load model if necessary \n",
    "model.save('best_model.h5')\n",
    "model.save_weights('best_model_weights.h5')\n",
    "\n",
    "#model=load_model('best_model.h5', custom_objects={'m_losses': m_losses} )"
   ]
  },
  {
   "cell_type": "code",
   "execution_count": 0,
   "metadata": {
    "colab": {
     "autoexec": {
      "startup": false,
      "wait_interval": 0
     }
    },
    "colab_type": "code",
    "id": "-fF7NMrwE7XO"
   },
   "outputs": [],
   "source": [
    "#Get accuracy on test  sample  separate for each of 5 symbol (first 6 outputs are loss values)\n",
    "accuracy_scores = model.evaluate(X_test, y_test,verbose=0)[6:11]"
   ]
  },
  {
   "cell_type": "code",
   "execution_count": 99,
   "metadata": {
    "colab": {
     "autoexec": {
      "startup": false,
      "wait_interval": 0
     },
     "base_uri": "https://localhost:8080/",
     "height": 34
    },
    "colab_type": "code",
    "executionInfo": {
     "elapsed": 628,
     "status": "ok",
     "timestamp": 1531915945128,
     "user": {
      "displayName": "Leonid Savintsev",
      "photoUrl": "https://lh3.googleusercontent.com/a/default-user=s128",
      "userId": "101215834058893654151"
     },
     "user_tz": -180
    },
    "id": "R8vjibfeE7XX",
    "outputId": "e53f757f-e617-4e7f-dca7-942d4c7bbe52"
   },
   "outputs": [
    {
     "name": "stdout",
     "output_type": "stream",
     "text": [
      "[0.99 0.96 0.97 0.95 0.98]\n"
     ]
    }
   ],
   "source": [
    "#Accuracy score per each captcha symbol \n",
    "print(np.round(accuracy_scores,2) )"
   ]
  },
  {
   "cell_type": "code",
   "execution_count": 0,
   "metadata": {
    "colab": {
     "autoexec": {
      "startup": false,
      "wait_interval": 0
     }
    },
    "colab_type": "code",
    "id": "4D5hGYz_TLFm"
   },
   "outputs": [],
   "source": []
  },
  {
   "cell_type": "code",
   "execution_count": 0,
   "metadata": {
    "colab": {
     "autoexec": {
      "startup": false,
      "wait_interval": 0
     }
    },
    "colab_type": "code",
    "id": "dYz9xHs7E7Xa"
   },
   "outputs": [],
   "source": []
  },
  {
   "cell_type": "code",
   "execution_count": 0,
   "metadata": {
    "colab": {
     "autoexec": {
      "startup": false,
      "wait_interval": 0
     }
    },
    "colab_type": "code",
    "id": "rw8hJtNsE7Xb"
   },
   "outputs": [],
   "source": []
  },
  {
   "cell_type": "code",
   "execution_count": 0,
   "metadata": {
    "colab": {
     "autoexec": {
      "startup": false,
      "wait_interval": 0
     }
    },
    "colab_type": "code",
    "id": "FHdMH5ycE7Xd"
   },
   "outputs": [],
   "source": []
  }
 ],
 "metadata": {
  "accelerator": "GPU",
  "colab": {
   "collapsed_sections": [],
   "default_view": {},
   "name": "main.ipynb",
   "provenance": [],
   "version": "0.3.2",
   "views": {}
  },
  "kernelspec": {
   "display_name": "Python 3",
   "language": "python",
   "name": "python3"
  },
  "language_info": {
   "codemirror_mode": {
    "name": "ipython",
    "version": 3
   },
   "file_extension": ".py",
   "mimetype": "text/x-python",
   "name": "python",
   "nbconvert_exporter": "python",
   "pygments_lexer": "ipython3",
   "version": "3.6.5"
  }
 },
 "nbformat": 4,
 "nbformat_minor": 1
}
